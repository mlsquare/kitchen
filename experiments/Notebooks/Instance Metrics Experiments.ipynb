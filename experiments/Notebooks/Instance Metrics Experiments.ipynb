{
 "cells": [
  {
   "cell_type": "markdown",
   "metadata": {},
   "source": [
    "# Instance metrics"
   ]
  },
  {
   "cell_type": "markdown",
   "metadata": {},
   "source": [
    "Tree properties:\n",
    "- depth\n",
    "- max width\n",
    "- number of leaf nodes\n",
    "\n",
    "Tree hyperparameters:\n",
    "- minsplit\n",
    "- minbucket\n",
    "\n",
    "Tree metrics:\n",
    "- variable importance\n",
    "\n",
    "Metrics:\n",
    "- average path length\n",
    "- RAK (rooted at k)\n",
    "- mean rank\n",
    "- average distinct features per path\n",
    "- co-occurrence matrix\n",
    "- entropy (to be implemented)\n",
    "\n",
    "Experiments:\n",
    "- depth and average path length\n",
    "- maxwidth and average path length\n",
    "- variable importance and mean rank\n",
    "- variable importance and RAK"
   ]
  },
  {
   "cell_type": "code",
   "execution_count": 115,
   "metadata": {
    "collapsed": true
   },
   "outputs": [],
   "source": [
    "import json\n",
    "import pandas as pd\n",
    "import re\n",
    "import numpy as np\n",
    "import sys\n",
    "import seaborn as sns\n",
    "import matplotlib.pyplot as plt\n",
    "%matplotlib inline\n",
    "\n",
    "from statistics import mean, variance, stdev\n",
    "from scipy.stats.stats import pearsonr\n",
    "\n",
    "sys.path.append('/Users/nayana/projects/Project/kitchen/experiments')\n",
    "from PythonScripts.instance_metrics import InstanceMetrics"
   ]
  },
  {
   "cell_type": "markdown",
   "metadata": {},
   "source": [
    "## Load data"
   ]
  },
  {
   "cell_type": "markdown",
   "metadata": {},
   "source": [
    "### Dataset"
   ]
  },
  {
   "cell_type": "code",
   "execution_count": 116,
   "metadata": {
    "collapsed": true
   },
   "outputs": [],
   "source": [
    "# dataset: iris, adult, auto\n",
    "\n",
    "dataset = 'iris'\n",
    "\n",
    "with open('../Configs/'+dataset+'.json') as config_file:\n",
    "        config = json.load(config_file)\n",
    "\n",
    "dataset = pd.read_csv('../Data/'+config['filtered_data_with_headers'], header = 0)\n",
    "\n",
    "dataset = dataset.values[0:config['sample']]\n",
    "X = dataset[:,0:config['num_features']]\n",
    "labels = dataset[:,config['target_col']-1]\n",
    "\n",
    "features = np.arange(1,config['num_features']+1)"
   ]
  },
  {
   "cell_type": "markdown",
   "metadata": {},
   "source": [
    "### Paths"
   ]
  },
  {
   "cell_type": "code",
   "execution_count": 117,
   "metadata": {
    "collapsed": true
   },
   "outputs": [],
   "source": [
    "primary_paths = pd.read_csv('../Outputs/'+config['primary_paths'], header = 0)\n",
    "secondary_paths = pd.read_csv('../Outputs/'+config['secondary_paths'], header = 0, index_col=0)\n",
    "bins = pd.read_csv('../Outputs/'+config['local_bins'], header = 0)\n",
    "\n",
    "primary_paths = primary_paths.values\n",
    "secondary_paths = secondary_paths.values\n",
    "\n",
    "bin_vals = bins.values\n",
    "bin_dict = dict((x[0], x[1]) for x in bin_vals)\n",
    "\n",
    "regex = re.compile(config['path_regex'], re.I)"
   ]
  },
  {
   "cell_type": "markdown",
   "metadata": {},
   "source": [
    "### Depths"
   ]
  },
  {
   "cell_type": "code",
   "execution_count": 118,
   "metadata": {},
   "outputs": [
    {
     "name": "stdout",
     "output_type": "stream",
     "text": [
      "150\n"
     ]
    }
   ],
   "source": [
    "depths = pd.read_csv('../Outputs/'+config['tree_depths'], header = 0)\n",
    "\n",
    "depths = depths.values\n",
    "depths = depths.flatten()\n",
    "print(len(depths))"
   ]
  },
  {
   "cell_type": "markdown",
   "metadata": {},
   "source": [
    "### Leaf nodes"
   ]
  },
  {
   "cell_type": "code",
   "execution_count": 119,
   "metadata": {
    "collapsed": true
   },
   "outputs": [],
   "source": [
    "leaf_nodes = pd.read_csv('../Outputs/'+config['leaf_nodes'], header = 0)\n",
    "num_leaves = leaf_nodes[['num_leaves']].values.flatten()"
   ]
  },
  {
   "cell_type": "markdown",
   "metadata": {},
   "source": [
    "### Tree widths"
   ]
  },
  {
   "cell_type": "code",
   "execution_count": 120,
   "metadata": {
    "collapsed": true
   },
   "outputs": [],
   "source": [
    "tree_widths = pd.read_csv('../Outputs/'+config['tree_widths'], header = 0)\n",
    "widths = tree_widths[['width']].values.flatten()"
   ]
  },
  {
   "cell_type": "markdown",
   "metadata": {},
   "source": [
    "### Variable Importance"
   ]
  },
  {
   "cell_type": "code",
   "execution_count": 121,
   "metadata": {
    "collapsed": true
   },
   "outputs": [],
   "source": [
    "variable_importance = pd.read_csv('../Outputs/'+config['variable_importance'], header = 0)"
   ]
  },
  {
   "cell_type": "markdown",
   "metadata": {},
   "source": [
    "### Lists"
   ]
  },
  {
   "cell_type": "code",
   "execution_count": 122,
   "metadata": {
    "collapsed": true
   },
   "outputs": [],
   "source": [
    "average_dist_feat = []\n",
    "average_path_lengths = []\n",
    "mean_ranks = []\n",
    "depth_frequency = []\n",
    "\n",
    "ratio_depth_avgpathlen = []\n",
    "ratio_maxwidth_avgpathlen = []"
   ]
  },
  {
   "cell_type": "markdown",
   "metadata": {},
   "source": [
    "## Compute metrics"
   ]
  },
  {
   "cell_type": "code",
   "execution_count": 123,
   "metadata": {
    "collapsed": true
   },
   "outputs": [],
   "source": [
    "for i in range(config['sample']):\n",
    "\n",
    "    inst = i\n",
    "\n",
    "    # GET PATHS\n",
    "\n",
    "    path_list = []\n",
    "\n",
    "    paths_i = secondary_paths[:,inst]\n",
    "    if len(np.argwhere(pd.isnull(paths_i)))>0:\n",
    "        paths_i = paths_i[:np.argwhere(pd.isnull(paths_i))[0][0]]\n",
    "    np.insert(paths_i, 0, primary_paths[inst], axis=0)\n",
    "\n",
    "    for path in paths_i:\n",
    "        nodes = path.split(\",\")\n",
    "        newpath = []\n",
    "        for node in nodes:\n",
    "            matchobj =  re.match(regex, node)\n",
    "            newpath.append((int(matchobj.group(1)), bin_dict[matchobj.group(2)], matchobj.group(3)))\n",
    "        path_list.append(newpath)\n",
    "\n",
    "    # WEIGHTS\n",
    "\n",
    "    weights = np.repeat(config['secondary_weight'], len(paths_i)-1)\n",
    "    weights = np.insert(weights, 0, config['primary_weight'], axis=0)\n",
    "\n",
    "    metrics = InstanceMetrics(inst, X[inst,:], path_list, weights, labels[inst], features, depths)\n",
    "\n",
    "    # APPEND TO LIST\n",
    "    average_dist_feat.append(metrics.avg_distinct_features())\n",
    "    average_path_lengths.append(metrics.average_path_length())\n",
    "    mean_ranks.append(metrics.mean_rank())\n",
    "    depth_frequency.append(metrics.frequency_at_all_depths())\n",
    "    \n",
    "    ratio_depth_avgpathlen.append(depths[inst]/metrics.average_path_length())\n",
    "    ratio_maxwidth_avgpathlen.append(widths[inst]/metrics.average_path_length())"
   ]
  },
  {
   "cell_type": "markdown",
   "metadata": {},
   "source": [
    "## Distributions of metrics"
   ]
  },
  {
   "cell_type": "markdown",
   "metadata": {},
   "source": [
    "#### Distinct features"
   ]
  },
  {
   "cell_type": "code",
   "execution_count": 124,
   "metadata": {},
   "outputs": [
    {
     "name": "stdout",
     "output_type": "stream",
     "text": [
      "Mean: 1.4727444021896687\n",
      "Variance: 0.05523821233816004\n",
      "Standard deviation: 0.23502810967660878\n",
      "Min, max: 1.2558139534883723 2.4020618556701\n"
     ]
    }
   ],
   "source": [
    "print(\"Mean:\",mean(average_dist_feat))\n",
    "print(\"Variance:\",variance(average_dist_feat))\n",
    "print(\"Standard deviation:\",stdev(average_dist_feat))\n",
    "print(\"Min, max:\",min(average_dist_feat), max(average_dist_feat))"
   ]
  },
  {
   "cell_type": "code",
   "execution_count": 125,
   "metadata": {},
   "outputs": [
    {
     "data": {
      "text/plain": [
       "<matplotlib.axes._subplots.AxesSubplot at 0x12a2387b8>"
      ]
     },
     "execution_count": 125,
     "metadata": {},
     "output_type": "execute_result"
    },
    {
     "data": {
      "image/png": "[encoded data removed]",
      "text/plain": [
       "<matplotlib.figure.Figure at 0x12a238828>"
      ]
     },
     "metadata": {},
     "output_type": "display_data"
    }
   ],
   "source": [
    "sns.distplot(average_dist_feat, hist=True, rug=True)"
   ]
  },
  {
   "cell_type": "markdown",
   "metadata": {},
   "source": [
    "#### Depths"
   ]
  },
  {
   "cell_type": "code",
   "execution_count": 126,
   "metadata": {},
   "outputs": [
    {
     "name": "stdout",
     "output_type": "stream",
     "text": [
      "Mean: 3.26\n",
      "Variance: 0.9257333333333334\n",
      "Standard deviation: 0.9621503693983251\n",
      "Min, max: 2 6\n"
     ]
    }
   ],
   "source": [
    "print(\"Mean:\",np.mean(depths))\n",
    "print(\"Variance:\",np.var(depths))\n",
    "print(\"Standard deviation:\",np.std(depths))\n",
    "print(\"Min, max:\",min(depths), max(depths))"
   ]
  },
  {
   "cell_type": "code",
   "execution_count": 127,
   "metadata": {},
   "outputs": [
    {
     "data": {
      "text/plain": [
       "<matplotlib.axes._subplots.AxesSubplot at 0x12a1ea438>"
      ]
     },
     "execution_count": 127,
     "metadata": {},
     "output_type": "execute_result"
    },
    {
     "data": {
      "image/png": "[encoded data removed]",
      "text/plain": [
       "<matplotlib.figure.Figure at 0x12a2615f8>"
      ]
     },
     "metadata": {},
     "output_type": "display_data"
    }
   ],
   "source": [
    "sns.distplot(depths, hist=True, rug=True)"
   ]
  },
  {
   "cell_type": "markdown",
   "metadata": {},
   "source": [
    "#### Path lengths"
   ]
  },
  {
   "cell_type": "code",
   "execution_count": 128,
   "metadata": {},
   "outputs": [
    {
     "name": "stdout",
     "output_type": "stream",
     "text": [
      "Mean: 2.2826985204847596\n",
      "Variance: 0.05936511515891218\n",
      "Standard deviation: 0.2436495745100167\n",
      "Min, max: 2 4.309278350515457\n"
     ]
    }
   ],
   "source": [
    "print(\"Mean:\",np.mean(average_path_lengths))\n",
    "print(\"Variance:\",np.var(average_path_lengths))\n",
    "print(\"Standard deviation:\",np.std(average_path_lengths))\n",
    "print(\"Min, max:\",min(depths), max(average_path_lengths))"
   ]
  },
  {
   "cell_type": "code",
   "execution_count": 129,
   "metadata": {},
   "outputs": [
    {
     "data": {
      "text/plain": [
       "<matplotlib.axes._subplots.AxesSubplot at 0x12b3cf0f0>"
      ]
     },
     "execution_count": 129,
     "metadata": {},
     "output_type": "execute_result"
    },
    {
     "data": {
      "image/png": "[encoded data removed]",
      "text/plain": [
       "<matplotlib.figure.Figure at 0x12a2619e8>"
      ]
     },
     "metadata": {},
     "output_type": "display_data"
    }
   ],
   "source": [
    "sns.distplot(average_path_lengths, hist=True, rug=True)"
   ]
  },
  {
   "cell_type": "markdown",
   "metadata": {},
   "source": [
    "## Rough experiments"
   ]
  },
  {
   "cell_type": "code",
   "execution_count": 130,
   "metadata": {},
   "outputs": [
    {
     "data": {
      "text/plain": [
       "(0.107040733461009, 0.1923160653131968)"
      ]
     },
     "execution_count": 130,
     "metadata": {},
     "output_type": "execute_result"
    }
   ],
   "source": [
    "pearsonr(depths, average_path_lengths)"
   ]
  },
  {
   "cell_type": "code",
   "execution_count": 131,
   "metadata": {},
   "outputs": [
    {
     "data": {
      "text/plain": [
       "(-0.012451478339485449, 0.8797950915617433)"
      ]
     },
     "execution_count": 131,
     "metadata": {},
     "output_type": "execute_result"
    }
   ],
   "source": [
    "pearsonr(depths, average_dist_feat)"
   ]
  },
  {
   "cell_type": "code",
   "execution_count": 132,
   "metadata": {},
   "outputs": [
    {
     "data": {
      "text/plain": [
       "(-0.040603383834763446, 0.6217784851193636)"
      ]
     },
     "execution_count": 132,
     "metadata": {},
     "output_type": "execute_result"
    }
   ],
   "source": [
    "pearsonr(widths, average_path_lengths)"
   ]
  },
  {
   "cell_type": "code",
   "execution_count": 133,
   "metadata": {},
   "outputs": [
    {
     "data": {
      "text/plain": [
       "(-0.022641828386712116, 0.783300786087001)"
      ]
     },
     "execution_count": 133,
     "metadata": {},
     "output_type": "execute_result"
    }
   ],
   "source": [
    "pearsonr(widths, average_dist_feat)"
   ]
  },
  {
   "cell_type": "code",
   "execution_count": 134,
   "metadata": {},
   "outputs": [
    {
     "data": {
      "text/plain": [
       "(0.05171033502290111, 0.5297142251840693)"
      ]
     },
     "execution_count": 134,
     "metadata": {},
     "output_type": "execute_result"
    }
   ],
   "source": [
    "pearsonr(num_leaves, average_path_lengths)"
   ]
  },
  {
   "cell_type": "code",
   "execution_count": 135,
   "metadata": {},
   "outputs": [
    {
     "data": {
      "text/plain": [
       "(-0.04541997772160112, 0.5810098290100479)"
      ]
     },
     "execution_count": 135,
     "metadata": {},
     "output_type": "execute_result"
    }
   ],
   "source": [
    "pearsonr(num_leaves, average_dist_feat)"
   ]
  },
  {
   "cell_type": "markdown",
   "metadata": {},
   "source": [
    "## Experiments"
   ]
  },
  {
   "cell_type": "markdown",
   "metadata": {},
   "source": [
    "#### Depth to average path length"
   ]
  },
  {
   "cell_type": "code",
   "execution_count": 136,
   "metadata": {},
   "outputs": [
    {
     "name": "stdout",
     "output_type": "stream",
     "text": [
      "Mean: 1.4351298901518894\n",
      "Variance: 0.18564575262326805\n",
      "Standard deviation: 0.4308662816040123\n",
      "Min, max: 0.6961722488038289 2.7649769585253456\n"
     ]
    }
   ],
   "source": [
    "print(\"Mean:\",mean(ratio_depth_avgpathlen))\n",
    "print(\"Variance:\",variance(ratio_depth_avgpathlen))\n",
    "print(\"Standard deviation:\",stdev(ratio_depth_avgpathlen))\n",
    "print(\"Min, max:\", min(ratio_depth_avgpathlen), max(ratio_depth_avgpathlen))"
   ]
  },
  {
   "cell_type": "code",
   "execution_count": 137,
   "metadata": {},
   "outputs": [
    {
     "data": {
      "text/plain": [
       "<matplotlib.axes._subplots.AxesSubplot at 0x12b49fc18>"
      ]
     },
     "execution_count": 137,
     "metadata": {},
     "output_type": "execute_result"
    },
    {
     "data": {
      "image/png": "[encoded data removed]",
      "text/plain": [
       "<matplotlib.figure.Figure at 0x12b693400>"
      ]
     },
     "metadata": {},
     "output_type": "display_data"
    }
   ],
   "source": [
    "sns.distplot(ratio_depth_avgpathlen, hist=True, rug=True)"
   ]
  },
  {
   "cell_type": "code",
   "execution_count": 138,
   "metadata": {},
   "outputs": [
    {
     "data": {
      "text/plain": [
       "(0.107040733461009, 0.1923160653131968)"
      ]
     },
     "execution_count": 138,
     "metadata": {},
     "output_type": "execute_result"
    }
   ],
   "source": [
    "pearsonr(average_path_lengths, depths)"
   ]
  },
  {
   "cell_type": "markdown",
   "metadata": {},
   "source": [
    "#### Max width to average path length"
   ]
  },
  {
   "cell_type": "code",
   "execution_count": 139,
   "metadata": {},
   "outputs": [
    {
     "name": "stdout",
     "output_type": "stream",
     "text": [
      "Mean: 1.183954933156629\n",
      "Variance: 0.1846838349456805\n",
      "Standard deviation: 0.4297485717785232\n",
      "Min, max: 0.464114832535886 1.8762886597938144\n"
     ]
    }
   ],
   "source": [
    "print(\"Mean:\",np.mean(ratio_maxwidth_avgpathlen))\n",
    "print(\"Variance:\",np.var(ratio_maxwidth_avgpathlen))\n",
    "print(\"Standard deviation:\",np.std(ratio_maxwidth_avgpathlen))\n",
    "print(\"Min, max:\", min(ratio_maxwidth_avgpathlen), max(ratio_maxwidth_avgpathlen))"
   ]
  },
  {
   "cell_type": "code",
   "execution_count": 140,
   "metadata": {},
   "outputs": [
    {
     "data": {
      "text/plain": [
       "<matplotlib.axes._subplots.AxesSubplot at 0x12b740f28>"
      ]
     },
     "execution_count": 140,
     "metadata": {},
     "output_type": "execute_result"
    },
    {
     "data": {
      "image/png": "[encoded data removed]",
      "text/plain": [
       "<matplotlib.figure.Figure at 0x12b756940>"
      ]
     },
     "metadata": {},
     "output_type": "display_data"
    }
   ],
   "source": [
    "sns.distplot(ratio_maxwidth_avgpathlen, hist=True, rug=True)"
   ]
  },
  {
   "cell_type": "code",
   "execution_count": 141,
   "metadata": {},
   "outputs": [
    {
     "data": {
      "text/plain": [
       "(-0.040603383834763446, 0.6217784851193636)"
      ]
     },
     "execution_count": 141,
     "metadata": {},
     "output_type": "execute_result"
    }
   ],
   "source": [
    "pearsonr(widths, average_path_lengths)"
   ]
  },
  {
   "cell_type": "markdown",
   "metadata": {
    "collapsed": true
   },
   "source": [
    "#### Variable importance and mean rank"
   ]
  },
  {
   "cell_type": "markdown",
   "metadata": {},
   "source": [
    "Estimate mean rank using variable importance from trees\n",
    "\n",
    "normalized mean rank = c x normalized variable importance, c $\\approx$ 1"
   ]
  },
  {
   "cell_type": "code",
   "execution_count": 142,
   "metadata": {
    "collapsed": true
   },
   "outputs": [],
   "source": [
    "mean_rank_across_instances = np.mean(mean_ranks, axis = 0)\n",
    "mean_rank_across_instances_norm = [float(i)/sum(mean_rank_across_instances) for i in mean_rank_across_instances]\n",
    "variable_importance_across_instances = np.mean(variable_importance, axis = 0)\n",
    "variable_importance_across_instances_norm = [\n",
    "    float(i)/sum(variable_importance_across_instances) for i in variable_importance_across_instances]"
   ]
  },
  {
   "cell_type": "code",
   "execution_count": 143,
   "metadata": {
    "collapsed": true
   },
   "outputs": [],
   "source": [
    "ratio_meanrank_variableimp_norm = [\n",
    "    x/y for x,y in zip(variable_importance_across_instances_norm, mean_rank_across_instances_norm)]\n",
    "ratio_meanrank_variableimp = [\n",
    "    x/y for x,y in zip(variable_importance_across_instances, mean_rank_across_instances)]"
   ]
  },
  {
   "cell_type": "code",
   "execution_count": 144,
   "metadata": {},
   "outputs": [
    {
     "data": {
      "text/plain": [
       "(0.665035105223575, 0.334964894776425)"
      ]
     },
     "execution_count": 144,
     "metadata": {},
     "output_type": "execute_result"
    }
   ],
   "source": [
    "pearsonr(mean_rank_across_instances, variable_importance_across_instances)"
   ]
  },
  {
   "cell_type": "code",
   "execution_count": 145,
   "metadata": {
    "collapsed": true
   },
   "outputs": [],
   "source": [
    "def reject_outliers(data, m=2):\n",
    "    return data[abs(data - np.mean(data)) < m * np.std(data)]"
   ]
  },
  {
   "cell_type": "code",
   "execution_count": 150,
   "metadata": {},
   "outputs": [
    {
     "data": {
      "text/plain": [
       "5.61278671875774"
      ]
     },
     "execution_count": 150,
     "metadata": {},
     "output_type": "execute_result"
    }
   ],
   "source": [
    "mean(reject_outliers(np.array(ratio_meanrank_variableimp_norm)))"
   ]
  },
  {
   "cell_type": "markdown",
   "metadata": {},
   "source": [
    "#### Variable importance and RAK"
   ]
  },
  {
   "cell_type": "markdown",
   "metadata": {},
   "source": [
    "Estimate RAK from variable importance"
   ]
  },
  {
   "cell_type": "code",
   "execution_count": 147,
   "metadata": {
    "collapsed": true
   },
   "outputs": [],
   "source": [
    "depth_frequency_across_instances = []\n",
    "for depth in range(min(depths)+1): # +1?\n",
    "    depth_i_frequency = [item[depth] for item in depth_frequency]\n",
    "    depth_frequency_across_instances.append(np.mean(depth_i_frequency, axis = 0))"
   ]
  },
  {
   "cell_type": "code",
   "execution_count": 148,
   "metadata": {},
   "outputs": [
    {
     "name": "stdout",
     "output_type": "stream",
     "text": [
      "0 (0.5921747442369388, 0.40782525576306117)\n",
      "1 (0.7280273285724246, 0.2719726714275754)\n",
      "2 (0.8961785070401914, 0.10382149295980858)\n"
     ]
    }
   ],
   "source": [
    "for i in range(len(depth_frequency_across_instances)):\n",
    "    print(i, pearsonr(depth_frequency_across_instances[i], variable_importance_across_instances))"
   ]
  },
  {
   "cell_type": "code",
   "execution_count": null,
   "metadata": {
    "collapsed": true
   },
   "outputs": [],
   "source": []
  }
 ],
 "metadata": {
  "kernelspec": {
   "display_name": "Python 3",
   "language": "python",
   "name": "python3"
  },
  "language_info": {
   "codemirror_mode": {
    "name": "ipython",
    "version": 3
   },
   "file_extension": ".py",
   "mimetype": "text/x-python",
   "name": "python",
   "nbconvert_exporter": "python",
   "pygments_lexer": "ipython3",
   "version": "3.6.7"
  }
 },
 "nbformat": 4,
 "nbformat_minor": 2
}
