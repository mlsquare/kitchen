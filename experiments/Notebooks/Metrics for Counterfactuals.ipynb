{
 "cells": [
  {
   "cell_type": "markdown",
   "metadata": {
    "collapsed": true
   },
   "source": [
    "# Metrics for counterfactuals"
   ]
  },
  {
   "cell_type": "code",
   "execution_count": 27,
   "metadata": {
    "collapsed": true
   },
   "outputs": [],
   "source": [
    "import numpy as np\n",
    "import pandas as pd\n",
    "import re\n",
    "from statistics import mean\n",
    "import json"
   ]
  },
  {
   "cell_type": "code",
   "execution_count": 28,
   "metadata": {
    "collapsed": true
   },
   "outputs": [],
   "source": [
    "from PythonScripts.metrics_perturbed import CategoricalMetrics, NumericMetrics"
   ]
  },
  {
   "cell_type": "markdown",
   "metadata": {
    "collapsed": true
   },
   "source": [
    "## Load data"
   ]
  },
  {
   "cell_type": "markdown",
   "metadata": {},
   "source": [
    "### Dataset "
   ]
  },
  {
   "cell_type": "code",
   "execution_count": 29,
   "metadata": {
    "collapsed": true
   },
   "outputs": [],
   "source": [
    "# datasets: iris, adult, auto\n",
    "\n",
    "dataset_name = 'adult'\n",
    "\n",
    "with open('../Configs/'+dataset_name+'.json') as config_file:\n",
    "        config = json.load(config_file)\n",
    "\n",
    "dataset = pd.read_csv('../Data/'+config['filtered_data_with_headers'], header = 0)\n",
    "perturbed_dataset = pd.read_csv('../Data/'+config['perturbed_data'], header = 0)\n",
    "\n",
    "dataset = dataset.values[0:config['sample']]\n",
    "X = dataset[:,0:config['num_features']]\n",
    "labels = dataset[:,config['target_col']-1]\n",
    "\n",
    "perturbed_dataset = perturbed_dataset.values[0:config['sample']]\n",
    "perturbed_X = perturbed_dataset[:,0:config['num_features']]\n",
    "perturbed_labels = perturbed_dataset[:,config['target_col']]\n",
    "\n",
    "features = np.arange(1,config['num_features']+1)"
   ]
  },
  {
   "cell_type": "markdown",
   "metadata": {},
   "source": [
    "### Paths"
   ]
  },
  {
   "cell_type": "code",
   "execution_count": 30,
   "metadata": {
    "collapsed": true
   },
   "outputs": [],
   "source": [
    "paths = pd.read_csv('../Outputs/'+config['perturbed_paths'], header = 0)\n",
    "bins = pd.read_csv('../Outputs/'+config['perturbed_local_bins'], header = 0)\n",
    "\n",
    "paths = paths.values\n",
    "bin_vals = bins.values\n",
    "\n",
    "if 'factors' in config:\n",
    "    bin_dict = dict((x[0], x[1]) for x in bin_vals) \n",
    "else:\n",
    "    bin_dict = dict((x[0], float(x[1])) for x in bin_vals)\n",
    "\n",
    "regex = re.compile(config['path_regex'], re.I)"
   ]
  },
  {
   "cell_type": "markdown",
   "metadata": {},
   "source": [
    "### Depths"
   ]
  },
  {
   "cell_type": "code",
   "execution_count": 31,
   "metadata": {
    "collapsed": true
   },
   "outputs": [],
   "source": [
    "depths = pd.read_csv('../Outputs/'+config['tree_depths'], header = 0)\n",
    "\n",
    "depths = depths.values\n",
    "depths = depths.flatten()"
   ]
  },
  {
   "cell_type": "markdown",
   "metadata": {},
   "source": [
    "## Compute metrics"
   ]
  },
  {
   "cell_type": "code",
   "execution_count": 32,
   "metadata": {
    "collapsed": true
   },
   "outputs": [],
   "source": [
    "path_list = []\n",
    "\n",
    "for i in range(2):\n",
    "    temp = []\n",
    "    for path in paths[:,i]:\n",
    "        nodes = path.split(\",\")\n",
    "        newpath = []\n",
    "        for node in nodes:\n",
    "            matchobj =  re.match(regex, node)\n",
    "            newpath.append((int(matchobj.group(1)), bin_dict[matchobj.group(2)], matchobj.group(3)))\n",
    "        temp.append(newpath)\n",
    "    path_list.append(temp)\n",
    "\n",
    "if 'factors' in config:\n",
    "    factors = pd.read_csv('../Outputs/'+config['factors'], header = 0)\n",
    "    factors = factors.values\n",
    "    metrics = CategoricalMetrics(path_list[0], labels, features, factors)\n",
    "    perturbed_metrics = CategoricalMetrics(path_list[1], perturbed_labels, features, factors)\n",
    "else:\n",
    "    metrics = NumericMetrics(path_list[0], labels, features)\n",
    "    perturbed_metrics = NumericMetrics(path_list[1], perturbed_labels, features)"
   ]
  },
  {
   "cell_type": "markdown",
   "metadata": {},
   "source": [
    "## Results"
   ]
  },
  {
   "cell_type": "markdown",
   "metadata": {},
   "source": [
    "### Decision set size"
   ]
  },
  {
   "cell_type": "code",
   "execution_count": 33,
   "metadata": {},
   "outputs": [
    {
     "name": "stdout",
     "output_type": "stream",
     "text": [
      "1000 1000\n"
     ]
    }
   ],
   "source": [
    "print(metrics.decision_paths_size(), perturbed_metrics.decision_paths_size())"
   ]
  },
  {
   "cell_type": "markdown",
   "metadata": {},
   "source": [
    "### Decision set length"
   ]
  },
  {
   "cell_type": "code",
   "execution_count": 34,
   "metadata": {},
   "outputs": [
    {
     "name": "stdout",
     "output_type": "stream",
     "text": [
      "2896 2877\n"
     ]
    }
   ],
   "source": [
    "print(metrics.decision_paths_length(), perturbed_metrics.decision_paths_length())"
   ]
  },
  {
   "cell_type": "markdown",
   "metadata": {},
   "source": [
    "### Average rule length"
   ]
  },
  {
   "cell_type": "code",
   "execution_count": 35,
   "metadata": {},
   "outputs": [
    {
     "name": "stdout",
     "output_type": "stream",
     "text": [
      "2.896 2.877\n"
     ]
    }
   ],
   "source": [
    "print(metrics.average_rule_length(), perturbed_metrics.average_rule_length())"
   ]
  },
  {
   "cell_type": "markdown",
   "metadata": {},
   "source": [
    "### Average distinct features"
   ]
  },
  {
   "cell_type": "code",
   "execution_count": 36,
   "metadata": {},
   "outputs": [
    {
     "name": "stdout",
     "output_type": "stream",
     "text": [
      "2.791 2.732\n"
     ]
    }
   ],
   "source": [
    "print(metrics.average_distinct_features(), perturbed_metrics.average_distinct_features())"
   ]
  },
  {
   "cell_type": "markdown",
   "metadata": {},
   "source": [
    "### Inter-class overlap"
   ]
  },
  {
   "cell_type": "code",
   "execution_count": 37,
   "metadata": {},
   "outputs": [
    {
     "name": "stdout",
     "output_type": "stream",
     "text": [
      "7985 1178040\n"
     ]
    }
   ],
   "source": [
    "print(metrics.interclass_overlap(X), perturbed_metrics.interclass_overlap(perturbed_X))"
   ]
  },
  {
   "cell_type": "markdown",
   "metadata": {},
   "source": [
    "### Intra-class overlap"
   ]
  },
  {
   "cell_type": "code",
   "execution_count": 38,
   "metadata": {},
   "outputs": [
    {
     "name": "stdout",
     "output_type": "stream",
     "text": [
      "101029 1593042\n"
     ]
    }
   ],
   "source": [
    "print(metrics.intraclass_overlap(X), perturbed_metrics.intraclass_overlap(perturbed_X))"
   ]
  },
  {
   "cell_type": "markdown",
   "metadata": {},
   "source": [
    "### Total number of classes covered"
   ]
  },
  {
   "cell_type": "code",
   "execution_count": 39,
   "metadata": {},
   "outputs": [
    {
     "name": "stdout",
     "output_type": "stream",
     "text": [
      "2 2\n"
     ]
    }
   ],
   "source": [
    "print(metrics.num_classes_covered(), perturbed_metrics.num_classes_covered())"
   ]
  },
  {
   "cell_type": "markdown",
   "metadata": {},
   "source": [
    "### Correct cover"
   ]
  },
  {
   "cell_type": "code",
   "execution_count": 40,
   "metadata": {},
   "outputs": [
    {
     "name": "stdout",
     "output_type": "stream",
     "text": [
      "0.8728537087912088 0.6746115110136242\n"
     ]
    }
   ],
   "source": [
    "print(metrics.total_correct_cover(X), perturbed_metrics.total_correct_cover(perturbed_X))"
   ]
  },
  {
   "cell_type": "markdown",
   "metadata": {},
   "source": [
    "### Incorrect cover"
   ]
  },
  {
   "cell_type": "code",
   "execution_count": 41,
   "metadata": {},
   "outputs": [
    {
     "name": "stdout",
     "output_type": "stream",
     "text": [
      "0.1271462912087912 0.32538848898637585\n"
     ]
    }
   ],
   "source": [
    "print(metrics.total_incorrect_cover(X), perturbed_metrics.total_incorrect_cover(perturbed_X))"
   ]
  },
  {
   "cell_type": "markdown",
   "metadata": {},
   "source": [
    "### Mean rank"
   ]
  },
  {
   "cell_type": "code",
   "execution_count": 42,
   "metadata": {},
   "outputs": [
    {
     "name": "stdout",
     "output_type": "stream",
     "text": [
      "[0.08977901 0.08114641 0.06042818 0.17990331 0.00379834 0.09979282\n",
      " 0.18197514 0.07838398 0.02313536 0.00103591 0.10082873 0.03487569\n",
      " 0.05110497 0.01381215] [0.14529023 0.06812652 0.06777894 0.17761557 0.00382343 0.12304484\n",
      " 0.17761557 0.07438304 0.0132082  0.00208551 0.07855405 0.0177268\n",
      " 0.0420577  0.00868961]\n"
     ]
    }
   ],
   "source": [
    "print(metrics.mean_rank(), perturbed_metrics.mean_rank())"
   ]
  },
  {
   "cell_type": "markdown",
   "metadata": {},
   "source": [
    "### Feature frequencies at all depths"
   ]
  },
  {
   "cell_type": "code",
   "execution_count": 43,
   "metadata": {},
   "outputs": [
    {
     "name": "stdout",
     "output_type": "stream",
     "text": [
      "[[0.041      0.025      0.002      0.231      0.008      0.213\n",
      "  0.212      0.127      0.005      0.         0.097      0.01\n",
      "  0.027      0.002     ]\n",
      " [0.09873708 0.11710677 0.0608496  0.19862227 0.00229621 0.05625718\n",
      "  0.15729047 0.04822044 0.02525832 0.00229621 0.13318025 0.0413318\n",
      "  0.04592423 0.01262916]\n",
      " [0.1245614  0.10877193 0.10877193 0.1245614  0.00175439 0.03157895\n",
      "  0.15087719 0.06140351 0.04035088 0.00175439 0.1        0.06315789\n",
      "  0.05964912 0.02280702]\n",
      " [0.16319444 0.125      0.09722222 0.07986111 0.         0.02083333\n",
      "  0.19097222 0.05208333 0.03125    0.         0.06944444 0.03819444\n",
      "  0.10416667 0.02777778]\n",
      " [0.09016393 0.04918033 0.14754098 0.1147541  0.         0.00819672\n",
      "  0.25409836 0.06557377 0.04918033 0.         0.00819672 0.05737705\n",
      "  0.10655738 0.04918033]\n",
      " [0.05405405 0.10810811 0.2972973  0.16216216 0.         0.05405405\n",
      "  0.13513514 0.         0.05405405 0.         0.02702703 0.02702703\n",
      "  0.08108108 0.        ]\n",
      " [0.14285714 0.         0.14285714 0.42857143 0.         0.\n",
      "  0.14285714 0.         0.         0.         0.         0.\n",
      "  0.14285714 0.        ]\n",
      " [1.         0.         0.         0.         0.         0.\n",
      "  0.         0.         0.         0.         0.         0.\n",
      "  0.         0.        ]]\n",
      "[[0.041      0.025      0.002      0.231      0.008      0.213\n",
      "  0.212      0.127      0.005      0.         0.097      0.01\n",
      "  0.027      0.002     ]\n",
      " [0.12617925 0.08490566 0.04716981 0.17806604 0.00235849 0.11320755\n",
      "  0.20283019 0.05306604 0.02004717 0.00235849 0.09787736 0.02358491\n",
      "  0.04127358 0.00707547]\n",
      " [0.2173913  0.09782609 0.14130435 0.13586957 0.         0.05615942\n",
      "  0.12681159 0.04891304 0.01811594 0.00724638 0.06702899 0.02355072\n",
      "  0.04710145 0.01268116]\n",
      " [0.28424658 0.09931507 0.16438356 0.09931507 0.00342466 0.04452055\n",
      "  0.11643836 0.02739726 0.01027397 0.         0.02739726 0.01712329\n",
      "  0.08219178 0.0239726 ]\n",
      " [0.33333333 0.09166667 0.15       0.14166667 0.         0.00833333\n",
      "  0.10833333 0.05       0.01666667 0.         0.00833333 0.01666667\n",
      "  0.05       0.025     ]\n",
      " [0.33333333 0.08888889 0.17777778 0.15555556 0.         0.\n",
      "  0.15555556 0.02222222 0.         0.         0.         0.02222222\n",
      "  0.04444444 0.        ]\n",
      " [0.6875     0.         0.0625     0.0625     0.         0.\n",
      "  0.125      0.         0.         0.         0.         0.\n",
      "  0.0625     0.        ]\n",
      " [0.25       0.25       0.         0.         0.         0.\n",
      "  0.25       0.         0.25       0.         0.         0.\n",
      "  0.         0.        ]]\n"
     ]
    }
   ],
   "source": [
    "print(metrics.frequency_at_all_depths())\n",
    "print(perturbed_metrics.frequency_at_all_depths())"
   ]
  },
  {
   "cell_type": "markdown",
   "metadata": {},
   "source": [
    "## Comparison"
   ]
  },
  {
   "cell_type": "code",
   "execution_count": 44,
   "metadata": {
    "collapsed": true
   },
   "outputs": [],
   "source": [
    "if 'factors' not in config:\n",
    "    comp = Comparison(metrics, perturbed_metrics)\n",
    "    comp.print_change_of_class()"
   ]
  },
  {
   "cell_type": "code",
   "execution_count": null,
   "metadata": {
    "collapsed": true
   },
   "outputs": [],
   "source": []
  }
 ],
 "metadata": {
  "kernelspec": {
   "display_name": "Python 3",
   "language": "python",
   "name": "python3"
  },
  "language_info": {
   "codemirror_mode": {
    "name": "ipython",
    "version": 3
   },
   "file_extension": ".py",
   "mimetype": "text/x-python",
   "name": "python",
   "nbconvert_exporter": "python",
   "pygments_lexer": "ipython3",
   "version": "3.6.7"
  }
 },
 "nbformat": 4,
 "nbformat_minor": 2
}
