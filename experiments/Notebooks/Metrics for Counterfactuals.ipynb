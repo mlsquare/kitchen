{
 "cells": [
  {
   "cell_type": "markdown",
   "metadata": {
    "collapsed": true
   },
   "source": [
    "# Metrics for counterfactuals"
   ]
  },
  {
   "cell_type": "code",
   "execution_count": 1,
   "metadata": {
    "collapsed": true
   },
   "outputs": [],
   "source": [
    "import numpy as np\n",
    "import pandas as pd\n",
    "import re\n",
    "from statistics import mean\n",
    "import json\n",
    "import pickle"
   ]
  },
  {
   "cell_type": "code",
   "execution_count": 2,
   "metadata": {
    "collapsed": true
   },
   "outputs": [],
   "source": [
    "from PythonScripts.metrics_perturbed import ClassificationMetrics, RegressionMetrics, Comparison"
   ]
  },
  {
   "cell_type": "markdown",
   "metadata": {
    "collapsed": true
   },
   "source": [
    "## Load data"
   ]
  },
  {
   "cell_type": "markdown",
   "metadata": {},
   "source": [
    "### Dataset "
   ]
  },
  {
   "cell_type": "code",
   "execution_count": 3,
   "metadata": {
    "collapsed": true
   },
   "outputs": [],
   "source": [
    "# datasets: iris, adult, auto\n",
    "\n",
    "dataset_name = 'auto'\n",
    "\n",
    "with open('../Configs/'+dataset_name+'.json') as config_file:\n",
    "        config = json.load(config_file)\n",
    "\n",
    "dataset = pd.read_csv('../Data/'+config['filtered_data_with_headers'], header = 0)\n",
    "perturbed_dataset = pd.read_csv('../Data/'+config['perturbed_data'], header = 0)\n",
    "\n",
    "dataset = dataset.values[0:config['sample']]\n",
    "X = dataset[:,0:config['num_features']]\n",
    "labels = dataset[:,config['target_col']-1]\n",
    "\n",
    "perturbed_dataset = perturbed_dataset.values[0:config['sample']]\n",
    "perturbed_X = perturbed_dataset[:,0:config['num_features']]\n",
    "perturbed_labels = perturbed_dataset[:,config['target_col']]\n",
    "\n",
    "features = np.arange(1,config['num_features']+1)"
   ]
  },
  {
   "cell_type": "markdown",
   "metadata": {},
   "source": [
    "### Paths"
   ]
  },
  {
   "cell_type": "code",
   "execution_count": 4,
   "metadata": {
    "collapsed": true
   },
   "outputs": [],
   "source": [
    "paths = pd.read_csv('../Outputs/'+config['perturbed_paths'], header = 0)\n",
    "bins = pd.read_csv('../Outputs/'+config['perturbed_local_bins'], header = 0)\n",
    "\n",
    "paths = paths.values\n",
    "bin_vals = bins.values\n",
    "\n",
    "if 'factors' in config:\n",
    "    bin_dict = dict((x[0], x[1]) for x in bin_vals) \n",
    "else:\n",
    "    bin_dict = dict((x[0], float(x[1])) for x in bin_vals)\n",
    "\n",
    "regex = re.compile(config['path_regex'], re.I)"
   ]
  },
  {
   "cell_type": "markdown",
   "metadata": {},
   "source": [
    "### Depths"
   ]
  },
  {
   "cell_type": "code",
   "execution_count": 5,
   "metadata": {
    "collapsed": true
   },
   "outputs": [],
   "source": [
    "depths = pd.read_csv('../Outputs/'+config['tree_depths'], header = 0)\n",
    "\n",
    "depths = depths.values\n",
    "depths = depths.flatten()"
   ]
  },
  {
   "cell_type": "markdown",
   "metadata": {},
   "source": [
    "### Binning"
   ]
  },
  {
   "cell_type": "code",
   "execution_count": 6,
   "metadata": {
    "collapsed": true
   },
   "outputs": [],
   "source": [
    "if config['type'] == 'regression':\n",
    "    with open ('../Outputs/'+config['label_bins'], 'rb') as fp:\n",
    "        label_bins = pickle.load(fp)"
   ]
  },
  {
   "cell_type": "markdown",
   "metadata": {},
   "source": [
    "## Compute metrics"
   ]
  },
  {
   "cell_type": "code",
   "execution_count": 7,
   "metadata": {
    "collapsed": true
   },
   "outputs": [],
   "source": [
    "path_list = []\n",
    "\n",
    "for i in range(2):\n",
    "    temp = []\n",
    "    for path in paths[:,i]:\n",
    "        nodes = path.split(\",\")\n",
    "        newpath = []\n",
    "        for node in nodes:\n",
    "            matchobj =  re.match(regex, node)\n",
    "            newpath.append((int(matchobj.group(1)), bin_dict[matchobj.group(2)], matchobj.group(3)))\n",
    "        temp.append(newpath)\n",
    "    path_list.append(temp)\n",
    "\n",
    "if 'factors' in config:\n",
    "    factors = pd.read_csv('../Outputs/'+config['factors'], header = 0)\n",
    "    factors = factors.values    \n",
    "else:\n",
    "    factors = None\n",
    "\n",
    "if config['type'] == 'classification':\n",
    "    metrics = ClassificationMetrics(path_list[0], labels, features, factors)\n",
    "    perturbed_metrics = ClassificationMetrics(path_list[1], perturbed_labels, features, factors)\n",
    "elif config['type'] == 'regression':\n",
    "    metrics = RegressionMetrics(path_list[0], labels, features, factors, label_bins)\n",
    "    perturbed_metrics = RegressionMetrics(path_list[1], perturbed_labels, features, factors, label_bins)\n",
    "else:\n",
    "    print((\"Type {} not supported\").format(config['type']))"
   ]
  },
  {
   "cell_type": "markdown",
   "metadata": {},
   "source": [
    "## Results"
   ]
  },
  {
   "cell_type": "markdown",
   "metadata": {},
   "source": [
    "### Decision set size"
   ]
  },
  {
   "cell_type": "code",
   "execution_count": 8,
   "metadata": {},
   "outputs": [
    {
     "name": "stdout",
     "output_type": "stream",
     "text": [
      "392 392\n"
     ]
    }
   ],
   "source": [
    "print(metrics.decision_paths_size(), perturbed_metrics.decision_paths_size())"
   ]
  },
  {
   "cell_type": "markdown",
   "metadata": {},
   "source": [
    "### Decision set length"
   ]
  },
  {
   "cell_type": "code",
   "execution_count": 9,
   "metadata": {},
   "outputs": [
    {
     "name": "stdout",
     "output_type": "stream",
     "text": [
      "2784 2672\n"
     ]
    }
   ],
   "source": [
    "print(metrics.decision_paths_length(), perturbed_metrics.decision_paths_length())"
   ]
  },
  {
   "cell_type": "markdown",
   "metadata": {},
   "source": [
    "### Average rule length"
   ]
  },
  {
   "cell_type": "code",
   "execution_count": 10,
   "metadata": {},
   "outputs": [
    {
     "name": "stdout",
     "output_type": "stream",
     "text": [
      "7.1020408163265305 6.816326530612245\n"
     ]
    }
   ],
   "source": [
    "print(metrics.average_rule_length(), perturbed_metrics.average_rule_length())"
   ]
  },
  {
   "cell_type": "markdown",
   "metadata": {},
   "source": [
    "### Average distinct features"
   ]
  },
  {
   "cell_type": "code",
   "execution_count": null,
   "metadata": {},
   "outputs": [
    {
     "name": "stdout",
     "output_type": "stream",
     "text": [
      "4.3061224489795915 4.198979591836735\n"
     ]
    }
   ],
   "source": [
    "print(metrics.average_distinct_features(), perturbed_metrics.average_distinct_features())"
   ]
  },
  {
   "cell_type": "markdown",
   "metadata": {},
   "source": [
    "### Inter-class overlap"
   ]
  },
  {
   "cell_type": "code",
   "execution_count": null,
   "metadata": {},
   "outputs": [],
   "source": [
    "print(metrics.interclass_overlap(X), perturbed_metrics.interclass_overlap(perturbed_X))"
   ]
  },
  {
   "cell_type": "markdown",
   "metadata": {},
   "source": [
    "### Intra-class overlap"
   ]
  },
  {
   "cell_type": "code",
   "execution_count": null,
   "metadata": {},
   "outputs": [],
   "source": [
    "print(metrics.intraclass_overlap(X), perturbed_metrics.intraclass_overlap(perturbed_X))"
   ]
  },
  {
   "cell_type": "markdown",
   "metadata": {},
   "source": [
    "### Total number of classes covered"
   ]
  },
  {
   "cell_type": "code",
   "execution_count": null,
   "metadata": {},
   "outputs": [],
   "source": [
    "print(metrics.num_classes_covered(), perturbed_metrics.num_classes_covered())"
   ]
  },
  {
   "cell_type": "markdown",
   "metadata": {},
   "source": [
    "### Correct cover"
   ]
  },
  {
   "cell_type": "code",
   "execution_count": null,
   "metadata": {},
   "outputs": [],
   "source": [
    "print(metrics.total_correct_cover(X), perturbed_metrics.total_correct_cover(perturbed_X))"
   ]
  },
  {
   "cell_type": "markdown",
   "metadata": {},
   "source": [
    "### Incorrect cover"
   ]
  },
  {
   "cell_type": "code",
   "execution_count": null,
   "metadata": {},
   "outputs": [],
   "source": [
    "print(metrics.total_incorrect_cover(X), perturbed_metrics.total_incorrect_cover(perturbed_X))"
   ]
  },
  {
   "cell_type": "markdown",
   "metadata": {},
   "source": [
    "### Mean rank"
   ]
  },
  {
   "cell_type": "code",
   "execution_count": null,
   "metadata": {},
   "outputs": [],
   "source": [
    "print(metrics.mean_rank(), perturbed_metrics.mean_rank())"
   ]
  },
  {
   "cell_type": "markdown",
   "metadata": {},
   "source": [
    "### Feature frequencies at all depths"
   ]
  },
  {
   "cell_type": "code",
   "execution_count": null,
   "metadata": {},
   "outputs": [],
   "source": [
    "print(metrics.frequency_at_all_depths())\n",
    "print(perturbed_metrics.frequency_at_all_depths())"
   ]
  },
  {
   "cell_type": "markdown",
   "metadata": {},
   "source": [
    "## Comparison"
   ]
  },
  {
   "cell_type": "code",
   "execution_count": null,
   "metadata": {},
   "outputs": [],
   "source": [
    "changes = None\n",
    "if 'factors' not in config:\n",
    "    comp = Comparison(metrics, perturbed_metrics)\n",
    "    changes = comp.change_of_class()\n",
    "changes   "
   ]
  },
  {
   "cell_type": "code",
   "execution_count": null,
   "metadata": {
    "collapsed": true
   },
   "outputs": [],
   "source": []
  }
 ],
 "metadata": {
  "kernelspec": {
   "display_name": "Python 3",
   "language": "python",
   "name": "python3"
  },
  "language_info": {
   "codemirror_mode": {
    "name": "ipython",
    "version": 3
   },
   "file_extension": ".py",
   "mimetype": "text/x-python",
   "name": "python",
   "nbconvert_exporter": "python",
   "pygments_lexer": "ipython3",
   "version": "3.6.7"
  }
 },
 "nbformat": 4,
 "nbformat_minor": 2
}
