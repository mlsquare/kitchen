{
 "cells": [
  {
   "cell_type": "markdown",
   "metadata": {
    "_cell_guid": "bfb32572-57e3-48d0-aae6-c6c77bc6e79a",
    "_uuid": "d42c1f22-ed95-4858-938f-1678b062ba57",
    "id": "rEJAt8h2kL5f"
   },
   "source": [
    "## Load dataset and tree info"
   ]
  },
  {
   "cell_type": "code",
   "execution_count": 1,
   "metadata": {
    "_cell_guid": "94f1bfeb-5db1-402c-a5eb-49390b275754",
    "_uuid": "ef94223f-f6ed-4c27-830c-f4f6dd4d1dad",
    "id": "TqdFRdmtkL5h"
   },
   "outputs": [
    {
     "ename": "ImportError",
     "evalue": "cannot import name 'jaccard_score'",
     "output_type": "error",
     "traceback": [
      "\u001b[1;31m---------------------------------------------------------------------------\u001b[0m",
      "\u001b[1;31mImportError\u001b[0m                               Traceback (most recent call last)",
      "\u001b[1;32m<ipython-input-1-6b0d0b24a7a1>\u001b[0m in \u001b[0;36m<module>\u001b[1;34m\u001b[0m\n\u001b[0;32m      9\u001b[0m \u001b[1;32mfrom\u001b[0m \u001b[0mtensorflow\u001b[0m\u001b[1;33m.\u001b[0m\u001b[0mkeras\u001b[0m \u001b[1;32mimport\u001b[0m \u001b[0mModel\u001b[0m\u001b[1;33m\u001b[0m\u001b[1;33m\u001b[0m\u001b[0m\n\u001b[0;32m     10\u001b[0m \u001b[1;32mfrom\u001b[0m \u001b[0mnltk\u001b[0m\u001b[1;33m.\u001b[0m\u001b[0mtranslate\u001b[0m\u001b[1;33m.\u001b[0m\u001b[0mbleu_score\u001b[0m \u001b[1;32mimport\u001b[0m \u001b[0msentence_bleu\u001b[0m\u001b[1;33m\u001b[0m\u001b[1;33m\u001b[0m\u001b[0m\n\u001b[1;32m---> 11\u001b[1;33m \u001b[1;32mfrom\u001b[0m \u001b[0msklearn\u001b[0m\u001b[1;33m.\u001b[0m\u001b[0mmetrics\u001b[0m \u001b[1;32mimport\u001b[0m \u001b[0mjaccard_score\u001b[0m\u001b[1;33m\u001b[0m\u001b[1;33m\u001b[0m\u001b[0m\n\u001b[0m\u001b[0;32m     12\u001b[0m \u001b[1;32mimport\u001b[0m \u001b[0mre\u001b[0m\u001b[1;33m\u001b[0m\u001b[1;33m\u001b[0m\u001b[0m\n",
      "\u001b[1;31mImportError\u001b[0m: cannot import name 'jaccard_score'"
     ]
    }
   ],
   "source": [
    "import tensorflow as tf\n",
    "from sklearn.datasets import load_iris\n",
    "import pandas as pd\n",
    "from sklearn.preprocessing import StandardScaler, OneHotEncoder\n",
    "import numpy as np\n",
    "from tensorflow.keras.layers import Dense, Input, concatenate, GRU, LSTM\n",
    "from tensorflow.keras import backend as K\n",
    "from tensorflow.keras.utils import to_categorical\n",
    "from tensorflow.keras import Model\n",
    "from nltk.translate.bleu_score import sentence_bleu\n",
    "from sklearn.metrics import jaccard_score\n",
    "import re"
   ]
  },
  {
   "cell_type": "code",
   "execution_count": null,
   "metadata": {
    "_cell_guid": "af237142-80d5-4809-9329-6ee67a905f9f",
    "_uuid": "f21b53b1-463e-4003-b939-6ce0168efe53",
    "id": "RA0dltvOkL5q"
   },
   "outputs": [],
   "source": [
    "names = ['age', 'workclass', 'fnlwgt', 'education', 'education-num',\n",
    "         'marital-status', 'occupation', 'relationship', 'race', 'sex', 'capital-gain', 'capital-loss', \n",
    "         'hours-per-week', 'native-country', 'target']\n",
    "\n",
    "data = pd.read_csv('../input/adult.data.csv', delimiter=\",\", header=None, names=names)"
   ]
  },
  {
   "cell_type": "code",
   "execution_count": null,
   "metadata": {
    "_cell_guid": "8dc1db16-9aa4-451d-8fcd-2d8fe5e2fbb8",
    "_uuid": "476b6e9a-4738-4a99-a6bf-58dcc3d4868f",
    "id": "o2SOoRYrkL50",
    "outputId": "8fb8a914-7873-471a-b3c6-7dab445c5009"
   },
   "outputs": [],
   "source": [
    "data.head()"
   ]
  },
  {
   "cell_type": "code",
   "execution_count": null,
   "metadata": {
    "_cell_guid": "f63f2ff2-e2fc-427d-a510-2c43075abf4a",
    "_uuid": "19b3bf7c-bc5d-4283-b1e8-d5787f3c5f62",
    "id": "DbCUqAebkL57"
   },
   "outputs": [],
   "source": [
    "data = data[data[\"workclass\"] != \" ?\"]\n",
    "data = data[data[\"occupation\"] != \" ?\"]\n",
    "data = data[data[\"native-country\"] != \" ?\"]\n",
    "\n",
    "# Convert categorical fields #\n",
    "categorical_col = ['workclass', 'education', 'marital-status', 'occupation',\n",
    "                   'relationship', 'race', 'sex', 'native-country', 'target']\n",
    "\n",
    "# categorical_col = ['target']\n",
    "    \n",
    "# for col in categorical_col:\n",
    "#     categories = unique_of(data.col)\n",
    "#     num_cat = count(categories)\n",
    "#     for cat in categories:\n",
    "#         data.col[cat] = index_of(cat in categories)\n",
    "\n",
    "for col in categorical_col:\n",
    "    b, c = np.unique(data[col], return_inverse=True)\n",
    "    data[col] = c\n",
    "\n",
    "feature_list = names[:14]\n",
    "# Test train split #\n",
    "X = data.loc[:, feature_list]\n",
    "Y = data[['target']]\n",
    "\n",
    "# Split the dataset into test and train datasets\n",
    "\n",
    "from sklearn.model_selection import train_test_split\n",
    "x_train, x_test, y_train, y_test = train_test_split(X, Y, test_size=0.60, random_state=0)"
   ]
  },
  {
   "cell_type": "code",
   "execution_count": null,
   "metadata": {
    "_cell_guid": "7871bb57-e85f-470e-bd4c-1ab7b50ac959",
    "_uuid": "9d192e14-7640-4a9b-a9fc-f008bc427829",
    "id": "43BPEWI5kL6A"
   },
   "outputs": [],
   "source": [
    "df = pd.DataFrame(X)\n",
    "df = df.reset_index().drop(columns='index')"
   ]
  },
  {
   "cell_type": "code",
   "execution_count": null,
   "metadata": {
    "_cell_guid": "416427eb-8a2d-45cf-bdd3-6a7b874c1635",
    "_uuid": "7b85281c-91d9-4acb-b3ea-0bf43dafc467",
    "id": "tlrqRs_TFcUL",
    "outputId": "1490e47f-587e-4339-e063-670cf1e6d7b5"
   },
   "outputs": [],
   "source": [
    "df.head(5)"
   ]
  },
  {
   "cell_type": "code",
   "execution_count": null,
   "metadata": {
    "_cell_guid": "36f2e768-8240-42d1-b0bc-c46e245334ba",
    "_uuid": "2a3669e7-de27-4b94-af19-9d66411319ac",
    "id": "MiH6lLHcHNbt"
   },
   "outputs": [],
   "source": [
    "cont_var = []\n",
    "\n",
    "for i in list(df.columns):\n",
    "  if i not in categorical_col:\n",
    "    cont_var.append(i)"
   ]
  },
  {
   "cell_type": "code",
   "execution_count": null,
   "metadata": {
    "_cell_guid": "b6bc81a7-1e1c-4005-bb1d-7ace2023d62a",
    "_uuid": "b92c7a82-a38d-4e07-9918-81227841626d",
    "id": "Qw6AA4T_F2h7"
   },
   "outputs": [],
   "source": [
    "X = df[cont_var]\n",
    "scaler = StandardScaler()\n",
    "scaler.fit(X)\n",
    "X = pd.DataFrame(scaler.transform(X))"
   ]
  },
  {
   "cell_type": "code",
   "execution_count": null,
   "metadata": {
    "_cell_guid": "33b3c3f8-79ce-4793-904a-c5e0eec1cdf8",
    "_uuid": "43cd5c23-c66c-4c03-899e-0cbce5c88a4b",
    "id": "yrov14x2FwZX"
   },
   "outputs": [],
   "source": [
    "categorical_col = ['workclass', 'education', 'marital-status', 'occupation',\n",
    "                   'relationship', 'race', 'sex', 'native-country']\n",
    "for i in categorical_col:\n",
    "  enc = OneHotEncoder(handle_unknown='ignore')\n",
    "  enc.fit(df[i].values.reshape(-1,1))\n",
    "  temp_df = pd.DataFrame(enc.transform(df[i].values.reshape(-1,1)).toarray())\n",
    "  X = pd.concat([X, temp_df], axis=1)"
   ]
  },
  {
   "cell_type": "code",
   "execution_count": null,
   "metadata": {
    "_cell_guid": "bcd88223-2e97-4f66-8152-07209888c2b1",
    "_uuid": "5d3a6a38-91cb-4e55-815c-525bd206e089",
    "id": "GfN2S4l-MRWZ",
    "outputId": "858b0eb8-61bb-47f5-870d-bc4ae0ec518d"
   },
   "outputs": [],
   "source": [
    "X"
   ]
  },
  {
   "cell_type": "code",
   "execution_count": null,
   "metadata": {
    "_cell_guid": "80f7d274-4268-4225-a247-1a87c115a3f5",
    "_uuid": "94bfd9b0-0eaa-4918-9829-1574dac11720",
    "id": "esh9PPCGkL6G"
   },
   "outputs": [],
   "source": [
    "bin_labels = pd.read_csv('../input/test_adult_bin_labels_1000.csv', delimiter=\",\",\n",
    "                         header=0, names=['label', 'bins'])"
   ]
  },
  {
   "cell_type": "code",
   "execution_count": null,
   "metadata": {
    "_cell_guid": "6d89c96a-6479-4884-a290-6e2dac1bfecd",
    "_uuid": "3e3f3db1-9549-4f8e-831f-741d0cdd8aea",
    "id": "uKywaQb9kL6L",
    "outputId": "3e012430-9d89-4c75-9457-b2454a9bd3e5"
   },
   "outputs": [],
   "source": [
    "bin_labels.head()"
   ]
  },
  {
   "cell_type": "code",
   "execution_count": null,
   "metadata": {
    "_cell_guid": "967b7cc7-aac7-4b19-97a0-5b9880d85650",
    "_uuid": "5e5f86ea-af3e-4ac8-8e38-0cf8dafb2d04",
    "id": "se7zLwcPkL6Q"
   },
   "outputs": [],
   "source": [
    "Y = Y.reset_index().drop(columns='index')"
   ]
  },
  {
   "cell_type": "code",
   "execution_count": null,
   "metadata": {
    "_cell_guid": "59a93bd9-b973-48cf-a11b-f715ff9e502e",
    "_uuid": "70e56661-5a2c-44ac-a9a2-5b5ed240ca6f",
    "id": "snFHHHjKkL6a"
   },
   "outputs": [],
   "source": [
    "path_df = pd.read_csv('../input/test_adult_paths_1000.csv', delimiter=\",\",\n",
    "                      header=0, names=['index', 'paths'])\n",
    "path_df = path_df.drop(columns='index')"
   ]
  },
  {
   "cell_type": "code",
   "execution_count": null,
   "metadata": {
    "_cell_guid": "a211dc41-ad01-4815-bb52-5e84dfd4e408",
    "_uuid": "ad7c656a-18f3-4b57-ac9a-e7c494a5921c",
    "id": "jTl94DFbkL6V",
    "outputId": "c278a3b0-c4a6-4690-d167-54c517582fe9"
   },
   "outputs": [],
   "source": [
    "path_df.shape"
   ]
  },
  {
   "cell_type": "code",
   "execution_count": null,
   "metadata": {
    "_cell_guid": "b07d6c75-d218-4bd8-9802-2cbef692c8e1",
    "_uuid": "1afd8743-509e-44bd-9aa7-b4ba6542d62e",
    "id": "Oz20kyx0Sa6O",
    "outputId": "35e68b2d-4353-4bba-98fd-3a2654c575a9"
   },
   "outputs": [],
   "source": [
    "df.iloc[:1000,]"
   ]
  },
  {
   "cell_type": "code",
   "execution_count": null,
   "metadata": {
    "_cell_guid": "9ac9a9c0-a3d5-4f0a-a6fa-02e44da30037",
    "_uuid": "1871ccf9-08cb-4838-b82c-1cf5a6c566df",
    "id": "MBFeYX_VSgbR",
    "outputId": "674f7363-4e8c-4913-99a7-2539ace1f838"
   },
   "outputs": [],
   "source": [
    "X.iloc[:1000,]"
   ]
  },
  {
   "cell_type": "code",
   "execution_count": null,
   "metadata": {
    "_cell_guid": "35700ffb-780d-45de-befc-a1e93068f43d",
    "_uuid": "93ecbff8-cbf2-48fa-a04f-00b522c56cf1",
    "id": "IXMc_VCIkL6f"
   },
   "outputs": [],
   "source": [
    "test_data = pd.concat([X.iloc[:1000,], Y.iloc[:1000,],path_df], axis=1)\n",
    "# test_data = df"
   ]
  },
  {
   "cell_type": "code",
   "execution_count": null,
   "metadata": {
    "_cell_guid": "764ba672-bafe-46f2-8f82-18ca6dffe321",
    "_uuid": "dcef55e5-596a-4fb8-ad01-18049de43cf9",
    "id": "-nApFqW3kL6k",
    "outputId": "2919f0b5-9e93-4a94-9b5a-d03ab791a12e"
   },
   "outputs": [],
   "source": [
    "test_data.shape"
   ]
  },
  {
   "cell_type": "code",
   "execution_count": null,
   "metadata": {
    "_cell_guid": "9204a195-bb80-42d7-bee1-ccfdcebd014a",
    "_uuid": "c2a099b7-60ea-4cb9-89af-cfb00aa6ed76",
    "id": "5ye6xGLdkL6v"
   },
   "outputs": [],
   "source": [
    "new_path = []\n",
    "for i, val in test_data.iterrows():\n",
    "    new_path.append(val['paths'].split(sep=\",\"))"
   ]
  },
  {
   "cell_type": "code",
   "execution_count": null,
   "metadata": {
    "_cell_guid": "72849dce-9f4b-4c6f-9e50-8d3561b55f7c",
    "_uuid": "6c95e616-745b-487b-b822-c40fc21c5ff1",
    "id": "XuQDQSGakL65"
   },
   "outputs": [],
   "source": [
    "_ = [x.insert(0, 'S') for x in new_path]\n",
    "_ = [x.append('E') for x in new_path]"
   ]
  },
  {
   "cell_type": "code",
   "execution_count": null,
   "metadata": {
    "_cell_guid": "de1814f0-a5cb-4001-abed-2e3c6a018da7",
    "_uuid": "8351ce71-79e6-4396-bbb8-44341b0ea3a8",
    "id": "4Zros1ZskL7A"
   },
   "outputs": [],
   "source": [
    "test_data['new_path'] = new_path"
   ]
  },
  {
   "cell_type": "code",
   "execution_count": null,
   "metadata": {
    "_cell_guid": "ac212d38-cb9e-4ca6-8f26-1fe71d655c47",
    "_uuid": "6889c860-ff0f-4e5e-9f48-2073ac03844a",
    "id": "OmsS8R-akL7D"
   },
   "outputs": [],
   "source": [
    "test_data = test_data.drop([\"paths\"], axis=1)"
   ]
  },
  {
   "cell_type": "code",
   "execution_count": null,
   "metadata": {
    "_cell_guid": "2eebcb57-05b7-4872-98fd-f729075600c2",
    "_uuid": "138d8f5d-0a1e-4151-ad44-0dcef8bdcf48",
    "id": "x8ZuSmzjkL6z",
    "outputId": "2b91f3ba-caf8-49ef-c4a1-715966d1eb8f",
    "scrolled": true
   },
   "outputs": [],
   "source": [
    "test_data.head()"
   ]
  },
  {
   "cell_type": "code",
   "execution_count": null,
   "metadata": {
    "_cell_guid": "ea07ae53-6c0d-4274-9e01-8a1a6f688384",
    "_uuid": "95ac7de0-9b20-46e1-bdbe-cd3031a9298f",
    "id": "1HKxBuPckL7K"
   },
   "outputs": [],
   "source": [
    "paths_lengths = np.array([len(xi)\n",
    "                          for xi in test_data.iloc[:,-1]])"
   ]
  },
  {
   "cell_type": "code",
   "execution_count": null,
   "metadata": {
    "_cell_guid": "4140b448-b6e7-4d5f-a728-455685fbe624",
    "_uuid": "ad947422-18d4-4fe9-884c-ec318d6edc66",
    "id": "SRKD0-TPkL7P",
    "outputId": "25e10a84-cd67-4653-c31d-3d4c057dd7ea"
   },
   "outputs": [],
   "source": [
    "paths_lengths\n",
    "np.max(paths_lengths)"
   ]
  },
  {
   "cell_type": "markdown",
   "metadata": {
    "_cell_guid": "6eb49d83-4c9d-419e-a46a-daa3146f56c5",
    "_uuid": "29026b5f-3da8-4a57-aca7-d3cc08dc9944",
    "id": "CEu4RO1HkL8E"
   },
   "source": [
    "## Create and train FFN"
   ]
  },
  {
   "cell_type": "code",
   "execution_count": null,
   "metadata": {
    "_cell_guid": "971f7a7f-067f-4119-bea7-1d8a108421eb",
    "_uuid": "94b7e9f8-4c0b-4566-b4eb-412565d84a17",
    "id": "PX6K6IZAkL8H"
   },
   "outputs": [],
   "source": [
    "def _create_label_model(latent_dim=25, feature_size=104):\n",
    "    input_layer = Input(shape=(feature_size,), name='ip_x')\n",
    "    hidden_layer_x1 = Dense(10, activation='relu',\n",
    "                            name='hidden_x1')(input_layer)\n",
    "    hidden_layer_x2 = Dense(10, activation='relu',\n",
    "                            name='hidden_x2')(hidden_layer_x1)\n",
    "    hidden_layer_x3 = Dense(latent_dim, activation='relu',\n",
    "                            name='hidden_x3')(hidden_layer_x2)\n",
    "    output_layer = Dense(len(np.unique(Y)), activation='sigmoid',\n",
    "                         name='op_x')(hidden_layer_x3)\n",
    "    model = Model(input_layer, output_layer)\n",
    "    return model"
   ]
  },
  {
   "cell_type": "code",
   "execution_count": null,
   "metadata": {
    "_cell_guid": "cf93796f-74a6-4f2d-a733-dbead6bb4f17",
    "_uuid": "907791f8-676b-419b-bd72-e4934051a487",
    "id": "Jl_AaLoBkL8N"
   },
   "outputs": [],
   "source": [
    "label_model = _create_label_model()"
   ]
  },
  {
   "cell_type": "code",
   "execution_count": null,
   "metadata": {
    "_cell_guid": "ff2d6e53-0a98-4bdf-9307-a50312dbd29e",
    "_uuid": "1821c712-0133-4053-84f2-363a0329c391",
    "id": "25JZ_moxqxTJ",
    "outputId": "785eace3-057f-479a-e15b-91fbea4ccc94"
   },
   "outputs": [],
   "source": [
    "label_model.summary()"
   ]
  },
  {
   "cell_type": "code",
   "execution_count": null,
   "metadata": {
    "_cell_guid": "a6ac620a-cc28-4e74-a49b-59de18485af6",
    "_uuid": "c5ae647c-c457-41a4-8c5f-347320793c55",
    "id": "lAeZWowXoWcz",
    "outputId": "aa100345-3a45-4038-e8d8-f304d9743044"
   },
   "outputs": [],
   "source": [
    "Y.shape"
   ]
  },
  {
   "cell_type": "code",
   "execution_count": null,
   "metadata": {
    "_cell_guid": "1a48d2a3-dfb9-4f98-8f84-cd28dfd948a3",
    "_uuid": "7a55da20-e705-494e-91bb-6b209aea707d",
    "id": "ce9lF-crpV4x",
    "outputId": "cc141bfd-6cec-4b02-bf1e-7f4f4c67f48d"
   },
   "outputs": [],
   "source": [
    "X.head()"
   ]
  },
  {
   "cell_type": "code",
   "execution_count": null,
   "metadata": {
    "_cell_guid": "ca4393e2-f834-43b1-bcd3-01da0a970560",
    "_uuid": "0fd9fbc8-330d-4324-bcbb-0836661aabf2",
    "id": "t1bEyUZHkL8T"
   },
   "outputs": [],
   "source": [
    "def fit_model():\n",
    "\n",
    "    y_cat = to_categorical(Y)\n",
    "\n",
    "    label_model.compile(\n",
    "        optimizer='adam', loss='binary_crossentropy', metrics=['accuracy'])\n",
    "    label_model.fit(\n",
    "        X, y_cat, batch_size=2000, epochs=50, verbose=1, shuffle=True, validation_split=0.2)"
   ]
  },
  {
   "cell_type": "code",
   "execution_count": null,
   "metadata": {
    "_cell_guid": "51a72a98-c6a4-47a1-9c74-88ba564185b8",
    "_uuid": "993d0907-ea47-4fdf-bb03-22a9428a109c",
    "id": "Y3wp5glkkL8V",
    "outputId": "423157fb-e682-4f3e-e0c5-5a558393e874"
   },
   "outputs": [],
   "source": [
    "fit_model()"
   ]
  },
  {
   "cell_type": "markdown",
   "metadata": {
    "_cell_guid": "539a8c4d-db26-47b2-b104-c0c4e610f5c9",
    "_uuid": "e3d0eed5-2193-4798-abf0-a7d1ef3cd393",
    "id": "2PjhS6zGkL8v"
   },
   "source": [
    "## Path invariance trials using rpart -- generic"
   ]
  },
  {
   "cell_type": "code",
   "execution_count": 0,
   "metadata": {
    "_cell_guid": "3c44f6e3-2df7-459e-be2d-ab9783d13d75",
    "_uuid": "dfc3db2d-285a-4cb6-888b-52cec33404a1",
    "id": "6rG1t4nvkL8w"
   },
   "outputs": [],
   "source": [
    "## Import nnum, vnum, nodes, csplit, split_df,\n",
    "## frame\n",
    "\n",
    "splits = pd.read_csv('../../data/raw/splits.csv', delimiter=\",\", index_col=0)\n",
    "csplit = pd.read_csv('../../data/raw/csplit.csv', delimiter=\",\")\n",
    "frame = pd.read_csv('../../data/raw/frame.csv', delimiter=\",\",index_col=0)\n",
    "\n",
    "# frame = frame.drop([\"Unnamed: 0\"], axis=1)\n",
    "frame = frame.rename(columns={\"var\": \"variable\"})\n",
    "# bin_labels = bin_labels.rename(columns={\"Unnamed: 0\": \"label\", \"label_list\": \"bins\"})"
   ]
  },
  {
   "cell_type": "code",
   "execution_count": 0,
   "metadata": {
    "_cell_guid": "8338a5eb-64d3-4adf-924c-34c91e21d93c",
    "_uuid": "8be60d42-56b0-4fb5-80af-db21d1be320e",
    "id": "bakroygYkL8x",
    "outputId": "7a19ec8d-9242-4e75-8b01-75b0b21b3a36"
   },
   "outputs": [],
   "source": [
    "frame"
   ]
  },
  {
   "cell_type": "code",
   "execution_count": 0,
   "metadata": {
    "_cell_guid": "cec1a9ac-be8e-4107-8e80-e8f01ed54f09",
    "_uuid": "7bc0138e-9cf6-41ba-b95c-8a6e478235bd",
    "id": "VgZOVYbOkL80",
    "outputId": "14465b0d-2276-4489-dd11-582baaa6215d"
   },
   "outputs": [],
   "source": [
    "## Generate nnum, vnum, nodes(split_df and csplit - 2L if necessary)\n",
    "\n",
    "temp_frame = frame\n",
    "\n",
    "nc = temp_frame[[\"ncompete\", \"nsurrogate\"]]\n",
    "\n",
    "index = np.cumsum((frame[[\"variable\"]]!=\"<leaf>\").values + nc[[\"ncompete\"]].values + nc[[\"nsurrogate\"]].values)\n",
    "\n",
    "index_df = pd.DataFrame((np.insert(index,0,0)+1)[:-1], columns=[\"i\"], index=frame.index)\n",
    "\n",
    "temp_frame = pd.concat([temp_frame, index_df], axis=1)\n",
    "\n",
    "# temp_frame[temp_frame[[\"var\"]]==\"<leaf>\"]\n",
    "# temp_frame.where(temp_frame[[\"var\"]]==\"<leaf>\")\n",
    "# temp_frame.loc[temp_frame[[\"variable\"]]==\"<leaf>\", \"index\"] = 0\n",
    "temp_frame.i[temp_frame.variable == \"<leaf>\"] = 0"
   ]
  },
  {
   "cell_type": "code",
   "execution_count": 0,
   "metadata": {
    "_cell_guid": "33d68c3f-156e-4555-bdea-51a7c1956953",
    "_uuid": "6cf624a2-6185-40d6-97d5-2fbfefc65bf9",
    "id": "9dvHbQijkL82",
    "outputId": "5175a204-1e5f-4ce8-c6ac-ce75ef2a04ce"
   },
   "outputs": [],
   "source": [
    "temp_frame"
   ]
  },
  {
   "cell_type": "code",
   "execution_count": 0,
   "metadata": {
    "_cell_guid": "8d23631f-20c1-4f89-bb6e-33aa2b525c45",
    "_uuid": "fcdd6cba-1ebc-419e-a871-6271d4a12fb7",
    "id": "HSwQ-WbBkL85"
   },
   "outputs": [],
   "source": [
    "nodes = temp_frame[[\"n\", \"ncompete\", \"nsurrogate\", \"i\"]]"
   ]
  },
  {
   "cell_type": "code",
   "execution_count": 0,
   "metadata": {
    "_cell_guid": "c2b62e99-377b-401f-b1bb-ac5a8e763773",
    "_uuid": "1146e881-22bb-4d72-9903-4ca75c366c1a",
    "id": "HqwUhv_6kL88",
    "outputId": "9c1675e1-9a7b-49d5-ceaf-0b2fcde567eb"
   },
   "outputs": [],
   "source": [
    "nodes"
   ]
  },
  {
   "cell_type": "code",
   "execution_count": 0,
   "metadata": {
    "_cell_guid": "5ead3abd-1179-472d-942a-a9743bf8e2b3",
    "_uuid": "28fd8b77-ebdc-4199-98f0-a3e594a2db18",
    "id": "JKb9GYXFkL8-"
   },
   "outputs": [],
   "source": [
    "def load_tree_details(index): # Returns nnum, nodes, vnum, splits, temp_frame\n",
    "    splits_dir = '../../data/raw/local_dt_df/splits'+'_'+str(index)+'.csv'\n",
    "    frame_dir = '../../data/raw/local_dt_df/frame'+'_'+str(index)+'.csv'\n",
    "    splits = pd.read_csv(splits_dir, delimiter=\",\", index_col=0)\n",
    "    frame = pd.read_csv(frame_dir, delimiter=\",\",index_col=0)\n",
    "    \n",
    "    frame = frame.rename(columns={\"var\": \"variable\"})\n",
    "    \n",
    "    temp_frame = frame\n",
    "\n",
    "    nc = temp_frame[[\"ncompete\", \"nsurrogate\"]]\n",
    "\n",
    "    index = np.cumsum((frame[[\"variable\"]]!=\"<leaf>\").values + nc[[\"ncompete\"]].values + nc[[\"nsurrogate\"]].values)\n",
    "\n",
    "    index_df = pd.DataFrame((np.insert(index,0,0)+1)[:-1], columns=[\"i\"], index=frame.index)\n",
    "\n",
    "    temp_frame = pd.concat([temp_frame, index_df], axis=1)\n",
    "\n",
    "    temp_frame.i[temp_frame.variable == \"<leaf>\"] = 0\n",
    "    \n",
    "    nodes = temp_frame[[\"n\", \"ncompete\", \"nsurrogate\", \"i\"]]\n",
    "    \n",
    "    nnum = list(temp_frame.index)\n",
    "\n",
    "    feature_names = [\"Sepal.Length\", \"Sepal.Width\", \"Petal.Length\", \"Petal.Width\"]\n",
    "\n",
    "    vnum = list(map(feature_names.index, splits.index))\n",
    "    \n",
    "    return nnum, nodes, vnum, splits, temp_frame"
   ]
  },
  {
   "cell_type": "code",
   "execution_count": 0,
   "metadata": {
    "_cell_guid": "649d761f-5fd8-4930-b2c5-d6c67246e8e3",
    "_uuid": "825e2318-eb7a-4b86-9df2-1a5e686a931b",
    "id": "bl__ofFAkL9A"
   },
   "outputs": [],
   "source": [
    "nnum = list(temp_frame.index) # row names of temp_frame"
   ]
  },
  {
   "cell_type": "code",
   "execution_count": 0,
   "metadata": {
    "_cell_guid": "98fdbaa9-ff5f-495b-8d25-050c3dfaf1b3",
    "_uuid": "04080f7c-2621-41c8-b862-c7c968f0513a",
    "id": "O1faDbeUkL9D",
    "outputId": "fe24f2d6-f4c3-4212-84b9-d70e4b79039e"
   },
   "outputs": [],
   "source": [
    "nnum"
   ]
  },
  {
   "cell_type": "code",
   "execution_count": 0,
   "metadata": {
    "_cell_guid": "8985592d-64aa-4c07-89ea-e384faf7bc58",
    "_uuid": "0978b424-0d18-4aa5-91e8-0797d4026c9d",
    "id": "SOXS6qOXkL9E"
   },
   "outputs": [],
   "source": [
    "feature_names = [\"Sepal.Length\", \"Sepal.Width\", \"Petal.Length\", \"Petal.Width\"]\n",
    "\n",
    "vnum = list(map(feature_names.index, splits.index))"
   ]
  },
  {
   "cell_type": "code",
   "execution_count": 0,
   "metadata": {
    "_cell_guid": "dc94a1a1-956c-404c-a4cd-40975d4132bf",
    "_uuid": "48588eb6-3f56-44fe-9ba5-a016a1b7c688",
    "id": "ccT5PRH5kL9H",
    "outputId": "ced20285-2281-47e9-c619-3811e195138e"
   },
   "outputs": [],
   "source": [
    "nodes"
   ]
  },
  {
   "cell_type": "code",
   "execution_count": 0,
   "metadata": {
    "_cell_guid": "b97c5a29-6ea1-44fb-a3b7-73601fc80ace",
    "_uuid": "62747078-4085-4518-be31-b047fe15abc1",
    "id": "TXQzKfhwkL9K"
   },
   "outputs": [],
   "source": [
    "sample_path = ['S', '3A0', '4C1', '2AD1', 'E']"
   ]
  },
  {
   "cell_type": "code",
   "execution_count": 0,
   "metadata": {
    "_cell_guid": "fda8a3aa-5903-4d6e-a2d5-5f4e8da0d11b",
    "_uuid": "3147fd0c-2c31-417f-b4f2-5d60d3ebe46f",
    "id": "pT_l9p5ukL9T"
   },
   "outputs": [],
   "source": [
    "def return_yval(path, index): # [1,0,0,0]\n",
    "    nnum, nodes, vnum, splits, temp_frame = load_tree_details(index)\n",
    "    path = path[1:-1]\n",
    "    node = 0\n",
    "    nspl = 1\n",
    "    i = 0\n",
    "    while nspl != 0:\n",
    "        npos = nnum[node] # i)0, \n",
    "        nspl = nodes.iloc[npos-1][3] # i)1\n",
    "        var = vnum[nspl]\n",
    "        # ncat\n",
    "        temp = splits.iloc[nspl][3]\n",
    "        if nspl > 0:\n",
    "            print(\"nspl succeeded\")\n",
    "            if  int(path[i][0]) != var:\n",
    "                print(\"Wrong feature -- \", path[i][0], var)\n",
    "                return False\n",
    "                break\n",
    "            elif int(path[i][-1]) == 0: # i)1\n",
    "                direction = -1\n",
    "                i+=1\n",
    "            else:\n",
    "                direction = 1\n",
    "                i+=1\n",
    "\n",
    "            if direction == -1:\n",
    "                print(node)\n",
    "                if node == 0:\n",
    "                    node = 1\n",
    "                node = 2 * node\n",
    "            else:\n",
    "                print(node)\n",
    "                if node == 0:\n",
    "                    node = 1\n",
    "                node = 2 * node + 1\n",
    "            if len(path) == 1:\n",
    "                nspl = 0\n",
    "        else:\n",
    "            print('nspl failed')\n",
    "            print(\"leaf node -- \", node)\n",
    "            yval = temp_frame.iloc[node][4]\n",
    "    return temp_frame.iloc[node][4]"
   ]
  },
  {
   "cell_type": "code",
   "execution_count": 0,
   "metadata": {
    "_cell_guid": "cab8ebe4-81a2-4c62-944d-54f82472325b",
    "_uuid": "73654a03-225e-452a-abf8-7cd031599336",
    "id": "E5wGX7Q4kL9X",
    "outputId": "24456aab-d7a1-48eb-be02-3c8151f41597"
   },
   "outputs": [],
   "source": [
    "\n",
    "path = [1,1,0,1]\n",
    "a = [1,0,0,0]\n",
    "b = [1,1,1]\n",
    "c = [0]\n",
    "d = [1,1,1,1,1,1,0]\n",
    "e = [1,0,1,0,0]\n",
    "return_yval(e)"
   ]
  },
  {
   "cell_type": "code",
   "execution_count": 0,
   "metadata": {
    "_cell_guid": "b7c36c08-2cdd-4f00-875c-4a886100791c",
    "_uuid": "b0ac2cf4-443a-4562-aefb-e9834dc29dac",
    "id": "JEdr0lMfkL9b",
    "outputId": "7ae3200a-c291-4f45-e36f-3624934bb69f"
   },
   "outputs": [],
   "source": [
    "return_yval(sample_path)"
   ]
  },
  {
   "cell_type": "code",
   "execution_count": 0,
   "metadata": {
    "_cell_guid": "56832ab1-79a1-4610-8d55-f41381dc9bd0",
    "_uuid": "efa30638-7414-4388-a283-fb1c63479770",
    "id": "F5Oq1MrjkL9d",
    "outputId": "d8083160-0507-442b-bc42-5a9d26ee00dc"
   },
   "outputs": [],
   "source": [
    "temp_frame"
   ]
  },
  {
   "cell_type": "code",
   "execution_count": 0,
   "metadata": {
    "_cell_guid": "92518eca-550d-4ea0-9dae-6f7a2f8049e2",
    "_uuid": "0958b5d6-18d6-4fd7-a2fd-ce4c107fcc27",
    "id": "hiLp1rxlkL9i",
    "outputId": "50bab2f9-b5d2-4f83-8479-fb6608b846e3"
   },
   "outputs": [],
   "source": [
    "splits"
   ]
  },
  {
   "cell_type": "code",
   "execution_count": 0,
   "metadata": {
    "_cell_guid": "37096fd3-8fc4-479f-8a7c-0a2803a58126",
    "_uuid": "886b5c5b-e3db-46da-912c-3f6edc91e39c",
    "id": "THzEK4KskL9l",
    "outputId": "7001c3e7-b7c9-4dcf-8587-8724488ebb22"
   },
   "outputs": [],
   "source": [
    "iris.target_names"
   ]
  },
  {
   "cell_type": "markdown",
   "metadata": {
    "_cell_guid": "a97f678e-3521-4f41-8470-3ecfce0d6164",
    "_uuid": "0e13ea31-b171-4cd1-a243-0490072689c0",
    "id": "gDR4XAFAkL9o"
   },
   "source": [
    "## Bin reduction(EMD)"
   ]
  },
  {
   "cell_type": "code",
   "execution_count": 0,
   "metadata": {
    "_cell_guid": "0fea3707-7d6f-4d8b-b146-6d4639e07bec",
    "_uuid": "e0d5e33e-19df-412c-8bd8-6a347200b2d2",
    "id": "8EZihS7QkL-w"
   },
   "outputs": [],
   "source": [
    "## Pyemd approach -- categorical var\n",
    "'''\n",
    "Max levels = 3; (a,b,c)\n",
    "actual_bins = [(a), (b,c), (a,c), (b), (c)]\n",
    "actual_freq = [10.0, 3.0, 4.0, 1.0, 5.0]\n",
    "possible_out = [(a), (b), (c), (a,b), (a,c), (b,c)]\n",
    "'''\n",
    "\n",
    "actual_bins = [['a'], ['b','c'], ['a','c'], ['a','b'], ['c']]\n",
    "possible_out = [['a'], ['b','c'], ['a','c'], ['a','b'], ['b'], ['c']]\n",
    "\n",
    "\n",
    "dist_list = []\n",
    "emd_trials = {}\n",
    "for index in range(1000):\n",
    "    ext_bins = np.random.choice(actual_bins, 3, replace=False).tolist()\n",
    "    ext_freq = []\n",
    "    # actual_freq = [10.0, 3.0, 4.0, 1.0, 5.0]\n",
    "    actual_freq = [10.0, 3.0, 4.0, 1.0, 5.0]\n",
    "    actual_freq_norm = normalize([actual_freq], norm='l1').reshape(5,)\n",
    "    for i, x in enumerate(ext_bins):\n",
    "        new_freq = []\n",
    "        for j, b in enumerate(actual_bins):\n",
    "            c = 1/(np.sqrt(2*np.pi))\n",
    "            # dist = 1 - get_j_coeff(b, x) # Change distance metric\n",
    "            dist = distance.levenshtein(b,x)\n",
    "            dist = -((np.power(dist,2))/2)\n",
    "            d = np.exp(dist)\n",
    "            w = c * d\n",
    "            new_freq.append(w * actual_freq[j])\n",
    "        ext_freq.append(sum(new_freq))\n",
    "\n",
    "    combined_bins = copy(actual_bins)\n",
    "    for _, val in enumerate(ext_bins):\n",
    "        combined_bins.append(val)\n",
    "\n",
    "    dist_matrix = np.zeros((8,8), dtype='float64')\n",
    "    ## Distance\n",
    "    for i, val in enumerate(combined_bins):\n",
    "        for j, val_2 in enumerate(combined_bins):\n",
    "            # dist_matrix[i,j] = distance.euclidean(combined_bins[i], combined_bins[j])\n",
    "            # dist_matrix[i,j] = get_j_coeff(combined_bins[i], combined_bins[j])\n",
    "            dist_matrix[i,j] = distance.levenshtein(combined_bins[i], combined_bins[j])\n",
    "    \n",
    "    ext_freq_norm = normalize([ext_freq], norm='l1').reshape(3,)\n",
    "    \n",
    "    for i in range(len(actual_freq)):\n",
    "        # ext_freq.insert(0, 0.0)\n",
    "        ext_freq_norm = np.insert(ext_freq_norm, 0, 0.0)\n",
    "\n",
    "    for i in range(len(ext_bins)):\n",
    "        # actual_freq.append(0.0)\n",
    "        actual_freq_norm = np.append(actual_freq_norm, 0.0)\n",
    "\n",
    "    # ext_freq = np.array(ext_freq)    \n",
    "    # actual_freq = np.array(actual_freq)\n",
    "    \n",
    "    emd_val, min_cost_flow = pyemd.emd_with_flow(actual_freq_norm, ext_freq_norm, dist_matrix)\n",
    "    dist_list.append(emd_val)\n",
    "    emd_trials.update({index:{'distance':emd_val, 'flow_matrix':min_cost_flow,\n",
    "                             'actual_bins':actual_bins, 'actual_freq_norm':actual_freq_norm,\n",
    "                             'ext_bins':ext_bins, 'ext_freq_norm':ext_freq_norm,\n",
    "                             'dist_matrix': dist_matrix}})"
   ]
  },
  {
   "cell_type": "code",
   "execution_count": 0,
   "metadata": {
    "_cell_guid": "c3c51295-f5af-4759-b318-1c2b27ff1220",
    "_uuid": "daba0414-0777-49cf-9584-39f0f210fd7a",
    "id": "kQljd7h_kL-8",
    "outputId": "87e2099d-eae9-450a-eb07-e5355c6b6c53"
   },
   "outputs": [],
   "source": [
    "dist_list.index(max(dist_list))"
   ]
  },
  {
   "cell_type": "code",
   "execution_count": 0,
   "metadata": {
    "_cell_guid": "54fa4b72-a3bc-4dce-900d-a7d816fdd21e",
    "_uuid": "c79916b7-3a96-41d7-9fac-1b9b0fdc4567",
    "id": "hsymjqZ3kL--",
    "outputId": "127932b2-879e-4a30-e178-e09cedc6ab4a"
   },
   "outputs": [],
   "source": [
    "min(dist_list)"
   ]
  },
  {
   "cell_type": "code",
   "execution_count": 0,
   "metadata": {
    "_cell_guid": "63aad899-210f-4b4d-9883-d99f2c23537f",
    "_uuid": "8ac45ce1-a6bf-4f35-9641-6c1efc62498a",
    "id": "VRbT78J0kL-_",
    "outputId": "24c15be2-4736-4ee1-8795-bc11e887aea2"
   },
   "outputs": [],
   "source": [
    "max(dist_list)"
   ]
  },
  {
   "cell_type": "markdown",
   "metadata": {
    "_cell_guid": "b1f972e3-1dc0-472d-ad5a-b98e41044b04",
    "_uuid": "5e11f85b-5a2f-4c96-967d-2f27a6e1f581",
    "id": "wvXfnCn0kL_R"
   },
   "source": [
    "### Path and bin conversions for dag_arch model"
   ]
  },
  {
   "cell_type": "code",
   "execution_count": 0,
   "metadata": {
    "_cell_guid": "51d5a18c-59ee-49cc-8132-49888756d511",
    "_uuid": "cf07fd7c-71b1-48de-be42-b022050b0ce4",
    "id": "YFuDAXe2kL_R",
    "outputId": "e55f0149-9d55-4988-e272-57760591b9e3"
   },
   "outputs": [],
   "source": [
    "bin_labels.head(5)"
   ]
  },
  {
   "cell_type": "code",
   "execution_count": 0,
   "metadata": {
    "_cell_guid": "ff3074de-cfb3-4621-b366-b8a711868d31",
    "_uuid": "5ced035d-ef9a-419f-b36a-feff24e31713",
    "id": "dy_WcgPbkL_U",
    "outputId": "740d3232-9670-45bf-9afc-0c765cf2308a"
   },
   "outputs": [],
   "source": [
    "path_df.head()"
   ]
  },
  {
   "cell_type": "code",
   "execution_count": 0,
   "metadata": {
    "_cell_guid": "6df86c88-46ab-404d-a7d2-02bbcdb79f6f",
    "_uuid": "c4c53158-20f1-45d3-bcbb-9c51e9749cc5",
    "id": "HtVDgzqNkL_V",
    "outputId": "bd65fd59-e0e0-42a7-f621-04c20c92983a"
   },
   "outputs": [],
   "source": [
    "bin_labels.head()"
   ]
  },
  {
   "cell_type": "code",
   "execution_count": 0,
   "metadata": {
    "_cell_guid": "326f786d-ed15-433d-b14a-a57722a82ce0",
    "_uuid": "ec2d4955-8261-408f-967a-fd0f780c6962",
    "id": "NZ5fOixWkL_W",
    "outputId": "33cd95e5-356b-4d4e-b199-93285330671d"
   },
   "outputs": [],
   "source": [
    "test_var = path_df['paths'][1].split(',')[1]\n",
    "temp = re.compile(\"(\\d+)(\\w+)(\\d+)\") \n",
    "res = temp.match(test_var).groups()\n",
    "res[1]"
   ]
  },
  {
   "cell_type": "code",
   "execution_count": 0,
   "metadata": {
    "_cell_guid": "3c92c8d8-1028-455a-92f0-94da352132a0",
    "_uuid": "7bedb592-9546-4b83-b65f-930475406beb",
    "id": "vUxYnk1MkL_Z",
    "outputId": "6880faf3-355c-4fc9-add0-8d4e9b9a8988"
   },
   "outputs": [],
   "source": [
    "test_var"
   ]
  },
  {
   "cell_type": "code",
   "execution_count": 0,
   "metadata": {
    "_cell_guid": "d6002cd0-c0ce-4e16-9768-f2d9fab27d19",
    "_uuid": "f25587e9-1ba6-4c5d-88b3-64d25c37a02c",
    "id": "xqZMPCh8kL_a"
   },
   "outputs": [],
   "source": [
    "bin_freq = {}\n",
    "bin_labels['freq'] = 0\n",
    "for i, val in path_df.iterrows():\n",
    "    label_list = val['paths'].split(',')\n",
    "    for j, val2 in enumerate(label_list):\n",
    "        temp = re.compile(\"(\\d+)(\\w+)(\\d+)\") \n",
    "        res = temp.match(val2).groups()\n",
    "        bin_labels.loc[bin_labels['label'] == res[1], 'freq'] += 1"
   ]
  },
  {
   "cell_type": "code",
   "execution_count": 0,
   "metadata": {
    "_cell_guid": "c8796b9c-9322-4e61-88fd-cdec0d12dbc7",
    "_uuid": "608bb1fb-8b5f-43e8-9e0f-396d5f18ff3b",
    "id": "B9-hIcLlkL_c",
    "outputId": "af5ea0ff-3c20-4630-80b6-e743f6ebb963"
   },
   "outputs": [],
   "source": [
    "bin_labels.shape"
   ]
  },
  {
   "cell_type": "code",
   "execution_count": 0,
   "metadata": {
    "_cell_guid": "435884c0-149e-42a1-8ef4-bce9a77b0809",
    "_uuid": "b9fa979e-017d-48fd-9c1e-54cecaacdb49",
    "id": "m2-EdxO2kL_d",
    "outputId": "5fd6335e-17ea-41a1-d674-86c8911034f6"
   },
   "outputs": [],
   "source": [
    "bin_labels.loc[bin_labels['freq']!=0,].shape"
   ]
  },
  {
   "cell_type": "code",
   "execution_count": 0,
   "metadata": {
    "_cell_guid": "da0ef06f-7d38-44d6-a307-80f77fb695b5",
    "_uuid": "036df452-7d1c-4d42-ae6e-6d6588f482a6",
    "id": "yxQvXF8HkL_f",
    "outputId": "8865ad42-8b5f-455b-ef91-f9a525717e76"
   },
   "outputs": [],
   "source": [
    "bin_labels = bin_labels.sort_values(by=['x']).reset_index(drop=True)"
   ]
  },
  {
   "cell_type": "code",
   "execution_count": 0,
   "metadata": {
    "_cell_guid": "2d6dde86-2995-46f7-a853-56037e836c72",
    "_uuid": "500d83fa-bef3-4b2c-bb5a-e430ebee5b3d",
    "id": "6uelnzxlkL_g"
   },
   "outputs": [],
   "source": [
    "bin_labels = bin_labels.loc[bin_labels['freq'] != 0].reset_index(drop=True) ## Try fixing at R level."
   ]
  },
  {
   "cell_type": "code",
   "execution_count": 0,
   "metadata": {
    "_cell_guid": "aa2eb33a-6629-4b22-8f3c-9cd4c94d786c",
    "_uuid": "d4d012fb-801d-49e6-9111-60ef6c69f2e6",
    "id": "7XvR-N9SkL_h",
    "outputId": "5a845570-64d5-4102-fed4-7af32b4a8e27"
   },
   "outputs": [],
   "source": [
    "bin_labels"
   ]
  },
  {
   "cell_type": "code",
   "execution_count": 0,
   "metadata": {
    "_cell_guid": "b6805e38-9412-4e09-8b29-4b26eee8abb8",
    "_uuid": "a49fab14-33e1-45f6-a6f4-8d85cadb490e",
    "id": "FvtykqBjkL_k"
   },
   "outputs": [],
   "source": [
    "actual_bins = bin_labels['x'].tolist()"
   ]
  },
  {
   "cell_type": "code",
   "execution_count": 0,
   "metadata": {
    "_cell_guid": "1deeabfb-1e73-4786-8870-f210f0996871",
    "_uuid": "efa86758-41eb-402d-8570-85f0f126bda7",
    "id": "02DqJ7WJkL_k",
    "outputId": "ac700a21-a90f-4f8a-b63e-a8f6a2886941"
   },
   "outputs": [],
   "source": [
    "len(actual_bins)"
   ]
  },
  {
   "cell_type": "code",
   "execution_count": 0,
   "metadata": {
    "_cell_guid": "fb1ab005-29ce-45a3-8f35-1af75008b15c",
    "_uuid": "f63ce0dd-bd4c-4e85-94fb-07e6c5b4daae",
    "id": "olXBA7cukL_n"
   },
   "outputs": [],
   "source": [
    "import pyemd\n",
    "import random\n",
    "from sklearn.preprocessing import normalize\n",
    "from scipy.spatial import distance as scipy_distance\n",
    "from copy import copy\n",
    "import numpy as np\n",
    "\n",
    "dist_list = []\n",
    "emd_trials = {}\n",
    "for index in range(1000):\n",
    "    ext_bins = sorted(np.random.uniform(actual_bins[0],actual_bins[-1], 20))\n",
    "    ext_freq = []\n",
    "    # actual_freq = [10.0, 3.0, 4.0, 1.0, 5.0]\n",
    "    actual_freq = bin_labels['freq'].tolist()\n",
    "    actual_freq_norm = normalize([actual_freq], norm='l1').reshape(29,)\n",
    "    for i, x in enumerate(ext_bins):\n",
    "        new_freq = []\n",
    "        for j, b in enumerate(actual_bins):\n",
    "            c = 1/(np.sqrt(2*np.pi))\n",
    "            # dist = -(((x-b)**2)/2)\n",
    "            dist = -((np.power((x-b),2))/2)\n",
    "            d = np.exp(dist)\n",
    "            w = c * d\n",
    "            new_freq.append(w * actual_freq[j])\n",
    "        ext_freq.append(sum(new_freq))\n",
    "\n",
    "    combined_bins = copy(actual_bins)\n",
    "    for _, val in enumerate(ext_bins):\n",
    "        combined_bins.append(val)\n",
    "\n",
    "    # dist_matrix = np.zeros((112,112), dtype='float64')\n",
    "    dist_matrix = np.zeros((49,49), dtype='float64')\n",
    "    ## Distance\n",
    "    for i, val in enumerate(combined_bins):\n",
    "        for j, val_2 in enumerate(combined_bins):\n",
    "            dist_matrix[i,j] = scipy_distance.euclidean(combined_bins[i], combined_bins[j])\n",
    "    \n",
    "    ext_freq_norm = normalize([ext_freq], norm='l1').reshape(20,)\n",
    "    \n",
    "    for i in range(len(actual_freq)):\n",
    "        # ext_freq.insert(0, 0.0)\n",
    "        ext_freq_norm = np.insert(ext_freq_norm, 0, 0.0)\n",
    "\n",
    "    for i in range(len(ext_bins)):\n",
    "        # actual_freq.append(0.0)\n",
    "        actual_freq_norm = np.append(actual_freq_norm, 0.0)\n",
    "\n",
    "    # ext_freq = np.array(ext_freq)    \n",
    "    # actual_freq = np.array(actual_freq)\n",
    "    \n",
    "    emd_val, min_cost_flow = pyemd.emd_with_flow(actual_freq_norm, ext_freq_norm, dist_matrix)\n",
    "    dist_list.append(emd_val)\n",
    "    emd_trials.update({index:{'distance':emd_val, 'flow_matrix':min_cost_flow,\n",
    "                             'actual_bins':actual_bins, 'actual_freq_norm':actual_freq_norm,\n",
    "                             'ext_bins':ext_bins, 'ext_freq_norm':ext_freq_norm,\n",
    "                             'dist_matrix': dist_matrix}})"
   ]
  },
  {
   "cell_type": "code",
   "execution_count": 0,
   "metadata": {
    "_cell_guid": "d92f32ea-af17-48e7-b5c0-521e23e9e3d0",
    "_uuid": "ea4b09c4-1ea9-4015-8f35-a93acd9723a0",
    "id": "IudW1ncSkL_p",
    "outputId": "159c2182-558f-4df0-b8eb-64ba71274f62"
   },
   "outputs": [],
   "source": [
    "dist_list.index(min(dist_list))"
   ]
  },
  {
   "cell_type": "code",
   "execution_count": 0,
   "metadata": {
    "_cell_guid": "175d78fa-5137-4efc-aec6-f94844ee6d20",
    "_uuid": "7a0ce389-1cbc-42c6-87a9-a0ccdf94ea38",
    "id": "CWHSg8X2kL_q",
    "outputId": "273b2912-cb5f-4474-ac42-eb0b1293abf4"
   },
   "outputs": [],
   "source": [
    "min(dist_list)"
   ]
  },
  {
   "cell_type": "code",
   "execution_count": 0,
   "metadata": {
    "_cell_guid": "3a74dbfc-efa3-4886-8812-91622865cd4f",
    "_uuid": "4c57ed88-7019-41b4-ab19-7d097038b807",
    "id": "PCC7-IxLkL_r"
   },
   "outputs": [],
   "source": [
    "reduced_bins = emd_trials[200]['ext_bins']"
   ]
  },
  {
   "cell_type": "code",
   "execution_count": 0,
   "metadata": {
    "_cell_guid": "efa36a79-5e6a-4bf6-9564-fb9abe943f25",
    "_uuid": "583086ab-3474-43e1-8fc7-7b5b2e1561aa",
    "id": "jcsReRTNkL_s",
    "outputId": "4d963fb3-4167-4892-def7-b4f07ae9defa"
   },
   "outputs": [],
   "source": [
    "len(reduced_bins)"
   ]
  },
  {
   "cell_type": "code",
   "execution_count": 0,
   "metadata": {
    "_cell_guid": "f9a35c20-f972-4a01-9bdb-ecb976a868f6",
    "_uuid": "a18b83d7-3a73-40f6-a121-9d7d6d6a3761",
    "id": "5k9PA0jjkL_u",
    "outputId": "615dd4a3-2a36-4fdf-de40-4512479fd7f1"
   },
   "outputs": [],
   "source": [
    "np.array(emd_trials[15]['flow_matrix']).shape"
   ]
  },
  {
   "cell_type": "code",
   "execution_count": 0,
   "metadata": {
    "_cell_guid": "0f991178-6946-48d3-b6ad-c54cc05d47ab",
    "_uuid": "bfeed48e-4398-4584-8d9f-fa4d2855e457",
    "id": "DcgQkKVYkL_v"
   },
   "outputs": [],
   "source": [
    "def get_bin_mappings(flow_matrix_dim, emd_index):\n",
    "    # mapping_list = []\n",
    "    mapping_dict = {}\n",
    "    for i in range(flow_matrix_dim):\n",
    "        for j in range(flow_matrix_dim):\n",
    "            if emd_trials[emd_index]['flow_matrix'][i][j] != 0.0:\n",
    "                # mapping_list.append([emd_trials[emd_index]['flow_matrix'][i][j], (i,j)])\n",
    "                deep_set(mapping_dict, [i, j], emd_trials[emd_index]['flow_matrix'][i][j])\n",
    "                \n",
    "    return mapping_dict"
   ]
  },
  {
   "cell_type": "code",
   "execution_count": 0,
   "metadata": {
    "_cell_guid": "418ae4bf-53bf-4f39-aeb8-9d31fef991e7",
    "_uuid": "a9e38d30-7fae-41b4-bc39-0ff347cc86f7",
    "id": "JknXBj9LkL_x"
   },
   "outputs": [],
   "source": [
    "from dict_deep import deep_set\n",
    "bin_mappings = get_bin_mappings(49, 200)"
   ]
  },
  {
   "cell_type": "code",
   "execution_count": 0,
   "metadata": {
    "_cell_guid": "8f3015e8-1a64-4d5a-9e05-2d0151a86439",
    "_uuid": "800e0dd9-0979-480e-a4e1-d510033a0b82",
    "id": "2j5PabyekL_z",
    "outputId": "9bdd716f-488c-4c63-ae96-6c1a23d255ca"
   },
   "outputs": [],
   "source": [
    "bin_mappings"
   ]
  },
  {
   "cell_type": "code",
   "execution_count": 0,
   "metadata": {
    "_cell_guid": "07880348-6822-426b-924d-ba278e01453e",
    "_uuid": "d568c836-6a85-4a59-9849-d93f7ffad8c0",
    "id": "IlArXXQbkL_1"
   },
   "outputs": [],
   "source": [
    "from string import ascii_uppercase\n",
    "labels = []\n",
    "for i in range(len(ascii_uppercase)):\n",
    "    labels.append(ascii_uppercase[i])\n",
    "    \n",
    "for i in range(len(ascii_uppercase)):\n",
    "    if len(labels) >= 41:\n",
    "        break\n",
    "    for j in range(len(ascii_uppercase)):\n",
    "        labels.append(\"\".join([ascii_uppercase[i],ascii_uppercase[j]]))"
   ]
  },
  {
   "cell_type": "code",
   "execution_count": 0,
   "metadata": {
    "_cell_guid": "ecec5487-199c-4692-ab24-28a152ba8e85",
    "_uuid": "fb78d80a-806d-4c69-886d-b0fd2685d80b",
    "id": "nk9UXV9MkL_3",
    "outputId": "aa6a81e4-7a6a-475f-949d-9289eee86030"
   },
   "outputs": [],
   "source": [
    "len(labels)"
   ]
  },
  {
   "cell_type": "code",
   "execution_count": 0,
   "metadata": {
    "_cell_guid": "c0125be1-4855-45da-b301-85971afb4db6",
    "_uuid": "2bd2ac38-e4d6-4637-9063-2d327ad5cc01",
    "id": "oFUHOzKykL_4"
   },
   "outputs": [],
   "source": [
    "bin_labels['new_bins'] = 0\n",
    "bin_labels['new_index'] = 0\n",
    "bin_labels['new_labels'] = \"\""
   ]
  },
  {
   "cell_type": "code",
   "execution_count": 0,
   "metadata": {
    "_cell_guid": "40df722a-07f3-4ea6-b928-96e83afc80a6",
    "_uuid": "bc0efd1a-19cc-4b31-b062-d6038b725c2b",
    "id": "hw0Z64-pkMAE",
    "outputId": "d58cbe54-df46-4ce5-ed55-a773e579ad5e"
   },
   "outputs": [],
   "source": [
    "bin_labels.head()"
   ]
  },
  {
   "cell_type": "code",
   "execution_count": 0,
   "metadata": {
    "_cell_guid": "5de08c21-2aad-41fb-a2bb-047db86d6e2b",
    "_uuid": "4b46353a-d415-400b-8afd-d0e64efc7479",
    "id": "UqEe4oKrkMAF",
    "outputId": "0d1e7074-2850-4ab2-8d4f-2583bfaa57f7"
   },
   "outputs": [],
   "source": [
    "len(reduced_bins)"
   ]
  },
  {
   "cell_type": "code",
   "execution_count": 0,
   "metadata": {
    "_cell_guid": "11e7e62d-3a17-41f6-8af4-b3ec373718d6",
    "_uuid": "45c6edb9-8479-4911-8ee9-cfd33168e140",
    "id": "j_3bt2AFkMAH"
   },
   "outputs": [],
   "source": [
    "import operator\n",
    "for i, (k,val) in enumerate(bin_mappings.items()):\n",
    "    reduced_bin_index = max(val.items(), key=operator.itemgetter(1))[0] - 29\n",
    "    bin_labels.loc[k,'new_index'] = reduced_bin_index\n",
    "    bin_labels.loc[k,'new_bins'] = reduced_bins[reduced_bin_index]\n",
    "    bin_labels.loc[k,'new_labels'] = labels[reduced_bin_index]"
   ]
  },
  {
   "cell_type": "code",
   "execution_count": 0,
   "metadata": {
    "_cell_guid": "d79fd69d-e09e-441a-8444-7a02e07e6919",
    "_uuid": "f0942a61-f50a-41f2-b6e1-6e87bdab4729",
    "id": "L34EtJbQkMAI",
    "outputId": "573bff71-7cc2-4652-d7af-5aafd5c42985"
   },
   "outputs": [],
   "source": [
    "bin_labels"
   ]
  },
  {
   "cell_type": "markdown",
   "metadata": {
    "_cell_guid": "42703c7e-6f3e-4106-97bc-322371c9c0ea",
    "_uuid": "f75bd025-86bb-47ab-8206-da53e8372f8f",
    "id": "Dl8JfnqUkMAO"
   },
   "source": [
    "### Updated paths"
   ]
  },
  {
   "cell_type": "code",
   "execution_count": 0,
   "metadata": {
    "_cell_guid": "0b8ff0e0-8142-4837-9999-f4ebd7a7454e",
    "_uuid": "08e42f98-211c-4a0c-97b6-e669eb0ccab1",
    "id": "xKHQWmnqkMAP",
    "outputId": "d1dc0ae9-012c-4db4-9990-6e4c9232c98e"
   },
   "outputs": [],
   "source": [
    "path_df.head()"
   ]
  },
  {
   "cell_type": "code",
   "execution_count": 0,
   "metadata": {
    "_cell_guid": "3fb3c6e3-fbac-4b2b-9659-c4068103249e",
    "_uuid": "dd6dc805-3e56-4f8b-84d7-bc439085fd3a",
    "id": "qyVZaZXNkMAQ"
   },
   "outputs": [],
   "source": [
    "path_df['updated_path'] = \"\""
   ]
  },
  {
   "cell_type": "code",
   "execution_count": 0,
   "metadata": {
    "_cell_guid": "4cdc84d4-5c9b-40a0-b58d-f3f426697b72",
    "_uuid": "2a313e3d-e3ce-46cc-8630-5c2afdbdef18",
    "id": "V5qznv1skMAR",
    "outputId": "e7a6b2ad-5a4d-4cb6-a33c-512b205a33dc"
   },
   "outputs": [],
   "source": [
    "path_df.head()"
   ]
  },
  {
   "cell_type": "code",
   "execution_count": 0,
   "metadata": {
    "_cell_guid": "c2164447-6bcb-4a4d-b383-49fbb44427e8",
    "_uuid": "fd110adc-3757-47ac-ae60-aae1b3d5eee9",
    "id": "zrVDVEeGkMAT",
    "outputId": "9b3a60b6-6092-4a59-9037-0f88de28bf4e"
   },
   "outputs": [],
   "source": [
    "bin_labels.head()"
   ]
  },
  {
   "cell_type": "code",
   "execution_count": 0,
   "metadata": {
    "_cell_guid": "dca35069-cf23-4762-8173-4dac4e2d35a7",
    "_uuid": "e2729800-ef50-4fa5-9591-03195724f151",
    "id": "nhtoap7xkMAU"
   },
   "outputs": [],
   "source": [
    "for i, val in path_df.iterrows():\n",
    "    label_list = val['new_col'].split(',')\n",
    "    updated_list = []\n",
    "    for j, val2 in enumerate(label_list):\n",
    "        # bin_labels.loc[bin_labels['label'] == val2[1:-1], 'freq'] += 1\n",
    "        new_label = bin_labels.loc[bin_labels['label'] == val2[1:-1]]['new_labels'].values[0]\n",
    "        updated_list.append(val2[0] + new_label + val2[-1])\n",
    "        if len(updated_list)>1:\n",
    "            path_df.loc[i,'updated_path'] = (',').join(updated_list)\n",
    "        else:\n",
    "            path_df.loc[i,'updated_path'] = updated_list[0]"
   ]
  },
  {
   "cell_type": "code",
   "execution_count": 0,
   "metadata": {
    "_cell_guid": "ca93207d-6538-4e4c-b8bc-677b4afbec08",
    "_uuid": "7a6f7e0c-774c-4dd0-88da-0e47a2bdde7e",
    "id": "F2loSF_CkMAW",
    "outputId": "4602ce9f-d811-4a6d-9459-3180f242e4a3"
   },
   "outputs": [],
   "source": [
    "path_df"
   ]
  },
  {
   "cell_type": "code",
   "execution_count": 0,
   "metadata": {
    "_cell_guid": "7b1d7d62-1434-4a7d-985c-69bf8e265342",
    "_uuid": "436b8232-a69f-409c-82a6-5c1ab5ed7b83",
    "id": "cwv_9pzpkMAX",
    "outputId": "89c4e894-5c67-4f66-89c9-8a2f0b5a2dd1"
   },
   "outputs": [],
   "source": [
    "bin_labels.head()"
   ]
  },
  {
   "cell_type": "code",
   "execution_count": 0,
   "metadata": {
    "_cell_guid": "14bbbf56-69be-4779-b290-dedfb5dcdbca",
    "_uuid": "ee72d6ad-6d5f-4d81-8361-1133e463fcc9",
    "id": "IWYgm2tJkMAY",
    "outputId": "018ac848-0cf2-4315-94f8-abada446c164"
   },
   "outputs": [],
   "source": [
    "test_data.head()"
   ]
  },
  {
   "cell_type": "code",
   "execution_count": 0,
   "metadata": {
    "_cell_guid": "0d0bc451-a2f6-4358-aa73-25a9c0aa9703",
    "_uuid": "f31376ee-f1a5-45ce-b2ca-87446a05738e",
    "id": "Q3LCfenPkMAa",
    "outputId": "38daf706-d593-4d0e-a148-de97287c53dc"
   },
   "outputs": [],
   "source": [
    "path_df.head()"
   ]
  },
  {
   "cell_type": "code",
   "execution_count": 0,
   "metadata": {
    "_cell_guid": "cffa8783-11c6-44c5-8204-e65c24d9e270",
    "_uuid": "80147d85-0d22-4b91-a89c-cdf60802d01b",
    "id": "C8PO5wZgkMAb"
   },
   "outputs": [],
   "source": [
    "test_data = test_data.drop([\"new_col\"], axis=1)\n",
    "# test_data = test_data.drop([\"updated_path\"], axis=1)"
   ]
  },
  {
   "cell_type": "code",
   "execution_count": 0,
   "metadata": {
    "_cell_guid": "3bd5fa81-b3c0-4f2c-8a1c-eae244eec69f",
    "_uuid": "92e6ea4d-eb22-4b85-9392-a547b8ba2ca7",
    "id": "jF6bs9XbkMAd",
    "outputId": "2ba68170-9694-4116-8b2b-ad16dfa97170"
   },
   "outputs": [],
   "source": [
    "test_data.head()"
   ]
  },
  {
   "cell_type": "code",
   "execution_count": 0,
   "metadata": {
    "_cell_guid": "b8cb35bc-a5f8-493e-9124-385a80c3266f",
    "_uuid": "7ca5b0fe-905e-43a2-b72f-2d861f4d4c02",
    "id": "91UTqYsJkMAf",
    "outputId": "d29b6189-ca53-4cfb-b4a0-aed335af0005"
   },
   "outputs": [],
   "source": [
    "paths_lengths.argmax()"
   ]
  },
  {
   "cell_type": "code",
   "execution_count": 0,
   "metadata": {
    "_cell_guid": "1f17ad14-4174-4c2d-aa99-fcb4b8bfe4cb",
    "_uuid": "60aa8e52-e856-411e-a611-f50258cb8604",
    "id": "hk6RT23WkMAg",
    "outputId": "f8d204f3-db0f-440d-d83e-ccf68a7f695c"
   },
   "outputs": [],
   "source": [
    "test_data.iloc[52,-1]"
   ]
  },
  {
   "cell_type": "code",
   "execution_count": 0,
   "metadata": {
    "_cell_guid": "edd278ca-a087-44b9-a5bb-28523879c4c8",
    "_uuid": "21fab33d-0480-436b-9a49-361d28c5bde7",
    "id": "65ol55kdkMAi"
   },
   "outputs": [],
   "source": [
    "### Move to bottom trials\n",
    "\n",
    "test_data = pd.concat([test_data, path_df.loc[:,'updated_path']], axis=1)\n",
    "updated_path = []\n",
    "for i, val in test_data.iterrows():\n",
    "    updated_path.append(val['updated_path'].split(sep=\",\"))\n",
    "\n",
    "_ = [x.insert(0, 'S') for x in updated_path]\n",
    "_ = [x.append('E') for x in updated_path]\n",
    "\n",
    "test_data['updated_path'] = updated_path\n",
    "\n",
    "# test_data = test_data.drop([\"updated_path\"], axis=1)\n",
    "\n",
    "paths_lengths = np.array([len(xi) for xi in test_data.iloc[:,-1]])\n",
    "\n",
    "label_char = []\n",
    "for _, i in enumerate(np.unique(test_data['updated_path'])):\n",
    "    for _, j in enumerate(i):\n",
    "        if j not in label_char:\n",
    "            label_char.append(j)\n",
    "\n",
    "label_indices = { j : i for i, j in enumerate(label_char) }\n",
    "indices_label = { i : j for i, j in enumerate(label_char) }\n",
    "\n",
    "input_path_sequence = []\n",
    "next_chars = []\n",
    "features = []\n",
    "paths_maxlen = np.max(paths_lengths)\n",
    "# path_vocab_size = len(bin_labels) # How is this working? Validate!\n",
    "path_vocab_size = len(indices_label) # Temporary test for local trees\n",
    "feature_size = 4\n",
    "for i in range(0, len(test_data)):\n",
    "    # get the feature\n",
    "    curr_feat = np.array([test_data.iloc[i, 0:4]])\n",
    "    curr_path = test_data.iloc[i, -1]\n",
    "    curr_path_len = len(curr_path)\n",
    "    # curr_label = y[i]\n",
    "    # curr_dec_feat = df.iloc[i, 6]\n",
    "    for j in range(1, curr_path_len):\n",
    "        features.append(curr_feat)\n",
    "        input_path_sequence.append(curr_path[0:j])\n",
    "        next_chars.append(curr_path[j])\n",
    "\n",
    "## Vectorize inputs        \n",
    "\n",
    "x_path = np.zeros(\n",
    "    (len(input_path_sequence), paths_maxlen, path_vocab_size), dtype=np.bool)\n",
    "\n",
    "path_latent_input = np.zeros(\n",
    "    (len(input_path_sequence), feature_size), dtype=np.float)\n",
    "\n",
    "y_path = np.zeros(\n",
    "    (len(input_path_sequence), path_vocab_size), dtype=np.bool)\n",
    "\n",
    "# print(input_path_sequence)\n",
    "# print(len(input_path_sequence))\n",
    "for i, sentence in enumerate(input_path_sequence):\n",
    "    for t, char in enumerate(sentence):\n",
    "        # x_path[i, t, self.char_indices[char]] = 1\n",
    "        # print(bin_labels.index[bin_labels['label'] == char[1]])\n",
    "        # index = bin_labels.index[bin_labels['label'] == char[1]].tolist()[0]\n",
    "        x_path[i, t, label_indices[char]] = 1\n",
    "    # y_path[i, char_indices[next_chars[i]]] = 1\n",
    "    # index = bin_labels.index[bin_labels['label'] == next_chars[i][1]].tolist()[0]\n",
    "    # y_path[i, index] = 1\n",
    "    y_path[i, label_indices[next_chars[i]]] = 1\n",
    "    path_latent_input[i, :] = features[i]"
   ]
  },
  {
   "cell_type": "code",
   "execution_count": 0,
   "metadata": {
    "_cell_guid": "08369baf-e586-47e6-a997-bfc9df88dc86",
    "_uuid": "a31b6704-e036-4284-a9a7-9b8c83cc72af",
    "id": "NVoabUEWkMAk",
    "outputId": "b9b97cc5-3b47-4942-aa31-3301adbf3107"
   },
   "outputs": [],
   "source": [
    "test_data.head()"
   ]
  },
  {
   "cell_type": "markdown",
   "metadata": {
    "_cell_guid": "bb5589ae-bcc7-4bbc-847f-8aefe10818e2",
    "_uuid": "553af908-f817-402e-ac0e-b7e2c486824d",
    "id": "yEi33U3TkMB9"
   },
   "source": [
    "## RNN architecture changes"
   ]
  },
  {
   "cell_type": "code",
   "execution_count": null,
   "metadata": {
    "_cell_guid": "d81fbf45-65d3-4e98-a26b-d3931ef971bc",
    "_uuid": "9ade61e2-81cc-4c2a-8b51-ea6ab85d707a",
    "id": "Mp0jqBAEkMB9",
    "outputId": "72de28d1-08ac-4651-f8cd-fa9cbcab8ffd"
   },
   "outputs": [],
   "source": [
    "path_df.head(5)"
   ]
  },
  {
   "cell_type": "code",
   "execution_count": null,
   "metadata": {
    "_cell_guid": "5aa8d3d6-b77c-4bc4-bb2a-9a3b386d6f8a",
    "_uuid": "c3860c2f-1e30-46ab-82f6-e86dad59b213",
    "id": "NT8aMpL_kMB_"
   },
   "outputs": [],
   "source": [
    "label_freq = {}\n",
    "count = 0\n",
    "for i in (path_df.loc[:,'paths']):\n",
    "    for j in i.split(','):\n",
    "        try:\n",
    "            label_freq.update({j:label_freq[j]+1})\n",
    "        except KeyError:\n",
    "            label_freq.update({j:1})"
   ]
  },
  {
   "cell_type": "code",
   "execution_count": null,
   "metadata": {
    "_cell_guid": "ea2f719a-bcde-4c51-8249-77a059cdd23b",
    "_uuid": "893b3abf-3427-418f-ae25-21d2479d0ad8",
    "id": "DVH5R_nHkMCA",
    "outputId": "450b5fe1-334c-426c-fd2a-44806a286c75"
   },
   "outputs": [],
   "source": [
    "len(label_freq)"
   ]
  },
  {
   "cell_type": "code",
   "execution_count": 0,
   "metadata": {
    "_cell_guid": "d7ccffaa-e4fe-4abf-b7ae-882fb3e707d4",
    "_uuid": "47d06ae4-bbee-48f0-8475-ee45416fce29",
    "id": "Un6br1izkMCB",
    "outputId": "e785e7f4-2185-41d9-f362-fb23af66d587"
   },
   "outputs": [],
   "source": [
    "path_df.loc[:, 'updated_path'].head()"
   ]
  },
  {
   "cell_type": "code",
   "execution_count": 0,
   "metadata": {
    "_cell_guid": "1ed12cfc-ed18-4b2b-bbff-74578224ba60",
    "_uuid": "5392b7f2-0668-43c5-acfe-6e4f0f1b8950",
    "id": "HtNIRbUYkMCD"
   },
   "outputs": [],
   "source": [
    "label_freq = {}\n",
    "count = 0\n",
    "for i in (path_df.loc[:,'paths']):\n",
    "    for j in i.split(','):\n",
    "        try:\n",
    "            label_freq.update({j[1:-1]:label_freq[j[1:-1]]+1})\n",
    "        except KeyError:\n",
    "            label_freq.update({j[1:-1]:1})"
   ]
  },
  {
   "cell_type": "code",
   "execution_count": 0,
   "metadata": {
    "_cell_guid": "f85633fc-3121-45fc-ae4a-b6f0413ee2f6",
    "_uuid": "d07e47ba-7738-4153-9e36-60729988c54d",
    "id": "W6JOLohokMCE",
    "outputId": "c4fc2b87-2500-4fe8-84f0-00414d6be922"
   },
   "outputs": [],
   "source": [
    "len(label_freq)"
   ]
  },
  {
   "cell_type": "code",
   "execution_count": 0,
   "metadata": {
    "_cell_guid": "b068056c-bbc5-494f-ad80-2783827c81b4",
    "_uuid": "94c50e42-c658-4ac7-a579-0c396a390e34",
    "id": "S42vsfqtkMCF"
   },
   "outputs": [],
   "source": [
    "label_freq = {}\n",
    "count = 0\n",
    "for i in (path_df.loc[:,'paths']):\n",
    "    for j in i.split(','):\n",
    "        try:\n",
    "            label_freq.update({j[1:-1]:label_freq[j[1:-1]]+1})\n",
    "        except KeyError:\n",
    "            label_freq.update({j[1:-1]:1})"
   ]
  },
  {
   "cell_type": "code",
   "execution_count": 0,
   "metadata": {
    "_cell_guid": "d0a07017-2c83-40b2-9d10-126c29811d18",
    "_uuid": "0aa6f9a4-0fbd-4b83-8a28-620ee32c9407",
    "id": "wrNheXNakMCH",
    "outputId": "188fd008-6395-45a8-e9c4-b663987edb93"
   },
   "outputs": [],
   "source": [
    "label_freq"
   ]
  },
  {
   "cell_type": "code",
   "execution_count": 0,
   "metadata": {
    "_cell_guid": "1d4e2bbd-b8b5-4e30-9cf6-c91f42e43279",
    "_uuid": "642a5f54-bb23-42a9-a711-9e988ee485f3",
    "id": "a5U-uwuVkMCJ",
    "outputId": "c7c1b0ac-07fb-4121-bad8-89834782dcc8"
   },
   "outputs": [],
   "source": [
    "import matplotlib.pyplot as plt\n",
    "\n",
    "plt.bar(label_freq.keys(), label_freq.values(), 2, color='g')"
   ]
  },
  {
   "cell_type": "code",
   "execution_count": 0,
   "metadata": {
    "_cell_guid": "5ce6873c-aff7-42d1-bf49-c55de8540e1a",
    "_uuid": "9c503a20-0c8d-44fc-9f34-a57d826c58fe",
    "id": "WeaUJXHlkMCK",
    "outputId": "523fbfad-cbbd-4ea5-a830-c4ed17fa9253"
   },
   "outputs": [],
   "source": [
    "bin_labels.head(5)"
   ]
  },
  {
   "cell_type": "code",
   "execution_count": null,
   "metadata": {
    "_cell_guid": "424b80fd-4b6b-4789-87c8-0c169e121fab",
    "_uuid": "ed7c0d71-4523-4677-a06f-fefbd5337a19",
    "id": "Cl-BgSNLkMCM"
   },
   "outputs": [],
   "source": [
    "dir_indices = {\n",
    "    'S': 0,\n",
    "    'E': 1,\n",
    "    '0': 2,\n",
    "    '1': 3\n",
    "}\n",
    "bin_indices = {0:0, 1:1}\n",
    "bin_indices.update({val: index+2 for index, val in enumerate(np.unique(bin_labels['label']))})\n",
    "\n",
    "feature_indices = {'S':0, 'E': 15}\n",
    "feature_indices.update({str(val): val for val in range(1,15)})"
   ]
  },
  {
   "cell_type": "code",
   "execution_count": null,
   "metadata": {
    "_cell_guid": "feb3143f-0d09-4ba4-8de2-45149a3666b3",
    "_uuid": "0703f9ce-a089-48a0-980d-c6f9cb627cdc",
    "id": "zrcMU1ylkMCN",
    "outputId": "461b45b6-7cb1-42c1-c082-e87b30d50ae1"
   },
   "outputs": [],
   "source": [
    "feature_indices"
   ]
  },
  {
   "cell_type": "code",
   "execution_count": null,
   "metadata": {
    "_cell_guid": "443561dc-0998-4098-996a-dcdadc70c64f",
    "_uuid": "90d736ab-234c-4fe5-bb87-a0ccd5c12f99",
    "id": "IG4Zdfd9FwuF",
    "outputId": "2876ec1f-9303-4653-e514-0407cbc01894"
   },
   "outputs": [],
   "source": [
    "len(feature_indices)"
   ]
  },
  {
   "cell_type": "code",
   "execution_count": null,
   "metadata": {
    "_cell_guid": "aa3845dc-08cf-4d45-b077-b988c4963773",
    "_uuid": "916c6eaa-77d3-45c0-aa70-5e5f2bc23df8",
    "id": "YOUb1zKekMCO",
    "outputId": "cf561970-a1b5-42a7-c7ca-5a844277e763"
   },
   "outputs": [],
   "source": [
    "len(bin_indices)"
   ]
  },
  {
   "cell_type": "code",
   "execution_count": null,
   "metadata": {
    "_cell_guid": "f3c19877-bffc-4b54-9974-9fa6c0d8ba86",
    "_uuid": "54d3787d-333c-4c71-9a8d-70e4aadb3b08",
    "id": "u0lolYAhkMCQ",
    "outputId": "2f512748-6dbc-4048-893f-0cc3e8b30228"
   },
   "outputs": [],
   "source": [
    "np.unique(bin_labels['label'])"
   ]
  },
  {
   "cell_type": "code",
   "execution_count": null,
   "metadata": {
    "_cell_guid": "c21e9295-4d9f-4e98-9892-12010385c5e2",
    "_uuid": "93122be6-c915-4b10-b1e5-9f3a4410c7ee",
    "id": "ZspM6ZWgkMCS"
   },
   "outputs": [],
   "source": [
    "shuffle_data = test_data.sample(frac=1).reset_index(drop=True)"
   ]
  },
  {
   "cell_type": "code",
   "execution_count": 0,
   "metadata": {
    "_cell_guid": "dc83424f-db1e-454d-9324-369365c8698b",
    "_uuid": "b73d60b5-b31a-4b11-a8fa-c0f1495798c5",
    "id": "gpDQWLmiVkdW",
    "outputId": "a5bc169a-97bb-4f7e-c857-649f8b4b804d"
   },
   "outputs": [],
   "source": [
    "test_data.iloc[0, -1]"
   ]
  },
  {
   "cell_type": "code",
   "execution_count": null,
   "metadata": {
    "_cell_guid": "72967ca4-06bc-4b5c-b583-d4d67e1ffb47",
    "_uuid": "31c40df1-ea4c-4001-a17a-5daec09581ca",
    "id": "HHzWgXhCkMCT"
   },
   "outputs": [],
   "source": [
    "feature_vocab_size = 16\n",
    "bin_vocab_size = 882\n",
    "dir_vocab_size = 4\n",
    "latent_dim = 25\n",
    "\n",
    "input_path_sequence = []\n",
    "next_chars = []\n",
    "features = []\n",
    "paths_maxlen = np.max(paths_lengths)\n",
    "# path_vocab_size = len(bin_labels) # How is this working? Validate!\n",
    "# path_vocab_size = len(indices_label) # Temporary test for local trees\n",
    "feature_size = 104\n",
    "for i in range(0, len(test_data)):\n",
    "# for i in range(0, len(shuffle_data[:140])):\n",
    "    # get the feature\n",
    "    curr_feat = np.array([test_data.iloc[i, 0:104]])\n",
    "    curr_path = test_data.iloc[i, -1]\n",
    "    curr_path_len = len(curr_path)\n",
    "    for j in range(1, curr_path_len):\n",
    "        features.append(curr_feat)\n",
    "        input_path_sequence.append(curr_path[0:j])\n",
    "        next_chars.append(curr_path[j])\n",
    "\n",
    "# x_path = np.zeros((len(input_path_sequence), paths_maxlen, path_vocab_size), dtype=np.bool)\n",
    "\n",
    "x_feat = np.zeros((len(input_path_sequence), paths_maxlen, feature_vocab_size), dtype=np.bool)\n",
    "\n",
    "x_bin = np.zeros((len(input_path_sequence), paths_maxlen, bin_vocab_size), dtype=np.bool)\n",
    "\n",
    "x_dir = np.zeros((len(input_path_sequence), paths_maxlen, dir_vocab_size), dtype=np.bool)\n",
    "\n",
    "\n",
    "\n",
    "path_latent_input = np.zeros((len(input_path_sequence), feature_size), dtype=np.float)\n",
    "\n",
    "# y_path = np.zeros((len(input_path_sequence), path_vocab_size), dtype=np.bool)\n",
    "\n",
    "y_feat = np.zeros((len(input_path_sequence), feature_vocab_size), dtype=np.bool)\n",
    "\n",
    "y_bin = np.zeros((len(input_path_sequence), bin_vocab_size), dtype=np.bool)\n",
    "\n",
    "y_dir = np.zeros((len(input_path_sequence), dir_vocab_size), dtype=np.bool)\n",
    "\n",
    "for i, sentence in enumerate(input_path_sequence):\n",
    "    for t, char in enumerate(sentence):\n",
    "        if char == 'S':\n",
    "            x_feat[i, t, feature_indices[char]] = 1\n",
    "            x_bin[i, t, 0] = 1\n",
    "            x_dir[i, t, 0] = 1\n",
    "        else:\n",
    "            temp = re.compile(\"(\\d+)(\\w+)(\\d+)\") \n",
    "            res = temp.match(char).groups()\n",
    "            x_feat[i, t, feature_indices[res[0]]] = 1\n",
    "            x_bin[i, t, bin_indices[res[1]]] = 1\n",
    "            x_dir[i, t, dir_indices[res[2]]] = 1\n",
    "    if next_chars[i] == 'E':\n",
    "        y_feat[i, feature_indices[next_chars[i]]] = 1\n",
    "        y_bin[i, 1] = 1 ## Cross check\n",
    "        y_dir[i, 1] = 1 ## Cross check\n",
    "    else:\n",
    "        temp = re.compile(\"(\\d+)(\\w+)(\\d+)\") \n",
    "        res = temp.match(next_chars[i]).groups()\n",
    "        y_feat[i, feature_indices[res[0]]] = 1\n",
    "        y_bin[i, bin_indices[res[1]]] = 1\n",
    "        y_dir[i, dir_indices[res[2]]] = 1\n",
    "    # y_path[i, label_indices[next_chars[i]]] = 1\n",
    "    path_latent_input[i, :] = features[i]\n",
    "    \n",
    "## Trouble with \"S\" and \"E\" index values."
   ]
  },
  {
   "cell_type": "code",
   "execution_count": null,
   "metadata": {
    "_cell_guid": "73e14f7d-1d84-408c-83a0-ea9dc0bd928c",
    "_uuid": "98e74d7c-863f-48c7-acfd-e95af038eeb1",
    "id": "ppFOtRVQkMCV",
    "outputId": "951345fc-da2e-49dc-d7c8-a3e2477656a7"
   },
   "outputs": [],
   "source": [
    "y_bin.shape"
   ]
  },
  {
   "cell_type": "code",
   "execution_count": null,
   "metadata": {
    "_cell_guid": "a807132e-eaac-40f7-a135-97e76b19a699",
    "_uuid": "6f8cf49b-e4aa-43ad-b033-34029a284b0f",
    "id": "wsEPVzbbGSwK",
    "outputId": "412bb05e-db0a-4572-ba74-a7cefed4b92c"
   },
   "outputs": [],
   "source": [
    "x_feat.shape"
   ]
  },
  {
   "cell_type": "code",
   "execution_count": null,
   "metadata": {
    "_cell_guid": "39c55d8b-1165-42ee-b619-3f24e47f6d40",
    "_uuid": "479e2e2c-3dbb-44f3-990b-05d5f88e1dc5",
    "id": "Caqb-tgukMCV",
    "outputId": "4eb20235-564a-4228-cb06-81bc76e8e398"
   },
   "outputs": [],
   "source": [
    "x_bin.shape"
   ]
  },
  {
   "cell_type": "code",
   "execution_count": null,
   "metadata": {
    "_cell_guid": "2e285f45-3949-4c97-982d-8cda3c915bb5",
    "_uuid": "40eef761-2165-484b-8ffc-d2b18363b371",
    "id": "JzFWjkYXkMCX",
    "outputId": "43de4a05-16d9-4f79-bc4e-e8e3f0017804"
   },
   "outputs": [],
   "source": [
    "path_latent_input.shape"
   ]
  },
  {
   "cell_type": "code",
   "execution_count": null,
   "metadata": {
    "_cell_guid": "bd6b0daa-a336-4d15-90da-ef105a0563d7",
    "_uuid": "61a95df0-5dea-4f9b-a493-070dc9c75fba",
    "id": "3hQr_6iDkMCY",
    "outputId": "04d5a0f5-1779-4d61-cf71-a08858f9d6fa"
   },
   "outputs": [],
   "source": [
    "path_latent_input.shape"
   ]
  },
  {
   "cell_type": "code",
   "execution_count": 0,
   "metadata": {
    "_cell_guid": "432cf9a7-e6e0-4f54-8d3f-aafbda355ee1",
    "_uuid": "44568102-06d3-455c-bd83-eb9f5093e4a4",
    "id": "ywqiHm05pT0z",
    "outputId": "89fda0d0-6ca0-41a6-e5fb-13e2d5d1f85d"
   },
   "outputs": [],
   "source": [
    "# import tensorflow.compat.v1 as tf\n",
    "# tf.disable_v2_behavior()"
   ]
  },
  {
   "cell_type": "code",
   "execution_count": 0,
   "metadata": {
    "_cell_guid": "6a1d1716-10bf-425f-aba1-6133b00a322d",
    "_uuid": "f086e6b9-8327-4944-9439-7706cdac39c9",
    "id": "Lxbi1rnRkMCb",
    "outputId": "38ab6f57-3777-424f-e952-c8f26422428c"
   },
   "outputs": [],
   "source": [
    "## Approach 2 -- linking 3 subsequent rnns\n",
    "from tensorflow.keras.layers import Reshape, Flatten\n",
    "import wandb\n",
    "from wandb.keras import WandbCallback\n",
    "wandb.init(project=\"dert\")\n",
    "\n",
    "\n",
    "label_model_latent = Input(shape=(latent_dim,), name='x_ip')\n",
    "\n",
    "feature_input = Input(shape=(paths_maxlen, feature_vocab_size), name='feat_ip')\n",
    "\n",
    "bin_input = Input(shape=(paths_maxlen, bin_vocab_size), name='bin_ip')\n",
    "\n",
    "direction_input = Input(shape=(paths_maxlen, dir_vocab_size), name='dir_ip')\n",
    "\n",
    "# masked_bin_input = Masking(mask_value=x_bin[0])(bin_input)\n",
    "\n",
    "# masked_direction_input = Masking(mask_value=x_dir[0])(direction_input)\n",
    "\n",
    "# if rnn_cell == 'gru':\n",
    "#     RNN = GRU\n",
    "# else:\n",
    "RNN = GRU\n",
    "\n",
    "decoder_1 = RNN(latent_dim, return_state=False, return_sequences=True, name='gru_1',\n",
    "                reset_after=True, recurrent_activation='sigmoid', activation= 'tanh',\n",
    "                recurrent_dropout = 0, unroll = False, use_bias = True, )\n",
    "\n",
    "decoder_1_outputs = decoder_1(feature_input, initial_state=label_model_latent)\n",
    "\n",
    "decoder_1b_outputs = RNN(latent_dim, return_state=False, return_sequences=True, name='gru_1b', reset_after=True, recurrent_activation='sigmoid')(decoder_1_outputs)\n",
    "\n",
    "decoder_1c_outputs = RNN(latent_dim, return_state=False, return_sequences=True, name='gru_1c', reset_after=True, recurrent_activation='sigmoid')(decoder_1b_outputs)\n",
    "\n",
    "decoder_1d_outputs = RNN(latent_dim, return_state=False, return_sequences=True, name='gru_1d', reset_after=True, recurrent_activation='sigmoid')(decoder_1c_outputs)\n",
    "\n",
    "decoder_1e_outputs = RNN(latent_dim, return_state=False, return_sequences=True, name='gru_1e', reset_after=True, recurrent_activation='sigmoid')(decoder_1d_outputs)\n",
    "\n",
    "\n",
    "decoder_1f_outputs = RNN(latent_dim, return_state=False, return_sequences=True, name='gru_1f', reset_after=True, recurrent_activation='sigmoid')(decoder_1e_outputs)\n",
    "\n",
    "decoder_1g_outputs = RNN(latent_dim, return_state=False, return_sequences=True, name='gru_1g', reset_after=True, recurrent_activation='sigmoid')(decoder_1f_outputs)\n",
    "\n",
    "decoder_1h_outputs = RNN(latent_dim, return_state=False, return_sequences=True, name='gru_1h', reset_after=True, recurrent_activation='sigmoid')(decoder_1g_outputs)\n",
    "\n",
    "decoder_1i_outputs = RNN(latent_dim, return_state=False, return_sequences=True, name='gru_1i', reset_after=True, recurrent_activation='sigmoid')(decoder_1h_outputs)\n",
    "\n",
    "decoder_2 = RNN(latent_dim, return_state=False, return_sequences=True, name='gru_2', reset_after=True, recurrent_activation='sigmoid')\n",
    "\n",
    "concat_gru_1_2 = concatenate([bin_input, decoder_1i_outputs], name='gru_1_2')\n",
    "\n",
    "decoder_2_outputs = decoder_2(concat_gru_1_2, initial_state=label_model_latent)\n",
    "\n",
    "decoder_2b_outputs = RNN(latent_dim, return_state=False, return_sequences=True, name='gru_2b', reset_after=True, recurrent_activation='sigmoid')(decoder_2_outputs)\n",
    "\n",
    "decoder_2c_outputs = RNN(latent_dim, return_state=False, return_sequences=True, name='gru_2c', reset_after=True, recurrent_activation='sigmoid')(decoder_2b_outputs)\n",
    "\n",
    "decoder_3 = RNN(latent_dim, return_state=False, return_sequences=False, name='gru_3', reset_after=True, recurrent_activation='sigmoid')\n",
    "\n",
    "concat_gru_1_2_3 = concatenate([direction_input, decoder_1_outputs, decoder_2_outputs], name='gru_1_2_3')\n",
    "\n",
    "decoder_3_outputs = decoder_3(concat_gru_1_2_3, initial_state=label_model_latent)\n",
    "\n",
    "flatten_gru_1 = Flatten()(decoder_1i_outputs)\n",
    "merge_layer_1 = concatenate([label_model_latent, flatten_gru_1], name='merge_1')\n",
    "\n",
    "flatten_gru_2 = Flatten()(decoder_2c_outputs)\n",
    "merge_layer_2 = concatenate([label_model_latent, flatten_gru_2], name='merge_2')\n",
    "\n",
    "merge_layer_3 = concatenate([label_model_latent, decoder_3_outputs], name='merge_3')\n",
    "\n",
    "output_feature = Dense(feature_vocab_size, activation='softmax', name='op_feat')(merge_layer_1)\n",
    "\n",
    "output_bin = Dense(bin_vocab_size, activation='softmax', name='op_bin')(merge_layer_2)\n",
    "\n",
    "# test_layer = Flatten()(decoder_3)\n",
    "\n",
    "output_dir = Dense(dir_vocab_size, activation='softmax', name='op_dir')(merge_layer_3)\n",
    "\n",
    "model = Model([label_model_latent, feature_input, bin_input, direction_input], [output_feature, output_bin, output_dir])"
   ]
  },
  {
   "cell_type": "code",
   "execution_count": 0,
   "metadata": {
    "_cell_guid": "d1757cd1-f96c-414a-91f3-359484c815f8",
    "_uuid": "373ee761-b938-4a25-81a8-994daa7b96a6",
    "id": "Kp4_pah-L7Za",
    "outputId": "12688fa8-da00-4933-81f0-a3a552261b7e"
   },
   "outputs": [],
   "source": [
    "## Approach 3 -- single rnn, multi output model\n",
    "from tensorflow.keras.layers import Reshape, Flatten\n",
    "import wandb\n",
    "from wandb.keras import WandbCallback\n",
    "wandb.init(project=\"dert\")\n",
    "\n",
    "\n",
    "label_model_latent = Input(shape=(latent_dim,), name='x_ip')\n",
    "\n",
    "feature_input = Input(shape=(paths_maxlen, feature_vocab_size), name='feat_ip')\n",
    "\n",
    "bin_input = Input(shape=(paths_maxlen, bin_vocab_size), name='bin_ip')\n",
    "\n",
    "direction_input = Input(shape=(paths_maxlen, dir_vocab_size), name='dir_ip')\n",
    "\n",
    "RNN = GRU\n",
    "\n",
    "merge_input = concatenate([feature_input, bin_input, direction_input], name='merge_ip')\n",
    "\n",
    "decoder_1 = RNN(latent_dim, return_state=False, name='gru_1',\n",
    "                reset_after=True, recurrent_activation='sigmoid', activation= 'tanh',\n",
    "                recurrent_dropout = 0, unroll = False, use_bias = True, )\n",
    "\n",
    "decoder_1_outputs = decoder_1(merge_input, initial_state=label_model_latent)\n",
    "\n",
    "output_feature = Dense(feature_vocab_size, activation='softmax', name='op_feat')(decoder_1_outputs)\n",
    "\n",
    "output_bin = Dense(bin_vocab_size, activation='softmax', name='op_bin')(decoder_1_outputs)\n",
    "\n",
    "output_dir = Dense(dir_vocab_size, activation='softmax', name='op_dir')(decoder_1_outputs)\n",
    "\n",
    "model = Model([label_model_latent, feature_input, bin_input, direction_input], [output_feature, output_bin, output_dir])"
   ]
  },
  {
   "cell_type": "code",
   "execution_count": 0,
   "metadata": {
    "_cell_guid": "655a7ec4-b6e8-4336-a7df-d45e19f9966f",
    "_uuid": "f9aa2df1-1bd6-454b-89ab-8fb422114092",
    "id": "nu7bXG4ZOq_W",
    "outputId": "328463d1-b51c-4988-ba87-367d8f80259a"
   },
   "outputs": [],
   "source": [
    "model.summary()"
   ]
  },
  {
   "cell_type": "code",
   "execution_count": 0,
   "metadata": {
    "_cell_guid": "91c7905a-9950-4c2a-b707-db61ae1fc4aa",
    "_uuid": "4171da56-f53b-476d-8f54-99525429cd96",
    "id": "KcXswdjtPIo2",
    "outputId": "2b2001a5-b35e-479d-f150-0c9c99d96b3f"
   },
   "outputs": [],
   "source": [
    "## Single RNN, multi-op approach\n",
    "x_latent = get_hidden_x(path_latent_input, model=label_model)\n",
    "\n",
    "model.compile(optimizer='adam', loss='categorical_crossentropy', metrics=['accuracy'])\n",
    "model.fit([x_latent, x_feat, x_bin, x_dir], [y_feat, y_bin, y_dir],batch_size=6000, epochs=20000, verbose=1,\n",
    "          callbacks=[WandbCallback()])"
   ]
  },
  {
   "cell_type": "code",
   "execution_count": null,
   "metadata": {
    "_cell_guid": "11f0d199-bacd-45ee-b461-7fe0de950c97",
    "_uuid": "2248adf1-2bdc-4d5f-933c-ec52c8d416fa"
   },
   "outputs": [],
   "source": [
    "import wandb\n",
    "from wandb.keras import WandbCallback\n",
    "wandb.init(project=\"dert\", name=\"stack_bilstm_loss_weights\")"
   ]
  },
  {
   "cell_type": "code",
   "execution_count": 0,
   "metadata": {
    "_cell_guid": "d41692bb-8ce9-43fc-90a7-279c6e829acb",
    "_uuid": "1e402cc4-1166-4108-b750-d3567a26f848",
    "id": "3sPpovIQ0OwA",
    "outputId": "ff49b28b-adc3-40a6-cbda-086b61d23500"
   },
   "outputs": [],
   "source": [
    "## Approach 4 -- single rnn, multi output model, multi dense\n",
    "from tensorflow.keras.layers import Reshape, Flatten\n",
    "\n",
    "label_model_latent = Input(shape=(latent_dim,), name='x_ip')\n",
    "\n",
    "feature_input = Input(shape=(paths_maxlen, feature_vocab_size), name='feat_ip')\n",
    "\n",
    "bin_input = Input(shape=(paths_maxlen, bin_vocab_size), name='bin_ip')\n",
    "\n",
    "direction_input = Input(shape=(paths_maxlen, dir_vocab_size), name='dir_ip')\n",
    "\n",
    "RNN = LSTM\n",
    "\n",
    "merge_input = concatenate([feature_input, bin_input, direction_input], name='merge_ip')\n",
    "\n",
    "decoder_1 = RNN(latent_dim, return_state=False, name='gru_1')\n",
    "\n",
    "decoder_1_outputs = decoder_1(merge_input, initial_state=[label_model_latent, label_model_latent])\n",
    "\n",
    "# decoder_2 = RNN(latent_dim, return_state=False, name='gru_2')\n",
    "\n",
    "# decoder_2_outputs = decoder_2(decoder_1_outputs, initial_state=label_model_latent)\n",
    "\n",
    "# hidden_1 = Dense(100, activation='softmax', name='h_1')(decoder_1_outputs)\n",
    "\n",
    "# hidden_2 = Dense(100, activation='softmax', name='h_2')(hidden_1)\n",
    "\n",
    "feat_hidden_1 = Dense(100, activation='softmax', name='f_1')(decoder_1_outputs)\n",
    "output_feature = Dense(feature_vocab_size, activation='softmax', name='op_feat')(feat_hidden_1)\n",
    "\n",
    "bin_hidden_1 = Dense(100, activation='softmax', name='b_1')(decoder_1_outputs)\n",
    "bin_hidden_2 = Dense(100, activation='softmax', name='b_2')(bin_hidden_1)\n",
    "output_bin = Dense(bin_vocab_size, activation='softmax', name='op_bin')(bin_hidden_2)\n",
    "\n",
    "output_dir = Dense(dir_vocab_size, activation='softmax', name='op_dir')(decoder_1_outputs)\n",
    "\n",
    "model = Model([label_model_latent, feature_input, bin_input, direction_input], [output_feature, output_bin, output_dir])"
   ]
  },
  {
   "cell_type": "code",
   "execution_count": null,
   "metadata": {
    "_cell_guid": "7af36ac6-ad28-44a2-aab4-1465432d2c18",
    "_uuid": "5dbbde7b-409c-4d83-bb91-54563ed42a3e"
   },
   "outputs": [],
   "source": [
    "## Approach 5 -- two bilstm rnn, multi output model, multi dense\n",
    "from tensorflow.keras.layers import Reshape, Flatten, Bidirectional\n",
    "\n",
    "label_model_latent = Input(shape=(latent_dim,), name='x_ip')\n",
    "\n",
    "feature_input = Input(shape=(paths_maxlen, feature_vocab_size), name='feat_ip')\n",
    "\n",
    "bin_input = Input(shape=(paths_maxlen, bin_vocab_size), name='bin_ip')\n",
    "\n",
    "direction_input = Input(shape=(paths_maxlen, dir_vocab_size), name='dir_ip')\n",
    "\n",
    "RNN = LSTM\n",
    "\n",
    "merge_input = concatenate([feature_input, bin_input, direction_input], name='merge_ip')\n",
    "\n",
    "decoder_1 = Bidirectional(RNN(latent_dim, return_state=False, return_sequences=True, name='lstm_1'))\n",
    "\n",
    "decoder_1_outputs = decoder_1(merge_input, initial_state=[label_model_latent, label_model_latent, label_model_latent, label_model_latent])\n",
    "\n",
    "decoder_2 = Bidirectional(RNN(latent_dim, return_state=False, name='lstm_2'))\n",
    "\n",
    "decoder_2_outputs = decoder_2(decoder_1_outputs, initial_state=[label_model_latent, label_model_latent, label_model_latent, label_model_latent])\n",
    "\n",
    "# hidden_1 = Dense(100, activation='softmax', name='h_1')(decoder_1_outputs)\n",
    "\n",
    "# hidden_2 = Dense(100, activation='softmax', name='h_2')(hidden_1)\n",
    "\n",
    "feat_hidden_1 = Dense(100, activation='softmax', name='f_1')(decoder_2_outputs)\n",
    "output_feature = Dense(feature_vocab_size, activation='softmax', name='op_feat')(feat_hidden_1)\n",
    "\n",
    "bin_hidden_1 = Dense(100, activation='softmax', name='b_1')(decoder_2_outputs)\n",
    "bin_hidden_2 = Dense(100, activation='softmax', name='b_2')(bin_hidden_1)\n",
    "output_bin = Dense(bin_vocab_size, activation='softmax', name='op_bin')(bin_hidden_2)\n",
    "\n",
    "output_dir = Dense(dir_vocab_size, activation='softmax', name='op_dir')(decoder_2_outputs)\n",
    "\n",
    "model = Model([label_model_latent, feature_input, bin_input, direction_input], [output_feature, output_bin, output_dir])"
   ]
  },
  {
   "cell_type": "code",
   "execution_count": null,
   "metadata": {
    "_cell_guid": "0c9fad78-83fb-439e-88f5-73e0b19a90f1",
    "_uuid": "937e50ee-b6ad-4c27-b2ae-66b0e0b69436",
    "id": "r6eud2Nn3_9d",
    "outputId": "42c27e41-35a8-4ead-b33c-4488fc45fe9a"
   },
   "outputs": [],
   "source": [
    "model.summary()"
   ]
  },
  {
   "cell_type": "code",
   "execution_count": null,
   "metadata": {
    "_cell_guid": "c837436d-f0bd-43a6-9b1b-519e6d2d5cc8",
    "_uuid": "1deb35e6-536c-4f19-8b86-7375db8f9d15",
    "id": "SlkamAnK4jxW",
    "outputId": "a08688f7-dca4-4670-acb9-0fc7df98743b"
   },
   "outputs": [],
   "source": [
    "## multiple stacked RNN, multi-op approach, \n",
    "x_latent = get_hidden_x(path_latent_input, model=label_model)\n",
    "\n",
    "model.compile(optimizer='adam', loss='categorical_crossentropy', metrics=['accuracy'], loss_weights={'op_feat': 0.2,'op_bin': 1.0,'op_dir': 0.05})\n",
    "model.fit([x_latent, x_feat, x_bin, x_dir], [y_feat, y_bin, y_dir],batch_size=128, epochs=9000, verbose=1,\n",
    "          callbacks=[WandbCallback()])"
   ]
  },
  {
   "cell_type": "code",
   "execution_count": 0,
   "metadata": {
    "_cell_guid": "009cde0f-cb04-4981-a774-f2bddab7b415",
    "_uuid": "43fd6da4-538b-4c04-b67f-5e8fa1ff96bf",
    "id": "FMmOYkU1Xm8g",
    "outputId": "9db85a54-e46f-4e16-cc07-52c20d212917"
   },
   "outputs": [],
   "source": [
    " !pip install wandb"
   ]
  },
  {
   "cell_type": "code",
   "execution_count": null,
   "metadata": {
    "_cell_guid": "28fd8a18-a5e0-419e-8987-b56d95e24cfa",
    "_uuid": "8db400d9-902f-41f0-bb29-33c02b9b189d",
    "id": "TGMLGnWFXz9K",
    "outputId": "df38e564-278e-45f7-d478-7ea6e3d1061f"
   },
   "outputs": [],
   "source": [
    "!wandb login 3c44930157a5a6c5455f6a1ca690543cd2a34362"
   ]
  },
  {
   "cell_type": "code",
   "execution_count": null,
   "metadata": {
    "_cell_guid": "1c1c59d4-9932-4601-bdd4-904f69891482",
    "_uuid": "e4ea1286-5966-4888-9bab-dc9a1159813c",
    "id": "xWF9uec645ce",
    "outputId": "a7def373-f5d0-4cc3-c157-bf8436ed559d"
   },
   "outputs": [],
   "source": [
    "tf.test.is_built_with_cuda()"
   ]
  },
  {
   "cell_type": "code",
   "execution_count": 0,
   "metadata": {
    "_cell_guid": "45808314-a7a6-47a2-a48e-561432a720ba",
    "_uuid": "6ad5ba93-a885-4049-9d13-9c6bade40fb3",
    "id": "kaJ54FjpbwMJ",
    "outputId": "d9ea4316-8afe-4112-e584-76b87a30bd1d"
   },
   "outputs": [],
   "source": [
    "!cat /var/log/colab-jupyter.log"
   ]
  },
  {
   "cell_type": "code",
   "execution_count": 0,
   "metadata": {
    "_cell_guid": "93a3acee-e485-4ea6-96e1-1937d834b4c9",
    "_uuid": "99868ac2-cf78-4912-9942-e7cba618accb",
    "id": "R9Fi0Qqapfq4",
    "outputId": "3a76953d-9ae8-4850-8c22-0bca80969967"
   },
   "outputs": [],
   "source": [
    "!pip show keras"
   ]
  },
  {
   "cell_type": "code",
   "execution_count": 0,
   "metadata": {
    "_cell_guid": "f5339a23-eb10-4e18-a3f0-069be2678e99",
    "_uuid": "45f264a8-31d9-4e57-a22b-156865ea546c",
    "id": "xQQrjU33pkwr",
    "outputId": "70c57acb-ad6e-4bf4-828b-09d0b2e9c928"
   },
   "outputs": [],
   "source": [
    "!pip show tensorflow"
   ]
  },
  {
   "cell_type": "code",
   "execution_count": 0,
   "metadata": {
    "_cell_guid": "1097733b-97e7-4dc5-a0f7-d26234b9be21",
    "_uuid": "179b9739-d2d4-4250-9f6a-9a74d3ea76bc",
    "id": "3JJrzcmykMCd",
    "outputId": "cf2947aa-b414-4d86-f673-a56d44995662"
   },
   "outputs": [],
   "source": [
    "model.summary()"
   ]
  },
  {
   "cell_type": "code",
   "execution_count": null,
   "metadata": {
    "_cell_guid": "f4d2eaff-abaa-4e8b-86e7-5d87caf71ba6",
    "_uuid": "d2aaaaa5-de0d-44ec-98b6-3d1d999319fc",
    "id": "Tu2oIOHXkMCe"
   },
   "outputs": [],
   "source": [
    "def get_hidden_x(x, model, layer_num=3):\n",
    "    def get_hidden_x_inner(model, layer_num=layer_num):\n",
    "        return K.function([model.layers[0].input], [model.layers[layer_num].output])\n",
    "    return get_hidden_x_inner(model, layer_num=layer_num)([x])[0]"
   ]
  },
  {
   "cell_type": "markdown",
   "metadata": {
    "_cell_guid": "b660422b-fb61-4b5c-83dc-9c6755ac513c",
    "_uuid": "ce9df232-b67e-4014-b209-dc154ca42fe5",
    "id": "bj5XW7rykMCf"
   },
   "source": [
    "### fit model"
   ]
  },
  {
   "cell_type": "code",
   "execution_count": 0,
   "metadata": {
    "_cell_guid": "09759530-a3fc-4db3-a895-e5d767be0604",
    "_uuid": "8c3059fc-7cf8-436c-a2d8-8df6145ddd3f",
    "id": "wB_sdQP-kMCf",
    "outputId": "604738cd-deef-4c72-9f14-004208309fb5"
   },
   "outputs": [],
   "source": [
    "x_latent = get_hidden_x(path_latent_input, model=label_model)\n",
    "\n",
    "model.compile(optimizer='adam', loss='categorical_crossentropy', metrics=['accuracy'])\n",
    "model.fit([x_latent, x_feat, x_bin, x_dir], [y_feat, y_bin, y_dir],batch_size=6000, epochs=20000, verbose=1,\n",
    "          callbacks=[WandbCallback()])\n",
    "## dag_arch"
   ]
  },
  {
   "cell_type": "code",
   "execution_count": 0,
   "metadata": {
    "_cell_guid": "5d1cc9f7-9deb-4d43-afef-0d26efe04b09",
    "_uuid": "2ea5ed86-7064-4d8c-a19f-a660fa2c8bad",
    "id": "2HHZO5ijkMCi",
    "outputId": "31e96cb6-ac23-4bf5-902b-6c08dbe1ea88"
   },
   "outputs": [],
   "source": [
    "feature_indices"
   ]
  },
  {
   "cell_type": "code",
   "execution_count": 0,
   "metadata": {
    "_cell_guid": "0b28917a-0454-49f4-aace-1229e8274959",
    "_uuid": "94743a3b-99c9-430d-ac73-3201f7f91c4b",
    "id": "ANfITI8skMCi",
    "outputId": "b021dfdd-b40e-4bdc-9929-28b9f9178ea2"
   },
   "outputs": [],
   "source": [
    "model.summary()"
   ]
  },
  {
   "cell_type": "code",
   "execution_count": 0,
   "metadata": {
    "_cell_guid": "6fe5df71-5ac2-4582-b00b-58bd5ae1e865",
    "_uuid": "4f61ade3-223d-4bce-9642-20e5e1a4c709",
    "id": "VIv_ZSTjkMCk",
    "outputId": "5f15967a-f7f3-4a78-be04-1acdb20d1e7a"
   },
   "outputs": [],
   "source": [
    "model.summary()"
   ]
  },
  {
   "cell_type": "code",
   "execution_count": 0,
   "metadata": {
    "_cell_guid": "e87c02de-dabe-473f-b912-42c2bd127270",
    "_uuid": "3181cc6c-db06-4aaa-a38b-72c4b047cb47",
    "id": "okrJFnW-kMCl",
    "outputId": "00f18094-42de-40c1-87f8-a49c28c1fff7"
   },
   "outputs": [],
   "source": [
    "model.layers"
   ]
  },
  {
   "cell_type": "code",
   "execution_count": 0,
   "metadata": {
    "_cell_guid": "bcceb98e-3ca0-4787-8856-e20a81adec8a",
    "_uuid": "4379ba65-4a3b-4de9-87e8-89bb3b9fd072",
    "id": "weSc7S8hkMCn"
   },
   "outputs": [],
   "source": [
    "path = ['S', '4A1', '3D0', 'E']\n",
    "feat_ip = ['S', 4, 3, E]\n",
    "ip_2 = [0, 'A', 'D', 0]\n",
    "ip_3 = [0,'']\n",
    "# Correct masking issue\n",
    "# Interconnect RNNS, first to second"
   ]
  },
  {
   "cell_type": "code",
   "execution_count": 0,
   "metadata": {
    "_cell_guid": "a794675c-237e-4496-af42-95cd805661f2",
    "_uuid": "507faba2-f003-469f-9f09-f4058434fb7f",
    "id": "v3foX_tCkMCp",
    "outputId": "806b366e-16ec-40ca-9d29-68aeedff18f2"
   },
   "outputs": [],
   "source": [
    "model.summary()"
   ]
  },
  {
   "cell_type": "code",
   "execution_count": 0,
   "metadata": {
    "_cell_guid": "eb4244b1-c944-4e8e-b512-49250e87d756",
    "_uuid": "6679ea3d-a49e-493f-a21b-f598b2f53154",
    "id": "vJbIJQWKkMCr",
    "outputId": "694ad77b-8cb2-4385-858a-0f6f71ceb0e5"
   },
   "outputs": [],
   "source": [
    "model.summary()"
   ]
  },
  {
   "cell_type": "code",
   "execution_count": 0,
   "metadata": {
    "_cell_guid": "da717c5b-2525-4c6b-a350-3212f2169113",
    "_uuid": "d8650211-7e9f-4896-84c4-8fadc6a63896",
    "id": "HiS3rwHCkMCs",
    "outputId": "0c9e58e2-1737-4e5e-ab3a-e64b12bb5fbe"
   },
   "outputs": [],
   "source": [
    "model.summary()"
   ]
  },
  {
   "cell_type": "code",
   "execution_count": 0,
   "metadata": {
    "_cell_guid": "f63bdb3f-9254-408b-bbc9-ef3e8d55cc03",
    "_uuid": "b7f1cd78-ea3a-406b-892b-bc48bedf1a63",
    "id": "U4aQIbvVkMCt",
    "outputId": "b6f273d9-512c-41e9-977b-b1c59e953ac0"
   },
   "outputs": [],
   "source": [
    "model.summary()"
   ]
  },
  {
   "cell_type": "code",
   "execution_count": 0,
   "metadata": {
    "_cell_guid": "15f918b3-c471-41cc-8518-c31f7205abf6",
    "_uuid": "870dc6a4-611c-4315-8335-b6beddbd6e0a",
    "id": "FnSCA-l2kMCv"
   },
   "outputs": [],
   "source": [
    "from keras.utils import plot_model\n",
    "plot_model(model, to_file='dag_approach_model.png')"
   ]
  },
  {
   "cell_type": "code",
   "execution_count": 0,
   "metadata": {
    "_cell_guid": "044bf647-59cc-4147-bba2-97ef4da03231",
    "_uuid": "5c5e93c9-bf3a-4e7d-b551-fa57ec6d4096",
    "id": "0Ps475nVkMCv",
    "outputId": "6a6fedec-ea13-4b9b-9038-26c2a71bf466"
   },
   "outputs": [],
   "source": [
    "path_latent_input.shape"
   ]
  },
  {
   "cell_type": "code",
   "execution_count": 0,
   "metadata": {
    "_cell_guid": "089914d3-d3a1-4351-9431-9623fac3764f",
    "_uuid": "e576948e-56aa-4f55-b227-1544fc39d2fc",
    "id": "srMJDziYkMCx",
    "outputId": "08213437-6740-41c2-a209-287fee7ca0c7"
   },
   "outputs": [],
   "source": [
    "x_bin.shape"
   ]
  },
  {
   "cell_type": "code",
   "execution_count": 0,
   "metadata": {
    "_cell_guid": "a6afb1a4-8ebd-4c6e-bdf1-6b23a78e5cac",
    "_uuid": "13873e50-cb1f-4535-91b6-a711947d92b9",
    "id": "lpLvi168kMCy",
    "outputId": "c840fda6-334e-4a37-bb04-2c0739079710"
   },
   "outputs": [],
   "source": [
    "x_dir.shape"
   ]
  },
  {
   "cell_type": "code",
   "execution_count": 0,
   "metadata": {
    "_cell_guid": "cc206e80-7a46-497b-91ea-eabececccdbe",
    "_uuid": "f43e68af-0467-44f5-bfbc-076c3686d5ef",
    "id": "X2WEaSNakMDC",
    "outputId": "a6e661bb-154f-4575-cd64-014cece38cc8"
   },
   "outputs": [],
   "source": [
    "x_dir[0,0]"
   ]
  },
  {
   "cell_type": "code",
   "execution_count": 0,
   "metadata": {
    "_cell_guid": "5cfa5527-4e30-4612-be7e-e9cd868d03a2",
    "_uuid": "2f002e82-0a6c-4f35-96b7-7a709c240a10",
    "id": "7xIGvzQYkMDC",
    "outputId": "f551074f-421f-4748-ce39-4b07e287b323"
   },
   "outputs": [],
   "source": [
    "x_bin[0,0]"
   ]
  },
  {
   "cell_type": "code",
   "execution_count": 0,
   "metadata": {
    "_cell_guid": "21363866-ddfc-433b-b6c0-f250634e87c7",
    "_uuid": "d98c575b-25c0-43d8-afca-818343317163",
    "id": "KmzLVgCBkMDF",
    "outputId": "68a7f9f8-4d5d-4b90-ac54-0a2cf01caad4"
   },
   "outputs": [],
   "source": [
    "y_cat = to_categorical(y)\n",
    "\n",
    "# label_model_trial_6.compile(\n",
    "#     optimizer='adam', loss='categorical_crossentropy', metrics=['accuracy'])\n",
    "# label_model_trial_6.fit(\n",
    "#     X, y_cat, batch_size=30, epochs=150, verbose=1, shuffle=True, validation_split=0.2)\n",
    "\n",
    "x_latent = get_hidden_x(path_latent_input, model=label_model_trial_6)\n",
    "\n",
    "model.compile(optimizer='adam', loss='categorical_crossentropy', metrics=['accuracy'])\n",
    "model.fit([x_latent, x_feat, x_bin, x_dir], [y_feat, y_bin, y_dir],batch_size=80, epochs=20000, verbose=1)\n",
    "# Latent dim -- 10"
   ]
  },
  {
   "cell_type": "code",
   "execution_count": 0,
   "metadata": {
    "_cell_guid": "2d7307d7-5dbc-4520-90d3-275c33d6df00",
    "_uuid": "f60a3d9c-d561-4fc1-a8d9-15057c8b469c",
    "id": "mQm975JokMDM",
    "outputId": "8aad3c32-200c-48dd-d3c1-0a7551d49771"
   },
   "outputs": [],
   "source": [
    "y_cat = to_categorical(y)\n",
    "\n",
    "x_latent = get_hidden_x(path_latent_input, model=label_model_trial_6)\n",
    "\n",
    "model.compile(optimizer='adam', loss='categorical_crossentropy', metrics=['accuracy'])\n",
    "model.fit([x_latent, x_feat, x_bin, x_dir], [y_feat, y_bin, y_dir],batch_size=80, epochs=2000, verbose=1)\n",
    "# latent_dim -- 10"
   ]
  },
  {
   "cell_type": "code",
   "execution_count": 0,
   "metadata": {
    "_cell_guid": "6a9deaaa-73de-46c8-b5ce-b81b781933bc",
    "_uuid": "2fc5b7b8-02cc-4d6e-a5c9-7d23d9f9ae61",
    "id": "KUqpVVZHkMDO",
    "outputId": "b7928f97-bc22-43b3-911a-5210641d85cf"
   },
   "outputs": [],
   "source": [
    "y_cat = to_categorical(y)\n",
    "\n",
    "x_latent = get_hidden_x(path_latent_input, model=label_model_trial_6)\n",
    "\n",
    "model.compile(optimizer='adam', loss='categorical_crossentropy', metrics=['accuracy'])\n",
    "model.fit([x_latent, x_feat, x_bin, x_dir], [y_feat, y_bin, y_dir],batch_size=80, epochs=4000, verbose=1)\n",
    "# latent_dim -- 10"
   ]
  },
  {
   "cell_type": "code",
   "execution_count": 0,
   "metadata": {
    "_cell_guid": "50d22afa-b702-42ea-9159-3f8d51fa57dd",
    "_uuid": "fdf49b7f-7408-4f46-b7e6-1834f8e06b7b",
    "id": "IfRJTR2NkMDQ",
    "outputId": "c54fc731-a30e-4d68-e951-506592a33ce0"
   },
   "outputs": [],
   "source": [
    "y_cat = to_categorical(y)\n",
    "\n",
    "x_latent = get_hidden_x(path_latent_input, model=label_model_trial_6)\n",
    "\n",
    "model.compile(optimizer='adam', loss='categorical_crossentropy', metrics=['accuracy'])\n",
    "model.fit([x_latent, x_feat, x_bin, x_dir], [y_feat, y_bin, y_dir],batch_size=80, epochs=10000, verbose=1)\n",
    "# latent_dim -- 10"
   ]
  },
  {
   "cell_type": "code",
   "execution_count": 0,
   "metadata": {
    "_cell_guid": "6a07e903-708c-4540-be20-b0182dbe0992",
    "_uuid": "2c002962-42e1-4199-8e4a-d126e1bc2d60",
    "id": "LHN6nPH2kMDT",
    "outputId": "f23107a6-adc5-4d6f-ab53-664697649b15"
   },
   "outputs": [],
   "source": [
    "y_cat = to_categorical(y)\n",
    "\n",
    "x_latent = get_hidden_x(path_latent_input, model=label_model_trial_6)\n",
    "\n",
    "model.compile(optimizer='adam', loss='categorical_crossentropy', metrics=['accuracy'])\n",
    "model.fit([x_latent, x_feat, x_bin, x_dir], [y_feat, y_bin, y_dir],batch_size=80, epochs=2000, verbose=1)\n",
    "# latent_dim -- 100"
   ]
  },
  {
   "cell_type": "code",
   "execution_count": 0,
   "metadata": {
    "_cell_guid": "ccafa13c-6b2b-4058-bbb9-3d015b144320",
    "_uuid": "528d0434-13b9-4cd8-b91c-c30e906bacbc",
    "id": "nHYMLRhCkMDV",
    "outputId": "4d1252d9-7397-4868-b8db-6c6954b4a571"
   },
   "outputs": [],
   "source": [
    "model.summary()"
   ]
  },
  {
   "cell_type": "code",
   "execution_count": 0,
   "metadata": {
    "_cell_guid": "cf4a251f-ff74-440f-b428-a34680e53d80",
    "_uuid": "a950eee8-a485-423f-93aa-34fcc509b5f6",
    "id": "MzigVVWLkMDW",
    "outputId": "6a1a75b9-dff5-49be-cfb9-fa316b0085bd"
   },
   "outputs": [],
   "source": [
    "from addition_rnn_sample_code import CharacterTable"
   ]
  },
  {
   "cell_type": "markdown",
   "metadata": {
    "_cell_guid": "8c987f83-a225-4d2f-af8e-f7ffd6cc7083",
    "_uuid": "6685e634-cb22-4b68-a72b-d143eb4bd351",
    "id": "BUxefYMbkMDX"
   },
   "source": [
    "### dag_arch inference flow"
   ]
  },
  {
   "cell_type": "code",
   "execution_count": 0,
   "metadata": {
    "_cell_guid": "bd443df3-ce72-435b-bc20-f2b673e71851",
    "_uuid": "160b688a-3821-44e5-be4c-aa6c74fa2489",
    "id": "EGjuZ-xTkMDY",
    "outputId": "67901e96-b601-4c5f-87f0-fed898972d97"
   },
   "outputs": [],
   "source": [
    "model.summary()"
   ]
  },
  {
   "cell_type": "code",
   "execution_count": 0,
   "metadata": {
    "_cell_guid": "395af070-3508-413a-8f58-eb975f8dd101",
    "_uuid": "78b84134-65da-459a-a575-599207458b18",
    "id": "FgBQ899HkMDZ",
    "outputId": "042d431f-5766-4a9e-a3c0-43033522f1ad"
   },
   "outputs": [],
   "source": [
    "feat"
   ]
  },
  {
   "cell_type": "code",
   "execution_count": 0,
   "metadata": {
    "_cell_guid": "573c4fbd-a228-4c81-ae71-0cb06b63a875",
    "_uuid": "99d8b493-4f2e-4e08-84c2-a7c65b1653bc",
    "id": "T-g0YJG-kMDb",
    "outputId": "b856d74d-289c-4445-a6ae-b4c21c3f7741"
   },
   "outputs": [],
   "source": [
    "dir_indices"
   ]
  },
  {
   "cell_type": "code",
   "execution_count": 0,
   "metadata": {
    "_cell_guid": "215355a4-badb-497f-bffc-a4610a41b723",
    "_uuid": "6b073dfc-ba2d-4fb5-b317-dcfed70f39b5",
    "id": "T8E81_0skMDc",
    "outputId": "1e805595-bcb3-410a-e1a5-28f0c388921e"
   },
   "outputs": [],
   "source": [
    "iris['data'][0]"
   ]
  },
  {
   "cell_type": "code",
   "execution_count": 0,
   "metadata": {
    "_cell_guid": "918666c6-086c-4314-b3d5-a01bbd6be401",
    "_uuid": "86d46c28-5f91-4b34-aefb-400303037020",
    "id": "H-X3Z1BikMDd"
   },
   "outputs": [],
   "source": [
    "token = 'S'\n",
    "\n",
    "x = iris['data'][0]\n",
    "\n",
    "x_f = x.reshape(1, feature_size)\n",
    "\n",
    "x_feat = np.zeros((1, paths_maxlen, feature_vocab_size), dtype=np.bool)\n",
    "x_bin = np.zeros((1, paths_maxlen, bin_vocab_size), dtype=np.bool)\n",
    "x_dir = np.zeros((1, paths_maxlen, dir_vocab_size), dtype=np.bool)\n",
    "\n",
    "x_latent = get_hidden_x(x_f, model=label_model_trial_6)\n",
    "x_latent = x_latent.reshape(1, latent_dim)\n",
    "\n",
    "x_feat[0, 0, feature_indices[token]] = 1\n",
    "x_bin[0, 0, 0] = 1 # Start token for bin is 0. End token is 1.\n",
    "x_feat[0, 0, dir_indices[token]] = 1\n",
    "pred = label_model_trial_6.predict(x_f)\n",
    "label = [np.argmax(pred[0])]\n",
    "\n",
    "pred = model.predict([x_latent, x_feat, x_bin, x_dir])"
   ]
  },
  {
   "cell_type": "code",
   "execution_count": 0,
   "metadata": {
    "_cell_guid": "ee5a5840-541b-4ded-84c9-2cd57d9aca8b",
    "_uuid": "34dce9bc-bb45-4300-b6b3-ce9051f31dc7",
    "id": "j1TVlMt9kMDf",
    "outputId": "1c1679a7-aa43-47e8-f4bd-9a47807f7310"
   },
   "outputs": [],
   "source": [
    "pred[2].shape"
   ]
  },
  {
   "cell_type": "code",
   "execution_count": 0,
   "metadata": {
    "_cell_guid": "720040fd-9569-49ba-bf2e-6052b248c5b1",
    "_uuid": "4635f8dd-b2cf-4263-9f59-f2b126272829",
    "id": "2lKNdscOkMDg"
   },
   "outputs": [],
   "source": [
    "def predict(x):\n",
    "    latent_dim = 25\n",
    "    x_f = x.reshape(1, feature_size)\n",
    "    token = 'S'\n",
    "    cont = True\n",
    "    path = [token]\n",
    "    # x_path = np.zeros((1, paths_maxlen, path_vocab_size), dtype=np.bool)\n",
    "    x_feat = np.zeros((1, paths_maxlen, feature_vocab_size), dtype=np.bool)\n",
    "    x_bin = np.zeros((1, paths_maxlen, bin_vocab_size), dtype=np.bool)\n",
    "    x_dir = np.zeros((1, paths_maxlen, dir_vocab_size), dtype=np.bool)\n",
    "\n",
    "    x_latent = get_hidden_x(x_f, model=label_model_trial_6)\n",
    "    x_latent = x_latent.reshape(1, latent_dim)\n",
    "    # x_path[0, 0, label_indices[token]] = 1\n",
    "    x_feat[0, 0, feature_indices[token]] = 1\n",
    "    x_bin[0, 0, 0] = 1 # Start token for bin is 0. End token is 1.\n",
    "    x_feat[0, 0, dir_indices[token]] = 1\n",
    "    pred = label_model_trial_6.predict(x_f)\n",
    "    label = [np.argmax(pred[0])]\n",
    "    index = 1\n",
    "    while cont & (index < paths_maxlen):\n",
    "        # pred = combined_model.predict([x_latent, x_path])\n",
    "        pred = model.predict([x_latent, x_feat, x_bin, x_dir])\n",
    "        feature_index = np.argmax(pred[0])\n",
    "        bin_index = np.argmax(pred[1])\n",
    "        dir_index = np.argmax(pred[2])\n",
    "        x_feat[0, index, feature_index] = 1\n",
    "        x_bin[0, index, bin_index] = 1\n",
    "        x_dir[0, index, dir_index] = 1\n",
    "        next_feat = indices_feat[feature_index]\n",
    "        next_bin = indices_bin[bin_index]\n",
    "        next_dir = indices_dir[dir_index]\n",
    "        if next_feat == 'E':\n",
    "            path.append('E')\n",
    "            cont = False\n",
    "        elif next_bin == 1 or next_dir == 'E' or next_bin == 0 or next_dir == 'S':\n",
    "            if next_bin == 1 or next_bin == 0:\n",
    "                x_bin[0, index, bin_index] = 0\n",
    "                # bin_index = np.argmax(np.argsort(pred[1]) == 15)\n",
    "                bin_index = np.argmax(pred[1][0][2:]) + 2\n",
    "                x_bin[0, index, bin_index] = 1\n",
    "                next_bin = indices_bin[bin_index]\n",
    "            else:\n",
    "                x_dir[0, index, dir_index] = 0\n",
    "                # dir_index = np.argmax(np.argsort(pred[2]) == 2)\n",
    "                dir_index = np.argmax(pred[2][0][2:]) + 2\n",
    "                x_dir[0, index, dir_index] = 1\n",
    "                next_dir = indices_dir[dir_index]\n",
    "            print('-----from second ifelse', [next_feat, next_bin, next_dir])\n",
    "            path.append(''.join([next_feat, next_bin, next_dir]))\n",
    "            index += 1            \n",
    "        else:\n",
    "            print('-----', [next_feat, next_bin, next_dir])\n",
    "            path.append(''.join([next_feat, next_bin, next_dir]))\n",
    "            index += 1\n",
    "\n",
    "#     if path[-1] != 'E':\n",
    "#         path.append('E')\n",
    "\n",
    "    return [path, label]"
   ]
  },
  {
   "cell_type": "code",
   "execution_count": 0,
   "metadata": {
    "_cell_guid": "a5f34746-54fd-4f84-986f-7d98a6579a5c",
    "_uuid": "d7c14e9f-f903-4f0b-8bb3-c0d028685a66",
    "id": "WB9jIQbGkMDh",
    "outputId": "b86907a2-c749-4289-8b19-40c4a50244eb"
   },
   "outputs": [],
   "source": [
    "dir_indices"
   ]
  },
  {
   "cell_type": "code",
   "execution_count": 0,
   "metadata": {
    "_cell_guid": "6e536349-1b7f-4f07-bfa6-65ed3df36a57",
    "_uuid": "36ae371f-4d3b-4b03-b8f9-15100f4e77e9",
    "id": "Js9sZlsIkMDi",
    "outputId": "2a300b13-f945-45ec-d9df-a27edeaf4668"
   },
   "outputs": [],
   "source": [
    "bin_indices"
   ]
  },
  {
   "cell_type": "code",
   "execution_count": 0,
   "metadata": {
    "_cell_guid": "e9722740-ebdc-4287-91c0-812076485a58",
    "_uuid": "a80c3726-2bcd-4c97-b9c3-0e16673c962b",
    "id": "kqFrHcKOkMDj",
    "outputId": "f240f449-c06b-4d80-eebb-bcef3f9e0a56"
   },
   "outputs": [],
   "source": [
    "test_value = np.array([1,3,2,5])\n",
    "np.argmax(np.argsort(test_value) == 2)\n",
    "np.argmax(test_value)"
   ]
  },
  {
   "cell_type": "code",
   "execution_count": 0,
   "metadata": {
    "_cell_guid": "fb9114be-1e49-41e9-b2b9-803f0558afd6",
    "_uuid": "71efe0bc-5b01-42bc-897d-6601bbf7f43e",
    "id": "KdOL-kYbkMDl"
   },
   "outputs": [],
   "source": [
    "shuffle_data[4] = y"
   ]
  },
  {
   "cell_type": "code",
   "execution_count": 0,
   "metadata": {
    "_cell_guid": "ac03bfa1-0e49-4304-90d0-104a8d598093",
    "_uuid": "c4671c0c-172e-42ab-97bc-5dc620ba0869",
    "id": "riWEMwSZkMDm",
    "outputId": "a252cf57-c7b1-476e-daf1-85e437caae34"
   },
   "outputs": [],
   "source": [
    "shuffle_data.head()"
   ]
  },
  {
   "cell_type": "code",
   "execution_count": 0,
   "metadata": {
    "_cell_guid": "2a468db3-7b48-4069-a348-57adafd7efb3",
    "_uuid": "1e77f6dd-abc9-43e8-868a-e472442617e2",
    "id": "w7wavbvikMDo",
    "outputId": "beb28749-8789-41bd-8be5-57792523c590"
   },
   "outputs": [],
   "source": [
    "shuffle_data.iloc[1, 0:4]"
   ]
  },
  {
   "cell_type": "code",
   "execution_count": 0,
   "metadata": {
    "_cell_guid": "c57ab2e2-ecda-4309-b114-2842fa761752",
    "_uuid": "411c304c-71f0-4549-9b55-7cdc91645ea3",
    "id": "r7EHv9IRkMDp"
   },
   "outputs": [],
   "source": [
    "def score():\n",
    "    count = []\n",
    "    bleu_score = []\n",
    "    j_coeff = []\n",
    "    l_dist = []\n",
    "    path_mismatch_count = []\n",
    "    traverse_check_count = []\n",
    "    order_mismatch_count = []\n",
    "    subset_path_count = []\n",
    "    # for i in range(test_data.shape[0]):\n",
    "    for i in range(140,150):\n",
    "        curr_feat = np.array([shuffle_data.iloc[i, 0:X.shape[1]]])\n",
    "        path, label = predict(curr_feat)\n",
    "        actual_path = shuffle_data.iloc[i, -1]\n",
    "\n",
    "#         actual_path_tok = [label_indices[char] for char in actual_path]\n",
    "#         pred_path_tok = [label_indices[char] for char in path]\n",
    "\n",
    "        # j_coeff.append(super().get_j_coeff(actual_path_tok, pred_path_tok))\n",
    "\n",
    "        print('actual vs predicted: ', shuffle_data.iloc[i, -1], ' vs ', ' '.join(\n",
    "            path), 'labels: ', shuffle_data.iloc[i,4], label[0])\n",
    "        count.append(shuffle_data.iloc[i,4] == label[0])\n",
    "        # print('Actual path -- ', actual_path)\n",
    "        # print('Pred path -- ', path)\n",
    "        if actual_path != path:\n",
    "            print(' -- Path mismatch -- ')\n",
    "            if sorted(actual_path) == sorted(path):\n",
    "                print(' -- Order mismatch -- ')\n",
    "                order_mismatch_count.append(1)\n",
    "            else:\n",
    "                path_mismatch_count.append(1)\n",
    "                # pred_target, subset_path = self.check_path(path)\n",
    "                pred_val = return_yval(path, i+1)\n",
    "                # subset_path_count.append(subset_path)\n",
    "                if pred_val != -1 and pred_val == shuffle_data.iloc[i,4]:\n",
    "                    traverse_check_count.append(1)\n",
    "\n",
    "\n",
    "        path = list(''.join(path))\n",
    "        actual_path = list(''.join(shuffle_data.iloc[i, -1]))\n",
    "        bleu_score.append(sentence_bleu([actual_path], path))\n",
    "\n",
    "#         lev_path = []\n",
    "#         for i in range(len(path)):\n",
    "#             if i in ['S','L','R','E']:\n",
    "#                 lev_path.append(i)\n",
    "#         l_dist.append(distance.levenshtein(\n",
    "#             self.df.iloc[i, self.X.shape[1]].replace(' ', ''), ''.join(lev_path)))\n",
    "\n",
    "\n",
    "    print('\\nLabel accuracy - ', np.mean(count))\n",
    "#     print('Path metric (Jaccard) - ', np.mean(j_coeff))\n",
    "#     print('Path metric (Levenshtein) - ', np.mean(l_dist))\n",
    "    print('Path mismatch count - ', np.sum(path_mismatch_count))\n",
    "    print('Right traverse count - ', np.sum(traverse_check_count))\n",
    "    print('Order mismatch count - ', np.sum(order_mismatch_count))\n",
    "#     print('Subset path count - ', np.sum(subset_path_count))\n",
    "    print('Bleu score of paths - ', np.mean(bleu_score))"
   ]
  },
  {
   "cell_type": "code",
   "execution_count": 0,
   "metadata": {
    "_cell_guid": "1328448a-b7bb-4c16-9498-f329e9571b5f",
    "_uuid": "9a6287db-9d3d-42ca-a1ad-d5c7c949d74d",
    "id": "4tqrLJNSkMDq",
    "outputId": "369bf6a8-d317-4f1e-827b-e95c832ddc86"
   },
   "outputs": [],
   "source": [
    "score() ## 3000 epochs, test set"
   ]
  },
  {
   "cell_type": "code",
   "execution_count": 0,
   "metadata": {
    "_cell_guid": "80ce8833-8c59-4abb-9ea7-fbc1b58fa04a",
    "_uuid": "ab4aa282-7b7c-4dfe-9db2-5e43af657dd9",
    "id": "DmMZso6IkMDr",
    "outputId": "c11baed9-28d4-4998-886f-4b4fb150125f"
   },
   "outputs": [],
   "source": [
    "bin_labels"
   ]
  },
  {
   "cell_type": "code",
   "execution_count": 0,
   "metadata": {
    "_cell_guid": "615cd976-bca4-4e7b-ba9c-2abf6ae6aa09",
    "_uuid": "e329c1ec-5e81-4247-b714-7185f0fc0e88",
    "id": "Benhk-s2kMDt",
    "outputId": "711a6408-1c0d-4dac-ee92-61a998896274"
   },
   "outputs": [],
   "source": [
    "score() ## 2000 epochs, test set"
   ]
  },
  {
   "cell_type": "code",
   "execution_count": 0,
   "metadata": {
    "_cell_guid": "674ff810-c5c9-4933-a945-58670d827310",
    "_uuid": "760bfb9b-2507-4bc0-93ee-b0804dc42dcb",
    "id": "EbzE3aExkMDv",
    "outputId": "532929f9-9d9d-4eff-a021-5e32a2340ef7"
   },
   "outputs": [],
   "source": [
    "score() ## 3000 epochs, test set"
   ]
  },
  {
   "cell_type": "code",
   "execution_count": 0,
   "metadata": {
    "_cell_guid": "c828a965-7cf8-445d-a244-463f6ce3deb5",
    "_uuid": "68ab9b08-2ce4-4613-bbe2-dee812d58215",
    "id": "kAOCsMkRkMDw"
   },
   "outputs": [],
   "source": [
    "## Global tree comparison\n",
    "## Neural fingerprints"
   ]
  },
  {
   "cell_type": "code",
   "execution_count": 0,
   "metadata": {
    "_cell_guid": "666fb9db-f3c0-4524-a07a-8fff5b6ddc54",
    "_uuid": "11ace1df-b2bc-45d2-98a1-19b4317a75c7",
    "id": "AT3x_s-7kMDx"
   },
   "outputs": [],
   "source": [
    "test_value = [0.99, 0.98, 0.32, 0.51]\n",
    "a = np.argsort(test_value)"
   ]
  },
  {
   "cell_type": "code",
   "execution_count": 0,
   "metadata": {
    "_cell_guid": "82f18685-a42c-465c-b7c9-395738a77328",
    "_uuid": "91422c4b-7545-4f00-8bd2-28cb6ba20c21",
    "id": "-z5_-EOykMDy",
    "outputId": "076b828e-775d-4806-eb54-533a8b1a9462"
   },
   "outputs": [],
   "source": [
    "a"
   ]
  },
  {
   "cell_type": "code",
   "execution_count": 0,
   "metadata": {
    "_cell_guid": "72c57104-ff3e-464d-853d-f6f5a1d20ca1",
    "_uuid": "84b17f57-7516-478e-b926-08a6289ab518",
    "id": "RxK6mlC_kMD0"
   },
   "outputs": [],
   "source": []
  },
  {
   "cell_type": "code",
   "execution_count": 0,
   "metadata": {
    "_cell_guid": "d4cd3e60-89da-45c7-9e9f-9fc757b45d37",
    "_uuid": "c4cd77e6-fc8b-4d4f-8648-90c5477f3248",
    "id": "UiAs8D8LkMD3",
    "outputId": "f2733264-d715-4776-e2b0-eab1ca46a4ea"
   },
   "outputs": [],
   "source": [
    "X"
   ]
  },
  {
   "cell_type": "code",
   "execution_count": 0,
   "metadata": {
    "_cell_guid": "57e54caa-f037-4f73-9d83-1792625e85d2",
    "_uuid": "f0b09016-a3a8-4551-9b62-b8398e4241dd",
    "id": "0rYxc_-vkMD5"
   },
   "outputs": [],
   "source": [
    "## Second best argmax for bin_gru and dir_gru\n",
    "## Stack one more gru cell on bin_gru\n",
    "## normal LSTM\n",
    "## Bipartite\n",
    "## Path invariance\n",
    "## Agreement between all grus as error metric(in terms of end token)"
   ]
  },
  {
   "cell_type": "code",
   "execution_count": 0,
   "metadata": {
    "_cell_guid": "097a4f3b-d5c5-4e40-b888-82dc34d014ad",
    "_uuid": "afe36cf2-33cd-42f4-927a-c74638cdae74",
    "id": "yXiqMr7lkMD7"
   },
   "outputs": [],
   "source": [
    "indices_feat = {}\n",
    "indices_bin = {}\n",
    "indices_dir = {}\n",
    "for val, i in feature_indices.items():\n",
    "    indices_feat.update({i: val})\n",
    "for val, i in bin_indices.items():\n",
    "    indices_bin.update({i: val})\n",
    "for val, i in dir_indices.items():\n",
    "    indices_dir.update({i: val})"
   ]
  },
  {
   "cell_type": "code",
   "execution_count": 0,
   "metadata": {
    "_cell_guid": "1bde6ade-5614-4bf2-925a-15ae0ef2ad6d",
    "_uuid": "5fb74dcc-f46f-4fdf-944d-b6cfc232a8c1",
    "id": "Z-K1-srKkMD9",
    "outputId": "0d62b8a8-3c4b-4359-9337-7eb175427e34"
   },
   "outputs": [],
   "source": [
    "indices_feat"
   ]
  },
  {
   "cell_type": "code",
   "execution_count": 0,
   "metadata": {
    "_cell_guid": "922ad30f-e817-4871-97f3-fc7157299b8d",
    "_uuid": "72b24841-f1b9-4dd0-895b-9711f36c7478",
    "id": "dBxbpUK8kMD_",
    "outputId": "29ccfef3-1c6c-400d-8a07-14a946b3af0d"
   },
   "outputs": [],
   "source": [
    "indices_bin"
   ]
  },
  {
   "cell_type": "code",
   "execution_count": 0,
   "metadata": {
    "_cell_guid": "9c622419-36b8-42c5-85b1-fe3219b93655",
    "_uuid": "6ff149a1-1e2e-4239-8a81-38cfbd635a3c",
    "id": "z85fzIgWkMEB",
    "outputId": "9c656df9-1377-4b77-859f-c20065da8a21"
   },
   "outputs": [],
   "source": [
    "indices_dir"
   ]
  },
  {
   "cell_type": "code",
   "execution_count": 0,
   "metadata": {
    "_cell_guid": "8900c315-d0b5-4c17-955b-2b6cedac046c",
    "_uuid": "70ab6e4e-bbb1-4f39-8213-ee6b78495750",
    "id": "aLfWsbQskMEC",
    "outputId": "b5a2f613-da4a-437f-db32-bfefbfa1393e"
   },
   "outputs": [],
   "source": [
    "test_data"
   ]
  },
  {
   "cell_type": "code",
   "execution_count": 0,
   "metadata": {
    "_cell_guid": "d3b83d63-ab8b-43af-90f8-53c4422e2340",
    "_uuid": "5d00ac3d-cd1f-4ac3-9730-b2a22ed259ee",
    "id": "fYEMf9sukMEE",
    "outputId": "0207d932-1af6-4e63-8c3e-456cfa458e97"
   },
   "outputs": [],
   "source": [
    "bin_labels"
   ]
  },
  {
   "cell_type": "code",
   "execution_count": 0,
   "metadata": {
    "_cell_guid": "f4b11e6d-4b63-4303-a844-9e9577cbaaec",
    "_uuid": "fd28afe0-0d37-4d4a-b72a-5630c7911240",
    "id": "CqBqu1FNkMEF",
    "outputId": "3195edfa-10bf-4506-f80a-6c1dd6d473a7"
   },
   "outputs": [],
   "source": [
    "bin_labels.iloc[:10]"
   ]
  },
  {
   "cell_type": "markdown",
   "metadata": {
    "_cell_guid": "790973ad-3f97-4a98-8e69-d6b3d1e4b635",
    "_uuid": "710deee4-d992-4fe8-820c-62143f4db59c",
    "id": "rHOilsqLkMEH"
   },
   "source": [
    "### Bipartite graph trials"
   ]
  },
  {
   "cell_type": "code",
   "execution_count": 0,
   "metadata": {
    "_cell_guid": "ec63dd9c-16f6-4369-9d3f-3ad37f4bf7b4",
    "_uuid": "28608709-6203-47f0-bd11-f8e84bc96dfd",
    "id": "ERRNoVlDkMEH"
   },
   "outputs": [],
   "source": [
    "%matplotlib notebook\n",
    "import networkx as nx\n",
    "from networkx.algorithms import bipartite\n",
    "import matplotlib.pyplot as plt\n",
    "\n",
    "B = nx.Graph()\n",
    "B.add_nodes_from(bin_labels['x'], bipartite=0)\n",
    "B.add_nodes_from(bin_labels['new_bins'], bipartite=1)\n",
    "# Add edges only between nodes of opposite node sets\n",
    "# B.add_edges_from([(1, 'a'), (1, 'b'), (2, 'b'), (2, 'c'), (3, 'c'), (4, 'a')])\n",
    "B.add_edges_from([(row['x'], row['new_bins']) for idx, row in bin_labels.iterrows()])"
   ]
  },
  {
   "cell_type": "code",
   "execution_count": 0,
   "metadata": {
    "_cell_guid": "bd8d44c2-bdc2-43e0-8137-4940bff2aa94",
    "_uuid": "fc2c3c44-de96-4d80-95fa-64f866da4a84",
    "id": "s0nYjcyVkMEI",
    "outputId": "db53d5a6-ff4d-4cd1-b342-89b4a367753b"
   },
   "outputs": [],
   "source": [
    "# labels = dict((n, \"(\" + n + \",\" + d['_type'] + \")\") for n,d in B.nodes(data=True))\n",
    "labels = dict((n, d) for n,d in B.nodes(data=True))\n",
    "pos = {node:[0, i] for i,node in enumerate(bin_labels['x'])}\n",
    "pos.update({node:[1, i] for i,node in enumerate(bin_labels['new_bins'])})\n",
    "nx.draw(B, pos, with_labels=False)\n",
    "for p in pos:  # raise text positions\n",
    "    pos[p][1] += 0.25\n",
    "nx.draw_networkx_labels(B, pos)\n",
    "\n",
    "plt.show()"
   ]
  },
  {
   "cell_type": "code",
   "execution_count": 0,
   "metadata": {
    "_cell_guid": "36094af7-83fa-4110-8dd2-5081ac77e7bf",
    "_uuid": "6b81a6f6-5988-4a0c-993a-2180f7221ae7",
    "id": "NyShiAPzkMEJ",
    "outputId": "6fa0e8db-d032-436d-882f-d4abde8c313f"
   },
   "outputs": [],
   "source": [
    "B.nodes(data=True)"
   ]
  },
  {
   "cell_type": "code",
   "execution_count": 0,
   "metadata": {
    "_cell_guid": "3d1f4711-0614-4c10-88e4-6d0593de5f56",
    "_uuid": "c0d88501-1802-45e6-b59c-ba87f3536234",
    "id": "ekZbL2FHkMEL"
   },
   "outputs": [],
   "source": [
    "labels_as_dict = dict((val['label'], val['x']) for key, val in bin_labels.iterrows() )"
   ]
  },
  {
   "cell_type": "code",
   "execution_count": 0,
   "metadata": {
    "_cell_guid": "76c95dc4-7835-4c23-8878-513f595374b1",
    "_uuid": "437e1c42-bafa-40d1-b517-cf2b682e23e4",
    "id": "bYA0ZWaykMEM",
    "outputId": "5867b5ad-84df-4ef4-b543-e8b2ad7cd523"
   },
   "outputs": [],
   "source": [
    "labels_as_dict"
   ]
  },
  {
   "cell_type": "code",
   "execution_count": 0,
   "metadata": {
    "_cell_guid": "f1841fb9-5ae8-4540-81bf-4bfa869dd348",
    "_uuid": "74c1920f-7739-43d2-a0c3-83ec723d7a70",
    "id": "SymRwXAjkMEN"
   },
   "outputs": [],
   "source": [
    "new_bins_df = bin_labels.loc[:,('new_labels','new_bins')].drop_duplicates()"
   ]
  },
  {
   "cell_type": "code",
   "execution_count": 0,
   "metadata": {
    "_cell_guid": "85bc095b-8e27-4f3d-830c-eb9ee734f0cb",
    "_uuid": "a59062d9-95ba-4340-8f53-2af9fb416b0b",
    "id": "1NeokD0XkMEO",
    "outputId": "9c36cf67-2eea-4d51-fb8f-5743cdc0a92d"
   },
   "outputs": [],
   "source": [
    "new_bins_df"
   ]
  },
  {
   "cell_type": "code",
   "execution_count": 0,
   "metadata": {
    "_cell_guid": "ff9956fb-9a44-4fdf-9e83-662992b00956",
    "_uuid": "08dea0e0-21ae-4e0d-80e7-50f30233b79c",
    "id": "51yM0e9bkMEQ"
   },
   "outputs": [],
   "source": [
    "labels_as_dict.update(dict((val['new_labels'], val['new_bins']) for key, val in new_bins_df.iterrows() ))"
   ]
  },
  {
   "cell_type": "code",
   "execution_count": 0,
   "metadata": {
    "_cell_guid": "dfbc8947-61b3-4cbf-88f1-6de75f71ddfb",
    "_uuid": "9b7ca8ab-7bbb-49f6-8b7a-b1fc3a799ec6",
    "id": "g69KlwJckMES",
    "outputId": "2431d321-06c4-4b00-f434-e11cd49d71fb"
   },
   "outputs": [],
   "source": [
    "labels_as_dict"
   ]
  },
  {
   "cell_type": "code",
   "execution_count": 0,
   "metadata": {
    "_cell_guid": "cf8385ba-b07f-486f-b605-779d6b14c5b8",
    "_uuid": "7194126c-0ce1-43a7-8366-37ec6b84979b",
    "id": "qaGX6CCgkMET",
    "outputId": "9da35b4a-ce78-45f7-a513-957ad03245cf"
   },
   "outputs": [],
   "source": [
    "dict((n, d) for n,d in B.nodes(data=True))"
   ]
  },
  {
   "cell_type": "code",
   "execution_count": 0,
   "metadata": {
    "_cell_guid": "0d1700b9-2718-49cb-9abd-af4c3d2c6c32",
    "_uuid": "8fc5b8b6-9648-4c92-8653-5290a527e0c6",
    "id": "X5DB7denkMEU",
    "outputId": "8211dbdf-2715-4c6d-8b8a-480c0189c3a0"
   },
   "outputs": [],
   "source": [
    "import networkx as nx\n",
    "from networkx.algorithms import bipartite\n",
    "%matplotlib notebook\n",
    "import matplotlib.pyplot as plt\n",
    "\n",
    "BG = nx.Graph()\n",
    "employees = [str(i) for i in range(3)]\n",
    "movies = [\"mA\", \"mB\", \"mC\"]\n",
    "BG.add_nodes_from(employees, bipartite=0, _type='emp')\n",
    "BG.add_nodes_from(movies, bipartite=1, _type='mov')\n",
    "edges = [(\"0\", \"mA\"), (\"0\", \"mC\"), (\"1\", \"mA\"),(\"1\", \"mB\"), (\"2\", \"mA\")]\n",
    "BG.add_edges_from(edges)\n",
    "labels = dict((n, \"(\" + n + \",\" + d['_type'] + \")\") for n,d in BG.nodes(data=True))\n",
    "\n",
    "# Setting up pos for drawing bipartite graph. See the reference for more info\n",
    "X, Y = bipartite.sets(BG)\n",
    "pos = dict()\n",
    "pos.update( (n, (1, i)) for i, n in enumerate(X) ) # put nodes from X at x=1\n",
    "pos.update( (n, (2, i)) for i, n in enumerate(Y) ) # put nodes from Y at x=2\n",
    "\n",
    "plt.figure()\n",
    "edges = BG.edges()\n",
    "nx.draw_networkx(BG, pos, edges=edges, labels=labels)"
   ]
  },
  {
   "cell_type": "code",
   "execution_count": 0,
   "metadata": {
    "_cell_guid": "3834c337-23b9-4e2d-9f3c-33ae3e89f5aa",
    "_uuid": "1b0da50a-eb67-4d7e-95f0-b9d70ff074a7",
    "id": "0yN0Hdj1kMEV",
    "outputId": "d0215332-2a02-47c0-da81-67d318527e72"
   },
   "outputs": [],
   "source": [
    "labels"
   ]
  },
  {
   "cell_type": "code",
   "execution_count": 0,
   "metadata": {
    "_cell_guid": "7b184187-0308-479a-9ba4-c3057c9a22ce",
    "_uuid": "3bf06a0f-423b-4db2-9ed6-2f21e0c12e78",
    "id": "5CtYeuLbkMEX",
    "outputId": "e87f0469-43d5-447c-b293-da20d436233c"
   },
   "outputs": [],
   "source": [
    "bin_labels"
   ]
  },
  {
   "cell_type": "code",
   "execution_count": 0,
   "metadata": {
    "_cell_guid": "727a0670-81a3-4619-9a90-1cd104f69f15",
    "_uuid": "55bc07f5-898a-40f4-b672-0597b5c78eca",
    "id": "CA4HHo59kMEY"
   },
   "outputs": [],
   "source": []
  }
 ],
 "metadata": {
  "accelerator": "GPU",
  "colab": {
   "collapsed_sections": [],
   "name": "1.4-sa-adult-local-decision-tree-trials.ipynb",
   "provenance": [],
   "toc_visible": true
  },
  "kernelspec": {
   "display_name": "Python 3",
   "language": "python",
   "name": "python3"
  },
  "language_info": {
   "codemirror_mode": {
    "name": "ipython",
    "version": 3
   },
   "file_extension": ".py",
   "mimetype": "text/x-python",
   "name": "python",
   "nbconvert_exporter": "python",
   "pygments_lexer": "ipython3",
   "version": "3.6.7"
  },
  "toc": {
   "base_numbering": 1,
   "nav_menu": {},
   "number_sections": true,
   "sideBar": true,
   "skip_h1_title": false,
   "title_cell": "Table of Contents",
   "title_sidebar": "Contents",
   "toc_cell": false,
   "toc_position": {
    "height": "calc(100% - 180px)",
    "left": "10px",
    "top": "150px",
    "width": "242.1px"
   },
   "toc_section_display": true,
   "toc_window_display": true
  }
 },
 "nbformat": 4,
 "nbformat_minor": 4
}
