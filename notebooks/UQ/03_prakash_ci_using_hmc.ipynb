{
 "cells": [
  {
   "cell_type": "code",
   "execution_count": 1,
   "metadata": {},
   "outputs": [],
   "source": [
    "import torch\n",
    "import hamiltorch\n",
    "import matplotlib.pyplot as plt\n",
    "\n",
    "import torch.nn as nn\n",
    "import torch.nn.functional as F\n",
    "\n",
    "%matplotlib inline"
   ]
  },
  {
   "cell_type": "code",
   "execution_count": 2,
   "metadata": {},
   "outputs": [],
   "source": [
    "hamiltorch.set_random_seed(123)\n",
    "device = 'cpu'#torch.device('cuda' if torch.cuda.is_available() else 'cpu')"
   ]
  },
  {
   "cell_type": "markdown",
   "metadata": {},
   "source": [
    "* Defining model"
   ]
  },
  {
   "cell_type": "code",
   "execution_count": 3,
   "metadata": {},
   "outputs": [
    {
     "name": "stdout",
     "output_type": "stream",
     "text": [
      "Net(\n",
      "  (l1): Linear(in_features=4, out_features=3, bias=True)\n",
      ")\n"
     ]
    }
   ],
   "source": [
    "class Net(nn.Module):\n",
    "    def __init__(self, layer_sizes, loss = 'multi_class', bias=True):\n",
    "        super(Net, self).__init__()\n",
    "        self.layer_sizes = layer_sizes\n",
    "        self.layer_list = []\n",
    "        self.loss = loss\n",
    "        self.bias = bias\n",
    "        self.l1 = nn.Linear(layer_sizes[0], layer_sizes[1],bias = self.bias)\n",
    "#         self.l2 = nn.Linear(layer_sizes[1], layer_sizes[2],bias = self.bias)\n",
    "\n",
    "    def forward(self, x):\n",
    "        x = self.l1(x)\n",
    "#         x = torch.softmax(x)\n",
    "#         x = self.l2(x)\n",
    "        return x\n",
    "#         output = self.layer_list[-1](x)\n",
    "#         if self.loss is 'binary_class' or 'regression':\n",
    "#             return output\n",
    "#         if self.loss is 'multi_class':\n",
    "#         return F.log_softmax(x, dim=1)\n",
    "layer_sizes = [4,3]\n",
    "model = Net(layer_sizes)\n",
    "print(model)"
   ]
  },
  {
   "cell_type": "code",
   "execution_count": 4,
   "metadata": {},
   "outputs": [
    {
     "data": {
      "text/plain": [
       "[Parameter containing:\n",
       " tensor([[-0.2039,  0.0166, -0.2483,  0.1886],\n",
       "         [-0.4260,  0.3665, -0.3634, -0.3975],\n",
       "         [-0.3159,  0.2264, -0.1847,  0.1871]], requires_grad=True),\n",
       " Parameter containing:\n",
       " tensor([-0.4244, -0.3034, -0.1836], requires_grad=True)]"
      ]
     },
     "execution_count": 4,
     "metadata": {},
     "output_type": "execute_result"
    }
   ],
   "source": [
    "list(model.parameters())"
   ]
  },
  {
   "cell_type": "code",
   "execution_count": 290,
   "metadata": {},
   "outputs": [],
   "source": [
    "from sklearn.datasets import load_iris\n",
    "import numpy as np\n",
    "np.random.seed(0)\n",
    "data = load_iris()\n",
    "x_ = data['data']\n",
    "y_ = data['target']\n",
    "N_tr = 140#10#50\n",
    "N_val = 140\n",
    "a = np.arange(x_.shape[0])\n",
    "train_index = np.random.choice(a, size = N_tr, replace = False)\n",
    "val_index = np.delete(a, train_index, axis=0)\n",
    "x_train = x_[train_index]\n",
    "y_train = y_[train_index]\n",
    "x_val = x_[val_index][:]\n",
    "y_val = y_[val_index][:]\n",
    "x_m = x_train.mean(0)\n",
    "x_s = x_train.std(0)\n",
    "x_train = (x_train-x_m)/ x_s\n",
    "x_val = (x_val-x_m)/ x_s\n",
    "D_in = x_train.shape[1]\n",
    "x_train = torch.FloatTensor(x_train)\n",
    "y_train = torch.LongTensor(y_train)\n",
    "x_val = torch.FloatTensor(x_val)\n",
    "y_val = torch.FloatTensor(y_val)\n",
    "\n",
    "trainx= x_train\n",
    "trainy=y_train#nn.functional.one_hot(y_train%3, num_classes=3)"
   ]
  },
  {
   "cell_type": "markdown",
   "metadata": {},
   "source": [
    "* Training model"
   ]
  },
  {
   "cell_type": "code",
   "execution_count": 7,
   "metadata": {},
   "outputs": [],
   "source": [
    "import torch.nn as nn\n",
    "from torch.autograd import Variable\n",
    "import torch.optim as optim\n",
    "\n",
    "optimizer = optim.Adam(model.parameters())\n",
    "loss = nn.CrossEntropyLoss()"
   ]
  },
  {
   "cell_type": "code",
   "execution_count": 8,
   "metadata": {},
   "outputs": [
    {
     "name": "stdout",
     "output_type": "stream",
     "text": [
      "epoch:  0  loss:  1.3596820831298828\n",
      "epoch:  1000  loss:  0.37445205450057983\n",
      "epoch:  2000  loss:  0.24677099287509918\n",
      "epoch:  3000  loss:  0.17584633827209473\n"
     ]
    }
   ],
   "source": [
    "for epoch in range(4000):\n",
    "    #x_, y_ = sample(data, count= 64)\n",
    "    #x_,y_= data.values[:,0].reshape(-1,1), data.values[:,1]\n",
    "    \n",
    "    #trainx = Variable(torch.Tensor(x_train).float(), requires_grad= True)\n",
    "    #trainy = Variable(torch.reshape(torch.Tensor(y_).float(), (-1,1)))\n",
    "    optimizer.zero_grad()\n",
    "    y_pred= model(trainx)\n",
    "    \n",
    "    l = loss(y_pred, trainy)\n",
    "    #losses.append(l.item())\n",
    "    if epoch%1000==0:\n",
    "        print('epoch: ', epoch, ' loss: ', l.item());\n",
    "    \n",
    "    l.backward()\n",
    "    optimizer.step()"
   ]
  },
  {
   "cell_type": "code",
   "execution_count": 9,
   "metadata": {},
   "outputs": [
    {
     "data": {
      "text/plain": [
       "[Parameter containing:\n",
       " tensor([[-1.5151,  1.2212, -1.7292, -1.2839],\n",
       "         [ 0.9382, -0.8014, -0.1096, -1.1717],\n",
       "         [ 0.9362, -1.3702,  2.0526,  2.5280]], requires_grad=True),\n",
       " Parameter containing:\n",
       " tensor([-0.7680,  1.5440, -2.1664], requires_grad=True)]"
      ]
     },
     "execution_count": 9,
     "metadata": {},
     "output_type": "execute_result"
    }
   ],
   "source": [
    "list(model.parameters())"
   ]
  },
  {
   "cell_type": "markdown",
   "metadata": {},
   "source": [
    "* Trial 1"
   ]
  },
  {
   "cell_type": "code",
   "execution_count": 73,
   "metadata": {},
   "outputs": [],
   "source": [
    "params_init = hamiltorch.util.flatten(model).to(device).clone()"
   ]
  },
  {
   "cell_type": "code",
   "execution_count": 14,
   "metadata": {},
   "outputs": [],
   "source": [
    "def define_model_log_prob(model, model_loss, x, y, params_flattened_list, params_shape_list, tau_list, tau_out, predict=False):\n",
    "    fmodel = util.make_functional(model)\n",
    "    dist_list = []\n",
    "    for tau in tau_list:\n",
    "        dist_list.append(torch.distributions.Normal(torch.zeros_like(tau_list[0]), tau**-0.5))\n",
    "\n",
    "    def log_prob_func(params):\n",
    "        # model.zero_grad()\n",
    "        # params is flat\n",
    "        # Below we update the network weights to be params\n",
    "        params_unflattened = util.unflatten(model, params)\n",
    "\n",
    "        i_prev = 0\n",
    "        l_prior = params#torch.zeros_like( params[0], requires_grad=True) # Set l2_reg to be on the same device as params\n",
    "        for weights, index, shape, dist in zip(model.parameters(), params_flattened_list, params_shape_list, dist_list):\n",
    "            # weights.data = params[i_prev:index+i_prev].reshape(shape)\n",
    "            w = params[i_prev:index+i_prev]\n",
    "            l_prior = dist.log_prob(w).sum() + l_prior\n",
    "            i_prev += index\n",
    "\n",
    "        # Sample prior if no data\n",
    "        if x is None:\n",
    "            # print('hi')\n",
    "            return l_prior#/y.shape[0]\n",
    "\n",
    "\n",
    "        output = fmodel(x,params=params_unflattened)\n",
    "\n",
    "        if model_loss is 'binary_class':\n",
    "            crit = nn.BCEWithLogitsLoss(reduction='sum')\n",
    "            ll = - tau_out *(crit(output, y))\n",
    "        elif model_loss is 'multi_class_linear_output':\n",
    "    #         crit = nn.MSELoss(reduction='mean')\n",
    "            crit = nn.CrossEntropyLoss(reduction='sum')\n",
    "    #         crit = nn.BCEWithLogitsLoss(reduction='sum')\n",
    "            ll = - tau_out *(crit(output, y.long().view(-1)))\n",
    "            # ll = - tau_out *(torch.nn.functional.nll_loss(output, y.long().view(-1)))\n",
    "        elif model_loss is 'multi_class_log_softmax_output':\n",
    "            ll = - tau_out *(torch.nn.functional.nll_loss(output, y.long().view(-1)))\n",
    "\n",
    "        elif model_loss is 'regression':\n",
    "            # crit = nn.MSELoss(reduction='sum')\n",
    "            ll = - 0.5 * tau_out * ((output - y) ** 2).sum(0)#sum(0)\n",
    "\n",
    "        elif callable(model_loss):\n",
    "            # Assume defined custom log-likelihood.\n",
    "            ll = - model_loss(output, y).sum(0)\n",
    "        else:\n",
    "            raise NotImplementedError()\n",
    "        if predict:\n",
    "            return ll + l_prior, output\n",
    "        else:\n",
    "            return ll + l_prior\n",
    "\n",
    "    return log_prob_func"
   ]
  },
  {
   "cell_type": "code",
   "execution_count": 255,
   "metadata": {},
   "outputs": [],
   "source": [
    "import torch\n",
    "import torch.nn as nn\n",
    "from enum import Enum\n",
    "\n",
    "from numpy import pi\n",
    "from hamiltorch import util\n",
    "\n",
    "\n",
    "class Sampler(Enum):\n",
    "    HMC = 1\n",
    "    RMHMC = 2\n",
    "    HMC_NUTS = 3\n",
    "    # IMPORTANCE = 3\n",
    "    # MH = 4\n",
    "\n",
    "\n",
    "class Integrator(Enum):\n",
    "    EXPLICIT = 1\n",
    "    IMPLICIT = 2\n",
    "    S3       = 3\n",
    "\n",
    "\n",
    "class Metric(Enum):\n",
    "    HESSIAN = 1\n",
    "    SOFTABS = 2\n",
    "    JACOBIAN_DIAG = 3\n",
    "\n",
    "def sample_model(model, x, y, params_init, model_loss='multi_class_linear_output' ,num_samples=10, num_steps_per_sample=10, step_size=0.1, burn=0, inv_mass=None, jitter=None, normalizing_const=1., softabs_const=None, explicit_binding_const=100, fixed_point_threshold=1e-5, fixed_point_max_iterations=1000, jitter_max_tries=10, sampler=Sampler.HMC, integrator=Integrator.IMPLICIT, metric=Metric.HESSIAN, debug=False, tau_out=1.,tau_list=None):\n",
    "    import hamiltorch\n",
    "    params_shape_list = []\n",
    "    params_flattened_list = []\n",
    "    build_tau = False\n",
    "    if tau_list is None:\n",
    "        tau_list = []\n",
    "        build_tau = True\n",
    "    for weights in model.parameters():\n",
    "        params_shape_list.append(weights.shape)\n",
    "        params_flattened_list.append(weights.nelement())\n",
    "        if build_tau:\n",
    "            tau_list.append(1.)\n",
    "\n",
    "    log_prob_func = define_model_log_prob(model, model_loss, x, y, params_flattened_list, params_shape_list, tau_list, tau_out)\n",
    "\n",
    "    if torch.cuda.is_available():\n",
    "        torch.cuda.empty_cache()\n",
    "\n",
    "    return hamiltorch.sample(log_prob_func, params_init, num_samples=num_samples, num_steps_per_sample=num_steps_per_sample, step_size=step_size, burn=burn, jitter=jitter, inv_mass=inv_mass, normalizing_const=normalizing_const, softabs_const=softabs_const, explicit_binding_const=explicit_binding_const, fixed_point_threshold=fixed_point_threshold, fixed_point_max_iterations=fixed_point_max_iterations, jitter_max_tries=jitter_max_tries, sampler=sampler, integrator=integrator, metric=metric, debug=debug, desired_accept_rate=0.8)"
   ]
  },
  {
   "cell_type": "markdown",
   "metadata": {},
   "source": [
    "* Sampling params using HMC"
   ]
  },
  {
   "cell_type": "code",
   "execution_count": 55,
   "metadata": {},
   "outputs": [
    {
     "name": "stdout",
     "output_type": "stream",
     "text": [
      "Sampling (Sampler.HMC; Integrator.IMPLICIT)\n",
      "Time spent  | Time remain.| Progress             | Samples | Samples/sec\n",
      "0d:00:00:04 | 0d:00:00:00 | #################### | 300/300 | 72.40       \n",
      "Acceptance Rate 0.99\n"
     ]
    }
   ],
   "source": [
    "## Set hyperparameters for network\n",
    "\n",
    "tau_list = []\n",
    "tau = 1.#/100. # iris 1/10\n",
    "for w in model.parameters():\n",
    "    tau_list.append(tau)\n",
    "tau_list = torch.tensor(tau_list).to(device)\n",
    "\n",
    "hamiltorch.set_random_seed(123)\n",
    "params_init = hamiltorch.util.flatten(model).to(device).clone()\n",
    "\n",
    "step_size = 0.1 # 0.5\n",
    "num_samples = 300#1000\n",
    "L = 20#3\n",
    "tau_out = 1.\n",
    "\n",
    "params_hmc = hamiltorch.sample_model(model, x_train[:10,:], y_train[:10], params_init=params_init, num_samples=num_samples,\n",
    "                               step_size=step_size, num_steps_per_sample=L,tau_out=tau_out,tau_list=tau_list)\n"
   ]
  },
  {
   "cell_type": "code",
   "execution_count": 56,
   "metadata": {},
   "outputs": [
    {
     "data": {
      "text/plain": [
       "5981"
      ]
     },
     "execution_count": 56,
     "metadata": {},
     "output_type": "execute_result"
    }
   ],
   "source": [
    "len(params_hmc)"
   ]
  },
  {
   "cell_type": "code",
   "execution_count": 77,
   "metadata": {},
   "outputs": [
    {
     "data": {
      "text/plain": [
       "tensor([-1.5151,  1.2212, -1.7292, -1.2839,  0.9382, -0.8014, -0.1096, -1.1717,\n",
       "         0.9362, -1.3702,  2.0526,  2.5280, -0.7680,  1.5440, -2.1664],\n",
       "       grad_fn=<CloneBackward>)"
      ]
     },
     "execution_count": 77,
     "metadata": {},
     "output_type": "execute_result"
    }
   ],
   "source": [
    "params_init"
   ]
  },
  {
   "cell_type": "markdown",
   "metadata": {},
   "source": [
    "* Reporting samples"
   ]
  },
  {
   "cell_type": "code",
   "execution_count": 80,
   "metadata": {},
   "outputs": [
    {
     "data": {
      "text/html": [
       "<div>\n",
       "<style scoped>\n",
       "    .dataframe tbody tr th:only-of-type {\n",
       "        vertical-align: middle;\n",
       "    }\n",
       "\n",
       "    .dataframe tbody tr th {\n",
       "        vertical-align: top;\n",
       "    }\n",
       "\n",
       "    .dataframe thead th {\n",
       "        text-align: right;\n",
       "    }\n",
       "</style>\n",
       "<table border=\"1\" class=\"dataframe\">\n",
       "  <thead>\n",
       "    <tr style=\"text-align: right;\">\n",
       "      <th></th>\n",
       "      <th>theta_1</th>\n",
       "      <th>theta_2</th>\n",
       "      <th>theta_3</th>\n",
       "      <th>theta_4</th>\n",
       "      <th>theta_5</th>\n",
       "      <th>theta_6</th>\n",
       "      <th>theta_7</th>\n",
       "      <th>theta_8</th>\n",
       "      <th>theta_9</th>\n",
       "      <th>theta_10</th>\n",
       "      <th>theta_11</th>\n",
       "      <th>theta_12</th>\n",
       "      <th>theta_13</th>\n",
       "      <th>theta_14</th>\n",
       "      <th>theta_15</th>\n",
       "    </tr>\n",
       "  </thead>\n",
       "  <tbody>\n",
       "    <tr>\n",
       "      <td>0</td>\n",
       "      <td>-1.5151206</td>\n",
       "      <td>1.2212245</td>\n",
       "      <td>-1.7291895</td>\n",
       "      <td>-1.2838798</td>\n",
       "      <td>0.93815035</td>\n",
       "      <td>-0.8014387</td>\n",
       "      <td>-0.10963513</td>\n",
       "      <td>-1.1716723</td>\n",
       "      <td>0.93621886</td>\n",
       "      <td>-1.3702186</td>\n",
       "      <td>2.0525959</td>\n",
       "      <td>2.5280046</td>\n",
       "      <td>-0.7680219</td>\n",
       "      <td>1.5439752</td>\n",
       "      <td>-2.1664016</td>\n",
       "    </tr>\n",
       "    <tr>\n",
       "      <td>1</td>\n",
       "      <td>-0.13473429</td>\n",
       "      <td>0.31708467</td>\n",
       "      <td>-0.6759863</td>\n",
       "      <td>-0.558126</td>\n",
       "      <td>-0.29277536</td>\n",
       "      <td>-0.35336792</td>\n",
       "      <td>-0.36505488</td>\n",
       "      <td>0.07022159</td>\n",
       "      <td>-0.47768652</td>\n",
       "      <td>0.48001423</td>\n",
       "      <td>-0.23512468</td>\n",
       "      <td>-0.7304475</td>\n",
       "      <td>0.770863</td>\n",
       "      <td>0.065015435</td>\n",
       "      <td>0.79426897</td>\n",
       "    </tr>\n",
       "    <tr>\n",
       "      <td>2</td>\n",
       "      <td>-0.08227636</td>\n",
       "      <td>0.29863626</td>\n",
       "      <td>-0.8144813</td>\n",
       "      <td>-0.5556204</td>\n",
       "      <td>-0.3375787</td>\n",
       "      <td>-0.26155457</td>\n",
       "      <td>-0.5081047</td>\n",
       "      <td>0.14701295</td>\n",
       "      <td>-0.33574104</td>\n",
       "      <td>0.24847324</td>\n",
       "      <td>-0.09795299</td>\n",
       "      <td>-0.7240465</td>\n",
       "      <td>0.7285374</td>\n",
       "      <td>-0.06586236</td>\n",
       "      <td>0.86124265</td>\n",
       "    </tr>\n",
       "    <tr>\n",
       "      <td>3</td>\n",
       "      <td>-0.05459147</td>\n",
       "      <td>0.30450073</td>\n",
       "      <td>-0.9745288</td>\n",
       "      <td>-0.5743385</td>\n",
       "      <td>-0.3627625</td>\n",
       "      <td>-0.18827876</td>\n",
       "      <td>-0.645062</td>\n",
       "      <td>0.212905</td>\n",
       "      <td>-0.18108615</td>\n",
       "      <td>0.0083013475</td>\n",
       "      <td>0.068884134</td>\n",
       "      <td>-0.674196</td>\n",
       "      <td>0.6705766</td>\n",
       "      <td>-0.17756343</td>\n",
       "      <td>0.90943563</td>\n",
       "    </tr>\n",
       "    <tr>\n",
       "      <td>4</td>\n",
       "      <td>-0.043844227</td>\n",
       "      <td>0.3245802</td>\n",
       "      <td>-1.1440973</td>\n",
       "      <td>-0.60476816</td>\n",
       "      <td>-0.36389703</td>\n",
       "      <td>-0.13817185</td>\n",
       "      <td>-0.77031213</td>\n",
       "      <td>0.27080202</td>\n",
       "      <td>-0.02755849</td>\n",
       "      <td>-0.2241619</td>\n",
       "      <td>0.24904212</td>\n",
       "      <td>-0.5942826</td>\n",
       "      <td>0.59748966</td>\n",
       "      <td>-0.26380107</td>\n",
       "      <td>0.9332668</td>\n",
       "    </tr>\n",
       "    <tr>\n",
       "      <td>...</td>\n",
       "      <td>...</td>\n",
       "      <td>...</td>\n",
       "      <td>...</td>\n",
       "      <td>...</td>\n",
       "      <td>...</td>\n",
       "      <td>...</td>\n",
       "      <td>...</td>\n",
       "      <td>...</td>\n",
       "      <td>...</td>\n",
       "      <td>...</td>\n",
       "      <td>...</td>\n",
       "      <td>...</td>\n",
       "      <td>...</td>\n",
       "      <td>...</td>\n",
       "      <td>...</td>\n",
       "    </tr>\n",
       "    <tr>\n",
       "      <td>5976</td>\n",
       "      <td>-0.66038585</td>\n",
       "      <td>0.2698785</td>\n",
       "      <td>0.3551882</td>\n",
       "      <td>-1.5309932</td>\n",
       "      <td>0.8525387</td>\n",
       "      <td>-1.6586319</td>\n",
       "      <td>0.011883181</td>\n",
       "      <td>-0.840129</td>\n",
       "      <td>0.32154644</td>\n",
       "      <td>-0.14429434</td>\n",
       "      <td>0.26593325</td>\n",
       "      <td>0.7227252</td>\n",
       "      <td>-1.2397819</td>\n",
       "      <td>0.18674198</td>\n",
       "      <td>-0.8099884</td>\n",
       "    </tr>\n",
       "    <tr>\n",
       "      <td>5977</td>\n",
       "      <td>-0.59887314</td>\n",
       "      <td>0.43481296</td>\n",
       "      <td>0.3701826</td>\n",
       "      <td>-1.5989387</td>\n",
       "      <td>0.81993717</td>\n",
       "      <td>-1.6951573</td>\n",
       "      <td>0.037956662</td>\n",
       "      <td>-0.8864032</td>\n",
       "      <td>0.32442817</td>\n",
       "      <td>0.020353258</td>\n",
       "      <td>0.30291364</td>\n",
       "      <td>0.7214215</td>\n",
       "      <td>-1.1710827</td>\n",
       "      <td>0.10480026</td>\n",
       "      <td>-0.8224599</td>\n",
       "    </tr>\n",
       "    <tr>\n",
       "      <td>5978</td>\n",
       "      <td>-0.5342191</td>\n",
       "      <td>0.5979254</td>\n",
       "      <td>0.37809864</td>\n",
       "      <td>-1.6540794</td>\n",
       "      <td>0.7748345</td>\n",
       "      <td>-1.7138623</td>\n",
       "      <td>0.0559861</td>\n",
       "      <td>-0.9308381</td>\n",
       "      <td>0.33121476</td>\n",
       "      <td>0.18140239</td>\n",
       "      <td>0.3479059</td>\n",
       "      <td>0.72311294</td>\n",
       "      <td>-1.0900209</td>\n",
       "      <td>0.017314263</td>\n",
       "      <td>-0.8228624</td>\n",
       "    </tr>\n",
       "    <tr>\n",
       "      <td>5979</td>\n",
       "      <td>-0.46688297</td>\n",
       "      <td>0.75718176</td>\n",
       "      <td>0.37927365</td>\n",
       "      <td>-1.6954422</td>\n",
       "      <td>0.71885675</td>\n",
       "      <td>-1.7143828</td>\n",
       "      <td>0.06663349</td>\n",
       "      <td>-0.9723302</td>\n",
       "      <td>0.34047613</td>\n",
       "      <td>0.3374685</td>\n",
       "      <td>0.39920133</td>\n",
       "      <td>0.7267017</td>\n",
       "      <td>-0.9979546</td>\n",
       "      <td>-0.07319381</td>\n",
       "      <td>-0.81229156</td>\n",
       "    </tr>\n",
       "    <tr>\n",
       "      <td>5980</td>\n",
       "      <td>-0.3975016</td>\n",
       "      <td>0.9107239</td>\n",
       "      <td>0.37394333</td>\n",
       "      <td>-1.722341</td>\n",
       "      <td>0.6543235</td>\n",
       "      <td>-1.6968417</td>\n",
       "      <td>0.07113095</td>\n",
       "      <td>-1.0094421</td>\n",
       "      <td>0.3503232</td>\n",
       "      <td>0.48738453</td>\n",
       "      <td>0.45470095</td>\n",
       "      <td>0.73085696</td>\n",
       "      <td>-0.8963154</td>\n",
       "      <td>-0.16382328</td>\n",
       "      <td>-0.7923379</td>\n",
       "    </tr>\n",
       "  </tbody>\n",
       "</table>\n",
       "<p>5981 rows × 15 columns</p>\n",
       "</div>"
      ],
      "text/plain": [
       "           theta_1     theta_2     theta_3      theta_4      theta_5  \\\n",
       "0       -1.5151206   1.2212245  -1.7291895   -1.2838798   0.93815035   \n",
       "1      -0.13473429  0.31708467  -0.6759863    -0.558126  -0.29277536   \n",
       "2      -0.08227636  0.29863626  -0.8144813   -0.5556204   -0.3375787   \n",
       "3      -0.05459147  0.30450073  -0.9745288   -0.5743385   -0.3627625   \n",
       "4     -0.043844227   0.3245802  -1.1440973  -0.60476816  -0.36389703   \n",
       "...            ...         ...         ...          ...          ...   \n",
       "5976   -0.66038585   0.2698785   0.3551882   -1.5309932    0.8525387   \n",
       "5977   -0.59887314  0.43481296   0.3701826   -1.5989387   0.81993717   \n",
       "5978    -0.5342191   0.5979254  0.37809864   -1.6540794    0.7748345   \n",
       "5979   -0.46688297  0.75718176  0.37927365   -1.6954422   0.71885675   \n",
       "5980    -0.3975016   0.9107239  0.37394333    -1.722341    0.6543235   \n",
       "\n",
       "          theta_6      theta_7     theta_8      theta_9      theta_10  \\\n",
       "0      -0.8014387  -0.10963513  -1.1716723   0.93621886    -1.3702186   \n",
       "1     -0.35336792  -0.36505488  0.07022159  -0.47768652    0.48001423   \n",
       "2     -0.26155457   -0.5081047  0.14701295  -0.33574104    0.24847324   \n",
       "3     -0.18827876    -0.645062    0.212905  -0.18108615  0.0083013475   \n",
       "4     -0.13817185  -0.77031213  0.27080202  -0.02755849    -0.2241619   \n",
       "...           ...          ...         ...          ...           ...   \n",
       "5976   -1.6586319  0.011883181   -0.840129   0.32154644   -0.14429434   \n",
       "5977   -1.6951573  0.037956662  -0.8864032   0.32442817   0.020353258   \n",
       "5978   -1.7138623    0.0559861  -0.9308381   0.33121476    0.18140239   \n",
       "5979   -1.7143828   0.06663349  -0.9723302   0.34047613     0.3374685   \n",
       "5980   -1.6968417   0.07113095  -1.0094421    0.3503232    0.48738453   \n",
       "\n",
       "         theta_11    theta_12    theta_13     theta_14     theta_15  \n",
       "0       2.0525959   2.5280046  -0.7680219    1.5439752   -2.1664016  \n",
       "1     -0.23512468  -0.7304475    0.770863  0.065015435   0.79426897  \n",
       "2     -0.09795299  -0.7240465   0.7285374  -0.06586236   0.86124265  \n",
       "3     0.068884134   -0.674196   0.6705766  -0.17756343   0.90943563  \n",
       "4      0.24904212  -0.5942826  0.59748966  -0.26380107    0.9332668  \n",
       "...           ...         ...         ...          ...          ...  \n",
       "5976   0.26593325   0.7227252  -1.2397819   0.18674198   -0.8099884  \n",
       "5977   0.30291364   0.7214215  -1.1710827   0.10480026   -0.8224599  \n",
       "5978    0.3479059  0.72311294  -1.0900209  0.017314263   -0.8228624  \n",
       "5979   0.39920133   0.7267017  -0.9979546  -0.07319381  -0.81229156  \n",
       "5980   0.45470095  0.73085696  -0.8963154  -0.16382328   -0.7923379  \n",
       "\n",
       "[5981 rows x 15 columns]"
      ]
     },
     "execution_count": 80,
     "metadata": {},
     "output_type": "execute_result"
    }
   ],
   "source": [
    "from collections import defaultdict\n",
    "import pandas as pd\n",
    "all_theta_di = defaultdict(list)\n",
    "for sample in params_hmc:\n",
    "    [all_theta_di['theta_{}'.format(1+ idx)].append(sample[idx].numpy()) for idx in range(len(sample))]\n",
    "df_all_theta = pd.DataFrame(all_theta_di)\n",
    "df_all_theta"
   ]
  },
  {
   "cell_type": "code",
   "execution_count": 89,
   "metadata": {},
   "outputs": [
    {
     "data": {
      "image/png": "[encoded data removed]",
      "text/plain": [
       "<Figure size 432x288 with 1 Axes>"
      ]
     },
     "metadata": {
      "needs_background": "light"
     },
     "output_type": "display_data"
    }
   ],
   "source": [
    "import matplotlib.pyplot as plt\n",
    "%matplotlib inline\n",
    "plt.plot(df_all_theta['theta_1'].values)\n",
    "plt.show()"
   ]
  },
  {
   "cell_type": "code",
   "execution_count": 92,
   "metadata": {},
   "outputs": [
    {
     "data": {
      "image/png": "[encoded data removed]",
      "text/plain": [
       "<Figure size 432x288 with 1 Axes>"
      ]
     },
     "metadata": {
      "needs_background": "light"
     },
     "output_type": "display_data"
    }
   ],
   "source": [
    "_ = plt.hist(df_all_theta['theta_1'].values, bins=40)"
   ]
  },
  {
   "cell_type": "code",
   "execution_count": 93,
   "metadata": {},
   "outputs": [
    {
     "data": {
      "text/plain": [
       "-1.8319803476333618"
      ]
     },
     "execution_count": 93,
     "metadata": {},
     "output_type": "execute_result"
    }
   ],
   "source": [
    "np.quantile(df_all_theta['theta_1'].values, 0.1)"
   ]
  },
  {
   "cell_type": "code",
   "execution_count": 94,
   "metadata": {},
   "outputs": [
    {
     "data": {
      "text/plain": [
       "0.5331450700759888"
      ]
     },
     "execution_count": 94,
     "metadata": {},
     "output_type": "execute_result"
    }
   ],
   "source": [
    "np.quantile(df_all_theta['theta_1'].values, 0.9)"
   ]
  },
  {
   "cell_type": "code",
   "execution_count": 99,
   "metadata": {
    "scrolled": true
   },
   "outputs": [
    {
     "data": {
      "text/plain": [
       "-0.6126612"
      ]
     },
     "execution_count": 99,
     "metadata": {},
     "output_type": "execute_result"
    }
   ],
   "source": [
    "np.mean(df_all_theta['theta_1'].values)"
   ]
  },
  {
   "cell_type": "markdown",
   "metadata": {},
   "source": [
    "### Contrasting results with statsmodel on  iris binary dataset"
   ]
  },
  {
   "cell_type": "code",
   "execution_count": 320,
   "metadata": {},
   "outputs": [],
   "source": [
    "data = load_iris()\n",
    "x_ = data['data']\n",
    "y_ = data['target']\n",
    "y_[np.where(y_>=1)]= 1\n",
    "\n",
    "N_tr = 140#10#50\n",
    "a = np.arange(x_.shape[0])\n",
    "train_index = np.random.choice(a, size = N_tr, replace = False)\n",
    "x_train = x_[train_index]\n",
    "y_train = y_[train_index]\n",
    "x_m = x_train.mean(0)\n",
    "x_s = x_train.std(0)\n",
    "x_train = (x_train-x_m)/ x_s\n",
    "trainx = torch.FloatTensor(x_train)\n",
    "trainy = torch.FloatTensor(y_train)\n",
    "\n",
    "#trainx= x_train\n",
    "#trainy=y_train#nn.functional.one_hot(y_train%3, num_classes=3)"
   ]
  },
  {
   "cell_type": "code",
   "execution_count": 327,
   "metadata": {},
   "outputs": [],
   "source": [
    "import statsmodels.api as sm\n",
    "feats, targets= x_train, y_train"
   ]
  },
  {
   "cell_type": "code",
   "execution_count": 331,
   "metadata": {},
   "outputs": [
    {
     "ename": "PerfectSeparationError",
     "evalue": "Perfect separation detected, results not available",
     "output_type": "error",
     "traceback": [
      "\u001b[0;31m---------------------------------------------------------------------------\u001b[0m",
      "\u001b[0;31mPerfectSeparationError\u001b[0m                    Traceback (most recent call last)",
      "\u001b[0;32m<ipython-input-331-3bc95cebd07a>\u001b[0m in \u001b[0;36m<module>\u001b[0;34m\u001b[0m\n\u001b[1;32m      1\u001b[0m \u001b[0;31m#Without standard scaling of data\u001b[0m\u001b[0;34m\u001b[0m\u001b[0;34m\u001b[0m\u001b[0;34m\u001b[0m\u001b[0m\n\u001b[1;32m      2\u001b[0m \u001b[0mmodel_stm\u001b[0m \u001b[0;34m=\u001b[0m \u001b[0msm\u001b[0m\u001b[0;34m.\u001b[0m\u001b[0mLogit\u001b[0m\u001b[0;34m(\u001b[0m\u001b[0mtargets\u001b[0m\u001b[0;34m,\u001b[0m \u001b[0mfeats\u001b[0m\u001b[0;34m)\u001b[0m\u001b[0;31m#, hasconst=True)\u001b[0m\u001b[0;34m\u001b[0m\u001b[0;34m\u001b[0m\u001b[0m\n\u001b[0;32m----> 3\u001b[0;31m \u001b[0mresult\u001b[0m\u001b[0;34m=\u001b[0m \u001b[0mmodel_stm\u001b[0m\u001b[0;34m.\u001b[0m\u001b[0mfit\u001b[0m\u001b[0;34m(\u001b[0m\u001b[0mdisp\u001b[0m\u001b[0;34m=\u001b[0m\u001b[0;36m0\u001b[0m\u001b[0;34m)\u001b[0m\u001b[0;34m\u001b[0m\u001b[0;34m\u001b[0m\u001b[0m\n\u001b[0m",
      "\u001b[0;32m~/Desktop/pyvirtual2/lib/python3.6/site-packages/statsmodels/discrete/discrete_model.py\u001b[0m in \u001b[0;36mfit\u001b[0;34m(self, start_params, method, maxiter, full_output, disp, callback, **kwargs)\u001b[0m\n\u001b[1;32m   1911\u001b[0m         bnryfit = super(Logit, self).fit(start_params=start_params,\n\u001b[1;32m   1912\u001b[0m                 \u001b[0mmethod\u001b[0m\u001b[0;34m=\u001b[0m\u001b[0mmethod\u001b[0m\u001b[0;34m,\u001b[0m \u001b[0mmaxiter\u001b[0m\u001b[0;34m=\u001b[0m\u001b[0mmaxiter\u001b[0m\u001b[0;34m,\u001b[0m \u001b[0mfull_output\u001b[0m\u001b[0;34m=\u001b[0m\u001b[0mfull_output\u001b[0m\u001b[0;34m,\u001b[0m\u001b[0;34m\u001b[0m\u001b[0;34m\u001b[0m\u001b[0m\n\u001b[0;32m-> 1913\u001b[0;31m                 disp=disp, callback=callback, **kwargs)\n\u001b[0m\u001b[1;32m   1914\u001b[0m \u001b[0;34m\u001b[0m\u001b[0m\n\u001b[1;32m   1915\u001b[0m         \u001b[0mdiscretefit\u001b[0m \u001b[0;34m=\u001b[0m \u001b[0mLogitResults\u001b[0m\u001b[0;34m(\u001b[0m\u001b[0mself\u001b[0m\u001b[0;34m,\u001b[0m \u001b[0mbnryfit\u001b[0m\u001b[0;34m)\u001b[0m\u001b[0;34m\u001b[0m\u001b[0;34m\u001b[0m\u001b[0m\n",
      "\u001b[0;32m~/Desktop/pyvirtual2/lib/python3.6/site-packages/statsmodels/discrete/discrete_model.py\u001b[0m in \u001b[0;36mfit\u001b[0;34m(self, start_params, method, maxiter, full_output, disp, callback, **kwargs)\u001b[0m\n\u001b[1;32m    214\u001b[0m             \u001b[0mstart_params\u001b[0m\u001b[0;34m=\u001b[0m\u001b[0mstart_params\u001b[0m\u001b[0;34m,\u001b[0m\u001b[0;34m\u001b[0m\u001b[0;34m\u001b[0m\u001b[0m\n\u001b[1;32m    215\u001b[0m             \u001b[0mmethod\u001b[0m\u001b[0;34m=\u001b[0m\u001b[0mmethod\u001b[0m\u001b[0;34m,\u001b[0m \u001b[0mmaxiter\u001b[0m\u001b[0;34m=\u001b[0m\u001b[0mmaxiter\u001b[0m\u001b[0;34m,\u001b[0m \u001b[0mfull_output\u001b[0m\u001b[0;34m=\u001b[0m\u001b[0mfull_output\u001b[0m\u001b[0;34m,\u001b[0m\u001b[0;34m\u001b[0m\u001b[0;34m\u001b[0m\u001b[0m\n\u001b[0;32m--> 216\u001b[0;31m             disp=disp, callback=callback, **kwargs)\n\u001b[0m\u001b[1;32m    217\u001b[0m \u001b[0;34m\u001b[0m\u001b[0m\n\u001b[1;32m    218\u001b[0m         \u001b[0;32mreturn\u001b[0m \u001b[0mmlefit\u001b[0m  \u001b[0;31m# It is up to subclasses to wrap results\u001b[0m\u001b[0;34m\u001b[0m\u001b[0;34m\u001b[0m\u001b[0m\n",
      "\u001b[0;32m~/Desktop/pyvirtual2/lib/python3.6/site-packages/statsmodels/base/model.py\u001b[0m in \u001b[0;36mfit\u001b[0;34m(self, start_params, method, maxiter, full_output, disp, fargs, callback, retall, skip_hessian, **kwargs)\u001b[0m\n\u001b[1;32m    524\u001b[0m                                                        \u001b[0mcallback\u001b[0m\u001b[0;34m=\u001b[0m\u001b[0mcallback\u001b[0m\u001b[0;34m,\u001b[0m\u001b[0;34m\u001b[0m\u001b[0;34m\u001b[0m\u001b[0m\n\u001b[1;32m    525\u001b[0m                                                        \u001b[0mretall\u001b[0m\u001b[0;34m=\u001b[0m\u001b[0mretall\u001b[0m\u001b[0;34m,\u001b[0m\u001b[0;34m\u001b[0m\u001b[0;34m\u001b[0m\u001b[0m\n\u001b[0;32m--> 526\u001b[0;31m                                                        full_output=full_output)\n\u001b[0m\u001b[1;32m    527\u001b[0m \u001b[0;34m\u001b[0m\u001b[0m\n\u001b[1;32m    528\u001b[0m         \u001b[0;31m# NOTE: this is for fit_regularized and should be generalized\u001b[0m\u001b[0;34m\u001b[0m\u001b[0;34m\u001b[0m\u001b[0;34m\u001b[0m\u001b[0m\n",
      "\u001b[0;32m~/Desktop/pyvirtual2/lib/python3.6/site-packages/statsmodels/base/optimizer.py\u001b[0m in \u001b[0;36m_fit\u001b[0;34m(self, objective, gradient, start_params, fargs, kwargs, hessian, method, maxiter, full_output, disp, callback, retall)\u001b[0m\n\u001b[1;32m    216\u001b[0m                             \u001b[0mdisp\u001b[0m\u001b[0;34m=\u001b[0m\u001b[0mdisp\u001b[0m\u001b[0;34m,\u001b[0m \u001b[0mmaxiter\u001b[0m\u001b[0;34m=\u001b[0m\u001b[0mmaxiter\u001b[0m\u001b[0;34m,\u001b[0m \u001b[0mcallback\u001b[0m\u001b[0;34m=\u001b[0m\u001b[0mcallback\u001b[0m\u001b[0;34m,\u001b[0m\u001b[0;34m\u001b[0m\u001b[0;34m\u001b[0m\u001b[0m\n\u001b[1;32m    217\u001b[0m                             \u001b[0mretall\u001b[0m\u001b[0;34m=\u001b[0m\u001b[0mretall\u001b[0m\u001b[0;34m,\u001b[0m \u001b[0mfull_output\u001b[0m\u001b[0;34m=\u001b[0m\u001b[0mfull_output\u001b[0m\u001b[0;34m,\u001b[0m\u001b[0;34m\u001b[0m\u001b[0;34m\u001b[0m\u001b[0m\n\u001b[0;32m--> 218\u001b[0;31m                             hess=hessian)\n\u001b[0m\u001b[1;32m    219\u001b[0m \u001b[0;34m\u001b[0m\u001b[0m\n\u001b[1;32m    220\u001b[0m         optim_settings = {'optimizer': method, 'start_params': start_params,\n",
      "\u001b[0;32m~/Desktop/pyvirtual2/lib/python3.6/site-packages/statsmodels/base/optimizer.py\u001b[0m in \u001b[0;36m_fit_newton\u001b[0;34m(f, score, start_params, fargs, kwargs, disp, maxiter, callback, retall, full_output, hess, ridge_factor)\u001b[0m\n\u001b[1;32m    310\u001b[0m             \u001b[0mhistory\u001b[0m\u001b[0;34m.\u001b[0m\u001b[0mappend\u001b[0m\u001b[0;34m(\u001b[0m\u001b[0mnewparams\u001b[0m\u001b[0;34m)\u001b[0m\u001b[0;34m\u001b[0m\u001b[0;34m\u001b[0m\u001b[0m\n\u001b[1;32m    311\u001b[0m         \u001b[0;32mif\u001b[0m \u001b[0mcallback\u001b[0m \u001b[0;32mis\u001b[0m \u001b[0;32mnot\u001b[0m \u001b[0;32mNone\u001b[0m\u001b[0;34m:\u001b[0m\u001b[0;34m\u001b[0m\u001b[0;34m\u001b[0m\u001b[0m\n\u001b[0;32m--> 312\u001b[0;31m             \u001b[0mcallback\u001b[0m\u001b[0;34m(\u001b[0m\u001b[0mnewparams\u001b[0m\u001b[0;34m)\u001b[0m\u001b[0;34m\u001b[0m\u001b[0;34m\u001b[0m\u001b[0m\n\u001b[0m\u001b[1;32m    313\u001b[0m         \u001b[0miterations\u001b[0m \u001b[0;34m+=\u001b[0m \u001b[0;36m1\u001b[0m\u001b[0;34m\u001b[0m\u001b[0;34m\u001b[0m\u001b[0m\n\u001b[1;32m    314\u001b[0m     \u001b[0mfval\u001b[0m \u001b[0;34m=\u001b[0m \u001b[0mf\u001b[0m\u001b[0;34m(\u001b[0m\u001b[0mnewparams\u001b[0m\u001b[0;34m,\u001b[0m \u001b[0;34m*\u001b[0m\u001b[0mfargs\u001b[0m\u001b[0;34m)\u001b[0m  \u001b[0;31m# this is the negative likelihood\u001b[0m\u001b[0;34m\u001b[0m\u001b[0;34m\u001b[0m\u001b[0m\n",
      "\u001b[0;32m~/Desktop/pyvirtual2/lib/python3.6/site-packages/statsmodels/discrete/discrete_model.py\u001b[0m in \u001b[0;36m_check_perfect_pred\u001b[0;34m(self, params, *args)\u001b[0m\n\u001b[1;32m    195\u001b[0m                 np.allclose(fittedvalues - endog, 0)):\n\u001b[1;32m    196\u001b[0m             \u001b[0mmsg\u001b[0m \u001b[0;34m=\u001b[0m \u001b[0;34m\"Perfect separation detected, results not available\"\u001b[0m\u001b[0;34m\u001b[0m\u001b[0;34m\u001b[0m\u001b[0m\n\u001b[0;32m--> 197\u001b[0;31m             \u001b[0;32mraise\u001b[0m \u001b[0mPerfectSeparationError\u001b[0m\u001b[0;34m(\u001b[0m\u001b[0mmsg\u001b[0m\u001b[0;34m)\u001b[0m\u001b[0;34m\u001b[0m\u001b[0;34m\u001b[0m\u001b[0m\n\u001b[0m\u001b[1;32m    198\u001b[0m \u001b[0;34m\u001b[0m\u001b[0m\n\u001b[1;32m    199\u001b[0m     \u001b[0;34m@\u001b[0m\u001b[0mAppender\u001b[0m\u001b[0;34m(\u001b[0m\u001b[0mbase\u001b[0m\u001b[0;34m.\u001b[0m\u001b[0mLikelihoodModel\u001b[0m\u001b[0;34m.\u001b[0m\u001b[0mfit\u001b[0m\u001b[0;34m.\u001b[0m\u001b[0m__doc__\u001b[0m\u001b[0;34m)\u001b[0m\u001b[0;34m\u001b[0m\u001b[0;34m\u001b[0m\u001b[0m\n",
      "\u001b[0;31mPerfectSeparationError\u001b[0m: Perfect separation detected, results not available"
     ]
    }
   ],
   "source": [
    "#Without standard scaling of data\n",
    "model_stm = sm.Logit(targets, feats)#, hasconst=True)\n",
    "result= model_stm.fit(disp=0)\n",
    "\n",
    "print(result.summary())\n",
    "print('Parameters: ', model_stm.params)"
   ]
  },
  {
   "cell_type": "markdown",
   "metadata": {},
   "source": [
    "#### Training pytorch model on binary iris dataset"
   ]
  },
  {
   "cell_type": "code",
   "execution_count": 292,
   "metadata": {},
   "outputs": [
    {
     "data": {
      "text/plain": [
       "toynet(\n",
       "  (fc1): Linear(in_features=4, out_features=1, bias=True)\n",
       "  (sig): Sigmoid()\n",
       ")"
      ]
     },
     "execution_count": 292,
     "metadata": {},
     "output_type": "execute_result"
    }
   ],
   "source": [
    "class toynet(nn.Module):\n",
    "    def __init__(self):\n",
    "        super(toynet, self).__init__()\n",
    "        self.fc1 = nn.Linear(4,1)\n",
    "        self.sig = nn.Sigmoid()\n",
    "        #torch.nn.init.xavier_normal_(self.fc1.weight)\n",
    "    def forward(self, x):\n",
    "        x= self.fc1(x)\n",
    "        x= self.sig(x)\n",
    "        return x\n",
    "\n",
    "model2 = toynet()\n",
    "model2"
   ]
  },
  {
   "cell_type": "code",
   "execution_count": 274,
   "metadata": {},
   "outputs": [],
   "source": [
    "optimizer2 = optim.Adam(model2.parameters())\n",
    "loss2 = nn.BCELoss()#MSELoss()"
   ]
  },
  {
   "cell_type": "code",
   "execution_count": 296,
   "metadata": {},
   "outputs": [],
   "source": [
    "import torch\n",
    "from torch.utils import data as d\n",
    "import time\n",
    "\n",
    "class Dataset(d.Dataset):\n",
    "    def __init__(self, list_IDs, features, labels):\n",
    "        'Initialization'\n",
    "        self.labels = labels\n",
    "        self.features= features\n",
    "        self.list_IDs = list_IDs\n",
    "    def __len__(self):\n",
    "        'Denotes the total number of samples'\n",
    "        return len(self.list_IDs)\n",
    "\n",
    "    def __getitem__(self, index):\n",
    "        'Generates one sample of data'\n",
    "        # Select sample\n",
    "        ID = self.list_IDs[index]\n",
    "\n",
    "        # Load data and get label\n",
    "        X = self.features[ID]#torch.load('data/' + ID + '.pt')\n",
    "        y = self.labels[ID]\n",
    "\n",
    "        return X, y"
   ]
  },
  {
   "cell_type": "code",
   "execution_count": 300,
   "metadata": {},
   "outputs": [],
   "source": [
    "use_cuda = torch.cuda.is_available()\n",
    "device = torch.device(\"cuda:0\" if use_cuda else \"cpu\")\n",
    "# Parameters\n",
    "params = {'batch_size': 64,\n",
    "          'shuffle': True,\n",
    "          'num_workers': 6}\n",
    "\n",
    "partition = {'train':list(range(y_train.shape[0]))}# IDs\n",
    "features= {idx:record for idx, record in enumerate(trainx)}\n",
    "labels = {idx:record for idx, record in enumerate(trainy)}# Labels\n",
    "training_set = Dataset(partition['train'],features, labels)\n",
    "training_generator = d.DataLoader(training_set, **params)"
   ]
  },
  {
   "cell_type": "code",
   "execution_count": 301,
   "metadata": {},
   "outputs": [
    {
     "name": "stdout",
     "output_type": "stream",
     "text": [
      "epoch:  0  loss:  0.6551912426948547\n"
     ]
    },
    {
     "name": "stderr",
     "output_type": "stream",
     "text": [
      "/home/kev/Desktop/pyvirtual2/lib/python3.6/site-packages/torch/nn/modules/loss.py:498: UserWarning: Using a target size (torch.Size([12])) that is different to the input size (torch.Size([12, 1])) is deprecated. Please ensure they have the same size.\n",
      "  return F.binary_cross_entropy(input, target, weight=self.weight, reduction=self.reduction)\n"
     ]
    },
    {
     "name": "stdout",
     "output_type": "stream",
     "text": [
      "epoch:  50  loss:  0.6561346054077148\n",
      "epoch:  100  loss:  0.7189800143241882\n",
      "epoch:  150  loss:  0.6500689387321472\n",
      "epoch:  200  loss:  0.6889770030975342\n",
      "epoch:  250  loss:  0.6572744846343994\n",
      "epoch:  300  loss:  0.6574429869651794\n",
      "epoch:  350  loss:  0.7354534268379211\n",
      "total exe. time: 23.790198802947998\n"
     ]
    }
   ],
   "source": [
    "import time\n",
    "max_epochs = 400\n",
    "t1=time.time()\n",
    "for epoch in range(max_epochs):\n",
    "    # Training\n",
    "    for local_batch, local_labels in training_generator:\n",
    "        # Transfer to GPU\n",
    "        local_batch, local_labels = local_batch.to(device), local_labels.to(device)\n",
    "        optimizer2.zero_grad()\n",
    "        y_pred= model2(local_batch)    \n",
    "        l = loss2(y_pred, local_labels)\n",
    "        l.backward()\n",
    "        optimizer2.step()\n",
    "    if epoch%50==0:\n",
    "            print('epoch: ', epoch, ' loss: ', l.item());\n",
    "print('total exe. time:', time.time()-t1)"
   ]
  },
  {
   "cell_type": "code",
   "execution_count": 310,
   "metadata": {
    "scrolled": true
   },
   "outputs": [
    {
     "name": "stdout",
     "output_type": "stream",
     "text": [
      "Sampling (Sampler.HMC; Integrator.IMPLICIT)\n",
      "Time spent  | Time remain.| Progress             | Samples | Samples/sec\n",
      "0d:00:00:04 | 0d:00:00:00 | #################### | 300/300 | 67.62       \n",
      "Acceptance Rate 1.00\n"
     ]
    }
   ],
   "source": [
    "## Set hyperparameters for network\n",
    "\n",
    "tau_list = []\n",
    "tau = 1.#/100. # iris 1/10\n",
    "for w in model2.parameters():\n",
    "    tau_list.append(tau)\n",
    "tau_list = torch.tensor(tau_list).to(device)\n",
    "params_init2 = hamiltorch.util.flatten(model2).to(device).clone()\n",
    "\n",
    "step_size = 0.1 # 0.5\n",
    "num_samples = 300#1000\n",
    "L = 20#3\n",
    "tau_out = 1.\n",
    "\n",
    "params_hmc_2 = hamiltorch.sample_model(model2, trainx[:10,:],torch.reshape(trainy[:10], (10,1)), params_init=params_init2,\n",
    "                        model_loss='binary_class', num_samples=num_samples,\n",
    "                        step_size=step_size, num_steps_per_sample=L,tau_out=tau_out,tau_list=tau_list)\n"
   ]
  },
  {
   "cell_type": "code",
   "execution_count": 311,
   "metadata": {},
   "outputs": [
    {
     "data": {
      "text/html": [
       "<div>\n",
       "<style scoped>\n",
       "    .dataframe tbody tr th:only-of-type {\n",
       "        vertical-align: middle;\n",
       "    }\n",
       "\n",
       "    .dataframe tbody tr th {\n",
       "        vertical-align: top;\n",
       "    }\n",
       "\n",
       "    .dataframe thead th {\n",
       "        text-align: right;\n",
       "    }\n",
       "</style>\n",
       "<table border=\"1\" class=\"dataframe\">\n",
       "  <thead>\n",
       "    <tr style=\"text-align: right;\">\n",
       "      <th></th>\n",
       "      <th>theta_1</th>\n",
       "      <th>theta_2</th>\n",
       "      <th>theta_3</th>\n",
       "      <th>theta_4</th>\n",
       "      <th>theta_5</th>\n",
       "    </tr>\n",
       "  </thead>\n",
       "  <tbody>\n",
       "    <tr>\n",
       "      <td>0</td>\n",
       "      <td>-0.08414519</td>\n",
       "      <td>0.27630907</td>\n",
       "      <td>0.40848005</td>\n",
       "      <td>-0.18345207</td>\n",
       "      <td>0.34426785</td>\n",
       "    </tr>\n",
       "    <tr>\n",
       "      <td>1</td>\n",
       "      <td>1.3943243</td>\n",
       "      <td>0.59455216</td>\n",
       "      <td>1.04835</td>\n",
       "      <td>1.211498</td>\n",
       "      <td>0.32972705</td>\n",
       "    </tr>\n",
       "    <tr>\n",
       "      <td>2</td>\n",
       "      <td>1.2111136</td>\n",
       "      <td>0.63445413</td>\n",
       "      <td>0.98593813</td>\n",
       "      <td>1.165779</td>\n",
       "      <td>0.25869206</td>\n",
       "    </tr>\n",
       "    <tr>\n",
       "      <td>3</td>\n",
       "      <td>1.0159209</td>\n",
       "      <td>0.66505915</td>\n",
       "      <td>0.9153392</td>\n",
       "      <td>1.1098158</td>\n",
       "      <td>0.18706638</td>\n",
       "    </tr>\n",
       "    <tr>\n",
       "      <td>4</td>\n",
       "      <td>0.8109594</td>\n",
       "      <td>0.6858541</td>\n",
       "      <td>0.83761716</td>\n",
       "      <td>1.0445771</td>\n",
       "      <td>0.11559208</td>\n",
       "    </tr>\n",
       "    <tr>\n",
       "      <td>...</td>\n",
       "      <td>...</td>\n",
       "      <td>...</td>\n",
       "      <td>...</td>\n",
       "      <td>...</td>\n",
       "      <td>...</td>\n",
       "    </tr>\n",
       "    <tr>\n",
       "      <td>5976</td>\n",
       "      <td>1.3296005</td>\n",
       "      <td>-0.90073866</td>\n",
       "      <td>0.30641448</td>\n",
       "      <td>1.031989</td>\n",
       "      <td>-0.029517297</td>\n",
       "    </tr>\n",
       "    <tr>\n",
       "      <td>5977</td>\n",
       "      <td>1.246246</td>\n",
       "      <td>-0.98690265</td>\n",
       "      <td>0.4566331</td>\n",
       "      <td>1.047524</td>\n",
       "      <td>-0.02419262</td>\n",
       "    </tr>\n",
       "    <tr>\n",
       "      <td>5978</td>\n",
       "      <td>1.1506757</td>\n",
       "      <td>-1.0653403</td>\n",
       "      <td>0.6038103</td>\n",
       "      <td>1.0539149</td>\n",
       "      <td>-0.016757343</td>\n",
       "    </tr>\n",
       "    <tr>\n",
       "      <td>5979</td>\n",
       "      <td>1.0438529</td>\n",
       "      <td>-1.1350284</td>\n",
       "      <td>0.74634826</td>\n",
       "      <td>1.0509764</td>\n",
       "      <td>-0.007436623</td>\n",
       "    </tr>\n",
       "    <tr>\n",
       "      <td>5980</td>\n",
       "      <td>0.926882</td>\n",
       "      <td>-1.1950458</td>\n",
       "      <td>0.88273436</td>\n",
       "      <td>1.0386591</td>\n",
       "      <td>0.0035321675</td>\n",
       "    </tr>\n",
       "  </tbody>\n",
       "</table>\n",
       "<p>5981 rows × 5 columns</p>\n",
       "</div>"
      ],
      "text/plain": [
       "          theta_1      theta_2     theta_3      theta_4       theta_5\n",
       "0     -0.08414519   0.27630907  0.40848005  -0.18345207    0.34426785\n",
       "1       1.3943243   0.59455216     1.04835     1.211498    0.32972705\n",
       "2       1.2111136   0.63445413  0.98593813     1.165779    0.25869206\n",
       "3       1.0159209   0.66505915   0.9153392    1.1098158    0.18706638\n",
       "4       0.8109594    0.6858541  0.83761716    1.0445771    0.11559208\n",
       "...           ...          ...         ...          ...           ...\n",
       "5976    1.3296005  -0.90073866  0.30641448     1.031989  -0.029517297\n",
       "5977     1.246246  -0.98690265   0.4566331     1.047524   -0.02419262\n",
       "5978    1.1506757   -1.0653403   0.6038103    1.0539149  -0.016757343\n",
       "5979    1.0438529   -1.1350284  0.74634826    1.0509764  -0.007436623\n",
       "5980     0.926882   -1.1950458  0.88273436    1.0386591  0.0035321675\n",
       "\n",
       "[5981 rows x 5 columns]"
      ]
     },
     "execution_count": 311,
     "metadata": {},
     "output_type": "execute_result"
    }
   ],
   "source": [
    "from collections import defaultdict\n",
    "import pandas as pd\n",
    "all_theta_di_2 = defaultdict(list)\n",
    "for sample in params_hmc_2:\n",
    "    [all_theta_di_2['theta_{}'.format(1+ idx)].append(sample[idx].numpy()) for idx in range(len(sample))]\n",
    "df_all_theta_2 = pd.DataFrame(all_theta_di_2)\n",
    "df_all_theta_2"
   ]
  },
  {
   "cell_type": "code",
   "execution_count": 312,
   "metadata": {},
   "outputs": [
    {
     "data": {
      "image/png": "[encoded data removed]",
      "text/plain": [
       "<Figure size 432x288 with 1 Axes>"
      ]
     },
     "metadata": {
      "needs_background": "light"
     },
     "output_type": "display_data"
    }
   ],
   "source": [
    "plt.plot(df_all_theta_2['theta_1'].values)\n",
    "plt.show()"
   ]
  },
  {
   "cell_type": "code",
   "execution_count": 313,
   "metadata": {},
   "outputs": [
    {
     "data": {
      "image/png": "[encoded data removed]",
      "text/plain": [
       "<Figure size 432x288 with 1 Axes>"
      ]
     },
     "metadata": {
      "needs_background": "light"
     },
     "output_type": "display_data"
    }
   ],
   "source": [
    "_ = plt.hist(df_all_theta_2['theta_1'].values, bins=40)"
   ]
  },
  {
   "cell_type": "code",
   "execution_count": 314,
   "metadata": {},
   "outputs": [
    {
     "data": {
      "text/plain": [
       "-1.0618492364883423"
      ]
     },
     "execution_count": 314,
     "metadata": {},
     "output_type": "execute_result"
    }
   ],
   "source": [
    "np.quantile(df_all_theta_2['theta_1'].values, 0.1)"
   ]
  },
  {
   "cell_type": "code",
   "execution_count": 315,
   "metadata": {},
   "outputs": [
    {
     "data": {
      "text/plain": [
       "1.5352977514266968"
      ]
     },
     "execution_count": 315,
     "metadata": {},
     "output_type": "execute_result"
    }
   ],
   "source": [
    "np.quantile(df_all_theta_2['theta_1'].values, 0.9)"
   ]
  },
  {
   "cell_type": "code",
   "execution_count": 316,
   "metadata": {},
   "outputs": [
    {
     "data": {
      "text/plain": [
       "0.24560228"
      ]
     },
     "execution_count": 316,
     "metadata": {},
     "output_type": "execute_result"
    }
   ],
   "source": [
    "np.mean(df_all_theta_2['theta_1'].values)"
   ]
  },
  {
   "cell_type": "markdown",
   "metadata": {},
   "source": [
    "### Contrasting statsmodel vs. Pytorch on simulated 1 feature 1 target data"
   ]
  },
  {
   "cell_type": "code",
   "execution_count": 464,
   "metadata": {},
   "outputs": [
    {
     "data": {
      "text/html": [
       "<div>\n",
       "<style scoped>\n",
       "    .dataframe tbody tr th:only-of-type {\n",
       "        vertical-align: middle;\n",
       "    }\n",
       "\n",
       "    .dataframe tbody tr th {\n",
       "        vertical-align: top;\n",
       "    }\n",
       "\n",
       "    .dataframe thead th {\n",
       "        text-align: right;\n",
       "    }\n",
       "</style>\n",
       "<table border=\"1\" class=\"dataframe\">\n",
       "  <thead>\n",
       "    <tr style=\"text-align: right;\">\n",
       "      <th></th>\n",
       "      <th>features</th>\n",
       "      <th>f(x)</th>\n",
       "    </tr>\n",
       "  </thead>\n",
       "  <tbody>\n",
       "    <tr>\n",
       "      <td>0</td>\n",
       "      <td>-1.750</td>\n",
       "      <td>-1.250</td>\n",
       "    </tr>\n",
       "    <tr>\n",
       "      <td>1</td>\n",
       "      <td>-1.206</td>\n",
       "      <td>-0.706</td>\n",
       "    </tr>\n",
       "    <tr>\n",
       "      <td>2</td>\n",
       "      <td>1.406</td>\n",
       "      <td>1.906</td>\n",
       "    </tr>\n",
       "    <tr>\n",
       "      <td>3</td>\n",
       "      <td>-0.608</td>\n",
       "      <td>-0.108</td>\n",
       "    </tr>\n",
       "    <tr>\n",
       "      <td>4</td>\n",
       "      <td>-1.941</td>\n",
       "      <td>-1.441</td>\n",
       "    </tr>\n",
       "  </tbody>\n",
       "</table>\n",
       "</div>"
      ],
      "text/plain": [
       "   features   f(x)\n",
       "0    -1.750 -1.250\n",
       "1    -1.206 -0.706\n",
       "2     1.406  1.906\n",
       "3    -0.608 -0.108\n",
       "4    -1.941 -1.441"
      ]
     },
     "execution_count": 464,
     "metadata": {},
     "output_type": "execute_result"
    }
   ],
   "source": [
    "X = np.round(np.random.uniform(-3,3, size= 50), 3)\n",
    "\n",
    "a, b  = 0.5, 1#np.random.normal(0, 0.1), np.random.normal(0, 0.2)#y_pred = a+ bx\n",
    "error = np.random.normal(0, 0.1, size= 50)\n",
    "\n",
    "f= lambda x: a +b*x #+ error\n",
    "\n",
    "data = pd.DataFrame({'features': X, 'f(x)':f(X)})\n",
    "data.head(5)"
   ]
  },
  {
   "cell_type": "code",
   "execution_count": 465,
   "metadata": {},
   "outputs": [
    {
     "data": {
      "text/html": [
       "<div>\n",
       "<style scoped>\n",
       "    .dataframe tbody tr th:only-of-type {\n",
       "        vertical-align: middle;\n",
       "    }\n",
       "\n",
       "    .dataframe tbody tr th {\n",
       "        vertical-align: top;\n",
       "    }\n",
       "\n",
       "    .dataframe thead th {\n",
       "        text-align: right;\n",
       "    }\n",
       "</style>\n",
       "<table border=\"1\" class=\"dataframe\">\n",
       "  <thead>\n",
       "    <tr style=\"text-align: right;\">\n",
       "      <th></th>\n",
       "      <th>features</th>\n",
       "      <th>f(x)</th>\n",
       "      <th>P_ij</th>\n",
       "    </tr>\n",
       "  </thead>\n",
       "  <tbody>\n",
       "    <tr>\n",
       "      <td>0</td>\n",
       "      <td>-1.750</td>\n",
       "      <td>-1.098989</td>\n",
       "      <td>0.249929</td>\n",
       "    </tr>\n",
       "    <tr>\n",
       "      <td>1</td>\n",
       "      <td>-1.206</td>\n",
       "      <td>-0.659032</td>\n",
       "      <td>0.340957</td>\n",
       "    </tr>\n",
       "    <tr>\n",
       "      <td>2</td>\n",
       "      <td>1.406</td>\n",
       "      <td>1.792376</td>\n",
       "      <td>0.857218</td>\n",
       "    </tr>\n",
       "    <tr>\n",
       "      <td>3</td>\n",
       "      <td>-0.608</td>\n",
       "      <td>-0.123849</td>\n",
       "      <td>0.469077</td>\n",
       "    </tr>\n",
       "    <tr>\n",
       "      <td>4</td>\n",
       "      <td>-1.941</td>\n",
       "      <td>-1.332077</td>\n",
       "      <td>0.208816</td>\n",
       "    </tr>\n",
       "  </tbody>\n",
       "</table>\n",
       "</div>"
      ],
      "text/plain": [
       "   features      f(x)      P_ij\n",
       "0    -1.750 -1.098989  0.249929\n",
       "1    -1.206 -0.659032  0.340957\n",
       "2     1.406  1.792376  0.857218\n",
       "3    -0.608 -0.123849  0.469077\n",
       "4    -1.941 -1.332077  0.208816"
      ]
     },
     "execution_count": 465,
     "metadata": {},
     "output_type": "execute_result"
    }
   ],
   "source": [
    "data['f(x)'] = data['f(x)']+ error\n",
    "data['P_ij'] = data['f(x)'].apply(lambda x: np.exp(x)/(1+ np.exp(x)))\n",
    "data.head(5)"
   ]
  },
  {
   "cell_type": "code",
   "execution_count": 466,
   "metadata": {},
   "outputs": [
    {
     "data": {
      "text/html": [
       "<div>\n",
       "<style scoped>\n",
       "    .dataframe tbody tr th:only-of-type {\n",
       "        vertical-align: middle;\n",
       "    }\n",
       "\n",
       "    .dataframe tbody tr th {\n",
       "        vertical-align: top;\n",
       "    }\n",
       "\n",
       "    .dataframe thead th {\n",
       "        text-align: right;\n",
       "    }\n",
       "</style>\n",
       "<table border=\"1\" class=\"dataframe\">\n",
       "  <thead>\n",
       "    <tr style=\"text-align: right;\">\n",
       "      <th></th>\n",
       "      <th>features</th>\n",
       "      <th>f(x)</th>\n",
       "      <th>P_ij</th>\n",
       "      <th>targets</th>\n",
       "    </tr>\n",
       "  </thead>\n",
       "  <tbody>\n",
       "    <tr>\n",
       "      <td>0</td>\n",
       "      <td>-1.750</td>\n",
       "      <td>-1.098989</td>\n",
       "      <td>0.249929</td>\n",
       "      <td>0</td>\n",
       "    </tr>\n",
       "    <tr>\n",
       "      <td>1</td>\n",
       "      <td>-1.206</td>\n",
       "      <td>-0.659032</td>\n",
       "      <td>0.340957</td>\n",
       "      <td>1</td>\n",
       "    </tr>\n",
       "    <tr>\n",
       "      <td>2</td>\n",
       "      <td>1.406</td>\n",
       "      <td>1.792376</td>\n",
       "      <td>0.857218</td>\n",
       "      <td>0</td>\n",
       "    </tr>\n",
       "    <tr>\n",
       "      <td>3</td>\n",
       "      <td>-0.608</td>\n",
       "      <td>-0.123849</td>\n",
       "      <td>0.469077</td>\n",
       "      <td>1</td>\n",
       "    </tr>\n",
       "    <tr>\n",
       "      <td>4</td>\n",
       "      <td>-1.941</td>\n",
       "      <td>-1.332077</td>\n",
       "      <td>0.208816</td>\n",
       "      <td>0</td>\n",
       "    </tr>\n",
       "  </tbody>\n",
       "</table>\n",
       "</div>"
      ],
      "text/plain": [
       "   features      f(x)      P_ij  targets\n",
       "0    -1.750 -1.098989  0.249929        0\n",
       "1    -1.206 -0.659032  0.340957        1\n",
       "2     1.406  1.792376  0.857218        0\n",
       "3    -0.608 -0.123849  0.469077        1\n",
       "4    -1.941 -1.332077  0.208816        0"
      ]
     },
     "execution_count": 466,
     "metadata": {},
     "output_type": "execute_result"
    }
   ],
   "source": [
    "data['targets']=data['P_ij'].apply(lambda x: np.random.binomial(1, x)) \n",
    "data.head(5)"
   ]
  },
  {
   "cell_type": "code",
   "execution_count": 357,
   "metadata": {},
   "outputs": [
    {
     "data": {
      "text/html": [
       "<div>\n",
       "<style scoped>\n",
       "    .dataframe tbody tr th:only-of-type {\n",
       "        vertical-align: middle;\n",
       "    }\n",
       "\n",
       "    .dataframe tbody tr th {\n",
       "        vertical-align: top;\n",
       "    }\n",
       "\n",
       "    .dataframe thead th {\n",
       "        text-align: right;\n",
       "    }\n",
       "</style>\n",
       "<table border=\"1\" class=\"dataframe\">\n",
       "  <thead>\n",
       "    <tr style=\"text-align: right;\">\n",
       "      <th></th>\n",
       "      <th>features</th>\n",
       "      <th>targets</th>\n",
       "    </tr>\n",
       "  </thead>\n",
       "  <tbody>\n",
       "    <tr>\n",
       "      <td>0</td>\n",
       "      <td>3.867</td>\n",
       "      <td>0</td>\n",
       "    </tr>\n",
       "    <tr>\n",
       "      <td>1</td>\n",
       "      <td>3.836</td>\n",
       "      <td>0</td>\n",
       "    </tr>\n",
       "    <tr>\n",
       "      <td>2</td>\n",
       "      <td>2.534</td>\n",
       "      <td>1</td>\n",
       "    </tr>\n",
       "    <tr>\n",
       "      <td>3</td>\n",
       "      <td>0.205</td>\n",
       "      <td>1</td>\n",
       "    </tr>\n",
       "    <tr>\n",
       "      <td>4</td>\n",
       "      <td>2.791</td>\n",
       "      <td>1</td>\n",
       "    </tr>\n",
       "  </tbody>\n",
       "</table>\n",
       "</div>"
      ],
      "text/plain": [
       "   features  targets\n",
       "0     3.867        0\n",
       "1     3.836        0\n",
       "2     2.534        1\n",
       "3     0.205        1\n",
       "4     2.791        1"
      ]
     },
     "execution_count": 357,
     "metadata": {},
     "output_type": "execute_result"
    }
   ],
   "source": [
    "'''\n",
    "X = np.round(np.random.uniform(-3,3, size= 1000), 3)\n",
    "\n",
    "a, b  = 0.5, 1#np.random.normal(0, 0.1), np.random.normal(0, 0.2)#y_pred = a+ bx\n",
    "error = np.random.normal(0, 1, size= 1000)\n",
    "f= lambda x, e : np.round(a +b*x + e, 3)\n",
    "\n",
    "data = pd.DataFrame({'features': X, 'targets':f(X, error)})\n",
    "data['targets'] = data['targets'].apply(lambda x: 0 if x<= data['targets'].median() else 1)\n",
    "data.head(5)\n",
    "'''"
   ]
  },
  {
   "cell_type": "code",
   "execution_count": 472,
   "metadata": {},
   "outputs": [
    {
     "name": "stdout",
     "output_type": "stream",
     "text": [
      "Shape of Input data torch.Size([50, 1]) torch.Size([50])\n"
     ]
    }
   ],
   "source": [
    "x_train, y_train= data['features'].values, data['targets'].values\n",
    "\n",
    "x_train = (x_train-x_train.mean(0))/x_train.std(0)\n",
    "\n",
    "x_train = torch.reshape(torch.FloatTensor(x_train), (-1,1))\n",
    "y_train = torch.FloatTensor(y_train)\n",
    "#trainx= x_train, trainy= y_train\n",
    "print('Shape of Input data', x_train.shape, y_train.shape)"
   ]
  },
  {
   "cell_type": "markdown",
   "metadata": {},
   "source": [
    "* Training statsmodel"
   ]
  },
  {
   "cell_type": "code",
   "execution_count": 467,
   "metadata": {},
   "outputs": [],
   "source": [
    "import statsmodels.api as sm\n",
    "feats, targets= data['features'].values, data['targets'].values\n",
    "feats= sm.add_constant(feats, prepend=False)"
   ]
  },
  {
   "cell_type": "code",
   "execution_count": 468,
   "metadata": {},
   "outputs": [
    {
     "name": "stdout",
     "output_type": "stream",
     "text": [
      "                           Logit Regression Results                           \n",
      "==============================================================================\n",
      "Dep. Variable:                      y   No. Observations:                   50\n",
      "Model:                          Logit   Df Residuals:                       48\n",
      "Method:                           MLE   Df Model:                            1\n",
      "Date:                Sat, 11 Apr 2020   Pseudo R-squ.:                  0.2789\n",
      "Time:                        19:33:06   Log-Likelihood:                -24.992\n",
      "converged:                       True   LL-Null:                       -34.657\n",
      "Covariance Type:            nonrobust   LLR p-value:                 1.099e-05\n",
      "==============================================================================\n",
      "                 coef    std err          z      P>|z|      [0.025      0.975]\n",
      "------------------------------------------------------------------------------\n",
      "x1             0.9821      0.273      3.591      0.000       0.446       1.518\n",
      "const          0.1417      0.352      0.403      0.687      -0.548       0.831\n",
      "==============================================================================\n"
     ]
    }
   ],
   "source": [
    "model_stm = sm.Logit(targets, feats, hasconst=True)\n",
    "result= model_stm.fit(disp=0)\n",
    "print(result.summary())"
   ]
  },
  {
   "cell_type": "code",
   "execution_count": 469,
   "metadata": {},
   "outputs": [
    {
     "data": {
      "text/html": [
       "<div>\n",
       "<style scoped>\n",
       "    .dataframe tbody tr th:only-of-type {\n",
       "        vertical-align: middle;\n",
       "    }\n",
       "\n",
       "    .dataframe tbody tr th {\n",
       "        vertical-align: top;\n",
       "    }\n",
       "\n",
       "    .dataframe thead th {\n",
       "        text-align: right;\n",
       "    }\n",
       "</style>\n",
       "<table border=\"1\" class=\"dataframe\">\n",
       "  <thead>\n",
       "    <tr style=\"text-align: right;\">\n",
       "      <th></th>\n",
       "      <th></th>\n",
       "      <th>coef</th>\n",
       "      <th>std err</th>\n",
       "      <th>z</th>\n",
       "      <th>P&gt;|z|</th>\n",
       "      <th>[0.025</th>\n",
       "      <th>0.975]</th>\n",
       "    </tr>\n",
       "  </thead>\n",
       "  <tbody>\n",
       "    <tr>\n",
       "      <td>0</td>\n",
       "      <td>x1</td>\n",
       "      <td>0.9821</td>\n",
       "      <td>0.273</td>\n",
       "      <td>3.591</td>\n",
       "      <td>0.000</td>\n",
       "      <td>0.446</td>\n",
       "      <td>1.518</td>\n",
       "    </tr>\n",
       "    <tr>\n",
       "      <td>1</td>\n",
       "      <td>const</td>\n",
       "      <td>0.1417</td>\n",
       "      <td>0.352</td>\n",
       "      <td>0.403</td>\n",
       "      <td>0.687</td>\n",
       "      <td>-0.548</td>\n",
       "      <td>0.831</td>\n",
       "    </tr>\n",
       "  </tbody>\n",
       "</table>\n",
       "</div>"
      ],
      "text/plain": [
       "                coef    std err          z   P>|z|     [0.025     0.975]\n",
       "0     x1      0.9821      0.273      3.591   0.000      0.446      1.518\n",
       "1  const      0.1417      0.352      0.403   0.687     -0.548      0.831"
      ]
     },
     "execution_count": 469,
     "metadata": {},
     "output_type": "execute_result"
    }
   ],
   "source": [
    "summary= result.summary()\n",
    "statsm_df = pd.DataFrame(summary.tables[1].data[1:], columns=summary.tables[1].data[0])\n",
    "statsm_df"
   ]
  },
  {
   "cell_type": "markdown",
   "metadata": {},
   "source": [
    "* Training pytorch"
   ]
  },
  {
   "cell_type": "code",
   "execution_count": 478,
   "metadata": {},
   "outputs": [],
   "source": [
    "trainx= x_train\n",
    "trainy= y_train\n",
    "\n",
    "use_cuda = torch.cuda.is_available()\n",
    "device = torch.device(\"cuda:0\" if use_cuda else \"cpu\")\n",
    "# Parameters\n",
    "params = {'batch_size': 64,\n",
    "          'shuffle': True,\n",
    "          'num_workers': 6}\n",
    "\n",
    "partition = {'train':list(range(trainy.shape[0]))}# IDs\n",
    "features= {idx:record for idx, record in enumerate(trainx)}\n",
    "labels = {idx:record for idx, record in enumerate(trainy)}# Labels\n",
    "training_set = Dataset(partition['train'],features, labels)\n",
    "training_generator = d.DataLoader(training_set, **params)"
   ]
  },
  {
   "cell_type": "code",
   "execution_count": 475,
   "metadata": {},
   "outputs": [
    {
     "data": {
      "text/plain": [
       "toynet(\n",
       "  (fc1): Linear(in_features=1, out_features=1, bias=True)\n",
       "  (sig): Sigmoid()\n",
       ")"
      ]
     },
     "execution_count": 475,
     "metadata": {},
     "output_type": "execute_result"
    }
   ],
   "source": [
    "class toynet(nn.Module):\n",
    "    def __init__(self):\n",
    "        super(toynet, self).__init__()\n",
    "        self.fc1 = nn.Linear(1,1)\n",
    "        self.sig = nn.Sigmoid()\n",
    "        #torch.nn.init.xavier_normal_(self.fc1.weight)\n",
    "    def forward(self, x):\n",
    "        x= self.fc1(x)\n",
    "        x= self.sig(x)\n",
    "        return x\n",
    "\n",
    "model3 = toynet()\n",
    "model3"
   ]
  },
  {
   "cell_type": "code",
   "execution_count": 476,
   "metadata": {},
   "outputs": [
    {
     "data": {
      "text/plain": [
       "[Parameter containing:\n",
       " tensor([[0.8059]], requires_grad=True), Parameter containing:\n",
       " tensor([0.0737], requires_grad=True)]"
      ]
     },
     "execution_count": 476,
     "metadata": {},
     "output_type": "execute_result"
    }
   ],
   "source": [
    "list(model3.parameters())"
   ]
  },
  {
   "cell_type": "code",
   "execution_count": 477,
   "metadata": {},
   "outputs": [],
   "source": [
    "optimizer3 = optim.Adam(model3.parameters())\n",
    "loss3 = nn.BCELoss()#MSELoss()"
   ]
  },
  {
   "cell_type": "code",
   "execution_count": 479,
   "metadata": {},
   "outputs": [
    {
     "name": "stdout",
     "output_type": "stream",
     "text": [
      "epoch:  0  loss:  0.5364038348197937\n"
     ]
    },
    {
     "name": "stderr",
     "output_type": "stream",
     "text": [
      "/home/kev/Desktop/pyvirtual2/lib/python3.6/site-packages/torch/nn/modules/loss.py:498: UserWarning: Using a target size (torch.Size([50])) that is different to the input size (torch.Size([50, 1])) is deprecated. Please ensure they have the same size.\n",
      "  return F.binary_cross_entropy(input, target, weight=self.weight, reduction=self.reduction)\n"
     ]
    },
    {
     "name": "stdout",
     "output_type": "stream",
     "text": [
      "epoch:  50  loss:  0.5308167338371277\n",
      "epoch:  100  loss:  0.5262594819068909\n",
      "epoch:  150  loss:  0.5223546624183655\n",
      "epoch:  200  loss:  0.5189648866653442\n",
      "epoch:  250  loss:  0.5160283446311951\n",
      "epoch:  300  loss:  0.5134921073913574\n",
      "epoch:  350  loss:  0.5113083124160767\n",
      "total exe. time: 29.897419452667236\n"
     ]
    }
   ],
   "source": [
    "import time\n",
    "max_epochs = 400\n",
    "t1=time.time()\n",
    "for epoch in range(max_epochs):\n",
    "    # Training\n",
    "    for local_batch, local_labels in training_generator:\n",
    "        # Transfer to GPU\n",
    "        local_batch, local_labels = local_batch.to(device), local_labels.to(device)\n",
    "        optimizer3.zero_grad()\n",
    "        y_pred= model3(local_batch)    \n",
    "        l = loss3(y_pred, local_labels)\n",
    "        l.backward()\n",
    "        optimizer3.step()\n",
    "    if epoch%50==0:\n",
    "        print('epoch: ', epoch, ' loss: ', l.item());\n",
    "print('total exe. time:', time.time()-t1)"
   ]
  },
  {
   "cell_type": "code",
   "execution_count": 480,
   "metadata": {},
   "outputs": [
    {
     "name": "stdout",
     "output_type": "stream",
     "text": [
      "Sampling (Sampler.HMC; Integrator.IMPLICIT)\n",
      "Time spent  | Time remain.| Progress             | Samples | Samples/sec\n",
      "0d:00:00:04 | 0d:00:00:00 | #################### | 300/300 | 62.06       \n",
      "Acceptance Rate 1.00\n"
     ]
    }
   ],
   "source": [
    "## Set hyperparameters for network\n",
    "tau_list = []\n",
    "tau = 1.#/100. # iris 1/10\n",
    "for w in model3.parameters():\n",
    "    tau_list.append(tau)\n",
    "tau_list = torch.tensor(tau_list).to(device)\n",
    "params_init3 = hamiltorch.util.flatten(model3).to(device).clone()\n",
    "\n",
    "step_size = 0.1 # 0.5\n",
    "num_samples = 300#1000\n",
    "L = 20#3\n",
    "tau_out = 1.\n",
    "\n",
    "params_hmc_3 = hamiltorch.sample_model(model3, trainx[:10,:],torch.reshape(trainy[:10], (10,1)), params_init=params_init3,\n",
    "                        model_loss='binary_class', num_samples=num_samples,\n",
    "                        step_size=step_size, num_steps_per_sample=L,tau_out=tau_out,tau_list=tau_list)"
   ]
  },
  {
   "cell_type": "code",
   "execution_count": 501,
   "metadata": {},
   "outputs": [
    {
     "data": {
      "text/plain": [
       "[Parameter containing:\n",
       " tensor([[1.1432]], requires_grad=True), Parameter containing:\n",
       " tensor([0.0029], requires_grad=True)]"
      ]
     },
     "execution_count": 501,
     "metadata": {},
     "output_type": "execute_result"
    }
   ],
   "source": [
    "list(model3.parameters())"
   ]
  },
  {
   "cell_type": "code",
   "execution_count": 489,
   "metadata": {},
   "outputs": [
    {
     "data": {
      "text/plain": [
       "298.1"
      ]
     },
     "execution_count": 489,
     "metadata": {},
     "output_type": "execute_result"
    }
   ],
   "source": [
    "len(params_hmc_3[3000:])/10"
   ]
  },
  {
   "cell_type": "markdown",
   "metadata": {},
   "source": [
    "* Reporting samples With Burn-in"
   ]
  },
  {
   "cell_type": "code",
   "execution_count": 498,
   "metadata": {},
   "outputs": [
    {
     "data": {
      "text/html": [
       "<div>\n",
       "<style scoped>\n",
       "    .dataframe tbody tr th:only-of-type {\n",
       "        vertical-align: middle;\n",
       "    }\n",
       "\n",
       "    .dataframe tbody tr th {\n",
       "        vertical-align: top;\n",
       "    }\n",
       "\n",
       "    .dataframe thead th {\n",
       "        text-align: right;\n",
       "    }\n",
       "</style>\n",
       "<table border=\"1\" class=\"dataframe\">\n",
       "  <thead>\n",
       "    <tr style=\"text-align: right;\">\n",
       "      <th></th>\n",
       "      <th>theta_1</th>\n",
       "      <th>theta_2</th>\n",
       "    </tr>\n",
       "  </thead>\n",
       "  <tbody>\n",
       "    <tr>\n",
       "      <td>0</td>\n",
       "      <td>0.71206415</td>\n",
       "      <td>0.25667962</td>\n",
       "    </tr>\n",
       "    <tr>\n",
       "      <td>1</td>\n",
       "      <td>0.78101194</td>\n",
       "      <td>0.2870917</td>\n",
       "    </tr>\n",
       "    <tr>\n",
       "      <td>2</td>\n",
       "      <td>0.8458022</td>\n",
       "      <td>0.31169713</td>\n",
       "    </tr>\n",
       "    <tr>\n",
       "      <td>3</td>\n",
       "      <td>0.9055803</td>\n",
       "      <td>0.33032048</td>\n",
       "    </tr>\n",
       "    <tr>\n",
       "      <td>4</td>\n",
       "      <td>0.9595558</td>\n",
       "      <td>0.34285572</td>\n",
       "    </tr>\n",
       "    <tr>\n",
       "      <td>...</td>\n",
       "      <td>...</td>\n",
       "      <td>...</td>\n",
       "    </tr>\n",
       "    <tr>\n",
       "      <td>2975</td>\n",
       "      <td>1.513101</td>\n",
       "      <td>-1.1541808</td>\n",
       "    </tr>\n",
       "    <tr>\n",
       "      <td>2976</td>\n",
       "      <td>1.5028071</td>\n",
       "      <td>-1.0799879</td>\n",
       "    </tr>\n",
       "    <tr>\n",
       "      <td>2977</td>\n",
       "      <td>1.4778389</td>\n",
       "      <td>-0.99539304</td>\n",
       "    </tr>\n",
       "    <tr>\n",
       "      <td>2978</td>\n",
       "      <td>1.4384546</td>\n",
       "      <td>-0.9013066</td>\n",
       "    </tr>\n",
       "    <tr>\n",
       "      <td>2979</td>\n",
       "      <td>1.3850986</td>\n",
       "      <td>-0.7987412</td>\n",
       "    </tr>\n",
       "  </tbody>\n",
       "</table>\n",
       "<p>2980 rows × 2 columns</p>\n",
       "</div>"
      ],
      "text/plain": [
       "         theta_1      theta_2\n",
       "0     0.71206415   0.25667962\n",
       "1     0.78101194    0.2870917\n",
       "2      0.8458022   0.31169713\n",
       "3      0.9055803   0.33032048\n",
       "4      0.9595558   0.34285572\n",
       "...          ...          ...\n",
       "2975    1.513101   -1.1541808\n",
       "2976   1.5028071   -1.0799879\n",
       "2977   1.4778389  -0.99539304\n",
       "2978   1.4384546   -0.9013066\n",
       "2979   1.3850986   -0.7987412\n",
       "\n",
       "[2980 rows x 2 columns]"
      ]
     },
     "execution_count": 498,
     "metadata": {},
     "output_type": "execute_result"
    }
   ],
   "source": [
    "from collections import defaultdict\n",
    "import pandas as pd\n",
    "all_theta_di_3 = defaultdict(list)\n",
    "li= list()\n",
    "params_hmc_3_ = params_hmc_3[3000:]\n",
    "for idx in range(298):\n",
    "    li = params_hmc_3_[idx*10:idx*10+10]\n",
    "    for sample in li:\n",
    "        [all_theta_di_3['theta_{}'.format(1+ i)].append(sample[i].numpy()) for i in range(len(sample))]\n",
    "\n",
    "df_all_theta_3 = pd.DataFrame(all_theta_di_3)\n",
    "df_all_theta_3"
   ]
  },
  {
   "cell_type": "code",
   "execution_count": 500,
   "metadata": {
    "scrolled": true
   },
   "outputs": [
    {
     "data": {
      "text/plain": [
       "[Parameter containing:\n",
       " tensor([[1.1432]], requires_grad=True), Parameter containing:\n",
       " tensor([0.0029], requires_grad=True)]"
      ]
     },
     "execution_count": 500,
     "metadata": {},
     "output_type": "execute_result"
    }
   ],
   "source": [
    "list(model3.parameters())"
   ]
  },
  {
   "cell_type": "code",
   "execution_count": 499,
   "metadata": {},
   "outputs": [
    {
     "name": "stdout",
     "output_type": "stream",
     "text": [
      "Theta 1 value from HMC: 0.44370535016059875\n",
      "Theta_1 values from statsmodel :0.9821\n",
      "\n",
      "\n",
      "Theta 2 value from HMC: -0.22174787521362305\n",
      "Theta_2 values from statsmodel :0.1417\n"
     ]
    }
   ],
   "source": [
    "##With Burn-in\n",
    "\n",
    "print('Theta 1 value from HMC: {}\\nTheta_1 values from statsmodel :{}'.format(np.mean(df_all_theta_3['theta_1'].values), float(statsm_df['coef'][0])))\n",
    "print('\\n\\nTheta 2 value from HMC: {}\\nTheta_2 values from statsmodel :{}'.format(np.mean(df_all_theta_3['theta_2'].values), float(statsm_df['coef'][1])))"
   ]
  },
  {
   "cell_type": "code",
   "execution_count": 483,
   "metadata": {},
   "outputs": [
    {
     "data": {
      "text/html": [
       "<div>\n",
       "<style scoped>\n",
       "    .dataframe tbody tr th:only-of-type {\n",
       "        vertical-align: middle;\n",
       "    }\n",
       "\n",
       "    .dataframe tbody tr th {\n",
       "        vertical-align: top;\n",
       "    }\n",
       "\n",
       "    .dataframe thead th {\n",
       "        text-align: right;\n",
       "    }\n",
       "</style>\n",
       "<table border=\"1\" class=\"dataframe\">\n",
       "  <thead>\n",
       "    <tr style=\"text-align: right;\">\n",
       "      <th></th>\n",
       "      <th>theta_1</th>\n",
       "      <th>theta_2</th>\n",
       "    </tr>\n",
       "  </thead>\n",
       "  <tbody>\n",
       "    <tr>\n",
       "      <td>0</td>\n",
       "      <td>1.1432445</td>\n",
       "      <td>0.0028991182</td>\n",
       "    </tr>\n",
       "    <tr>\n",
       "      <td>1</td>\n",
       "      <td>0.42826456</td>\n",
       "      <td>-2.6220398</td>\n",
       "    </tr>\n",
       "    <tr>\n",
       "      <td>2</td>\n",
       "      <td>0.45366088</td>\n",
       "      <td>-2.6880548</td>\n",
       "    </tr>\n",
       "    <tr>\n",
       "      <td>3</td>\n",
       "      <td>0.47587824</td>\n",
       "      <td>-2.7267745</td>\n",
       "    </tr>\n",
       "    <tr>\n",
       "      <td>4</td>\n",
       "      <td>0.49466184</td>\n",
       "      <td>-2.7377958</td>\n",
       "    </tr>\n",
       "    <tr>\n",
       "      <td>...</td>\n",
       "      <td>...</td>\n",
       "      <td>...</td>\n",
       "    </tr>\n",
       "    <tr>\n",
       "      <td>5976</td>\n",
       "      <td>1.5028071</td>\n",
       "      <td>-1.0799879</td>\n",
       "    </tr>\n",
       "    <tr>\n",
       "      <td>5977</td>\n",
       "      <td>1.4778389</td>\n",
       "      <td>-0.99539304</td>\n",
       "    </tr>\n",
       "    <tr>\n",
       "      <td>5978</td>\n",
       "      <td>1.4384546</td>\n",
       "      <td>-0.9013066</td>\n",
       "    </tr>\n",
       "    <tr>\n",
       "      <td>5979</td>\n",
       "      <td>1.3850986</td>\n",
       "      <td>-0.7987412</td>\n",
       "    </tr>\n",
       "    <tr>\n",
       "      <td>5980</td>\n",
       "      <td>1.318406</td>\n",
       "      <td>-0.68880916</td>\n",
       "    </tr>\n",
       "  </tbody>\n",
       "</table>\n",
       "<p>5981 rows × 2 columns</p>\n",
       "</div>"
      ],
      "text/plain": [
       "         theta_1       theta_2\n",
       "0      1.1432445  0.0028991182\n",
       "1     0.42826456    -2.6220398\n",
       "2     0.45366088    -2.6880548\n",
       "3     0.47587824    -2.7267745\n",
       "4     0.49466184    -2.7377958\n",
       "...          ...           ...\n",
       "5976   1.5028071    -1.0799879\n",
       "5977   1.4778389   -0.99539304\n",
       "5978   1.4384546    -0.9013066\n",
       "5979   1.3850986    -0.7987412\n",
       "5980    1.318406   -0.68880916\n",
       "\n",
       "[5981 rows x 2 columns]"
      ]
     },
     "execution_count": 483,
     "metadata": {},
     "output_type": "execute_result"
    }
   ],
   "source": [
    "all_theta_di_3 = defaultdict(list)\n",
    "li= list()\n",
    "for sample in params_hmc_3:\n",
    "    [all_theta_di_3['theta_{}'.format(1+ idx)].append(sample[idx].numpy()) for idx in range(len(sample))]\n",
    "df_all_theta_3 = pd.DataFrame(all_theta_di_3)\n",
    "df_all_theta_3"
   ]
  },
  {
   "cell_type": "markdown",
   "metadata": {},
   "source": [
    "* Reporting samples Without Burn-in"
   ]
  },
  {
   "cell_type": "code",
   "execution_count": 484,
   "metadata": {},
   "outputs": [
    {
     "name": "stdout",
     "output_type": "stream",
     "text": [
      "Theta 1 value from HMC: 0.43321073055267334\n",
      "Theta_1 values from statsmodel :0.9821\n",
      "\n",
      "\n",
      "Theta 2 value from HMC: -0.11669635772705078\n",
      "Theta_2 values from statsmodel :0.1417\n"
     ]
    }
   ],
   "source": [
    "##Without Burn-in\n",
    "\n",
    "print('Theta 1 value from HMC: {}\\nTheta_1 values from statsmodel :{}'.format(np.mean(df_all_theta_3['theta_1'].values), float(statsm_df['coef'][0])))\n",
    "print('\\n\\nTheta 2 value from HMC: {}\\nTheta_2 values from statsmodel :{}'.format(np.mean(df_all_theta_3['theta_2'].values), float(statsm_df['coef'][1])))"
   ]
  },
  {
   "cell_type": "code",
   "execution_count": 404,
   "metadata": {},
   "outputs": [
    {
     "data": {
      "text/plain": [
       "-1.618972659111023"
      ]
     },
     "execution_count": 404,
     "metadata": {},
     "output_type": "execute_result"
    }
   ],
   "source": [
    "np.quantile(df_all_theta_3['theta_1'].values, 0.1)"
   ]
  },
  {
   "cell_type": "code",
   "execution_count": 405,
   "metadata": {},
   "outputs": [
    {
     "data": {
      "text/plain": [
       "0.7857491970062256"
      ]
     },
     "execution_count": 405,
     "metadata": {},
     "output_type": "execute_result"
    }
   ],
   "source": [
    "np.quantile(df_all_theta_3['theta_1'].values, 0.9)\n"
   ]
  },
  {
   "cell_type": "code",
   "execution_count": 406,
   "metadata": {},
   "outputs": [
    {
     "data": {
      "image/png": "[encoded data removed]",
      "text/plain": [
       "<Figure size 432x288 with 1 Axes>"
      ]
     },
     "metadata": {
      "needs_background": "light"
     },
     "output_type": "display_data"
    }
   ],
   "source": [
    "plt.plot(df_all_theta_3['theta_1'].values)\n",
    "plt.show()"
   ]
  },
  {
   "cell_type": "code",
   "execution_count": 407,
   "metadata": {},
   "outputs": [
    {
     "data": {
      "image/png": "[encoded data removed]",
      "text/plain": [
       "<Figure size 432x288 with 1 Axes>"
      ]
     },
     "metadata": {
      "needs_background": "light"
     },
     "output_type": "display_data"
    }
   ],
   "source": [
    "_ = plt.hist(df_all_theta_3['theta_1'].values, bins=40)"
   ]
  },
  {
   "cell_type": "code",
   "execution_count": null,
   "metadata": {},
   "outputs": [],
   "source": []
  },
  {
   "cell_type": "code",
   "execution_count": null,
   "metadata": {},
   "outputs": [],
   "source": []
  },
  {
   "cell_type": "markdown",
   "metadata": {},
   "source": [
    "________________"
   ]
  },
  {
   "cell_type": "code",
   "execution_count": null,
   "metadata": {},
   "outputs": [],
   "source": [
    "params_init2 = hamiltorch.util.flatten(model2).to(device).clone()\n",
    "\n",
    "step_size = 0.1 # 0.5\n",
    "num_samples = 300#1000\n",
    "L = 20#3\n",
    "tau_out = 1.\n",
    "\n",
    "params_hmc_2= hamiltorch.sample(log_prob_func, params_init2, num_samples=300)"
   ]
  },
  {
   "cell_type": "code",
   "execution_count": null,
   "metadata": {},
   "outputs": [],
   "source": [
    "def define_model_log_prob(model, model_loss, x, y, params_flattened_list, params_shape_list, tau_list, tau_out, predict=False):\n",
    "    fmodel = util.make_functional(model)\n",
    "    dist_list = []\n",
    "    for tau in tau_list:\n",
    "        dist_list.append(torch.distributions.Normal(torch.zeros_like(tau_list[0]), tau**-0.5))\n",
    "\n",
    "    def log_prob_func(params):\n",
    "        # model.zero_grad()\n",
    "        # params is flat\n",
    "        # Below we update the network weights to be params\n",
    "        params_unflattened = util.unflatten(model, params)\n",
    "\n",
    "        i_prev = 0\n",
    "        l_prior = torch.zeros_like( params[0], requires_grad=True) # Set l2_reg to be on the same device as params\n",
    "        for weights, index, shape, dist in zip(model.parameters(), params_flattened_list, params_shape_list, dist_list):\n",
    "            # weights.data = params[i_prev:index+i_prev].reshape(shape)\n",
    "            w = params[i_prev:index+i_prev]\n",
    "            l_prior = dist.log_prob(w).sum() + l_prior\n",
    "            i_prev += index\n",
    "\n",
    "        # Sample prior if no data\n",
    "        if x is None:\n",
    "            # print('hi')\n",
    "            return l_prior#/y.shape[0]\n",
    "\n",
    "\n",
    "        output = fmodel(x,params=params_unflattened)\n",
    "\n",
    "        if model_loss is 'binary_class':\n",
    "            crit = nn.BCEWithLogitsLoss(reduction='sum')\n",
    "            ll = - tau_out *(crit(output, y))\n",
    "        elif model_loss is 'multi_class_linear_output':\n",
    "    #         crit = nn.MSELoss(reduction='mean')\n",
    "            crit = nn.CrossEntropyLoss(reduction='sum')\n",
    "    #         crit = nn.BCEWithLogitsLoss(reduction='sum')\n",
    "            ll = - tau_out *(crit(output, y.long().view(-1)))\n",
    "            # ll = - tau_out *(torch.nn.functional.nll_loss(output, y.long().view(-1)))\n",
    "        elif model_loss is 'multi_class_log_softmax_output':\n",
    "            ll = - tau_out *(torch.nn.functional.nll_loss(output, y.long().view(-1)))\n",
    "\n",
    "        elif model_loss is 'regression':\n",
    "            # crit = nn.MSELoss(reduction='sum')\n",
    "            ll = - 0.5 * tau_out * ((output - y) ** 2).sum(0)#sum(0)\n",
    "\n",
    "        elif callable(model_loss):\n",
    "            # Assume defined custom log-likelihood.\n",
    "            ll = - model_loss(output, y).sum(0)\n",
    "        else:\n",
    "            raise NotImplementedError()\n",
    "        if predict:\n",
    "            return ll + l_prior, output\n",
    "        else:\n",
    "            return ll + l_prior\n",
    "\n",
    "    return log_prob_func"
   ]
  }
 ],
 "metadata": {
  "kernelspec": {
   "display_name": "Python 3",
   "language": "python",
   "name": "python3"
  },
  "language_info": {
   "codemirror_mode": {
    "name": "ipython",
    "version": 3
   },
   "file_extension": ".py",
   "mimetype": "text/x-python",
   "name": "python",
   "nbconvert_exporter": "python",
   "pygments_lexer": "ipython3",
   "version": "3.6.8"
  },
  "latex_envs": {
   "LaTeX_envs_menu_present": true,
   "autoclose": false,
   "autocomplete": true,
   "bibliofile": "biblio.bib",
   "cite_by": "apalike",
   "current_citInitial": 1,
   "eqLabelWithNumbers": true,
   "eqNumInitial": 1,
   "hotkeys": {
    "equation": "Ctrl-E",
    "itemize": "Ctrl-I"
   },
   "labels_anchors": false,
   "latex_user_defs": false,
   "report_style_numbering": false,
   "user_envs_cfg": false
  },
  "toc": {
   "base_numbering": 1,
   "nav_menu": {},
   "number_sections": true,
   "sideBar": true,
   "skip_h1_title": false,
   "title_cell": "Table of Contents",
   "title_sidebar": "Contents",
   "toc_cell": false,
   "toc_position": {},
   "toc_section_display": true,
   "toc_window_display": false
  }
 },
 "nbformat": 4,
 "nbformat_minor": 2
}
