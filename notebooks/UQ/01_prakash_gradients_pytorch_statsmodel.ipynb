{
 "cells": [
  {
   "cell_type": "markdown",
   "metadata": {},
   "source": [
    "### Defining pytorch model \n",
    "* **Following pytorch model has one linear layer with `inputs`: 3 and `outputs`:1**\n",
    "* **Kernel are initialized with He initialization**"
   ]
  },
  {
   "cell_type": "code",
   "execution_count": 1,
   "metadata": {},
   "outputs": [],
   "source": [
    "import pandas as pd\n",
    "import numpy as np\n",
    "import torch\n",
    "import torch.nn as nn\n",
    "from torch.autograd import Variable\n",
    "import torch.nn.functional as F\n",
    "import torch.optim as optim\n",
    "import matplotlib.pyplot as plt\n",
    "\n",
    "def create_model():\n",
    "    class network(nn.Module):\n",
    "        def __init__(self):\n",
    "            super(network, self).__init__()\n",
    "            self.fc1 = nn.Linear(3, 1)#100)\n",
    "            \n",
    "        def forward(self, X):\n",
    "            X = self.fc1(X)#F.linear(self.fc1(X))#, list(self.fc1.parameters())[0])\n",
    "            return X\n",
    "    model= network()\n",
    "    optimizer = optim.Adam(model.parameters())\n",
    "    criterion= nn.MSELoss()# CrossEntropyLoss()\n",
    "    return model, optimizer, criterion"
   ]
  },
  {
   "cell_type": "code",
   "execution_count": 2,
   "metadata": {},
   "outputs": [
    {
     "data": {
      "text/plain": [
       "network(\n",
       "  (fc1): Linear(in_features=3, out_features=1, bias=True)\n",
       ")"
      ]
     },
     "execution_count": 2,
     "metadata": {},
     "output_type": "execute_result"
    }
   ],
   "source": [
    "model, optimizer, loss= create_model()\n",
    "model"
   ]
  },
  {
   "cell_type": "markdown",
   "metadata": {},
   "source": [
    "#### Data preparation and scaling\n",
    "\n",
    "        - Each record `X` cosist of first 3 values of 4 values\n",
    "          from iris dataset input features.\n",
    "        \n",
    "        - 4th value serve as taget label `y` ."
   ]
  },
  {
   "cell_type": "code",
   "execution_count": 3,
   "metadata": {},
   "outputs": [],
   "source": [
    "def scale(arr):\n",
    "    f= lambda x: (x-np.mean(x))/np.var(x)\n",
    "    for idx in range(arr.shape[1]):\n",
    "        arr[:,idx]= f(arr[:, idx])\n",
    "    #return arr\n",
    "def plot(v1):\n",
    "    plt.plot(v1)\n",
    "    #plt.plot(v2)\n",
    "    plt.title('Model training loss')\n",
    "    plt.xlabel('epoch')\n",
    "    plt.ylabel('loss')\n",
    "    #plt.legend(['train', 'validation'], loc='upper right')\n",
    "    return plt.show()\n",
    "\n",
    "def samp(x, count):#For random batch generation\n",
    "    idx= np.random.randint(x.shape[0], size=count)\n",
    "    res = x[idx]\n",
    "    return res"
   ]
  },
  {
   "cell_type": "markdown",
   "metadata": {},
   "source": [
    "#### Model Training & plots"
   ]
  },
  {
   "cell_type": "code",
   "execution_count": 4,
   "metadata": {},
   "outputs": [
    {
     "name": "stdout",
     "output_type": "stream",
     "text": [
      "epoch:  0  loss:  6.13949728012085\n",
      "epoch:  500  loss:  0.5693188309669495\n",
      "epoch:  1000  loss:  0.3701828718185425\n",
      "epoch:  1500  loss:  0.13028307259082794\n",
      "epoch:  2000  loss:  0.13181103765964508\n",
      "epoch:  2500  loss:  0.17847077548503876\n",
      "epoch:  3000  loss:  0.07782946527004242\n",
      "epoch:  3500  loss:  0.18391236662864685\n"
     ]
    },
    {
     "data": {
      "image/png": "[encoded data removed]",
      "text/plain": [
       "<Figure size 432x288 with 1 Axes>"
      ]
     },
     "metadata": {
      "needs_background": "light"
     },
     "output_type": "display_data"
    }
   ],
   "source": [
    "from sklearn.datasets import load_iris\n",
    "from sklearn.model_selection import train_test_split\n",
    "data = load_iris()\n",
    "X, Y = data.data, data.target\n",
    "\n",
    "Y[np.where(Y==2)[0]]=1\n",
    "X_train, X_test, y_train, y_test = train_test_split(X, Y, test_size= 0.3)\n",
    "scale(X)\n",
    "scale(X_test)\n",
    "\n",
    "#trainx= Variable(torch.Tensor(X[:,:-1]).float(), requires_grad=True) #df.iloc[:, :-1].values).float()\n",
    "#trainy = Variable(torch.reshape(torch.Tensor(X[:,-1]).float(), (-1,1)))\n",
    "\n",
    "#i_grads= np.empty(trainx.shape)\n",
    "wts_bias_progression= list()\n",
    "all_grads= list()\n",
    "losses= list()\n",
    "for epoch in range(4000):\n",
    "    x_ =samp(X, count= 15)\n",
    "    trainx= Variable(torch.Tensor(x_[:,:-1]).float(), requires_grad=True) #df.iloc[:, :-1].values).float()\n",
    "    trainy = Variable(torch.reshape(torch.Tensor(x_[:,-1]).float(), (-1,1)))\n",
    "\n",
    "    optimizer.zero_grad()\n",
    "    y_pred = model(trainx)\n",
    "    #print(y_pred)\n",
    "    l = loss(y_pred, trainy)\n",
    "    losses.append(l.item())\n",
    "    if epoch%500==0:\n",
    "        print('epoch: ', epoch, ' loss: ', l.item());\n",
    "    # perform a backward pass (backpropagation)\n",
    "    l.backward()\n",
    "    wts_bias = list(model.parameters())\n",
    "    wts_bias_vals= torch.cat((wts_bias[0], torch.reshape(wts_bias[1], (-1,1))),1)\n",
    "    wts_bias_progression.append(wts_bias_vals.tolist())\n",
    "    \n",
    "    wts_bias_grads = torch.cat((wts_bias[0].grad, torch.reshape(wts_bias[1].grad, (-1,1))),1)\n",
    "    #i_grads= trainx.grad\n",
    "    all_grads.append(wts_bias_grads.tolist())#i_grads)\n",
    "    # Update the parameters\n",
    "    optimizer.step()\n",
    "all_wts_bias = np.array(wts_bias_progression).reshape(-1,4)\n",
    "all_wts_bias_df= pd.DataFrame(all_wts_bias, columns=['weight_{}'.format(idx) for idx in range(1,4)]+ ['bias'])\n",
    "\n",
    "all_grads = np.array(all_grads).reshape(-1,4)\n",
    "all_grads_df= pd.DataFrame(all_grads, columns=['beta_{}'.format(idx) for idx in range(1,5)])\n",
    "plot(losses)"
   ]
  },
  {
   "cell_type": "markdown",
   "metadata": {},
   "source": [
    "* **Following are the weights and bias for the ONLY layer in model, after 128 epochs**"
   ]
  },
  {
   "cell_type": "code",
   "execution_count": 5,
   "metadata": {},
   "outputs": [
    {
     "data": {
      "text/plain": [
       "[Parameter containing:\n",
       " tensor([[ 0.1230, -0.0072,  1.8947]], requires_grad=True),\n",
       " Parameter containing:\n",
       " tensor([-0.0026], requires_grad=True)]"
      ]
     },
     "execution_count": 5,
     "metadata": {},
     "output_type": "execute_result"
    }
   ],
   "source": [
    "li = list(model.parameters())\n",
    "li"
   ]
  },
  {
   "cell_type": "code",
   "execution_count": 6,
   "metadata": {},
   "outputs": [
    {
     "name": "stdout",
     "output_type": "stream",
     "text": [
      "Final weights gradients : tensor([[ 0.4215, -0.2911,  0.1040]])\n",
      "Final bias gradients: tensor([0.3149])\n"
     ]
    }
   ],
   "source": [
    "print('Final weights gradients : {}\\nFinal bias gradients: {}'.format(li[0].grad, li[1].grad))"
   ]
  },
  {
   "cell_type": "markdown",
   "metadata": {},
   "source": [
    "#### Gradients across epochs\n",
    "* **Following are gradients(for weight- Beta_1-3 and bias-beta_4) updated after each epochs**"
   ]
  },
  {
   "cell_type": "code",
   "execution_count": 7,
   "metadata": {
    "scrolled": false
   },
   "outputs": [
    {
     "data": {
      "text/html": [
       "<div>\n",
       "<style scoped>\n",
       "    .dataframe tbody tr th:only-of-type {\n",
       "        vertical-align: middle;\n",
       "    }\n",
       "\n",
       "    .dataframe tbody tr th {\n",
       "        vertical-align: top;\n",
       "    }\n",
       "\n",
       "    .dataframe thead th {\n",
       "        text-align: right;\n",
       "    }\n",
       "</style>\n",
       "<table border=\"1\" class=\"dataframe\">\n",
       "  <thead>\n",
       "    <tr style=\"text-align: right;\">\n",
       "      <th></th>\n",
       "      <th>beta_1</th>\n",
       "      <th>beta_2</th>\n",
       "      <th>beta_3</th>\n",
       "      <th>beta_4</th>\n",
       "    </tr>\n",
       "  </thead>\n",
       "  <tbody>\n",
       "    <tr>\n",
       "      <td>0</td>\n",
       "      <td>-4.294538</td>\n",
       "      <td>13.731360</td>\n",
       "      <td>-2.964942</td>\n",
       "      <td>2.179925</td>\n",
       "    </tr>\n",
       "    <tr>\n",
       "      <td>1</td>\n",
       "      <td>-1.847348</td>\n",
       "      <td>5.647979</td>\n",
       "      <td>-1.560173</td>\n",
       "      <td>0.810606</td>\n",
       "    </tr>\n",
       "    <tr>\n",
       "      <td>2</td>\n",
       "      <td>-3.244128</td>\n",
       "      <td>6.201935</td>\n",
       "      <td>-1.981886</td>\n",
       "      <td>1.601385</td>\n",
       "    </tr>\n",
       "    <tr>\n",
       "      <td>3</td>\n",
       "      <td>-2.851244</td>\n",
       "      <td>9.609488</td>\n",
       "      <td>-2.174966</td>\n",
       "      <td>-0.427073</td>\n",
       "    </tr>\n",
       "    <tr>\n",
       "      <td>4</td>\n",
       "      <td>-1.180106</td>\n",
       "      <td>6.985171</td>\n",
       "      <td>-1.273799</td>\n",
       "      <td>-0.321643</td>\n",
       "    </tr>\n",
       "    <tr>\n",
       "      <td>...</td>\n",
       "      <td>...</td>\n",
       "      <td>...</td>\n",
       "      <td>...</td>\n",
       "      <td>...</td>\n",
       "    </tr>\n",
       "    <tr>\n",
       "      <td>3995</td>\n",
       "      <td>-0.168011</td>\n",
       "      <td>0.177647</td>\n",
       "      <td>-0.190761</td>\n",
       "      <td>-0.049896</td>\n",
       "    </tr>\n",
       "    <tr>\n",
       "      <td>3996</td>\n",
       "      <td>0.042103</td>\n",
       "      <td>-0.188795</td>\n",
       "      <td>0.038514</td>\n",
       "      <td>0.285001</td>\n",
       "    </tr>\n",
       "    <tr>\n",
       "      <td>3997</td>\n",
       "      <td>0.293814</td>\n",
       "      <td>0.302496</td>\n",
       "      <td>-0.131233</td>\n",
       "      <td>-0.308035</td>\n",
       "    </tr>\n",
       "    <tr>\n",
       "      <td>3998</td>\n",
       "      <td>-0.242929</td>\n",
       "      <td>-0.757145</td>\n",
       "      <td>-0.154545</td>\n",
       "      <td>-0.083365</td>\n",
       "    </tr>\n",
       "    <tr>\n",
       "      <td>3999</td>\n",
       "      <td>0.421548</td>\n",
       "      <td>-0.291066</td>\n",
       "      <td>0.103966</td>\n",
       "      <td>0.314950</td>\n",
       "    </tr>\n",
       "  </tbody>\n",
       "</table>\n",
       "<p>4000 rows × 4 columns</p>\n",
       "</div>"
      ],
      "text/plain": [
       "        beta_1     beta_2    beta_3    beta_4\n",
       "0    -4.294538  13.731360 -2.964942  2.179925\n",
       "1    -1.847348   5.647979 -1.560173  0.810606\n",
       "2    -3.244128   6.201935 -1.981886  1.601385\n",
       "3    -2.851244   9.609488 -2.174966 -0.427073\n",
       "4    -1.180106   6.985171 -1.273799 -0.321643\n",
       "...        ...        ...       ...       ...\n",
       "3995 -0.168011   0.177647 -0.190761 -0.049896\n",
       "3996  0.042103  -0.188795  0.038514  0.285001\n",
       "3997  0.293814   0.302496 -0.131233 -0.308035\n",
       "3998 -0.242929  -0.757145 -0.154545 -0.083365\n",
       "3999  0.421548  -0.291066  0.103966  0.314950\n",
       "\n",
       "[4000 rows x 4 columns]"
      ]
     },
     "execution_count": 7,
     "metadata": {},
     "output_type": "execute_result"
    }
   ],
   "source": [
    "all_grads_df"
   ]
  },
  {
   "cell_type": "code",
   "execution_count": 8,
   "metadata": {},
   "outputs": [
    {
     "data": {
      "text/html": [
       "<div>\n",
       "<style scoped>\n",
       "    .dataframe tbody tr th:only-of-type {\n",
       "        vertical-align: middle;\n",
       "    }\n",
       "\n",
       "    .dataframe tbody tr th {\n",
       "        vertical-align: top;\n",
       "    }\n",
       "\n",
       "    .dataframe thead th {\n",
       "        text-align: right;\n",
       "    }\n",
       "</style>\n",
       "<table border=\"1\" class=\"dataframe\">\n",
       "  <thead>\n",
       "    <tr style=\"text-align: right;\">\n",
       "      <th></th>\n",
       "      <th>beta_1</th>\n",
       "      <th>beta_2</th>\n",
       "      <th>beta_3</th>\n",
       "      <th>beta_4</th>\n",
       "    </tr>\n",
       "  </thead>\n",
       "  <tbody>\n",
       "    <tr>\n",
       "      <td>count</td>\n",
       "      <td>4000.000000</td>\n",
       "      <td>4000.000000</td>\n",
       "      <td>4000.000000</td>\n",
       "      <td>4000.000000</td>\n",
       "    </tr>\n",
       "    <tr>\n",
       "      <td>mean</td>\n",
       "      <td>-0.202807</td>\n",
       "      <td>0.789597</td>\n",
       "      <td>-0.270228</td>\n",
       "      <td>0.030992</td>\n",
       "    </tr>\n",
       "    <tr>\n",
       "      <td>std</td>\n",
       "      <td>0.659078</td>\n",
       "      <td>1.877172</td>\n",
       "      <td>0.414484</td>\n",
       "      <td>0.332724</td>\n",
       "    </tr>\n",
       "    <tr>\n",
       "      <td>min</td>\n",
       "      <td>-4.733401</td>\n",
       "      <td>-1.912172</td>\n",
       "      <td>-3.037025</td>\n",
       "      <td>-1.807045</td>\n",
       "    </tr>\n",
       "    <tr>\n",
       "      <td>25%</td>\n",
       "      <td>-0.310573</td>\n",
       "      <td>-0.169252</td>\n",
       "      <td>-0.297612</td>\n",
       "      <td>-0.150897</td>\n",
       "    </tr>\n",
       "    <tr>\n",
       "      <td>50%</td>\n",
       "      <td>-0.064038</td>\n",
       "      <td>0.177039</td>\n",
       "      <td>-0.144938</td>\n",
       "      <td>0.017246</td>\n",
       "    </tr>\n",
       "    <tr>\n",
       "      <td>75%</td>\n",
       "      <td>0.163339</td>\n",
       "      <td>0.784539</td>\n",
       "      <td>-0.043220</td>\n",
       "      <td>0.192044</td>\n",
       "    </tr>\n",
       "    <tr>\n",
       "      <td>max</td>\n",
       "      <td>0.957720</td>\n",
       "      <td>16.966837</td>\n",
       "      <td>0.342105</td>\n",
       "      <td>3.104012</td>\n",
       "    </tr>\n",
       "  </tbody>\n",
       "</table>\n",
       "</div>"
      ],
      "text/plain": [
       "            beta_1       beta_2       beta_3       beta_4\n",
       "count  4000.000000  4000.000000  4000.000000  4000.000000\n",
       "mean     -0.202807     0.789597    -0.270228     0.030992\n",
       "std       0.659078     1.877172     0.414484     0.332724\n",
       "min      -4.733401    -1.912172    -3.037025    -1.807045\n",
       "25%      -0.310573    -0.169252    -0.297612    -0.150897\n",
       "50%      -0.064038     0.177039    -0.144938     0.017246\n",
       "75%       0.163339     0.784539    -0.043220     0.192044\n",
       "max       0.957720    16.966837     0.342105     3.104012"
      ]
     },
     "execution_count": 8,
     "metadata": {},
     "output_type": "execute_result"
    }
   ],
   "source": [
    "all_grads_df.describe()"
   ]
  },
  {
   "cell_type": "markdown",
   "metadata": {},
   "source": [
    "### Defining model with statsmodel\n",
    "* **Evaluating same data with linear regression from statsmodel**"
   ]
  },
  {
   "cell_type": "code",
   "execution_count": 9,
   "metadata": {},
   "outputs": [],
   "source": [
    "import statsmodels.api as sm\n",
    "feats, targets= X[:,:-1], X[:,-1]\n",
    "feats= sm.add_constant(feats, prepend=False)"
   ]
  },
  {
   "cell_type": "code",
   "execution_count": 10,
   "metadata": {
    "scrolled": false
   },
   "outputs": [
    {
     "name": "stdout",
     "output_type": "stream",
     "text": [
      "                            OLS Regression Results                            \n",
      "==============================================================================\n",
      "Dep. Variable:                      y   R-squared:                       0.938\n",
      "Model:                            OLS   Adj. R-squared:                  0.937\n",
      "Method:                 Least Squares   F-statistic:                     734.4\n",
      "Date:                Thu, 19 Mar 2020   Prob (F-statistic):           7.83e-88\n",
      "Time:                        11:55:07   Log-Likelihood:                -45.701\n",
      "No. Observations:                 150   AIC:                             99.40\n",
      "Df Residuals:                     146   BIC:                             111.4\n",
      "Df Model:                           3                                         \n",
      "Covariance Type:            nonrobust                                         \n",
      "==============================================================================\n",
      "                 coef    std err          t      P>|t|      [0.025      0.975]\n",
      "------------------------------------------------------------------------------\n",
      "x1            -0.2446      0.056     -4.363      0.000      -0.355      -0.134\n",
      "x2             0.0729      0.016      4.553      0.000       0.041       0.104\n",
      "x3             2.8110      0.131     21.399      0.000       2.551       3.071\n",
      "const       9.368e-17      0.027   3.45e-15      1.000      -0.054       0.054\n",
      "==============================================================================\n",
      "Omnibus:                        5.609   Durbin-Watson:                   1.573\n",
      "Prob(Omnibus):                  0.061   Jarque-Bera (JB):                6.811\n",
      "Skew:                           0.223   Prob(JB):                       0.0332\n",
      "Kurtosis:                       3.944   Cond. No.                         12.1\n",
      "==============================================================================\n",
      "\n",
      "Warnings:\n",
      "[1] Standard Errors assume that the covariance matrix of the errors is correctly specified.\n"
     ]
    }
   ],
   "source": [
    "model_stm = sm.OLS(targets, feats, hasconst=True)\n",
    "result= model_stm.fit()\n",
    "print(result.summary())"
   ]
  },
  {
   "cell_type": "markdown",
   "metadata": {},
   "source": [
    "* **Weights, biases and std_error from modelstats regression model**"
   ]
  },
  {
   "cell_type": "code",
   "execution_count": 11,
   "metadata": {
    "scrolled": true
   },
   "outputs": [
    {
     "data": {
      "text/plain": [
       "array([-2.44611824e-01,  7.28612405e-02,  2.81096557e+00,  9.36750677e-17])"
      ]
     },
     "execution_count": 11,
     "metadata": {},
     "output_type": "execute_result"
    }
   ],
   "source": [
    "summary= result.summary()\n",
    "result.params"
   ]
  },
  {
   "cell_type": "code",
   "execution_count": 12,
   "metadata": {},
   "outputs": [
    {
     "data": {
      "text/html": [
       "<div>\n",
       "<style scoped>\n",
       "    .dataframe tbody tr th:only-of-type {\n",
       "        vertical-align: middle;\n",
       "    }\n",
       "\n",
       "    .dataframe tbody tr th {\n",
       "        vertical-align: top;\n",
       "    }\n",
       "\n",
       "    .dataframe thead th {\n",
       "        text-align: right;\n",
       "    }\n",
       "</style>\n",
       "<table border=\"1\" class=\"dataframe\">\n",
       "  <thead>\n",
       "    <tr style=\"text-align: right;\">\n",
       "      <th></th>\n",
       "      <th></th>\n",
       "      <th>coef</th>\n",
       "      <th>std err</th>\n",
       "      <th>t</th>\n",
       "      <th>P&gt;|t|</th>\n",
       "      <th>[0.025</th>\n",
       "      <th>0.975]</th>\n",
       "    </tr>\n",
       "  </thead>\n",
       "  <tbody>\n",
       "    <tr>\n",
       "      <td>0</td>\n",
       "      <td>x1</td>\n",
       "      <td>-0.2446</td>\n",
       "      <td>0.056</td>\n",
       "      <td>-4.363</td>\n",
       "      <td>0.000</td>\n",
       "      <td>-0.355</td>\n",
       "      <td>-0.134</td>\n",
       "    </tr>\n",
       "    <tr>\n",
       "      <td>1</td>\n",
       "      <td>x2</td>\n",
       "      <td>0.0729</td>\n",
       "      <td>0.016</td>\n",
       "      <td>4.553</td>\n",
       "      <td>0.000</td>\n",
       "      <td>0.041</td>\n",
       "      <td>0.104</td>\n",
       "    </tr>\n",
       "    <tr>\n",
       "      <td>2</td>\n",
       "      <td>x3</td>\n",
       "      <td>2.8110</td>\n",
       "      <td>0.131</td>\n",
       "      <td>21.399</td>\n",
       "      <td>0.000</td>\n",
       "      <td>2.551</td>\n",
       "      <td>3.071</td>\n",
       "    </tr>\n",
       "    <tr>\n",
       "      <td>3</td>\n",
       "      <td>const</td>\n",
       "      <td>9.368e-17</td>\n",
       "      <td>0.027</td>\n",
       "      <td>3.45e-15</td>\n",
       "      <td>1.000</td>\n",
       "      <td>-0.054</td>\n",
       "      <td>0.054</td>\n",
       "    </tr>\n",
       "  </tbody>\n",
       "</table>\n",
       "</div>"
      ],
      "text/plain": [
       "                coef    std err          t   P>|t|     [0.025     0.975]\n",
       "0     x1     -0.2446      0.056     -4.363   0.000     -0.355     -0.134\n",
       "1     x2      0.0729      0.016      4.553   0.000      0.041      0.104\n",
       "2     x3      2.8110      0.131     21.399   0.000      2.551      3.071\n",
       "3  const   9.368e-17      0.027   3.45e-15   1.000     -0.054      0.054"
      ]
     },
     "execution_count": 12,
     "metadata": {},
     "output_type": "execute_result"
    }
   ],
   "source": [
    "statsm_df = pd.DataFrame(summary.tables[1].data[1:], columns=summary.tables[1].data[0])\n",
    "statsm_df"
   ]
  },
  {
   "cell_type": "markdown",
   "metadata": {},
   "source": [
    "* **pytorch_params vs. statsmodel_params**"
   ]
  },
  {
   "cell_type": "code",
   "execution_count": 13,
   "metadata": {},
   "outputs": [
    {
     "data": {
      "text/plain": [
       "{'pytorch_grads': array([ 0.42154795, -0.29106644,  0.10396636,  0.31494987]),\n",
       " 'pytorch_params': array([ 0.12320744, -0.00727499,  1.89435267, -0.00255189]),\n",
       " 'statsmodel_params': array([-2.44611824e-01,  7.28612405e-02,  2.81096557e+00,  9.36750677e-17]),\n",
       " 'statsmodel_stderr': array(['    0.056', '    0.016', '    0.131', '    0.027'], dtype=object)}"
      ]
     },
     "execution_count": 13,
     "metadata": {},
     "output_type": "execute_result"
    }
   ],
   "source": [
    "di = dict(zip('pytorch_grads,pytorch_params,statsmodel_params,statsmodel_stderr'.split(','), [all_grads[-1,:], all_wts_bias[-1,:], result.params, statsm_df[\"std err\"].values]))#all_grads\n",
    "di"
   ]
  },
  {
   "cell_type": "markdown",
   "metadata": {},
   "source": [
    "#### Paramters comparison"
   ]
  },
  {
   "cell_type": "code",
   "execution_count": 14,
   "metadata": {},
   "outputs": [
    {
     "data": {
      "text/html": [
       "<div>\n",
       "<style scoped>\n",
       "    .dataframe tbody tr th:only-of-type {\n",
       "        vertical-align: middle;\n",
       "    }\n",
       "\n",
       "    .dataframe tbody tr th {\n",
       "        vertical-align: top;\n",
       "    }\n",
       "\n",
       "    .dataframe thead th {\n",
       "        text-align: right;\n",
       "    }\n",
       "</style>\n",
       "<table border=\"1\" class=\"dataframe\">\n",
       "  <thead>\n",
       "    <tr style=\"text-align: right;\">\n",
       "      <th></th>\n",
       "      <th>pytorch_grads</th>\n",
       "      <th>pytorch_params</th>\n",
       "      <th>statsmodel_params</th>\n",
       "      <th>statsmodel_stderr</th>\n",
       "    </tr>\n",
       "  </thead>\n",
       "  <tbody>\n",
       "    <tr>\n",
       "      <td>0</td>\n",
       "      <td>0.421548</td>\n",
       "      <td>0.123207</td>\n",
       "      <td>-2.446118e-01</td>\n",
       "      <td>0.056</td>\n",
       "    </tr>\n",
       "    <tr>\n",
       "      <td>1</td>\n",
       "      <td>-0.291066</td>\n",
       "      <td>-0.007275</td>\n",
       "      <td>7.286124e-02</td>\n",
       "      <td>0.016</td>\n",
       "    </tr>\n",
       "    <tr>\n",
       "      <td>2</td>\n",
       "      <td>0.103966</td>\n",
       "      <td>1.894353</td>\n",
       "      <td>2.810966e+00</td>\n",
       "      <td>0.131</td>\n",
       "    </tr>\n",
       "    <tr>\n",
       "      <td>3</td>\n",
       "      <td>0.314950</td>\n",
       "      <td>-0.002552</td>\n",
       "      <td>9.367507e-17</td>\n",
       "      <td>0.027</td>\n",
       "    </tr>\n",
       "  </tbody>\n",
       "</table>\n",
       "</div>"
      ],
      "text/plain": [
       "   pytorch_grads  pytorch_params  statsmodel_params statsmodel_stderr\n",
       "0       0.421548        0.123207      -2.446118e-01             0.056\n",
       "1      -0.291066       -0.007275       7.286124e-02             0.016\n",
       "2       0.103966        1.894353       2.810966e+00             0.131\n",
       "3       0.314950       -0.002552       9.367507e-17             0.027"
      ]
     },
     "execution_count": 14,
     "metadata": {},
     "output_type": "execute_result"
    }
   ],
   "source": [
    "comp_df = pd.DataFrame(di)\n",
    "comp_df"
   ]
  },
  {
   "cell_type": "markdown",
   "metadata": {},
   "source": [
    "#### Plots"
   ]
  },
  {
   "cell_type": "code",
   "execution_count": 15,
   "metadata": {},
   "outputs": [],
   "source": [
    "def scatter_plot(x, y, x_label, y_label):\n",
    "    fig = plt.figure()\n",
    "    ax = fig.add_subplot(1, 1, 1)\n",
    "    min_x = min(list(x)+list(y)) - 0.5\n",
    "    max_x = max(list(x)+list(y)) + 0.5\n",
    "    ax.plot([min_x, max_x], [min_x, max_x])\n",
    "    \n",
    "    ax.set_xlim([min_x, max_x])\n",
    "    ax.set_ylim([min_x, max_x])\n",
    "    \n",
    "    ax.set_title('{} vs. {} correlation scatterplot'.format(x_label, y_label))\n",
    "    ax.scatter(x, y, c=\"red\")\n",
    "    plt.ylabel(y_label)\n",
    "    plt.xlabel(x_label)\n",
    "    plt.show()\n",
    "    \n",
    "def hexbin_plot(x, y, x_label, y_label):\n",
    "    fig = plt.figure()\n",
    "    ax = fig.add_subplot(1, 1, 1)\n",
    "    min_x = min(list(x)+list(y)) - 0.1\n",
    "    max_x = max(list(x)+list(y)) + 0.1\n",
    "    ax.plot([min_x, max_x], [min_x, max_x])\n",
    "    \n",
    "    ax.set_xlim([min_x, max_x])\n",
    "    ax.set_ylim([min_x, max_x])\n",
    "    \n",
    "    ax.set_title('{} vs. {} correlation scatterplot'.format(x_label, y_label))\n",
    "    hbin= ax.hexbin(x, y, gridsize=25, mincnt=2)\n",
    "    cb = fig.colorbar(hbin, ax=ax)\n",
    "    cb.solids.set_edgecolor('face')#change colors\n",
    "    cb.set_label('occurence_density')\n",
    "    plt.ylabel(y_label)\n",
    "    plt.xlabel(x_label)\n",
    "    plt.show()"
   ]
  },
  {
   "cell_type": "code",
   "execution_count": 16,
   "metadata": {},
   "outputs": [
    {
     "data": {
      "image/png": "[encoded data removed]",
      "text/plain": [
       "<Figure size 432x288 with 2 Axes>"
      ]
     },
     "metadata": {
      "needs_background": "light"
     },
     "output_type": "display_data"
    }
   ],
   "source": [
    "#Plot with trained cases. When predictions are calculated of train_data\n",
    "predictions= model(torch.Tensor(X[:,:-1]).float())\n",
    "predictions= torch.Tensor.cpu(predictions).detach().numpy().reshape(-1,)\n",
    "observed= X[:,-1]\n",
    "\n",
    "\n",
    "hexbin_plot(predictions,observed, 'prediction' ,'observed')"
   ]
  },
  {
   "cell_type": "code",
   "execution_count": 17,
   "metadata": {},
   "outputs": [
    {
     "data": {
      "image/png": "[encoded data removed]",
      "text/plain": [
       "<Figure size 432x288 with 1 Axes>"
      ]
     },
     "metadata": {
      "needs_background": "light"
     },
     "output_type": "display_data"
    }
   ],
   "source": [
    "scatter_plot(comp_df['pytorch_params'].values,comp_df['statsmodel_params'].values, 'pytorch params' ,'statsmodel params')#n1,n2, 'abc','bcd')"
   ]
  },
  {
   "cell_type": "markdown",
   "metadata": {},
   "source": [
    "### Calculating Standard error from pytorch model"
   ]
  },
  {
   "cell_type": "code",
   "execution_count": 18,
   "metadata": {},
   "outputs": [
    {
     "data": {
      "text/plain": [
       "(4, 19)"
      ]
     },
     "execution_count": 18,
     "metadata": {},
     "output_type": "execute_result"
    }
   ],
   "source": [
    "mini_batches= list()#contains mini_batches of gradients from 200 epochs\n",
    "mean_mini_batches= list()#contains mean of each of 200 epochs each in a mini_batches of gradients from 200 epochs\n",
    "mini_size= 200\n",
    "for batch in range(1, (len(all_grads))//mini_size):\n",
    "    mini_batches.append(all_grads[batch*mini_size:batch*mini_size+ mini_size])\n",
    "    mean_mini_batches.append(list(np.mean(mini_batches[-1], axis=0)))\n",
    "\n",
    "grad_mini_batch_arr = np.array(mean_mini_batches).T\n",
    "grad_mini_batch_arr.shape"
   ]
  },
  {
   "cell_type": "code",
   "execution_count": 19,
   "metadata": {},
   "outputs": [
    {
     "data": {
      "text/plain": [
       "array([[ 0.13687628, -0.42405449,  0.09501638, -0.01876467],\n",
       "       [-0.42405449,  1.32260645, -0.2960528 ,  0.05729   ],\n",
       "       [ 0.09501638, -0.2960528 ,  0.06646359, -0.01292761],\n",
       "       [-0.01876467,  0.05729   , -0.01292761,  0.0028305 ]])"
      ]
     },
     "execution_count": 19,
     "metadata": {},
     "output_type": "execute_result"
    }
   ],
   "source": [
    "covariant_mat= np.cov(grad_mini_batch_arr)\n",
    "covariant_mat"
   ]
  },
  {
   "cell_type": "code",
   "execution_count": 20,
   "metadata": {},
   "outputs": [
    {
     "data": {
      "text/plain": [
       "array([0.36996795, 1.15004628, 0.25780534, 0.05320245])"
      ]
     },
     "execution_count": 20,
     "metadata": {},
     "output_type": "execute_result"
    }
   ],
   "source": [
    "pytorch_stderr= np.sqrt(covariant_mat.diagonal())#**2\n",
    "pytorch_stderr"
   ]
  },
  {
   "cell_type": "code",
   "execution_count": 21,
   "metadata": {},
   "outputs": [
    {
     "data": {
      "text/html": [
       "<div>\n",
       "<style scoped>\n",
       "    .dataframe tbody tr th:only-of-type {\n",
       "        vertical-align: middle;\n",
       "    }\n",
       "\n",
       "    .dataframe tbody tr th {\n",
       "        vertical-align: top;\n",
       "    }\n",
       "\n",
       "    .dataframe thead th {\n",
       "        text-align: right;\n",
       "    }\n",
       "</style>\n",
       "<table border=\"1\" class=\"dataframe\">\n",
       "  <thead>\n",
       "    <tr style=\"text-align: right;\">\n",
       "      <th></th>\n",
       "      <th>pytorch_grads</th>\n",
       "      <th>pytorch_params</th>\n",
       "      <th>statsmodel_params</th>\n",
       "      <th>statsmodel_stderr</th>\n",
       "      <th>pytorch_stderr</th>\n",
       "    </tr>\n",
       "  </thead>\n",
       "  <tbody>\n",
       "    <tr>\n",
       "      <td>0</td>\n",
       "      <td>0.421548</td>\n",
       "      <td>0.123207</td>\n",
       "      <td>-2.446118e-01</td>\n",
       "      <td>0.056</td>\n",
       "      <td>0.369968</td>\n",
       "    </tr>\n",
       "    <tr>\n",
       "      <td>1</td>\n",
       "      <td>-0.291066</td>\n",
       "      <td>-0.007275</td>\n",
       "      <td>7.286124e-02</td>\n",
       "      <td>0.016</td>\n",
       "      <td>1.150046</td>\n",
       "    </tr>\n",
       "    <tr>\n",
       "      <td>2</td>\n",
       "      <td>0.103966</td>\n",
       "      <td>1.894353</td>\n",
       "      <td>2.810966e+00</td>\n",
       "      <td>0.131</td>\n",
       "      <td>0.257805</td>\n",
       "    </tr>\n",
       "    <tr>\n",
       "      <td>3</td>\n",
       "      <td>0.314950</td>\n",
       "      <td>-0.002552</td>\n",
       "      <td>9.367507e-17</td>\n",
       "      <td>0.027</td>\n",
       "      <td>0.053202</td>\n",
       "    </tr>\n",
       "  </tbody>\n",
       "</table>\n",
       "</div>"
      ],
      "text/plain": [
       "   pytorch_grads  pytorch_params  statsmodel_params statsmodel_stderr  \\\n",
       "0       0.421548        0.123207      -2.446118e-01             0.056   \n",
       "1      -0.291066       -0.007275       7.286124e-02             0.016   \n",
       "2       0.103966        1.894353       2.810966e+00             0.131   \n",
       "3       0.314950       -0.002552       9.367507e-17             0.027   \n",
       "\n",
       "   pytorch_stderr  \n",
       "0        0.369968  \n",
       "1        1.150046  \n",
       "2        0.257805  \n",
       "3        0.053202  "
      ]
     },
     "execution_count": 21,
     "metadata": {},
     "output_type": "execute_result"
    }
   ],
   "source": [
    "di.update({'pytorch_stderr':pytorch_stderr})\n",
    "comp_df['pytorch_stderr']= pytorch_stderr\n",
    "comp_df"
   ]
  },
  {
   "cell_type": "markdown",
   "metadata": {},
   "source": [
    "### Experiments with configurations"
   ]
  },
  {
   "cell_type": "markdown",
   "metadata": {},
   "source": [
    "#### Model with xavier normal kernel initialization"
   ]
  },
  {
   "cell_type": "code",
   "execution_count": 22,
   "metadata": {},
   "outputs": [
    {
     "data": {
      "text/plain": [
       "network(\n",
       "  (fc1): Linear(in_features=3, out_features=1, bias=True)\n",
       ")"
      ]
     },
     "execution_count": 22,
     "metadata": {},
     "output_type": "execute_result"
    }
   ],
   "source": [
    "import pandas as pd\n",
    "import numpy as np\n",
    "import torch\n",
    "import torch.nn as nn\n",
    "from torch.autograd import Variable\n",
    "import torch.nn.functional as F\n",
    "import torch.optim as optim\n",
    "import matplotlib.pyplot as plt\n",
    "\n",
    "def create_model_2():\n",
    "    class network(nn.Module):\n",
    "        def __init__(self):\n",
    "            super(network, self).__init__()\n",
    "            self.fc1 = nn.Linear(3, 1)#100)\n",
    "            torch.nn.init.xavier_normal_(self.fc1.weight)\n",
    "\n",
    "        def forward(self, X):\n",
    "            X = self.fc1(X)#F.linear(self.fc1(X))#, list(self.fc1.parameters())[0])\n",
    "            return X\n",
    "    model= network()\n",
    "    optimizer = optim.Adam(model.parameters())\n",
    "    criterion= nn.MSELoss()# CrossEntropyLoss()\n",
    "    return model, optimizer, criterion\n",
    "\n",
    "model2, optimizer2, loss2= create_model_2()\n",
    "model2"
   ]
  },
  {
   "cell_type": "markdown",
   "metadata": {},
   "source": [
    "##### Model training and comparison plots"
   ]
  },
  {
   "cell_type": "code",
   "execution_count": 23,
   "metadata": {},
   "outputs": [
    {
     "name": "stdout",
     "output_type": "stream",
     "text": [
      "epoch:  0  loss:  2.0110695362091064\n",
      "epoch:  500  loss:  0.4906547963619232\n",
      "epoch:  1000  loss:  0.22976696491241455\n",
      "epoch:  1500  loss:  0.3032104969024658\n",
      "epoch:  2000  loss:  0.3274312913417816\n",
      "epoch:  2500  loss:  0.2351997047662735\n",
      "epoch:  3000  loss:  0.24066612124443054\n",
      "epoch:  3500  loss:  0.17083239555358887\n"
     ]
    },
    {
     "data": {
      "image/png": "[encoded data removed]",
      "text/plain": [
       "<Figure size 432x288 with 1 Axes>"
      ]
     },
     "metadata": {
      "needs_background": "light"
     },
     "output_type": "display_data"
    }
   ],
   "source": [
    "#trainx= Variable(torch.Tensor(X[:,:-1]).float(), requires_grad=True) #df.iloc[:, :-1].values).float()\n",
    "#trainy = Variable(torch.reshape(torch.Tensor(X[:,-1]).float(), (-1,1)))\n",
    "\n",
    "#i_grads= np.empty(trainx.shape)\n",
    "wts_bias_progression_2= list()\n",
    "all_grads_2= list()\n",
    "losses_2= list()\n",
    "for epoch in range(4000):\n",
    "    x_transformed =samp(X, count= 32)\n",
    "    trainx= Variable(torch.Tensor(x_transformed[:,:-1]).float(), requires_grad=True) #df.iloc[:, :-1].values).float()\n",
    "    trainy = Variable(torch.reshape(torch.Tensor(x_transformed[:,-1]).float(), (-1,1)))\n",
    "\n",
    "    optimizer2.zero_grad()\n",
    "    y_pred = model2(trainx)\n",
    "    #print(y_pred)\n",
    "    l = loss2(y_pred, trainy)\n",
    "    losses_2.append(l.item())\n",
    "    if epoch%500==0:\n",
    "        print('epoch: ', epoch, ' loss: ', l.item());\n",
    "    # perform a backward pass (backpropagation)\n",
    "    l.backward()\n",
    "    wts_bias = list(model2.parameters())\n",
    "    wts_bias_vals= torch.cat((wts_bias[0], torch.reshape(wts_bias[1], (-1,1))),1)\n",
    "    wts_bias_progression_2.append(wts_bias_vals.tolist())\n",
    "    \n",
    "    wts_bias_grads = torch.cat((wts_bias[0].grad, torch.reshape(wts_bias[1].grad, (-1,1))),1)\n",
    "    #i_grads= trainx.grad\n",
    "    all_grads_2.append(wts_bias_grads.tolist())#i_grads)\n",
    "    # Update the parameters\n",
    "    optimizer2.step()\n",
    "all_wts_bias_2 = np.array(wts_bias_progression_2).reshape(-1,4)\n",
    "all_wts_bias_df_2= pd.DataFrame(all_wts_bias_2, columns=['weight_{}'.format(idx) for idx in range(1,4)]+ ['bias'])\n",
    "\n",
    "all_grads_2 = np.array(all_grads_2).reshape(-1,4)\n",
    "all_grads_df_2= pd.DataFrame(all_grads_2, columns=['beta_{}'.format(idx) for idx in range(1,5)])\n",
    "plot(losses_2)"
   ]
  },
  {
   "cell_type": "code",
   "execution_count": 24,
   "metadata": {},
   "outputs": [
    {
     "data": {
      "image/png": "[encoded data removed]",
      "text/plain": [
       "<Figure size 432x288 with 2 Axes>"
      ]
     },
     "metadata": {
      "needs_background": "light"
     },
     "output_type": "display_data"
    }
   ],
   "source": [
    "#Plot with trained cases. When predictions are calculated of train_data\n",
    "predictions= model2(torch.Tensor(X[:,:-1]).float())\n",
    "predictions= torch.Tensor.cpu(predictions).detach().numpy().reshape(-1,)\n",
    "observed= X[:,-1]\n",
    "\n",
    "\n",
    "hexbin_plot(predictions,observed, 'prediction' ,'observed')"
   ]
  },
  {
   "cell_type": "markdown",
   "metadata": {},
   "source": [
    "##### Pytorch model Standard Error & Parameters Comparison"
   ]
  },
  {
   "cell_type": "markdown",
   "metadata": {},
   "source": [
    "* **Calculating standard error for pytorch model**"
   ]
  },
  {
   "cell_type": "code",
   "execution_count": 25,
   "metadata": {},
   "outputs": [
    {
     "data": {
      "text/plain": [
       "(4, 19)"
      ]
     },
     "execution_count": 25,
     "metadata": {},
     "output_type": "execute_result"
    }
   ],
   "source": [
    "mini_batches_2= list()#contains mini_batches of gradients from 200 epochs\n",
    "mean_mini_batches_2= list()#contains mean of each of 200 epochs each in a mini_batches of gradients from 200 epochs\n",
    "mini_size= 200#mini_batch size\n",
    "for batch in range(1, (len(all_grads_2))//mini_size):\n",
    "    mini_batches_2.append(all_grads_2[batch*mini_size:batch*mini_size+ mini_size])\n",
    "    mean_mini_batches_2.append(list(np.mean(mini_batches_2[-1], axis=0)))\n",
    "\n",
    "grad_mini_batch_arr_2 = np.array(mean_mini_batches_2).T\n",
    "grad_mini_batch_arr_2.shape"
   ]
  },
  {
   "cell_type": "code",
   "execution_count": 26,
   "metadata": {},
   "outputs": [
    {
     "data": {
      "text/plain": [
       "array([0.46845245, 0.04304129, 0.2100927 , 0.17807524])"
      ]
     },
     "execution_count": 26,
     "metadata": {},
     "output_type": "execute_result"
    }
   ],
   "source": [
    "covariant_mat_2= np.cov(grad_mini_batch_arr_2)\n",
    "pytorch_stderr_2= np.sqrt(covariant_mat_2.diagonal())\n",
    "pytorch_stderr_2"
   ]
  },
  {
   "cell_type": "code",
   "execution_count": 27,
   "metadata": {},
   "outputs": [
    {
     "data": {
      "text/html": [
       "<div>\n",
       "<style scoped>\n",
       "    .dataframe tbody tr th:only-of-type {\n",
       "        vertical-align: middle;\n",
       "    }\n",
       "\n",
       "    .dataframe tbody tr th {\n",
       "        vertical-align: top;\n",
       "    }\n",
       "\n",
       "    .dataframe thead th {\n",
       "        text-align: right;\n",
       "    }\n",
       "</style>\n",
       "<table border=\"1\" class=\"dataframe\">\n",
       "  <thead>\n",
       "    <tr style=\"text-align: right;\">\n",
       "      <th></th>\n",
       "      <th>pytorch_grads</th>\n",
       "      <th>pytorch_params</th>\n",
       "      <th>statsmodel_params</th>\n",
       "      <th>statsmodel_stderr</th>\n",
       "      <th>pytorch_stderr</th>\n",
       "    </tr>\n",
       "  </thead>\n",
       "  <tbody>\n",
       "    <tr>\n",
       "      <td>0</td>\n",
       "      <td>-0.087530</td>\n",
       "      <td>0.226455</td>\n",
       "      <td>-2.446118e-01</td>\n",
       "      <td>0.056</td>\n",
       "      <td>0.468452</td>\n",
       "    </tr>\n",
       "    <tr>\n",
       "      <td>1</td>\n",
       "      <td>-0.003363</td>\n",
       "      <td>-0.023283</td>\n",
       "      <td>7.286124e-02</td>\n",
       "      <td>0.016</td>\n",
       "      <td>0.043041</td>\n",
       "    </tr>\n",
       "    <tr>\n",
       "      <td>2</td>\n",
       "      <td>-0.109649</td>\n",
       "      <td>1.631215</td>\n",
       "      <td>2.810966e+00</td>\n",
       "      <td>0.131</td>\n",
       "      <td>0.210093</td>\n",
       "    </tr>\n",
       "    <tr>\n",
       "      <td>3</td>\n",
       "      <td>-0.181720</td>\n",
       "      <td>0.003420</td>\n",
       "      <td>9.367507e-17</td>\n",
       "      <td>0.027</td>\n",
       "      <td>0.178075</td>\n",
       "    </tr>\n",
       "  </tbody>\n",
       "</table>\n",
       "</div>"
      ],
      "text/plain": [
       "   pytorch_grads  pytorch_params  statsmodel_params statsmodel_stderr  \\\n",
       "0      -0.087530        0.226455      -2.446118e-01             0.056   \n",
       "1      -0.003363       -0.023283       7.286124e-02             0.016   \n",
       "2      -0.109649        1.631215       2.810966e+00             0.131   \n",
       "3      -0.181720        0.003420       9.367507e-17             0.027   \n",
       "\n",
       "   pytorch_stderr  \n",
       "0        0.468452  \n",
       "1        0.043041  \n",
       "2        0.210093  \n",
       "3        0.178075  "
      ]
     },
     "execution_count": 27,
     "metadata": {},
     "output_type": "execute_result"
    }
   ],
   "source": [
    "di_2 = dict(zip('pytorch_grads,pytorch_params,statsmodel_params,statsmodel_stderr'.split(','), [all_grads_2[-1,:], all_wts_bias_2[-1,:], result.params, statsm_df[\"std err\"].values]))\n",
    "di_2.update({'pytorch_stderr':pytorch_stderr_2})\n",
    "comp_df_2 = pd.DataFrame(di_2)\n",
    "comp_df_2"
   ]
  },
  {
   "cell_type": "markdown",
   "metadata": {},
   "source": [
    "#### Model with xavier_uniform kernel initialization"
   ]
  },
  {
   "cell_type": "code",
   "execution_count": 28,
   "metadata": {},
   "outputs": [
    {
     "data": {
      "text/plain": [
       "network(\n",
       "  (fc1): Linear(in_features=3, out_features=1, bias=True)\n",
       ")"
      ]
     },
     "execution_count": 28,
     "metadata": {},
     "output_type": "execute_result"
    }
   ],
   "source": [
    "def create_model_3():\n",
    "    class network(nn.Module):\n",
    "        def __init__(self):\n",
    "            super(network, self).__init__()\n",
    "            self.fc1 = nn.Linear(3, 1)#100)\n",
    "            torch.nn.init.xavier_uniform_(self.fc1.weight)\n",
    "\n",
    "        def forward(self, X):\n",
    "            X = self.fc1(X)#F.linear(self.fc1(X))#, list(self.fc1.parameters())[0])\n",
    "            return X\n",
    "    model= network()\n",
    "    optimizer = optim.Adam(model.parameters())\n",
    "    criterion= nn.MSELoss()# CrossEntropyLoss()\n",
    "    return model, optimizer, criterion\n",
    "\n",
    "model3, optimizer3, loss3= create_model_3()\n",
    "model3"
   ]
  },
  {
   "cell_type": "markdown",
   "metadata": {},
   "source": [
    "##### Model training and comparison plots"
   ]
  },
  {
   "cell_type": "code",
   "execution_count": 29,
   "metadata": {},
   "outputs": [
    {
     "name": "stdout",
     "output_type": "stream",
     "text": [
      "epoch:  0  loss:  5.3236212730407715\n",
      "epoch:  500  loss:  2.4891698360443115\n",
      "epoch:  1000  loss:  0.7944655418395996\n",
      "epoch:  1500  loss:  0.45041677355766296\n",
      "epoch:  2000  loss:  0.6271871328353882\n",
      "epoch:  2500  loss:  0.3169574439525604\n",
      "epoch:  3000  loss:  0.44519269466400146\n",
      "epoch:  3500  loss:  0.2581762671470642\n"
     ]
    },
    {
     "data": {
      "image/png": "[encoded data removed]",
      "text/plain": [
       "<Figure size 432x288 with 1 Axes>"
      ]
     },
     "metadata": {
      "needs_background": "light"
     },
     "output_type": "display_data"
    }
   ],
   "source": [
    "#trainx= Variable(torch.Tensor(X[:,:-1]).float(), requires_grad=True) #df.iloc[:, :-1].values).float()\n",
    "#trainy = Variable(torch.reshape(torch.Tensor(X[:,-1]).float(), (-1,1)))\n",
    "\n",
    "#i_grads= np.empty(trainx.shape)\n",
    "wts_bias_progression_3= list()\n",
    "all_grads_3= list()\n",
    "losses_3= list()\n",
    "for epoch in range(4000):\n",
    "    x_transformed =samp(X, count= 32)\n",
    "    trainx= Variable(torch.Tensor(x_transformed[:,:-1]).float(), requires_grad=True) #df.iloc[:, :-1].values).float()\n",
    "    trainy = Variable(torch.reshape(torch.Tensor(x_transformed[:,-1]).float(), (-1,1)))\n",
    "\n",
    "    optimizer3.zero_grad()\n",
    "    y_pred = model3(trainx)\n",
    "    #print(y_pred)\n",
    "    l = loss3(y_pred, trainy)\n",
    "    losses_3.append(l.item())\n",
    "    if epoch%500==0:\n",
    "        print('epoch: ', epoch, ' loss: ', l.item());\n",
    "    # perform a backward pass (backpropagation)\n",
    "    l.backward()\n",
    "    wts_bias = list(model3.parameters())\n",
    "    wts_bias_vals= torch.cat((wts_bias[0], torch.reshape(wts_bias[1], (-1,1))),1)\n",
    "    wts_bias_progression_3.append(wts_bias_vals.tolist())\n",
    "    \n",
    "    wts_bias_grads = torch.cat((wts_bias[0].grad, torch.reshape(wts_bias[1].grad, (-1,1))),1)\n",
    "    #i_grads= trainx.grad\n",
    "    all_grads_3.append(wts_bias_grads.tolist())#i_grads)\n",
    "    # Update the parameters\n",
    "    optimizer3.step()\n",
    "all_wts_bias_3 = np.array(wts_bias_progression_3).reshape(-1,4)\n",
    "all_wts_bias_df_3= pd.DataFrame(all_wts_bias_3, columns=['weight_{}'.format(idx) for idx in range(1,4)]+ ['bias'])\n",
    "\n",
    "all_grads_3 = np.array(all_grads_3).reshape(-1,4)\n",
    "all_grads_df_3= pd.DataFrame(all_grads_3, columns=['beta_{}'.format(idx) for idx in range(1,5)])\n",
    "plot(losses_3)"
   ]
  },
  {
   "cell_type": "code",
   "execution_count": 30,
   "metadata": {},
   "outputs": [
    {
     "data": {
      "image/png": "[encoded data removed]",
      "text/plain": [
       "<Figure size 432x288 with 2 Axes>"
      ]
     },
     "metadata": {
      "needs_background": "light"
     },
     "output_type": "display_data"
    }
   ],
   "source": [
    "#Plot with trained cases. When predictions are calculated of train_data\n",
    "predictions= model3(torch.Tensor(X[:,:-1]).float())\n",
    "predictions= torch.Tensor.cpu(predictions).detach().numpy().reshape(-1,)\n",
    "observed= X[:,-1]\n",
    "\n",
    "\n",
    "hexbin_plot(predictions,observed, 'prediction' ,'observed')"
   ]
  },
  {
   "cell_type": "markdown",
   "metadata": {},
   "source": [
    "##### Pytorch model Standard Error & Parameters Comparison\n",
    "* **Calculating standard error for pytorch model**"
   ]
  },
  {
   "cell_type": "code",
   "execution_count": 32,
   "metadata": {},
   "outputs": [
    {
     "data": {
      "text/plain": [
       "(4, 19)"
      ]
     },
     "execution_count": 32,
     "metadata": {},
     "output_type": "execute_result"
    }
   ],
   "source": [
    "mini_batches_3= list()#contains mini_batches of gradients from 200 epochs\n",
    "mean_mini_batches_3= list()#contains mean of each of 200 epochs each in a mini_batches of gradients from 200 epochs\n",
    "mini_size= 200#mini_batch size\n",
    "for batch in range(1, (len(all_grads_3))//mini_size):\n",
    "    mini_batches_3.append(all_grads_3[batch*mini_size:batch*mini_size+ mini_size])\n",
    "    mean_mini_batches_3.append(list(np.mean(mini_batches_3[-1], axis=0)))\n",
    "\n",
    "grad_mini_batch_arr_3 = np.array(mean_mini_batches_3).T\n",
    "grad_mini_batch_arr_3.shape"
   ]
  },
  {
   "cell_type": "code",
   "execution_count": 34,
   "metadata": {},
   "outputs": [
    {
     "data": {
      "text/plain": [
       "array([1.11697111, 0.39883121, 0.49666469, 0.05750267])"
      ]
     },
     "execution_count": 34,
     "metadata": {},
     "output_type": "execute_result"
    }
   ],
   "source": [
    "covariant_mat_3= np.cov(grad_mini_batch_arr_3)\n",
    "pytorch_stderr_3= np.sqrt(covariant_mat_3.diagonal())\n",
    "pytorch_stderr_3"
   ]
  },
  {
   "cell_type": "code",
   "execution_count": 35,
   "metadata": {},
   "outputs": [
    {
     "data": {
      "text/html": [
       "<div>\n",
       "<style scoped>\n",
       "    .dataframe tbody tr th:only-of-type {\n",
       "        vertical-align: middle;\n",
       "    }\n",
       "\n",
       "    .dataframe tbody tr th {\n",
       "        vertical-align: top;\n",
       "    }\n",
       "\n",
       "    .dataframe thead th {\n",
       "        text-align: right;\n",
       "    }\n",
       "</style>\n",
       "<table border=\"1\" class=\"dataframe\">\n",
       "  <thead>\n",
       "    <tr style=\"text-align: right;\">\n",
       "      <th></th>\n",
       "      <th>pytorch_grads</th>\n",
       "      <th>pytorch_params</th>\n",
       "      <th>statsmodel_params</th>\n",
       "      <th>statsmodel_stderr</th>\n",
       "      <th>pytorch_stderr</th>\n",
       "    </tr>\n",
       "  </thead>\n",
       "  <tbody>\n",
       "    <tr>\n",
       "      <td>0</td>\n",
       "      <td>0.554924</td>\n",
       "      <td>0.609774</td>\n",
       "      <td>-2.446118e-01</td>\n",
       "      <td>0.056</td>\n",
       "      <td>1.116971</td>\n",
       "    </tr>\n",
       "    <tr>\n",
       "      <td>1</td>\n",
       "      <td>-0.018933</td>\n",
       "      <td>-0.096542</td>\n",
       "      <td>7.286124e-02</td>\n",
       "      <td>0.016</td>\n",
       "      <td>0.398831</td>\n",
       "    </tr>\n",
       "    <tr>\n",
       "      <td>2</td>\n",
       "      <td>-0.063888</td>\n",
       "      <td>0.698816</td>\n",
       "      <td>2.810966e+00</td>\n",
       "      <td>0.131</td>\n",
       "      <td>0.496665</td>\n",
       "    </tr>\n",
       "    <tr>\n",
       "      <td>3</td>\n",
       "      <td>-0.187836</td>\n",
       "      <td>0.001587</td>\n",
       "      <td>9.367507e-17</td>\n",
       "      <td>0.027</td>\n",
       "      <td>0.057503</td>\n",
       "    </tr>\n",
       "  </tbody>\n",
       "</table>\n",
       "</div>"
      ],
      "text/plain": [
       "   pytorch_grads  pytorch_params  statsmodel_params statsmodel_stderr  \\\n",
       "0       0.554924        0.609774      -2.446118e-01             0.056   \n",
       "1      -0.018933       -0.096542       7.286124e-02             0.016   \n",
       "2      -0.063888        0.698816       2.810966e+00             0.131   \n",
       "3      -0.187836        0.001587       9.367507e-17             0.027   \n",
       "\n",
       "   pytorch_stderr  \n",
       "0        1.116971  \n",
       "1        0.398831  \n",
       "2        0.496665  \n",
       "3        0.057503  "
      ]
     },
     "execution_count": 35,
     "metadata": {},
     "output_type": "execute_result"
    }
   ],
   "source": [
    "di_3 = dict(zip('pytorch_grads,pytorch_params,statsmodel_params,statsmodel_stderr'.split(','), [all_grads_3[-1,:], all_wts_bias_3[-1,:], result.params, statsm_df[\"std err\"].values]))\n",
    "di_3.update({'pytorch_stderr':pytorch_stderr_3})\n",
    "comp_df_3 = pd.DataFrame(di_3)\n",
    "comp_df_3"
   ]
  },
  {
   "cell_type": "markdown",
   "metadata": {},
   "source": [
    "#### Model training with different data scaling (MinMax)"
   ]
  },
  {
   "cell_type": "code",
   "execution_count": 36,
   "metadata": {},
   "outputs": [],
   "source": [
    "from sklearn.preprocessing import MinMaxScaler\n",
    "\n",
    "X, Y = data.data, data.target\n",
    "sc= MinMaxScaler()\n",
    "X_trans = sc.fit_transform(X)\n",
    "\n",
    "Y[np.where(Y==2)[0]]=1\n",
    "X_train, X_test, y_train, y_test = train_test_split(X_trans, Y, test_size= 0.3)"
   ]
  },
  {
   "cell_type": "markdown",
   "metadata": {},
   "source": [
    "##### Model training and comparison plots"
   ]
  },
  {
   "cell_type": "code",
   "execution_count": 37,
   "metadata": {},
   "outputs": [
    {
     "data": {
      "text/plain": [
       "network(\n",
       "  (fc1): Linear(in_features=3, out_features=1, bias=True)\n",
       ")"
      ]
     },
     "execution_count": 37,
     "metadata": {},
     "output_type": "execute_result"
    }
   ],
   "source": [
    "model4, optimizer4, loss4= create_model()#With default He Weights Initilizing model\n",
    "model4"
   ]
  },
  {
   "cell_type": "code",
   "execution_count": 38,
   "metadata": {},
   "outputs": [
    {
     "name": "stdout",
     "output_type": "stream",
     "text": [
      "epoch:  0  loss:  0.33733275532722473\n",
      "epoch:  500  loss:  0.05983152985572815\n",
      "epoch:  1000  loss:  0.020931314677000046\n",
      "epoch:  1500  loss:  0.013408646918833256\n",
      "epoch:  2000  loss:  0.00894490722566843\n",
      "epoch:  2500  loss:  0.009919128380715847\n",
      "epoch:  3000  loss:  0.008731498382985592\n",
      "epoch:  3500  loss:  0.009501343593001366\n"
     ]
    },
    {
     "data": {
      "image/png": "[encoded data removed]",
      "text/plain": [
       "<Figure size 432x288 with 1 Axes>"
      ]
     },
     "metadata": {
      "needs_background": "light"
     },
     "output_type": "display_data"
    }
   ],
   "source": [
    "#trainx= Variable(torch.Tensor(X_trans[:,:-1]).float(), requires_grad=True) #df.iloc[:, :-1].values).float()\n",
    "#trainy = Variable(torch.reshape(torch.Tensor(X_trans[:,-1]).float(), (-1,1)))\n",
    "\n",
    "wts_bias_progression_4= list()\n",
    "all_grads_4= list()\n",
    "losses_4= list()\n",
    "for epoch in range(4000):\n",
    "    x_transformed =samp(X_trans, count= 32)\n",
    "    trainx= Variable(torch.Tensor(x_transformed[:,:-1]).float(), requires_grad=True) #df.iloc[:, :-1].values).float()\n",
    "    trainy = Variable(torch.reshape(torch.Tensor(x_transformed[:,-1]).float(), (-1,1)))\n",
    "\n",
    "    optimizer4.zero_grad()\n",
    "    y_pred = model4(trainx)\n",
    "    #print(y_pred)\n",
    "    l = loss4(y_pred, trainy)\n",
    "    losses_4.append(l.item())\n",
    "    if epoch%500==0:\n",
    "        print('epoch: ', epoch, ' loss: ', l.item());\n",
    "    # perform a backward pass (backpropagation)\n",
    "    l.backward()\n",
    "    wts_bias = list(model4.parameters())\n",
    "    wts_bias_vals= torch.cat((wts_bias[0], torch.reshape(wts_bias[1], (-1,1))),1)\n",
    "    wts_bias_progression_4.append(wts_bias_vals.tolist())\n",
    "    \n",
    "    wts_bias_grads = torch.cat((wts_bias[0].grad, torch.reshape(wts_bias[1].grad, (-1,1))),1)\n",
    "    all_grads_4.append(wts_bias_grads.tolist())#i_grads)\n",
    "    optimizer4.step()\n",
    "\n",
    "all_wts_bias_4 = np.array(wts_bias_progression_4).reshape(-1,4)\n",
    "all_wts_bias_df_4= pd.DataFrame(all_wts_bias_4, columns=['weight_{}'.format(idx) for idx in range(1,4)]+ ['bias'])\n",
    "\n",
    "all_grads_4 = np.array(all_grads_4).reshape(-1,4)\n",
    "all_grads_df_4= pd.DataFrame(all_grads_4, columns=['beta_{}'.format(idx) for idx in range(1,5)])\n",
    "plot(losses_4)"
   ]
  },
  {
   "cell_type": "code",
   "execution_count": 39,
   "metadata": {},
   "outputs": [
    {
     "data": {
      "image/png": "[encoded data removed]",
      "text/plain": [
       "<Figure size 432x288 with 2 Axes>"
      ]
     },
     "metadata": {
      "needs_background": "light"
     },
     "output_type": "display_data"
    }
   ],
   "source": [
    "#Plot with trained cases. When predictions are calculated of train_data\n",
    "predictions= model4(torch.Tensor(X_trans[:,:-1]).float())\n",
    "predictions= torch.Tensor.cpu(predictions).detach().numpy().reshape(-1,)\n",
    "observed= X_trans[:,-1]\n",
    "\n",
    "\n",
    "hexbin_plot(predictions,observed, 'prediction' ,'observed')"
   ]
  },
  {
   "cell_type": "markdown",
   "metadata": {},
   "source": [
    "##### Retraining Statsmodel model with Scaled data\n",
    "\n",
    "* **Evaluating same data with linear regression from statsmodel**\n",
    "\n",
    "Statsmodel model Standard Error & Parameters Comparison"
   ]
  },
  {
   "cell_type": "code",
   "execution_count": 40,
   "metadata": {},
   "outputs": [
    {
     "name": "stdout",
     "output_type": "stream",
     "text": [
      "                            OLS Regression Results                            \n",
      "==============================================================================\n",
      "Dep. Variable:                      y   R-squared:                       0.938\n",
      "Model:                            OLS   Adj. R-squared:                  0.937\n",
      "Method:                 Least Squares   F-statistic:                     734.4\n",
      "Date:                Thu, 19 Mar 2020   Prob (F-statistic):           7.83e-88\n",
      "Time:                        11:58:34   Log-Likelihood:                 168.07\n",
      "No. Observations:                 150   AIC:                            -328.1\n",
      "Df Residuals:                     146   BIC:                            -316.1\n",
      "Df Model:                           3                                         \n",
      "Covariance Type:            nonrobust                                         \n",
      "==============================================================================\n",
      "                 coef    std err          t      P>|t|      [0.025      0.975]\n",
      "------------------------------------------------------------------------------\n",
      "x1            -0.3109      0.071     -4.363      0.000      -0.452      -0.170\n",
      "x2             0.2228      0.049      4.553      0.000       0.126       0.320\n",
      "x3             1.2884      0.060     21.399      0.000       1.169       1.407\n",
      "const         -0.1091      0.027     -4.093      0.000      -0.162      -0.056\n",
      "==============================================================================\n",
      "Omnibus:                        5.609   Durbin-Watson:                   1.573\n",
      "Prob(Omnibus):                  0.061   Jarque-Bera (JB):                6.811\n",
      "Skew:                           0.223   Prob(JB):                       0.0332\n",
      "Kurtosis:                       3.944   Cond. No.                         19.2\n",
      "==============================================================================\n",
      "\n",
      "Warnings:\n",
      "[1] Standard Errors assume that the covariance matrix of the errors is correctly specified.\n"
     ]
    }
   ],
   "source": [
    "feats, targets= X_trans[:,:-1], X_trans[:,-1]\n",
    "feats= sm.add_constant(feats, prepend=False)\n",
    "\n",
    "model_stm_2 = sm.OLS(targets, feats, hasconst=True)\n",
    "result_2= model_stm_2.fit()\n",
    "print(result_2.summary())"
   ]
  },
  {
   "cell_type": "markdown",
   "metadata": {},
   "source": [
    "* **Weights, biases and std_error from modelstats regression model**"
   ]
  },
  {
   "cell_type": "code",
   "execution_count": 41,
   "metadata": {},
   "outputs": [
    {
     "data": {
      "text/plain": [
       "array([-0.31089911,  0.22282854,  1.28837099, -0.10908804])"
      ]
     },
     "execution_count": 41,
     "metadata": {},
     "output_type": "execute_result"
    }
   ],
   "source": [
    "summary_2= result_2.summary()\n",
    "result_2.params"
   ]
  },
  {
   "cell_type": "code",
   "execution_count": 42,
   "metadata": {},
   "outputs": [
    {
     "data": {
      "text/html": [
       "<div>\n",
       "<style scoped>\n",
       "    .dataframe tbody tr th:only-of-type {\n",
       "        vertical-align: middle;\n",
       "    }\n",
       "\n",
       "    .dataframe tbody tr th {\n",
       "        vertical-align: top;\n",
       "    }\n",
       "\n",
       "    .dataframe thead th {\n",
       "        text-align: right;\n",
       "    }\n",
       "</style>\n",
       "<table border=\"1\" class=\"dataframe\">\n",
       "  <thead>\n",
       "    <tr style=\"text-align: right;\">\n",
       "      <th></th>\n",
       "      <th></th>\n",
       "      <th>coef</th>\n",
       "      <th>std err</th>\n",
       "      <th>t</th>\n",
       "      <th>P&gt;|t|</th>\n",
       "      <th>[0.025</th>\n",
       "      <th>0.975]</th>\n",
       "    </tr>\n",
       "  </thead>\n",
       "  <tbody>\n",
       "    <tr>\n",
       "      <td>0</td>\n",
       "      <td>x1</td>\n",
       "      <td>-0.3109</td>\n",
       "      <td>0.071</td>\n",
       "      <td>-4.363</td>\n",
       "      <td>0.000</td>\n",
       "      <td>-0.452</td>\n",
       "      <td>-0.170</td>\n",
       "    </tr>\n",
       "    <tr>\n",
       "      <td>1</td>\n",
       "      <td>x2</td>\n",
       "      <td>0.2228</td>\n",
       "      <td>0.049</td>\n",
       "      <td>4.553</td>\n",
       "      <td>0.000</td>\n",
       "      <td>0.126</td>\n",
       "      <td>0.320</td>\n",
       "    </tr>\n",
       "    <tr>\n",
       "      <td>2</td>\n",
       "      <td>x3</td>\n",
       "      <td>1.2884</td>\n",
       "      <td>0.060</td>\n",
       "      <td>21.399</td>\n",
       "      <td>0.000</td>\n",
       "      <td>1.169</td>\n",
       "      <td>1.407</td>\n",
       "    </tr>\n",
       "    <tr>\n",
       "      <td>3</td>\n",
       "      <td>const</td>\n",
       "      <td>-0.1091</td>\n",
       "      <td>0.027</td>\n",
       "      <td>-4.093</td>\n",
       "      <td>0.000</td>\n",
       "      <td>-0.162</td>\n",
       "      <td>-0.056</td>\n",
       "    </tr>\n",
       "  </tbody>\n",
       "</table>\n",
       "</div>"
      ],
      "text/plain": [
       "                coef    std err          t   P>|t|     [0.025     0.975]\n",
       "0     x1     -0.3109      0.071     -4.363   0.000     -0.452     -0.170\n",
       "1     x2      0.2228      0.049      4.553   0.000      0.126      0.320\n",
       "2     x3      1.2884      0.060     21.399   0.000      1.169      1.407\n",
       "3  const     -0.1091      0.027     -4.093   0.000     -0.162     -0.056"
      ]
     },
     "execution_count": 42,
     "metadata": {},
     "output_type": "execute_result"
    }
   ],
   "source": [
    "statsm_df_2 = pd.DataFrame(summary_2.tables[1].data[1:], columns=summary_2.tables[1].data[0])\n",
    "statsm_df_2"
   ]
  },
  {
   "cell_type": "markdown",
   "metadata": {},
   "source": [
    "##### Pytorch model Standard Error & Parameters Comparison\n",
    "* **Calculating standard error for pytorch model**"
   ]
  },
  {
   "cell_type": "code",
   "execution_count": 44,
   "metadata": {},
   "outputs": [
    {
     "data": {
      "text/plain": [
       "(4, 19)"
      ]
     },
     "execution_count": 44,
     "metadata": {},
     "output_type": "execute_result"
    }
   ],
   "source": [
    "mini_batches_4= list()#contains mini_batches of gradients from 200 epochs\n",
    "mean_mini_batches_4= list()#contains mean of each of 200 epochs each in a mini_batches of gradients from 200 epochs\n",
    "mini_size= 200#mini_batch size\n",
    "for batch in range(1, (len(all_grads_4))//mini_size):\n",
    "    mini_batches_4.append(all_grads_4[batch*mini_size:batch*mini_size+ mini_size])\n",
    "    mean_mini_batches_4.append(list(np.mean(mini_batches_4[-1], axis=0)))\n",
    "\n",
    "grad_mini_batch_arr_4 = np.array(mean_mini_batches_4).T\n",
    "grad_mini_batch_arr_4.shape"
   ]
  },
  {
   "cell_type": "code",
   "execution_count": 45,
   "metadata": {},
   "outputs": [
    {
     "data": {
      "text/plain": [
       "array([0.03206491, 0.01924692, 0.04832629, 0.0105358 ])"
      ]
     },
     "execution_count": 45,
     "metadata": {},
     "output_type": "execute_result"
    }
   ],
   "source": [
    "covariant_mat_4= np.cov(grad_mini_batch_arr_4)\n",
    "pytorch_stderr_4= np.sqrt(covariant_mat_4.diagonal())\n",
    "pytorch_stderr_4"
   ]
  },
  {
   "cell_type": "code",
   "execution_count": 46,
   "metadata": {},
   "outputs": [
    {
     "data": {
      "text/html": [
       "<div>\n",
       "<style scoped>\n",
       "    .dataframe tbody tr th:only-of-type {\n",
       "        vertical-align: middle;\n",
       "    }\n",
       "\n",
       "    .dataframe tbody tr th {\n",
       "        vertical-align: top;\n",
       "    }\n",
       "\n",
       "    .dataframe thead th {\n",
       "        text-align: right;\n",
       "    }\n",
       "</style>\n",
       "<table border=\"1\" class=\"dataframe\">\n",
       "  <thead>\n",
       "    <tr style=\"text-align: right;\">\n",
       "      <th></th>\n",
       "      <th>pytorch_grads</th>\n",
       "      <th>pytorch_params</th>\n",
       "      <th>statsmodel_params</th>\n",
       "      <th>statsmodel_stderr</th>\n",
       "      <th>pytorch_stderr</th>\n",
       "    </tr>\n",
       "  </thead>\n",
       "  <tbody>\n",
       "    <tr>\n",
       "      <td>0</td>\n",
       "      <td>0.005942</td>\n",
       "      <td>0.026907</td>\n",
       "      <td>-0.310899</td>\n",
       "      <td>0.071</td>\n",
       "      <td>0.032065</td>\n",
       "    </tr>\n",
       "    <tr>\n",
       "      <td>1</td>\n",
       "      <td>-0.005724</td>\n",
       "      <td>0.040770</td>\n",
       "      <td>0.222829</td>\n",
       "      <td>0.049</td>\n",
       "      <td>0.019247</td>\n",
       "    </tr>\n",
       "    <tr>\n",
       "      <td>2</td>\n",
       "      <td>0.000604</td>\n",
       "      <td>0.986915</td>\n",
       "      <td>1.288371</td>\n",
       "      <td>0.060</td>\n",
       "      <td>0.048326</td>\n",
       "    </tr>\n",
       "    <tr>\n",
       "      <td>3</td>\n",
       "      <td>0.000012</td>\n",
       "      <td>-0.038455</td>\n",
       "      <td>-0.109088</td>\n",
       "      <td>0.027</td>\n",
       "      <td>0.010536</td>\n",
       "    </tr>\n",
       "  </tbody>\n",
       "</table>\n",
       "</div>"
      ],
      "text/plain": [
       "   pytorch_grads  pytorch_params  statsmodel_params statsmodel_stderr  \\\n",
       "0       0.005942        0.026907          -0.310899             0.071   \n",
       "1      -0.005724        0.040770           0.222829             0.049   \n",
       "2       0.000604        0.986915           1.288371             0.060   \n",
       "3       0.000012       -0.038455          -0.109088             0.027   \n",
       "\n",
       "   pytorch_stderr  \n",
       "0        0.032065  \n",
       "1        0.019247  \n",
       "2        0.048326  \n",
       "3        0.010536  "
      ]
     },
     "execution_count": 46,
     "metadata": {},
     "output_type": "execute_result"
    }
   ],
   "source": [
    "di_4 = dict(zip('pytorch_grads,pytorch_params,statsmodel_params,statsmodel_stderr'.split(','), [all_grads_4[-1,:], all_wts_bias_4[-1,:], result_2.params, statsm_df_2[\"std err\"].values]))\n",
    "di_4.update({'pytorch_stderr':pytorch_stderr_4})\n",
    "comp_df_4 = pd.DataFrame(di_4)\n",
    "comp_df_4"
   ]
  },
  {
   "cell_type": "markdown",
   "metadata": {},
   "source": [
    "#### Model training with reference Weights from statsmodel"
   ]
  },
  {
   "cell_type": "code",
   "execution_count": 47,
   "metadata": {},
   "outputs": [],
   "source": [
    "ref_kernel = torch.reshape(torch.Tensor(result_2.params[:-1]+ np.random.normal(0,0.1, result_2.params[:-1].shape[0])).float(), (1,-1))\n",
    "ref_bias = result_2.params[-1] + 0.1#Adding noise"
   ]
  },
  {
   "cell_type": "code",
   "execution_count": 52,
   "metadata": {},
   "outputs": [
    {
     "data": {
      "text/plain": [
       "network(\n",
       "  (fc1): Linear(in_features=3, out_features=1, bias=True)\n",
       ")"
      ]
     },
     "execution_count": 52,
     "metadata": {},
     "output_type": "execute_result"
    }
   ],
   "source": [
    "def create_model_5():\n",
    "    class network(nn.Module):\n",
    "        def __init__(self):\n",
    "            super(network, self).__init__()\n",
    "            self.fc1 = nn.Linear(3, 1)#100)\n",
    "            self.fc1.weight= torch.nn.Parameter(ref_kernel)\n",
    "            #torch.nn.init.constant_(ref_kernel,0.3)\n",
    "            #self.fc1.weight.data= ref_kernel\n",
    "            self.fc1.bias.data.fill_(ref_bias)\n",
    "            #torch.nn.init.xavier_uniform_(self.fc1.weight)\n",
    "\n",
    "        def forward(self, X):\n",
    "            X = self.fc1(X)#F.linear(self.fc1(X))#, list(self.fc1.parameters())[0])\n",
    "            return X\n",
    "    model= network()\n",
    "    optimizer = optim.Adam(model.parameters())#LBFGS(model.parameters())\n",
    "    criterion= nn.MSELoss()# CrossEntropyLoss()\n",
    "    return model, optimizer, criterion\n",
    "\n",
    "model5, optimizer5, loss5= create_model_5()\n",
    "model5"
   ]
  },
  {
   "cell_type": "code",
   "execution_count": 55,
   "metadata": {
    "scrolled": true
   },
   "outputs": [
    {
     "data": {
      "text/plain": [
       "array([-0.31089911,  0.22282854,  1.28837099, -0.10908804])"
      ]
     },
     "execution_count": 55,
     "metadata": {},
     "output_type": "execute_result"
    }
   ],
   "source": [
    "result_2.params#refrenced weights, bias from statsmodel"
   ]
  },
  {
   "cell_type": "code",
   "execution_count": 56,
   "metadata": {
    "scrolled": false
   },
   "outputs": [
    {
     "data": {
      "text/plain": [
       "[Parameter containing:\n",
       " tensor([[-0.4047,  0.1947,  1.1208]], requires_grad=True),\n",
       " Parameter containing:\n",
       " tensor([-0.0091], requires_grad=True)]"
      ]
     },
     "execution_count": 56,
     "metadata": {},
     "output_type": "execute_result"
    }
   ],
   "source": [
    "list(model5.parameters())"
   ]
  },
  {
   "cell_type": "code",
   "execution_count": 57,
   "metadata": {
    "scrolled": false
   },
   "outputs": [
    {
     "name": "stdout",
     "output_type": "stream",
     "text": [
      "epoch:  0  loss:  0.007820341736078262\n",
      "epoch:  500  loss:  0.005336611531674862\n",
      "epoch:  1000  loss:  0.007394782733172178\n",
      "epoch:  1500  loss:  0.003488107118755579\n",
      "epoch:  2000  loss:  0.00621061073616147\n",
      "epoch:  2500  loss:  0.009669643826782703\n",
      "epoch:  3000  loss:  0.008191404864192009\n",
      "epoch:  3500  loss:  0.003529761917889118\n"
     ]
    },
    {
     "data": {
      "image/png": "[encoded data removed]",
      "text/plain": [
       "<Figure size 432x288 with 1 Axes>"
      ]
     },
     "metadata": {
      "needs_background": "light"
     },
     "output_type": "display_data"
    }
   ],
   "source": [
    "#trainx= Variable(torch.Tensor(X_trans[:,:-1]).float(), requires_grad=True) #df.iloc[:, :-1].values).float()\n",
    "#trainy = Variable(torch.reshape(torch.Tensor(X_trans[:,-1]).float(), (-1,1)))\n",
    "\n",
    "wts_bias_progression_5= list()\n",
    "all_grads_5= list()\n",
    "losses_5= list()\n",
    "for epoch in range(4000):\n",
    "    x_transformed =samp(X_trans, count= 32)\n",
    "    trainx= Variable(torch.Tensor(x_transformed[:,:-1]).float(), requires_grad=True) #df.iloc[:, :-1].values).float()\n",
    "    trainy = Variable(torch.reshape(torch.Tensor(x_transformed[:,-1]).float(), (-1,1)))\n",
    "\n",
    "    optimizer5.zero_grad()\n",
    "    y_pred = model5(trainx)\n",
    "    #print(y_pred)\n",
    "    l = loss5(y_pred, trainy)\n",
    "    losses_5.append(l.item())\n",
    "    if epoch%500==0:\n",
    "        print('epoch: ', epoch, ' loss: ', l.item());\n",
    "    # perform a backward pass (backpropagation)\n",
    "    l.backward()\n",
    "    wts_bias = list(model5.parameters())\n",
    "    wts_bias_vals= torch.cat((wts_bias[0], torch.reshape(wts_bias[1], (-1,1))),1)\n",
    "    wts_bias_progression_5.append(wts_bias_vals.tolist())\n",
    "    \n",
    "    wts_bias_grads = torch.cat((wts_bias[0].grad, torch.reshape(wts_bias[1].grad, (-1,1))),1)\n",
    "    all_grads_5.append(wts_bias_grads.tolist())#i_grads)\n",
    "    optimizer5.step()\n",
    "\n",
    "all_wts_bias_5 = np.array(wts_bias_progression_5).reshape(-1,4)\n",
    "all_wts_bias_df_5= pd.DataFrame(all_wts_bias_5, columns=['weight_{}'.format(idx) for idx in range(1,4)]+ ['bias'])\n",
    "\n",
    "all_grads_5 = np.array(all_grads_5).reshape(-1,4)\n",
    "all_grads_df_5= pd.DataFrame(all_grads_5, columns=['beta_{}'.format(idx) for idx in range(1,5)])\n",
    "plot(losses_5)"
   ]
  },
  {
   "cell_type": "code",
   "execution_count": 58,
   "metadata": {},
   "outputs": [
    {
     "data": {
      "image/png": "[encoded data removed]",
      "text/plain": [
       "<Figure size 432x288 with 2 Axes>"
      ]
     },
     "metadata": {
      "needs_background": "light"
     },
     "output_type": "display_data"
    }
   ],
   "source": [
    "#Plot with trained cases. When predictions are calculated of train_data\n",
    "predictions= model5(torch.Tensor(X_trans[:,:-1]).float())\n",
    "predictions= torch.Tensor.cpu(predictions).detach().numpy().reshape(-1,)\n",
    "observed= X_trans[:,-1]\n",
    "\n",
    "\n",
    "hexbin_plot(predictions,observed, 'prediction' ,'observed')"
   ]
  },
  {
   "cell_type": "markdown",
   "metadata": {},
   "source": [
    "##### Pytorch model Standard Error & Parameters Comparison\n",
    "* **Calculating standard error for pytorch model**"
   ]
  },
  {
   "cell_type": "code",
   "execution_count": 59,
   "metadata": {},
   "outputs": [
    {
     "data": {
      "text/plain": [
       "(4, 19)"
      ]
     },
     "execution_count": 59,
     "metadata": {},
     "output_type": "execute_result"
    }
   ],
   "source": [
    "mini_batches_5= list()#contains mini_batches of gradients from 200 epochs\n",
    "mean_mini_batches_5= list()#contains mean of each of 200 epochs each in a mini_batches of gradients from 200 epochs\n",
    "mini_size= 200#mini_batch size\n",
    "for batch in range(1, (len(all_grads_5))//mini_size):\n",
    "    mini_batches_5.append(all_grads_5[batch*mini_size:batch*mini_size+ mini_size])\n",
    "    mean_mini_batches_5.append(list(np.mean(mini_batches_5[-1], axis=0)))\n",
    "\n",
    "grad_mini_batch_arr_5 = np.array(mean_mini_batches_5).T\n",
    "grad_mini_batch_arr_5.shape"
   ]
  },
  {
   "cell_type": "code",
   "execution_count": 60,
   "metadata": {},
   "outputs": [
    {
     "data": {
      "text/plain": [
       "array([0.0007938 , 0.00044358, 0.00070928, 0.00118473])"
      ]
     },
     "execution_count": 60,
     "metadata": {},
     "output_type": "execute_result"
    }
   ],
   "source": [
    "covariant_mat_5= np.cov(grad_mini_batch_arr_5)\n",
    "pytorch_stderr_5= np.sqrt(covariant_mat_5.diagonal())#**2\n",
    "pytorch_stderr_5"
   ]
  },
  {
   "cell_type": "code",
   "execution_count": 61,
   "metadata": {},
   "outputs": [
    {
     "data": {
      "text/html": [
       "<div>\n",
       "<style scoped>\n",
       "    .dataframe tbody tr th:only-of-type {\n",
       "        vertical-align: middle;\n",
       "    }\n",
       "\n",
       "    .dataframe tbody tr th {\n",
       "        vertical-align: top;\n",
       "    }\n",
       "\n",
       "    .dataframe thead th {\n",
       "        text-align: right;\n",
       "    }\n",
       "</style>\n",
       "<table border=\"1\" class=\"dataframe\">\n",
       "  <thead>\n",
       "    <tr style=\"text-align: right;\">\n",
       "      <th></th>\n",
       "      <th>pytorch_grads</th>\n",
       "      <th>pytorch_params</th>\n",
       "      <th>statsmodel_params</th>\n",
       "      <th>statsmodel_stderr</th>\n",
       "      <th>pytorch_stderr</th>\n",
       "    </tr>\n",
       "  </thead>\n",
       "  <tbody>\n",
       "    <tr>\n",
       "      <td>0</td>\n",
       "      <td>-0.026998</td>\n",
       "      <td>-0.303810</td>\n",
       "      <td>-0.310899</td>\n",
       "      <td>0.071</td>\n",
       "      <td>0.000794</td>\n",
       "    </tr>\n",
       "    <tr>\n",
       "      <td>1</td>\n",
       "      <td>-0.021806</td>\n",
       "      <td>0.220637</td>\n",
       "      <td>0.222829</td>\n",
       "      <td>0.049</td>\n",
       "      <td>0.000444</td>\n",
       "    </tr>\n",
       "    <tr>\n",
       "      <td>2</td>\n",
       "      <td>-0.035608</td>\n",
       "      <td>1.281873</td>\n",
       "      <td>1.288371</td>\n",
       "      <td>0.060</td>\n",
       "      <td>0.000709</td>\n",
       "    </tr>\n",
       "    <tr>\n",
       "      <td>3</td>\n",
       "      <td>-0.059698</td>\n",
       "      <td>-0.103755</td>\n",
       "      <td>-0.109088</td>\n",
       "      <td>0.027</td>\n",
       "      <td>0.001185</td>\n",
       "    </tr>\n",
       "  </tbody>\n",
       "</table>\n",
       "</div>"
      ],
      "text/plain": [
       "   pytorch_grads  pytorch_params  statsmodel_params statsmodel_stderr  \\\n",
       "0      -0.026998       -0.303810          -0.310899             0.071   \n",
       "1      -0.021806        0.220637           0.222829             0.049   \n",
       "2      -0.035608        1.281873           1.288371             0.060   \n",
       "3      -0.059698       -0.103755          -0.109088             0.027   \n",
       "\n",
       "   pytorch_stderr  \n",
       "0        0.000794  \n",
       "1        0.000444  \n",
       "2        0.000709  \n",
       "3        0.001185  "
      ]
     },
     "execution_count": 61,
     "metadata": {},
     "output_type": "execute_result"
    }
   ],
   "source": [
    "di_5 = dict(zip('pytorch_grads,pytorch_params,statsmodel_params,statsmodel_stderr'.split(','), [all_grads_5[-1,:], all_wts_bias_5[-1,:], result_2.params, statsm_df_2[\"std err\"].values]))\n",
    "di_5.update({'pytorch_stderr':pytorch_stderr_5})\n",
    "comp_df_5 = pd.DataFrame(di_5)\n",
    "comp_df_5"
   ]
  },
  {
   "cell_type": "markdown",
   "metadata": {},
   "source": [
    "______________________"
   ]
  }
 ],
 "metadata": {
  "kernelspec": {
   "display_name": "Python 3",
   "language": "python",
   "name": "python3"
  },
  "language_info": {
   "codemirror_mode": {
    "name": "ipython",
    "version": 3
   },
   "file_extension": ".py",
   "mimetype": "text/x-python",
   "name": "python",
   "nbconvert_exporter": "python",
   "pygments_lexer": "ipython3",
   "version": "3.6.8"
  },
  "latex_envs": {
   "LaTeX_envs_menu_present": true,
   "autoclose": false,
   "autocomplete": true,
   "bibliofile": "biblio.bib",
   "cite_by": "apalike",
   "current_citInitial": 1,
   "eqLabelWithNumbers": true,
   "eqNumInitial": 1,
   "hotkeys": {
    "equation": "Ctrl-E",
    "itemize": "Ctrl-I"
   },
   "labels_anchors": false,
   "latex_user_defs": false,
   "report_style_numbering": false,
   "user_envs_cfg": false
  },
  "toc": {
   "base_numbering": 1,
   "nav_menu": {},
   "number_sections": true,
   "sideBar": true,
   "skip_h1_title": false,
   "title_cell": "Table of Contents",
   "title_sidebar": "Contents",
   "toc_cell": false,
   "toc_position": {},
   "toc_section_display": true,
   "toc_window_display": true
  }
 },
 "nbformat": 4,
 "nbformat_minor": 2
}
