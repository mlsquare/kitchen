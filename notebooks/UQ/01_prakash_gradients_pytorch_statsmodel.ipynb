{
 "cells": [
  {
   "cell_type": "markdown",
   "metadata": {},
   "source": [
    "* **Following pytorch model has one linear layer with `inputs`: 3 and `outputs`:1**"
   ]
  },
  {
   "cell_type": "code",
   "execution_count": 1,
   "metadata": {},
   "outputs": [],
   "source": [
    "import pandas as pd\n",
    "import numpy as np\n",
    "import torch\n",
    "import torch.nn as nn\n",
    "from torch.autograd import Variable\n",
    "import torch.nn.functional as F\n",
    "import torch.optim as optim\n",
    "import matplotlib.pyplot as plt\n",
    "\n",
    "def create_model():\n",
    "    class network(nn.Module):\n",
    "        def __init__(self):\n",
    "            super(network, self).__init__()\n",
    "            self.fc1 = nn.Linear(3, 1)#100)\n",
    "\n",
    "        def forward(self, X):\n",
    "            X = self.fc1(X)#F.linear(self.fc1(X))#, list(self.fc1.parameters())[0])\n",
    "            return X\n",
    "    model= network()\n",
    "    optimizer = optim.Adam(model.parameters())\n",
    "    criterion= nn.MSELoss()# CrossEntropyLoss()\n",
    "    return model, optimizer, criterion"
   ]
  },
  {
   "cell_type": "code",
   "execution_count": 2,
   "metadata": {},
   "outputs": [
    {
     "data": {
      "text/plain": [
       "network(\n",
       "  (fc1): Linear(in_features=3, out_features=1, bias=True)\n",
       ")"
      ]
     },
     "execution_count": 2,
     "metadata": {},
     "output_type": "execute_result"
    }
   ],
   "source": [
    "model2, optimizer2, loss2= create_model()\n",
    "model2"
   ]
  },
  {
   "cell_type": "markdown",
   "metadata": {},
   "source": [
    "* **Data preparation scheme:**\n",
    "\n",
    "        - Each record `X` cosist of first 3 values of 4 values\n",
    "          from iris dataset input features.\n",
    "        \n",
    "        - 4th value serve as taget label `y` ."
   ]
  },
  {
   "cell_type": "code",
   "execution_count": 3,
   "metadata": {},
   "outputs": [],
   "source": [
    "def scale(arr):\n",
    "    f= lambda x: (x-np.mean(x))/np.var(x)\n",
    "    for idx in range(arr.shape[1]):\n",
    "        arr[:,idx]= f(arr[:, idx])\n",
    "    #return arr\n",
    "def plot(v1):\n",
    "    plt.plot(v1)\n",
    "    #plt.plot(v2)\n",
    "    plt.title('Model training loss')\n",
    "    plt.xlabel('epoch')\n",
    "    plt.ylabel('loss')\n",
    "    #plt.legend(['train', 'validation'], loc='upper right')\n",
    "    return plt.show()"
   ]
  },
  {
   "cell_type": "markdown",
   "metadata": {},
   "source": [
    "* **Training & plots**"
   ]
  },
  {
   "cell_type": "code",
   "execution_count": 4,
   "metadata": {
    "scrolled": false
   },
   "outputs": [
    {
     "name": "stdout",
     "output_type": "stream",
     "text": [
      "epoch:  0  loss:  1.2406954765319824\n",
      "epoch:  500  loss:  0.4722647964954376\n",
      "epoch:  1000  loss:  0.40207716822624207\n",
      "epoch:  1500  loss:  0.3408145308494568\n",
      "epoch:  2000  loss:  0.28184160590171814\n"
     ]
    },
    {
     "data": {
      "image/png": "[encoded data removed]",
      "text/plain": [
       "<Figure size 432x288 with 1 Axes>"
      ]
     },
     "metadata": {
      "needs_background": "light"
     },
     "output_type": "display_data"
    }
   ],
   "source": [
    "from sklearn.datasets import load_iris\n",
    "data = load_iris()\n",
    "X = data.data#, data.target\n",
    "scale(X)\n",
    "\n",
    "trainx= Variable(torch.Tensor(X[:,:-1]).float(), requires_grad=True) #df.iloc[:, :-1].values).float()\n",
    "trainy = Variable(torch.reshape(torch.Tensor(X[:,-1]).float(), (-1,1)))\n",
    "\n",
    "#i_grads= np.empty(trainx.shape)\n",
    "wts_bias_progression= list()\n",
    "all_grads= list()\n",
    "losses= list()\n",
    "for epoch in range(2500):\n",
    "    optimizer2.zero_grad()\n",
    "    y_pred = model2(trainx)\n",
    "    #print(y_pred)\n",
    "    l = loss2(y_pred, trainy)\n",
    "    losses.append(l.item())\n",
    "    if epoch%500==0:\n",
    "        print('epoch: ', epoch, ' loss: ', l.item());\n",
    "    # perform a backward pass (backpropagation)\n",
    "    l.backward()\n",
    "    wts_bias = list(model2.parameters())\n",
    "    wts_bias_vals= torch.cat((wts_bias[0], torch.reshape(wts_bias[1], (-1,1))),1)\n",
    "    wts_bias_progression.append(wts_bias_vals.tolist())\n",
    "    \n",
    "    wts_bias_grads = torch.cat((wts_bias[0].grad, torch.reshape(wts_bias[1].grad, (-1,1))),1)\n",
    "    #i_grads= trainx.grad\n",
    "    all_grads.append(wts_bias_grads.tolist())#i_grads)\n",
    "    # Update the parameters\n",
    "    optimizer2.step()\n",
    "all_wts_bias = np.array(wts_bias_progression).reshape(-1,4)\n",
    "all_wts_bias_df= pd.DataFrame(all_wts_bias, columns=['weight_{}'.format(idx) for idx in range(1,4)]+ ['bias'])\n",
    "\n",
    "all_grads = np.array(all_grads).reshape(-1,4)\n",
    "all_grads_df= pd.DataFrame(all_grads, columns=['beta_{}'.format(idx) for idx in range(1,5)])\n",
    "plot(losses)"
   ]
  },
  {
   "cell_type": "markdown",
   "metadata": {},
   "source": [
    "* **Following are the weights and bias for the ONLY layer in model, after 128 epochs of training**"
   ]
  },
  {
   "cell_type": "code",
   "execution_count": 5,
   "metadata": {},
   "outputs": [
    {
     "data": {
      "text/plain": [
       "[Parameter containing:\n",
       " tensor([[ 0.4330, -0.0650,  1.1211]], requires_grad=True),\n",
       " Parameter containing:\n",
       " tensor([2.8916e-08], requires_grad=True)]"
      ]
     },
     "execution_count": 5,
     "metadata": {},
     "output_type": "execute_result"
    }
   ],
   "source": [
    "li = list(model2.parameters())\n",
    "li"
   ]
  },
  {
   "cell_type": "code",
   "execution_count": 6,
   "metadata": {},
   "outputs": [
    {
     "name": "stdout",
     "output_type": "stream",
     "text": [
      "Final weights gradients : tensor([[ 0.0510, -0.0111, -0.1237]])\n",
      "Final bias gradients: tensor([1.4435e-08])\n"
     ]
    }
   ],
   "source": [
    "print('Final weights gradients : {}\\nFinal bias gradients: {}'.format(li[0].grad, li[1].grad))"
   ]
  },
  {
   "cell_type": "markdown",
   "metadata": {},
   "source": [
    "* **Following are gradients updated after each epochs**"
   ]
  },
  {
   "cell_type": "code",
   "execution_count": 7,
   "metadata": {
    "scrolled": false
   },
   "outputs": [
    {
     "data": {
      "text/html": [
       "<div>\n",
       "<style scoped>\n",
       "    .dataframe tbody tr th:only-of-type {\n",
       "        vertical-align: middle;\n",
       "    }\n",
       "\n",
       "    .dataframe tbody tr th {\n",
       "        vertical-align: top;\n",
       "    }\n",
       "\n",
       "    .dataframe thead th {\n",
       "        text-align: right;\n",
       "    }\n",
       "</style>\n",
       "<table border=\"1\" class=\"dataframe\">\n",
       "  <thead>\n",
       "    <tr style=\"text-align: right;\">\n",
       "      <th></th>\n",
       "      <th>beta_1</th>\n",
       "      <th>beta_2</th>\n",
       "      <th>beta_3</th>\n",
       "      <th>beta_4</th>\n",
       "    </tr>\n",
       "  </thead>\n",
       "  <tbody>\n",
       "    <tr>\n",
       "      <td>0</td>\n",
       "      <td>-1.450522</td>\n",
       "      <td>-2.127095</td>\n",
       "      <td>-0.676503</td>\n",
       "      <td>-2.656797e-01</td>\n",
       "    </tr>\n",
       "    <tr>\n",
       "      <td>1</td>\n",
       "      <td>-1.447040</td>\n",
       "      <td>-2.118273</td>\n",
       "      <td>-0.675777</td>\n",
       "      <td>-2.636797e-01</td>\n",
       "    </tr>\n",
       "    <tr>\n",
       "      <td>2</td>\n",
       "      <td>-1.443560</td>\n",
       "      <td>-2.109453</td>\n",
       "      <td>-0.675052</td>\n",
       "      <td>-2.616801e-01</td>\n",
       "    </tr>\n",
       "    <tr>\n",
       "      <td>3</td>\n",
       "      <td>-1.440078</td>\n",
       "      <td>-2.100635</td>\n",
       "      <td>-0.674326</td>\n",
       "      <td>-2.596813e-01</td>\n",
       "    </tr>\n",
       "    <tr>\n",
       "      <td>4</td>\n",
       "      <td>-1.436598</td>\n",
       "      <td>-2.091819</td>\n",
       "      <td>-0.673600</td>\n",
       "      <td>-2.576833e-01</td>\n",
       "    </tr>\n",
       "    <tr>\n",
       "      <td>...</td>\n",
       "      <td>...</td>\n",
       "      <td>...</td>\n",
       "      <td>...</td>\n",
       "      <td>...</td>\n",
       "    </tr>\n",
       "    <tr>\n",
       "      <td>2495</td>\n",
       "      <td>0.051157</td>\n",
       "      <td>-0.011115</td>\n",
       "      <td>-0.123845</td>\n",
       "      <td>8.847564e-09</td>\n",
       "    </tr>\n",
       "    <tr>\n",
       "      <td>2496</td>\n",
       "      <td>0.051129</td>\n",
       "      <td>-0.011109</td>\n",
       "      <td>-0.123801</td>\n",
       "      <td>2.421439e-08</td>\n",
       "    </tr>\n",
       "    <tr>\n",
       "      <td>2497</td>\n",
       "      <td>0.051101</td>\n",
       "      <td>-0.011102</td>\n",
       "      <td>-0.123757</td>\n",
       "      <td>6.752089e-08</td>\n",
       "    </tr>\n",
       "    <tr>\n",
       "      <td>2498</td>\n",
       "      <td>0.051072</td>\n",
       "      <td>-0.011096</td>\n",
       "      <td>-0.123713</td>\n",
       "      <td>3.445894e-08</td>\n",
       "    </tr>\n",
       "    <tr>\n",
       "      <td>2499</td>\n",
       "      <td>0.051044</td>\n",
       "      <td>-0.011089</td>\n",
       "      <td>-0.123670</td>\n",
       "      <td>1.443550e-08</td>\n",
       "    </tr>\n",
       "  </tbody>\n",
       "</table>\n",
       "<p>2500 rows × 4 columns</p>\n",
       "</div>"
      ],
      "text/plain": [
       "        beta_1    beta_2    beta_3        beta_4\n",
       "0    -1.450522 -2.127095 -0.676503 -2.656797e-01\n",
       "1    -1.447040 -2.118273 -0.675777 -2.636797e-01\n",
       "2    -1.443560 -2.109453 -0.675052 -2.616801e-01\n",
       "3    -1.440078 -2.100635 -0.674326 -2.596813e-01\n",
       "4    -1.436598 -2.091819 -0.673600 -2.576833e-01\n",
       "...        ...       ...       ...           ...\n",
       "2495  0.051157 -0.011115 -0.123845  8.847564e-09\n",
       "2496  0.051129 -0.011109 -0.123801  2.421439e-08\n",
       "2497  0.051101 -0.011102 -0.123757  6.752089e-08\n",
       "2498  0.051072 -0.011096 -0.123713  3.445894e-08\n",
       "2499  0.051044 -0.011089 -0.123670  1.443550e-08\n",
       "\n",
       "[2500 rows x 4 columns]"
      ]
     },
     "execution_count": 7,
     "metadata": {},
     "output_type": "execute_result"
    }
   ],
   "source": [
    "all_grads_df"
   ]
  },
  {
   "cell_type": "markdown",
   "metadata": {},
   "source": [
    "* **Following computes the values at gradients w.r.t all inputs `X`**"
   ]
  },
  {
   "cell_type": "code",
   "execution_count": 8,
   "metadata": {},
   "outputs": [
    {
     "data": {
      "text/plain": [
       "torch.Size([150, 3])"
      ]
     },
     "execution_count": 8,
     "metadata": {},
     "output_type": "execute_result"
    }
   ],
   "source": [
    "optimizer2.zero_grad()\n",
    "y_pred = model2(trainx)\n",
    "l = loss2(y_pred, trainy)\n",
    "l.backward()\n",
    "i_grads= trainx.grad\n",
    "#all_grads.append(i_grads)\n",
    "#grad w.r.t input dataset Could be computed for every epoch\n",
    "\n",
    "i_grads.shape"
   ]
  },
  {
   "cell_type": "code",
   "execution_count": 9,
   "metadata": {},
   "outputs": [
    {
     "data": {
      "text/html": [
       "<div>\n",
       "<style scoped>\n",
       "    .dataframe tbody tr th:only-of-type {\n",
       "        vertical-align: middle;\n",
       "    }\n",
       "\n",
       "    .dataframe tbody tr th {\n",
       "        vertical-align: top;\n",
       "    }\n",
       "\n",
       "    .dataframe thead th {\n",
       "        text-align: right;\n",
       "    }\n",
       "</style>\n",
       "<table border=\"1\" class=\"dataframe\">\n",
       "  <thead>\n",
       "    <tr style=\"text-align: right;\">\n",
       "      <th></th>\n",
       "      <th>beta_1</th>\n",
       "      <th>beta_2</th>\n",
       "      <th>beta_3</th>\n",
       "      <th>beta_4</th>\n",
       "    </tr>\n",
       "  </thead>\n",
       "  <tbody>\n",
       "    <tr>\n",
       "      <td>count</td>\n",
       "      <td>2500.000000</td>\n",
       "      <td>2500.000000</td>\n",
       "      <td>2500.000000</td>\n",
       "      <td>2.500000e+03</td>\n",
       "    </tr>\n",
       "    <tr>\n",
       "      <td>mean</td>\n",
       "      <td>-0.095115</td>\n",
       "      <td>-0.170166</td>\n",
       "      <td>-0.234389</td>\n",
       "      <td>-9.525506e-03</td>\n",
       "    </tr>\n",
       "    <tr>\n",
       "      <td>std</td>\n",
       "      <td>0.356338</td>\n",
       "      <td>0.389525</td>\n",
       "      <td>0.138281</td>\n",
       "      <td>3.705129e-02</td>\n",
       "    </tr>\n",
       "    <tr>\n",
       "      <td>min</td>\n",
       "      <td>-1.450522</td>\n",
       "      <td>-2.127095</td>\n",
       "      <td>-0.676503</td>\n",
       "      <td>-2.656797e-01</td>\n",
       "    </tr>\n",
       "    <tr>\n",
       "      <td>25%</td>\n",
       "      <td>-0.030689</td>\n",
       "      <td>-0.064817</td>\n",
       "      <td>-0.247942</td>\n",
       "      <td>-4.190952e-08</td>\n",
       "    </tr>\n",
       "    <tr>\n",
       "      <td>50%</td>\n",
       "      <td>0.064396</td>\n",
       "      <td>-0.021166</td>\n",
       "      <td>-0.174130</td>\n",
       "      <td>-8.381903e-09</td>\n",
       "    </tr>\n",
       "    <tr>\n",
       "      <td>75%</td>\n",
       "      <td>0.082895</td>\n",
       "      <td>-0.015591</td>\n",
       "      <td>-0.150212</td>\n",
       "      <td>8.381903e-09</td>\n",
       "    </tr>\n",
       "    <tr>\n",
       "      <td>max</td>\n",
       "      <td>0.094235</td>\n",
       "      <td>-0.011089</td>\n",
       "      <td>-0.123670</td>\n",
       "      <td>6.984919e-08</td>\n",
       "    </tr>\n",
       "  </tbody>\n",
       "</table>\n",
       "</div>"
      ],
      "text/plain": [
       "            beta_1       beta_2       beta_3        beta_4\n",
       "count  2500.000000  2500.000000  2500.000000  2.500000e+03\n",
       "mean     -0.095115    -0.170166    -0.234389 -9.525506e-03\n",
       "std       0.356338     0.389525     0.138281  3.705129e-02\n",
       "min      -1.450522    -2.127095    -0.676503 -2.656797e-01\n",
       "25%      -0.030689    -0.064817    -0.247942 -4.190952e-08\n",
       "50%       0.064396    -0.021166    -0.174130 -8.381903e-09\n",
       "75%       0.082895    -0.015591    -0.150212  8.381903e-09\n",
       "max       0.094235    -0.011089    -0.123670  6.984919e-08"
      ]
     },
     "execution_count": 9,
     "metadata": {},
     "output_type": "execute_result"
    }
   ],
   "source": [
    "all_grads_df.describe()"
   ]
  },
  {
   "cell_type": "markdown",
   "metadata": {},
   "source": [
    "* **Mean values for weight(Beta_1-3) and bias(beta_4) gradients**"
   ]
  },
  {
   "cell_type": "code",
   "execution_count": 10,
   "metadata": {},
   "outputs": [
    {
     "data": {
      "text/plain": [
       "beta_1   -0.095115\n",
       "beta_2   -0.170166\n",
       "beta_3   -0.234389\n",
       "beta_4   -0.009526\n",
       "Name: mean, dtype: float64"
      ]
     },
     "execution_count": 10,
     "metadata": {},
     "output_type": "execute_result"
    }
   ],
   "source": [
    "all_grads_df.describe().iloc[1]"
   ]
  },
  {
   "cell_type": "markdown",
   "metadata": {},
   "source": [
    "* **Evaluating same data with linear regression from statsmodel**"
   ]
  },
  {
   "cell_type": "code",
   "execution_count": 11,
   "metadata": {},
   "outputs": [],
   "source": [
    "import statsmodels.api as sm\n",
    "feats, targets= X[:,:-1], X[:,-1]\n",
    "feats= sm.add_constant(feats, prepend=False)"
   ]
  },
  {
   "cell_type": "code",
   "execution_count": 12,
   "metadata": {},
   "outputs": [
    {
     "name": "stdout",
     "output_type": "stream",
     "text": [
      "                            OLS Regression Results                            \n",
      "==============================================================================\n",
      "Dep. Variable:                      y   R-squared:                       0.938\n",
      "Model:                            OLS   Adj. R-squared:                  0.937\n",
      "Method:                 Least Squares   F-statistic:                     734.4\n",
      "Date:                Thu, 12 Mar 2020   Prob (F-statistic):           7.83e-88\n",
      "Time:                        19:28:05   Log-Likelihood:                -45.701\n",
      "No. Observations:                 150   AIC:                             99.40\n",
      "Df Residuals:                     146   BIC:                             111.4\n",
      "Df Model:                           3                                         \n",
      "Covariance Type:            nonrobust                                         \n",
      "==============================================================================\n",
      "                 coef    std err          t      P>|t|      [0.025      0.975]\n",
      "------------------------------------------------------------------------------\n",
      "x1            -0.2446      0.056     -4.363      0.000      -0.355      -0.134\n",
      "x2             0.0729      0.016      4.553      0.000       0.041       0.104\n",
      "x3             2.8110      0.131     21.399      0.000       2.551       3.071\n",
      "const       9.368e-17      0.027   3.45e-15      1.000      -0.054       0.054\n",
      "==============================================================================\n",
      "Omnibus:                        5.609   Durbin-Watson:                   1.573\n",
      "Prob(Omnibus):                  0.061   Jarque-Bera (JB):                6.811\n",
      "Skew:                           0.223   Prob(JB):                       0.0332\n",
      "Kurtosis:                       3.944   Cond. No.                         12.1\n",
      "==============================================================================\n",
      "\n",
      "Warnings:\n",
      "[1] Standard Errors assume that the covariance matrix of the errors is correctly specified.\n"
     ]
    }
   ],
   "source": [
    "model = sm.OLS(targets, feats, hasconst=True)\n",
    "result= model.fit()\n",
    "print(result.summary())"
   ]
  },
  {
   "cell_type": "markdown",
   "metadata": {},
   "source": [
    "* **Weights and biases from modelstats regression model**"
   ]
  },
  {
   "cell_type": "code",
   "execution_count": 13,
   "metadata": {
    "scrolled": true
   },
   "outputs": [
    {
     "data": {
      "text/plain": [
       "array([-2.44611824e-01,  7.28612405e-02,  2.81096557e+00,  9.36750677e-17])"
      ]
     },
     "execution_count": 13,
     "metadata": {},
     "output_type": "execute_result"
    }
   ],
   "source": [
    "result.params"
   ]
  },
  {
   "cell_type": "markdown",
   "metadata": {},
   "source": [
    "* **pytorch_params vs. statsmodel_params**"
   ]
  },
  {
   "cell_type": "code",
   "execution_count": 14,
   "metadata": {},
   "outputs": [
    {
     "data": {
      "text/plain": [
       "{'pytorch_grads': array([ 5.10438569e-02, -1.10894283e-02, -1.23669505e-01,  1.44354999e-08]),\n",
       " 'pytorch_params': array([ 4.33246076e-01, -6.50657341e-02,  1.12046862e+00,  2.93877651e-08]),\n",
       " 'statsmodel_params': array([-2.44611824e-01,  7.28612405e-02,  2.81096557e+00,  9.36750677e-17])}"
      ]
     },
     "execution_count": 14,
     "metadata": {},
     "output_type": "execute_result"
    }
   ],
   "source": [
    "di = dict(zip('pytorch_grads,pytorch_params,statsmodel_params'.split(','), [all_grads[-1,:], all_wts_bias[-1,:], result.params]))#all_grads\n",
    "di"
   ]
  },
  {
   "cell_type": "code",
   "execution_count": 15,
   "metadata": {},
   "outputs": [
    {
     "data": {
      "text/html": [
       "<div>\n",
       "<style scoped>\n",
       "    .dataframe tbody tr th:only-of-type {\n",
       "        vertical-align: middle;\n",
       "    }\n",
       "\n",
       "    .dataframe tbody tr th {\n",
       "        vertical-align: top;\n",
       "    }\n",
       "\n",
       "    .dataframe thead th {\n",
       "        text-align: right;\n",
       "    }\n",
       "</style>\n",
       "<table border=\"1\" class=\"dataframe\">\n",
       "  <thead>\n",
       "    <tr style=\"text-align: right;\">\n",
       "      <th></th>\n",
       "      <th>pytorch_grads</th>\n",
       "      <th>pytorch_params</th>\n",
       "      <th>statsmodel_params</th>\n",
       "    </tr>\n",
       "  </thead>\n",
       "  <tbody>\n",
       "    <tr>\n",
       "      <td>0</td>\n",
       "      <td>5.104386e-02</td>\n",
       "      <td>4.332461e-01</td>\n",
       "      <td>-2.446118e-01</td>\n",
       "    </tr>\n",
       "    <tr>\n",
       "      <td>1</td>\n",
       "      <td>-1.108943e-02</td>\n",
       "      <td>-6.506573e-02</td>\n",
       "      <td>7.286124e-02</td>\n",
       "    </tr>\n",
       "    <tr>\n",
       "      <td>2</td>\n",
       "      <td>-1.236695e-01</td>\n",
       "      <td>1.120469e+00</td>\n",
       "      <td>2.810966e+00</td>\n",
       "    </tr>\n",
       "    <tr>\n",
       "      <td>3</td>\n",
       "      <td>1.443550e-08</td>\n",
       "      <td>2.938777e-08</td>\n",
       "      <td>9.367507e-17</td>\n",
       "    </tr>\n",
       "  </tbody>\n",
       "</table>\n",
       "</div>"
      ],
      "text/plain": [
       "   pytorch_grads  pytorch_params  statsmodel_params\n",
       "0   5.104386e-02    4.332461e-01      -2.446118e-01\n",
       "1  -1.108943e-02   -6.506573e-02       7.286124e-02\n",
       "2  -1.236695e-01    1.120469e+00       2.810966e+00\n",
       "3   1.443550e-08    2.938777e-08       9.367507e-17"
      ]
     },
     "execution_count": 15,
     "metadata": {},
     "output_type": "execute_result"
    }
   ],
   "source": [
    "comp_df = pd.DataFrame(di)\n",
    "comp_df"
   ]
  },
  {
   "cell_type": "markdown",
   "metadata": {},
   "source": [
    "* **Plots**"
   ]
  },
  {
   "cell_type": "code",
   "execution_count": 16,
   "metadata": {},
   "outputs": [],
   "source": [
    "def scatter_plot(x, y, x_label, y_label):\n",
    "    fig = plt.figure()\n",
    "    ax = fig.add_subplot(1, 1, 1)\n",
    "    min_x = min(list(x)+list(y)) - 0.5\n",
    "    max_x = max(list(x)+list(y)) + 0.5\n",
    "    ax.plot([min_x, max_x], [min_x, max_x])\n",
    "    \n",
    "    ax.set_xlim([min_x, max_x])\n",
    "    ax.set_ylim([min_x, max_x])\n",
    "    \n",
    "    ax.set_title('{} vs. {} correlation scatterplot'.format(x_label, y_label))\n",
    "    ax.scatter(x, y, c=\"red\")\n",
    "    plt.ylabel(y_label)\n",
    "    plt.xlabel(x_label)\n",
    "    plt.show()\n",
    "    \n",
    "def hexbin_plot(x, y, x_label, y_label):\n",
    "    fig = plt.figure()\n",
    "    ax = fig.add_subplot(1, 1, 1)\n",
    "    min_x = min(list(x)+list(y)) - 0.1\n",
    "    max_x = max(list(x)+list(y)) + 0.1\n",
    "    ax.plot([min_x, max_x], [min_x, max_x])\n",
    "    \n",
    "    ax.set_xlim([min_x, max_x])\n",
    "    ax.set_ylim([min_x, max_x])\n",
    "    \n",
    "    ax.set_title('{} vs. {} correlation scatterplot'.format(x_label, y_label))\n",
    "    hbin= ax.hexbin(x, y, gridsize=25, mincnt=2)\n",
    "    cb = fig.colorbar(hbin, ax=ax)\n",
    "    cb.set_label('occurence_density')\n",
    "    plt.ylabel(y_label)\n",
    "    plt.xlabel(x_label)\n",
    "    plt.show()"
   ]
  },
  {
   "cell_type": "code",
   "execution_count": 17,
   "metadata": {
    "scrolled": true
   },
   "outputs": [],
   "source": [
    "##Re-Scaling\n",
    "#from sklearn.linear_model import LinearRegression\n",
    "#clf= LinearRegression()\n",
    "#clf.fit(comp_df['pytorch_params'].values.reshape(-1,1), comp_df['statsmodel_params'].values.reshape(-1,1))\n",
    "#n1= clf.predict(comp_df['pytorch_params'].values.reshape(-1,1))\n",
    "#n2= clf.predict(comp_df['statsmodel_params'].values.reshape(-1,1))"
   ]
  },
  {
   "cell_type": "code",
   "execution_count": 18,
   "metadata": {},
   "outputs": [
    {
     "data": {
      "image/png": "[encoded data removed]",
      "text/plain": [
       "<Figure size 432x288 with 1 Axes>"
      ]
     },
     "metadata": {
      "needs_background": "light"
     },
     "output_type": "display_data"
    }
   ],
   "source": [
    "scatter_plot(comp_df['pytorch_params'].values,comp_df['statsmodel_params'].values, 'pytorch params' ,'statsmodel params')#n1,n2, 'abc','bcd')"
   ]
  },
  {
   "cell_type": "code",
   "execution_count": 19,
   "metadata": {},
   "outputs": [
    {
     "data": {
      "image/png": "[encoded data removed]",
      "text/plain": [
       "<Figure size 432x288 with 2 Axes>"
      ]
     },
     "metadata": {
      "needs_background": "light"
     },
     "output_type": "display_data"
    }
   ],
   "source": [
    "hexbin_plot(comp_df['pytorch_params'].values,comp_df['statsmodel_params'].values, 'pytorch params' ,'statsmodel params')"
   ]
  },
  {
   "cell_type": "markdown",
   "metadata": {},
   "source": [
    "______________________"
   ]
  },
  {
   "cell_type": "code",
   "execution_count": null,
   "metadata": {},
   "outputs": [],
   "source": [
    "#def model():\n",
    "#    class network(nn.Module):\n",
    "#        def __init__(self):\n",
    "#            super(network, self).__init__()\n",
    "#            self.fc1 = nn.Linear(4, 100)\n",
    "#            self.fc2 = nn.Linear(100, 100)\n",
    "#            self.fc3 = nn.Linear(100, 3)\n",
    "#            self.softmax = nn.Softmax(dim=1)\n",
    "#\n",
    "#        def forward(self, X):\n",
    "#            X = F.relu(self.fc1(X))\n",
    "#           X = self.fc2(X)\n",
    "#            X = self.fc3(X)\n",
    "#            X = self.softmax(X)\n",
    "#            return X\n",
    "#    model= network()\n",
    "#    optimizer = optim.Adam(model.parameters())\n",
    "#    criterion= nn.CrossEntropyLoss()\n",
    "#    return model, optimizer, criterion"
   ]
  }
 ],
 "metadata": {
  "kernelspec": {
   "display_name": "Python 3",
   "language": "python",
   "name": "python3"
  },
  "language_info": {
   "codemirror_mode": {
    "name": "ipython",
    "version": 3
   },
   "file_extension": ".py",
   "mimetype": "text/x-python",
   "name": "python",
   "nbconvert_exporter": "python",
   "pygments_lexer": "ipython3",
   "version": "3.6.8"
  },
  "latex_envs": {
   "LaTeX_envs_menu_present": true,
   "autoclose": false,
   "autocomplete": true,
   "bibliofile": "biblio.bib",
   "cite_by": "apalike",
   "current_citInitial": 1,
   "eqLabelWithNumbers": true,
   "eqNumInitial": 1,
   "hotkeys": {
    "equation": "Ctrl-E",
    "itemize": "Ctrl-I"
   },
   "labels_anchors": false,
   "latex_user_defs": false,
   "report_style_numbering": false,
   "user_envs_cfg": false
  },
  "toc": {
   "base_numbering": 1,
   "nav_menu": {},
   "number_sections": true,
   "sideBar": true,
   "skip_h1_title": false,
   "title_cell": "Table of Contents",
   "title_sidebar": "Contents",
   "toc_cell": false,
   "toc_position": {},
   "toc_section_display": true,
   "toc_window_display": false
  }
 },
 "nbformat": 4,
 "nbformat_minor": 2
}
