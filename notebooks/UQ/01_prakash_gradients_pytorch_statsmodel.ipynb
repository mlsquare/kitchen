{
 "cells": [
  {
   "cell_type": "markdown",
   "metadata": {},
   "source": [
    "### Defining pytorch model \n",
    "* **Following pytorch model has one linear layer with `inputs`: 3 and `outputs`:1**\n",
    "* **Kernel are initialized with He initialization**"
   ]
  },
  {
   "cell_type": "code",
   "execution_count": 1,
   "metadata": {},
   "outputs": [],
   "source": [
    "import pandas as pd\n",
    "import numpy as np\n",
    "import torch\n",
    "import torch.nn as nn\n",
    "from torch.autograd import Variable\n",
    "import torch.nn.functional as F\n",
    "import torch.optim as optim\n",
    "import matplotlib.pyplot as plt\n",
    "\n",
    "def create_model():\n",
    "    class network(nn.Module):\n",
    "        def __init__(self):\n",
    "            super(network, self).__init__()\n",
    "            self.fc1 = nn.Linear(3, 1)#100)\n",
    "            \n",
    "        def forward(self, X):\n",
    "            X = self.fc1(X)#F.linear(self.fc1(X))#, list(self.fc1.parameters())[0])\n",
    "            return X\n",
    "    model= network()\n",
    "    optimizer = optim.Adam(model.parameters())\n",
    "    criterion= nn.MSELoss()# CrossEntropyLoss()\n",
    "    return model, optimizer, criterion"
   ]
  },
  {
   "cell_type": "code",
   "execution_count": 2,
   "metadata": {},
   "outputs": [
    {
     "data": {
      "text/plain": [
       "network(\n",
       "  (fc1): Linear(in_features=3, out_features=1, bias=True)\n",
       ")"
      ]
     },
     "execution_count": 2,
     "metadata": {},
     "output_type": "execute_result"
    }
   ],
   "source": [
    "model, optimizer, loss= create_model()\n",
    "model"
   ]
  },
  {
   "cell_type": "markdown",
   "metadata": {},
   "source": [
    "#### Data preparation and scaling\n",
    "\n",
    "        - Each record `X` cosist of first 3 values of 4 values\n",
    "          from iris dataset input features.\n",
    "        \n",
    "        - 4th value serve as taget label `y` ."
   ]
  },
  {
   "cell_type": "code",
   "execution_count": 3,
   "metadata": {},
   "outputs": [],
   "source": [
    "def scale(arr):\n",
    "    f= lambda x: (x-np.mean(x))/np.var(x)\n",
    "    for idx in range(arr.shape[1]):\n",
    "        arr[:,idx]= f(arr[:, idx])\n",
    "    #return arr\n",
    "def plot(v1):\n",
    "    plt.plot(v1)\n",
    "    #plt.plot(v2)\n",
    "    plt.title('Model training loss')\n",
    "    plt.xlabel('epoch')\n",
    "    plt.ylabel('loss')\n",
    "    #plt.legend(['train', 'validation'], loc='upper right')\n",
    "    return plt.show()\n",
    "\n",
    "def samp(x, count):#For random batch generation\n",
    "    idx= np.random.randint(x.shape[0], size=count)\n",
    "    res = x[idx]\n",
    "    return res"
   ]
  },
  {
   "cell_type": "markdown",
   "metadata": {},
   "source": [
    "* **Hessian calculation**"
   ]
  },
  {
   "cell_type": "code",
   "execution_count": 4,
   "metadata": {},
   "outputs": [],
   "source": [
    "def eval_hessian(loss_grad, model):\n",
    "    cnt = 0\n",
    "    for g in loss_grad:\n",
    "        g_vector = g.contiguous().view(-1) if cnt == 0 else torch.cat([g_vector, g.contiguous().view(-1)])\n",
    "        cnt = 1\n",
    "    l = g_vector.size(0)\n",
    "    hessian = torch.zeros(l, l)\n",
    "    for idx in range(l):\n",
    "        grad2rd = torch.autograd.grad(g_vector[idx], model.parameters(), create_graph=True)\n",
    "        cnt = 0\n",
    "        for g in grad2rd:\n",
    "            g2 = g.contiguous().view(-1) if cnt == 0 else torch.cat([g2, g.contiguous().view(-1)])\n",
    "            cnt = 1\n",
    "        hessian[idx] = g2\n",
    "    return hessian.cpu().data.numpy()"
   ]
  },
  {
   "cell_type": "markdown",
   "metadata": {},
   "source": [
    "#### Model Training & plots"
   ]
  },
  {
   "cell_type": "code",
   "execution_count": 5,
   "metadata": {},
   "outputs": [
    {
     "name": "stdout",
     "output_type": "stream",
     "text": [
      "epoch:  0  loss:  2.255631685256958\n",
      "epoch:  500  loss:  0.48510271310806274\n",
      "epoch:  1000  loss:  0.3253370523452759\n",
      "epoch:  1500  loss:  0.294547438621521\n",
      "epoch:  2000  loss:  0.3795126676559448\n",
      "epoch:  2500  loss:  0.13330158591270447\n",
      "epoch:  3000  loss:  0.14958198368549347\n",
      "epoch:  3500  loss:  0.125545933842659\n"
     ]
    },
    {
     "data": {
      "image/png": "[encoded data removed]",
      "text/plain": [
       "<Figure size 432x288 with 1 Axes>"
      ]
     },
     "metadata": {
      "needs_background": "light"
     },
     "output_type": "display_data"
    }
   ],
   "source": [
    "from sklearn.datasets import load_iris\n",
    "from sklearn.model_selection import train_test_split\n",
    "data = load_iris()\n",
    "X, Y = data.data, data.target\n",
    "\n",
    "Y[np.where(Y==2)[0]]=1\n",
    "X_train, X_test, y_train, y_test = train_test_split(X, Y, test_size= 0.3)\n",
    "scale(X)\n",
    "scale(X_test)\n",
    "\n",
    "#trainx= Variable(torch.Tensor(X[:,:-1]).float(), requires_grad=True) #df.iloc[:, :-1].values).float()\n",
    "#trainy = Variable(torch.reshape(torch.Tensor(X[:,-1]).float(), (-1,1)))\n",
    "\n",
    "#i_grads= np.empty(trainx.shape)\n",
    "wts_bias_progression= list()\n",
    "all_grads= list()\n",
    "losses= list()\n",
    "\n",
    "d2loss_dg= list()\n",
    "diags= list()\n",
    "f= lambda x: np.sqrt(np.abs(np.diag(np.linalg.inv(x)))).tolist()\n",
    "\n",
    "for epoch in range(4000):\n",
    "    x_ =samp(X, count= 32)\n",
    "    trainx= Variable(torch.Tensor(x_[:,:-1]).float(), requires_grad=True) #df.iloc[:, :-1].values).float()\n",
    "    trainy = Variable(torch.reshape(torch.Tensor(x_[:,-1]).float(), (-1,1)))\n",
    "\n",
    "    optimizer.zero_grad()\n",
    "    y_pred = model(trainx)\n",
    "    #print(y_pred)\n",
    "    l = loss(y_pred, trainy)\n",
    "    losses.append(l.item())\n",
    "    if epoch%500==0:\n",
    "        print('epoch: ', epoch, ' loss: ', l.item());\n",
    "    # perform a backward pass (backpropagation)\n",
    "    l.backward()\n",
    "    wts_bias = list(model.parameters())\n",
    "    wts_bias_vals= torch.cat((wts_bias[0], torch.reshape(wts_bias[1], (-1,1))),1)\n",
    "    wts_bias_progression.append(wts_bias_vals.tolist())\n",
    "    \n",
    "    wts_bias_grads = torch.cat((wts_bias[0].grad, torch.reshape(wts_bias[1].grad, (-1,1))),1)\n",
    "    #i_grads= trainx.grad\n",
    "    all_grads.append(wts_bias_grads.tolist())#i_grads)\n",
    "    # Update the parameters\n",
    "    optimizer.step()\n",
    "\n",
    "    d1loss_dg = torch.autograd.grad(loss(model(trainx), trainy), wts_bias, create_graph=True)\n",
    "    d2loss_dg.append(eval_hessian(d1loss_dg, model))\n",
    "    diags.append(f(d2loss_dg[-1]))\n",
    "\n",
    "    \n",
    "all_wts_bias = np.array(wts_bias_progression).reshape(-1,4)\n",
    "all_wts_bias_df= pd.DataFrame(all_wts_bias, columns=['weight_{}'.format(idx) for idx in range(1,4)]+ ['bias'])\n",
    "\n",
    "all_grads = np.array(all_grads).reshape(-1,4)\n",
    "all_grads_df= pd.DataFrame(all_grads, columns=['beta_{}'.format(idx) for idx in range(1,5)])\n",
    "plot(losses)"
   ]
  },
  {
   "cell_type": "markdown",
   "metadata": {},
   "source": [
    "* **Following are the weights and bias for the ONLY layer in model, after 128 epochs**"
   ]
  },
  {
   "cell_type": "code",
   "execution_count": 6,
   "metadata": {},
   "outputs": [
    {
     "data": {
      "text/plain": [
       "[Parameter containing:\n",
       " tensor([[ 0.2206, -0.0204,  1.6619]], requires_grad=True),\n",
       " Parameter containing:\n",
       " tensor([0.0033], requires_grad=True)]"
      ]
     },
     "execution_count": 6,
     "metadata": {},
     "output_type": "execute_result"
    }
   ],
   "source": [
    "li = list(model.parameters())\n",
    "li"
   ]
  },
  {
   "cell_type": "code",
   "execution_count": 7,
   "metadata": {},
   "outputs": [
    {
     "name": "stdout",
     "output_type": "stream",
     "text": [
      "Final weights gradients : tensor([[-0.1232, -0.0649, -0.1524]])\n",
      "Final bias gradients: tensor([0.1111])\n"
     ]
    }
   ],
   "source": [
    "print('Final weights gradients : {}\\nFinal bias gradients: {}'.format(li[0].grad, li[1].grad))"
   ]
  },
  {
   "cell_type": "markdown",
   "metadata": {},
   "source": [
    "#### Gradients across epochs\n",
    "* **Following are gradients(for weight- Beta_1-3 and bias-beta_4) updated after each epochs**"
   ]
  },
  {
   "cell_type": "code",
   "execution_count": 8,
   "metadata": {
    "scrolled": false
   },
   "outputs": [
    {
     "data": {
      "text/html": [
       "<div>\n",
       "<style scoped>\n",
       "    .dataframe tbody tr th:only-of-type {\n",
       "        vertical-align: middle;\n",
       "    }\n",
       "\n",
       "    .dataframe tbody tr th {\n",
       "        vertical-align: top;\n",
       "    }\n",
       "\n",
       "    .dataframe thead th {\n",
       "        text-align: right;\n",
       "    }\n",
       "</style>\n",
       "<table border=\"1\" class=\"dataframe\">\n",
       "  <thead>\n",
       "    <tr style=\"text-align: right;\">\n",
       "      <th></th>\n",
       "      <th>beta_1</th>\n",
       "      <th>beta_2</th>\n",
       "      <th>beta_3</th>\n",
       "      <th>beta_4</th>\n",
       "    </tr>\n",
       "  </thead>\n",
       "  <tbody>\n",
       "    <tr>\n",
       "      <td>0</td>\n",
       "      <td>-3.113537</td>\n",
       "      <td>4.728430</td>\n",
       "      <td>-1.764650</td>\n",
       "      <td>0.645089</td>\n",
       "    </tr>\n",
       "    <tr>\n",
       "      <td>1</td>\n",
       "      <td>-2.957298</td>\n",
       "      <td>3.752354</td>\n",
       "      <td>-1.751893</td>\n",
       "      <td>0.476098</td>\n",
       "    </tr>\n",
       "    <tr>\n",
       "      <td>2</td>\n",
       "      <td>-2.201695</td>\n",
       "      <td>1.028369</td>\n",
       "      <td>-1.129961</td>\n",
       "      <td>0.351196</td>\n",
       "    </tr>\n",
       "    <tr>\n",
       "      <td>3</td>\n",
       "      <td>-3.020661</td>\n",
       "      <td>2.319480</td>\n",
       "      <td>-1.510124</td>\n",
       "      <td>-0.469065</td>\n",
       "    </tr>\n",
       "    <tr>\n",
       "      <td>4</td>\n",
       "      <td>-2.643579</td>\n",
       "      <td>1.889900</td>\n",
       "      <td>-1.326816</td>\n",
       "      <td>0.384827</td>\n",
       "    </tr>\n",
       "    <tr>\n",
       "      <td>...</td>\n",
       "      <td>...</td>\n",
       "      <td>...</td>\n",
       "      <td>...</td>\n",
       "      <td>...</td>\n",
       "    </tr>\n",
       "    <tr>\n",
       "      <td>3995</td>\n",
       "      <td>-0.073219</td>\n",
       "      <td>0.063025</td>\n",
       "      <td>-0.149511</td>\n",
       "      <td>-0.038113</td>\n",
       "    </tr>\n",
       "    <tr>\n",
       "      <td>3996</td>\n",
       "      <td>0.226355</td>\n",
       "      <td>0.250348</td>\n",
       "      <td>0.008649</td>\n",
       "      <td>0.220660</td>\n",
       "    </tr>\n",
       "    <tr>\n",
       "      <td>3997</td>\n",
       "      <td>0.182689</td>\n",
       "      <td>0.404784</td>\n",
       "      <td>-0.056397</td>\n",
       "      <td>0.239567</td>\n",
       "    </tr>\n",
       "    <tr>\n",
       "      <td>3998</td>\n",
       "      <td>-0.023069</td>\n",
       "      <td>0.108271</td>\n",
       "      <td>-0.091278</td>\n",
       "      <td>0.107529</td>\n",
       "    </tr>\n",
       "    <tr>\n",
       "      <td>3999</td>\n",
       "      <td>-0.123220</td>\n",
       "      <td>-0.064926</td>\n",
       "      <td>-0.152449</td>\n",
       "      <td>0.111126</td>\n",
       "    </tr>\n",
       "  </tbody>\n",
       "</table>\n",
       "<p>4000 rows × 4 columns</p>\n",
       "</div>"
      ],
      "text/plain": [
       "        beta_1    beta_2    beta_3    beta_4\n",
       "0    -3.113537  4.728430 -1.764650  0.645089\n",
       "1    -2.957298  3.752354 -1.751893  0.476098\n",
       "2    -2.201695  1.028369 -1.129961  0.351196\n",
       "3    -3.020661  2.319480 -1.510124 -0.469065\n",
       "4    -2.643579  1.889900 -1.326816  0.384827\n",
       "...        ...       ...       ...       ...\n",
       "3995 -0.073219  0.063025 -0.149511 -0.038113\n",
       "3996  0.226355  0.250348  0.008649  0.220660\n",
       "3997  0.182689  0.404784 -0.056397  0.239567\n",
       "3998 -0.023069  0.108271 -0.091278  0.107529\n",
       "3999 -0.123220 -0.064926 -0.152449  0.111126\n",
       "\n",
       "[4000 rows x 4 columns]"
      ]
     },
     "execution_count": 8,
     "metadata": {},
     "output_type": "execute_result"
    }
   ],
   "source": [
    "all_grads_df"
   ]
  },
  {
   "cell_type": "code",
   "execution_count": 9,
   "metadata": {},
   "outputs": [
    {
     "data": {
      "text/html": [
       "<div>\n",
       "<style scoped>\n",
       "    .dataframe tbody tr th:only-of-type {\n",
       "        vertical-align: middle;\n",
       "    }\n",
       "\n",
       "    .dataframe tbody tr th {\n",
       "        vertical-align: top;\n",
       "    }\n",
       "\n",
       "    .dataframe thead th {\n",
       "        text-align: right;\n",
       "    }\n",
       "</style>\n",
       "<table border=\"1\" class=\"dataframe\">\n",
       "  <thead>\n",
       "    <tr style=\"text-align: right;\">\n",
       "      <th></th>\n",
       "      <th>beta_1</th>\n",
       "      <th>beta_2</th>\n",
       "      <th>beta_3</th>\n",
       "      <th>beta_4</th>\n",
       "    </tr>\n",
       "  </thead>\n",
       "  <tbody>\n",
       "    <tr>\n",
       "      <td>count</td>\n",
       "      <td>4000.000000</td>\n",
       "      <td>4000.000000</td>\n",
       "      <td>4000.000000</td>\n",
       "      <td>4000.000000</td>\n",
       "    </tr>\n",
       "    <tr>\n",
       "      <td>mean</td>\n",
       "      <td>-0.258508</td>\n",
       "      <td>0.070455</td>\n",
       "      <td>-0.272227</td>\n",
       "      <td>0.013733</td>\n",
       "    </tr>\n",
       "    <tr>\n",
       "      <td>std</td>\n",
       "      <td>0.690962</td>\n",
       "      <td>0.568346</td>\n",
       "      <td>0.325690</td>\n",
       "      <td>0.214969</td>\n",
       "    </tr>\n",
       "    <tr>\n",
       "      <td>min</td>\n",
       "      <td>-3.684323</td>\n",
       "      <td>-1.582390</td>\n",
       "      <td>-1.868989</td>\n",
       "      <td>-1.173343</td>\n",
       "    </tr>\n",
       "    <tr>\n",
       "      <td>25%</td>\n",
       "      <td>-0.319664</td>\n",
       "      <td>-0.241492</td>\n",
       "      <td>-0.310966</td>\n",
       "      <td>-0.117962</td>\n",
       "    </tr>\n",
       "    <tr>\n",
       "      <td>50%</td>\n",
       "      <td>-0.040090</td>\n",
       "      <td>-0.003091</td>\n",
       "      <td>-0.167675</td>\n",
       "      <td>0.010169</td>\n",
       "    </tr>\n",
       "    <tr>\n",
       "      <td>75%</td>\n",
       "      <td>0.136762</td>\n",
       "      <td>0.265011</td>\n",
       "      <td>-0.081601</td>\n",
       "      <td>0.135245</td>\n",
       "    </tr>\n",
       "    <tr>\n",
       "      <td>max</td>\n",
       "      <td>1.257869</td>\n",
       "      <td>4.728430</td>\n",
       "      <td>0.317167</td>\n",
       "      <td>1.789123</td>\n",
       "    </tr>\n",
       "  </tbody>\n",
       "</table>\n",
       "</div>"
      ],
      "text/plain": [
       "            beta_1       beta_2       beta_3       beta_4\n",
       "count  4000.000000  4000.000000  4000.000000  4000.000000\n",
       "mean     -0.258508     0.070455    -0.272227     0.013733\n",
       "std       0.690962     0.568346     0.325690     0.214969\n",
       "min      -3.684323    -1.582390    -1.868989    -1.173343\n",
       "25%      -0.319664    -0.241492    -0.310966    -0.117962\n",
       "50%      -0.040090    -0.003091    -0.167675     0.010169\n",
       "75%       0.136762     0.265011    -0.081601     0.135245\n",
       "max       1.257869     4.728430     0.317167     1.789123"
      ]
     },
     "execution_count": 9,
     "metadata": {},
     "output_type": "execute_result"
    }
   ],
   "source": [
    "all_grads_df.describe()"
   ]
  },
  {
   "cell_type": "markdown",
   "metadata": {},
   "source": [
    "### Defining model with statsmodel\n",
    "* **Evaluating same data with linear regression from statsmodel**"
   ]
  },
  {
   "cell_type": "code",
   "execution_count": 10,
   "metadata": {},
   "outputs": [],
   "source": [
    "import statsmodels.api as sm\n",
    "feats, targets= X[:,:-1], X[:,-1]\n",
    "feats= sm.add_constant(feats, prepend=False)"
   ]
  },
  {
   "cell_type": "code",
   "execution_count": 11,
   "metadata": {
    "scrolled": false
   },
   "outputs": [
    {
     "name": "stdout",
     "output_type": "stream",
     "text": [
      "                            OLS Regression Results                            \n",
      "==============================================================================\n",
      "Dep. Variable:                      y   R-squared:                       0.938\n",
      "Model:                            OLS   Adj. R-squared:                  0.937\n",
      "Method:                 Least Squares   F-statistic:                     734.4\n",
      "Date:                Thu, 19 Mar 2020   Prob (F-statistic):           7.83e-88\n",
      "Time:                        20:26:33   Log-Likelihood:                -45.701\n",
      "No. Observations:                 150   AIC:                             99.40\n",
      "Df Residuals:                     146   BIC:                             111.4\n",
      "Df Model:                           3                                         \n",
      "Covariance Type:            nonrobust                                         \n",
      "==============================================================================\n",
      "                 coef    std err          t      P>|t|      [0.025      0.975]\n",
      "------------------------------------------------------------------------------\n",
      "x1            -0.2446      0.056     -4.363      0.000      -0.355      -0.134\n",
      "x2             0.0729      0.016      4.553      0.000       0.041       0.104\n",
      "x3             2.8110      0.131     21.399      0.000       2.551       3.071\n",
      "const       9.368e-17      0.027   3.45e-15      1.000      -0.054       0.054\n",
      "==============================================================================\n",
      "Omnibus:                        5.609   Durbin-Watson:                   1.573\n",
      "Prob(Omnibus):                  0.061   Jarque-Bera (JB):                6.811\n",
      "Skew:                           0.223   Prob(JB):                       0.0332\n",
      "Kurtosis:                       3.944   Cond. No.                         12.1\n",
      "==============================================================================\n",
      "\n",
      "Warnings:\n",
      "[1] Standard Errors assume that the covariance matrix of the errors is correctly specified.\n"
     ]
    }
   ],
   "source": [
    "model_stm = sm.OLS(targets, feats, hasconst=True)\n",
    "result= model_stm.fit()\n",
    "print(result.summary())"
   ]
  },
  {
   "cell_type": "markdown",
   "metadata": {},
   "source": [
    "* **Weights, biases and std_error from modelstats regression model**"
   ]
  },
  {
   "cell_type": "code",
   "execution_count": 12,
   "metadata": {
    "scrolled": true
   },
   "outputs": [
    {
     "data": {
      "text/plain": [
       "array([-2.44611824e-01,  7.28612405e-02,  2.81096557e+00,  9.36750677e-17])"
      ]
     },
     "execution_count": 12,
     "metadata": {},
     "output_type": "execute_result"
    }
   ],
   "source": [
    "summary= result.summary()\n",
    "result.params"
   ]
  },
  {
   "cell_type": "code",
   "execution_count": 13,
   "metadata": {},
   "outputs": [
    {
     "data": {
      "text/html": [
       "<div>\n",
       "<style scoped>\n",
       "    .dataframe tbody tr th:only-of-type {\n",
       "        vertical-align: middle;\n",
       "    }\n",
       "\n",
       "    .dataframe tbody tr th {\n",
       "        vertical-align: top;\n",
       "    }\n",
       "\n",
       "    .dataframe thead th {\n",
       "        text-align: right;\n",
       "    }\n",
       "</style>\n",
       "<table border=\"1\" class=\"dataframe\">\n",
       "  <thead>\n",
       "    <tr style=\"text-align: right;\">\n",
       "      <th></th>\n",
       "      <th></th>\n",
       "      <th>coef</th>\n",
       "      <th>std err</th>\n",
       "      <th>t</th>\n",
       "      <th>P&gt;|t|</th>\n",
       "      <th>[0.025</th>\n",
       "      <th>0.975]</th>\n",
       "    </tr>\n",
       "  </thead>\n",
       "  <tbody>\n",
       "    <tr>\n",
       "      <td>0</td>\n",
       "      <td>x1</td>\n",
       "      <td>-0.2446</td>\n",
       "      <td>0.056</td>\n",
       "      <td>-4.363</td>\n",
       "      <td>0.000</td>\n",
       "      <td>-0.355</td>\n",
       "      <td>-0.134</td>\n",
       "    </tr>\n",
       "    <tr>\n",
       "      <td>1</td>\n",
       "      <td>x2</td>\n",
       "      <td>0.0729</td>\n",
       "      <td>0.016</td>\n",
       "      <td>4.553</td>\n",
       "      <td>0.000</td>\n",
       "      <td>0.041</td>\n",
       "      <td>0.104</td>\n",
       "    </tr>\n",
       "    <tr>\n",
       "      <td>2</td>\n",
       "      <td>x3</td>\n",
       "      <td>2.8110</td>\n",
       "      <td>0.131</td>\n",
       "      <td>21.399</td>\n",
       "      <td>0.000</td>\n",
       "      <td>2.551</td>\n",
       "      <td>3.071</td>\n",
       "    </tr>\n",
       "    <tr>\n",
       "      <td>3</td>\n",
       "      <td>const</td>\n",
       "      <td>9.368e-17</td>\n",
       "      <td>0.027</td>\n",
       "      <td>3.45e-15</td>\n",
       "      <td>1.000</td>\n",
       "      <td>-0.054</td>\n",
       "      <td>0.054</td>\n",
       "    </tr>\n",
       "  </tbody>\n",
       "</table>\n",
       "</div>"
      ],
      "text/plain": [
       "                coef    std err          t   P>|t|     [0.025     0.975]\n",
       "0     x1     -0.2446      0.056     -4.363   0.000     -0.355     -0.134\n",
       "1     x2      0.0729      0.016      4.553   0.000      0.041      0.104\n",
       "2     x3      2.8110      0.131     21.399   0.000      2.551      3.071\n",
       "3  const   9.368e-17      0.027   3.45e-15   1.000     -0.054      0.054"
      ]
     },
     "execution_count": 13,
     "metadata": {},
     "output_type": "execute_result"
    }
   ],
   "source": [
    "statsm_df = pd.DataFrame(summary.tables[1].data[1:], columns=summary.tables[1].data[0])\n",
    "statsm_df"
   ]
  },
  {
   "cell_type": "markdown",
   "metadata": {},
   "source": [
    "* **pytorch_params vs. statsmodel_params**"
   ]
  },
  {
   "cell_type": "code",
   "execution_count": 15,
   "metadata": {},
   "outputs": [
    {
     "data": {
      "text/plain": [
       "{'pytorch_grads': array([-0.12322028, -0.06492573, -0.15244903,  0.11112565]),\n",
       " 'pytorch_params': array([ 0.22076468, -0.02027576,  1.66143763,  0.00375962]),\n",
       " 'statsmodel_params': array([-2.44611824e-01,  7.28612405e-02,  2.81096557e+00,  9.36750677e-17]),\n",
       " 'statsmodel_stderr': array(['    0.056', '    0.016', '    0.131', '    0.027'], dtype=object)}"
      ]
     },
     "execution_count": 15,
     "metadata": {},
     "output_type": "execute_result"
    }
   ],
   "source": [
    "di = dict(zip('pytorch_grads,pytorch_params,statsmodel_params,statsmodel_stderr'.split(','), [all_grads[-1,:], all_wts_bias[-1,:], result.params, statsm_df[\"std err\"].values]))#all_grads\n",
    "di"
   ]
  },
  {
   "cell_type": "markdown",
   "metadata": {},
   "source": [
    "#### Paramters comparison"
   ]
  },
  {
   "cell_type": "code",
   "execution_count": 16,
   "metadata": {},
   "outputs": [
    {
     "data": {
      "text/html": [
       "<div>\n",
       "<style scoped>\n",
       "    .dataframe tbody tr th:only-of-type {\n",
       "        vertical-align: middle;\n",
       "    }\n",
       "\n",
       "    .dataframe tbody tr th {\n",
       "        vertical-align: top;\n",
       "    }\n",
       "\n",
       "    .dataframe thead th {\n",
       "        text-align: right;\n",
       "    }\n",
       "</style>\n",
       "<table border=\"1\" class=\"dataframe\">\n",
       "  <thead>\n",
       "    <tr style=\"text-align: right;\">\n",
       "      <th></th>\n",
       "      <th>pytorch_grads</th>\n",
       "      <th>pytorch_params</th>\n",
       "      <th>statsmodel_params</th>\n",
       "      <th>statsmodel_stderr</th>\n",
       "    </tr>\n",
       "  </thead>\n",
       "  <tbody>\n",
       "    <tr>\n",
       "      <td>0</td>\n",
       "      <td>-0.123220</td>\n",
       "      <td>0.221</td>\n",
       "      <td>-0.245</td>\n",
       "      <td>0.056</td>\n",
       "    </tr>\n",
       "    <tr>\n",
       "      <td>1</td>\n",
       "      <td>-0.064926</td>\n",
       "      <td>-0.020</td>\n",
       "      <td>0.073</td>\n",
       "      <td>0.016</td>\n",
       "    </tr>\n",
       "    <tr>\n",
       "      <td>2</td>\n",
       "      <td>-0.152449</td>\n",
       "      <td>1.661</td>\n",
       "      <td>2.811</td>\n",
       "      <td>0.131</td>\n",
       "    </tr>\n",
       "    <tr>\n",
       "      <td>3</td>\n",
       "      <td>0.111126</td>\n",
       "      <td>0.004</td>\n",
       "      <td>0.000</td>\n",
       "      <td>0.027</td>\n",
       "    </tr>\n",
       "  </tbody>\n",
       "</table>\n",
       "</div>"
      ],
      "text/plain": [
       "   pytorch_grads  pytorch_params  statsmodel_params statsmodel_stderr\n",
       "0      -0.123220           0.221             -0.245             0.056\n",
       "1      -0.064926          -0.020              0.073             0.016\n",
       "2      -0.152449           1.661              2.811             0.131\n",
       "3       0.111126           0.004              0.000             0.027"
      ]
     },
     "execution_count": 16,
     "metadata": {},
     "output_type": "execute_result"
    }
   ],
   "source": [
    "comp_df = pd.DataFrame(di)\n",
    "comp_df['pytorch_params'] = comp_df['pytorch_params'].apply(lambda x:np.round(x,3))\n",
    "comp_df['statsmodel_params'] = comp_df['statsmodel_params'].apply(lambda x:np.round(x,3))\n",
    "comp_df"
   ]
  },
  {
   "cell_type": "markdown",
   "metadata": {},
   "source": [
    "#### Plots"
   ]
  },
  {
   "cell_type": "code",
   "execution_count": 17,
   "metadata": {},
   "outputs": [],
   "source": [
    "def scatter_plot(x, y, x_label, y_label):\n",
    "    fig = plt.figure()\n",
    "    ax = fig.add_subplot(1, 1, 1)\n",
    "    min_x = min(list(x)+list(y)) - 0.5\n",
    "    max_x = max(list(x)+list(y)) + 0.5\n",
    "    ax.plot([min_x, max_x], [min_x, max_x])\n",
    "    \n",
    "    ax.set_xlim([min_x, max_x])\n",
    "    ax.set_ylim([min_x, max_x])\n",
    "    \n",
    "    ax.set_title('{} vs. {} correlation scatterplot'.format(x_label, y_label))\n",
    "    ax.scatter(x, y, c=\"red\")\n",
    "    plt.ylabel(y_label)\n",
    "    plt.xlabel(x_label)\n",
    "    plt.show()\n",
    "    \n",
    "def hexbin_plot(x, y, x_label, y_label):\n",
    "    fig = plt.figure()\n",
    "    ax = fig.add_subplot(1, 1, 1)\n",
    "    min_x = min(list(x)+list(y)) - 0.1\n",
    "    max_x = max(list(x)+list(y)) + 0.1\n",
    "    ax.plot([min_x, max_x], [min_x, max_x])\n",
    "    \n",
    "    ax.set_xlim([min_x, max_x])\n",
    "    ax.set_ylim([min_x, max_x])\n",
    "    \n",
    "    ax.set_title('{} vs. {} correlation scatterplot'.format(x_label, y_label))\n",
    "    hbin= ax.hexbin(x, y, gridsize=25, mincnt=2)\n",
    "    cb = fig.colorbar(hbin, ax=ax)\n",
    "    cb.solids.set_edgecolor('face')#change colors\n",
    "    cb.set_label('occurence_density')\n",
    "    plt.ylabel(y_label)\n",
    "    plt.xlabel(x_label)\n",
    "    plt.show()"
   ]
  },
  {
   "cell_type": "code",
   "execution_count": 18,
   "metadata": {},
   "outputs": [
    {
     "data": {
      "image/png": "[encoded data removed]",
      "text/plain": [
       "<Figure size 432x288 with 2 Axes>"
      ]
     },
     "metadata": {
      "needs_background": "light"
     },
     "output_type": "display_data"
    }
   ],
   "source": [
    "#Plot with trained cases. When predictions are calculated of train_data\n",
    "predictions= model(torch.Tensor(X[:,:-1]).float())\n",
    "predictions= torch.Tensor.cpu(predictions).detach().numpy().reshape(-1,)\n",
    "observed= X[:,-1]\n",
    "\n",
    "\n",
    "hexbin_plot(predictions,observed, 'prediction' ,'observed')"
   ]
  },
  {
   "cell_type": "code",
   "execution_count": 19,
   "metadata": {},
   "outputs": [
    {
     "data": {
      "image/png": "[encoded data removed]",
      "text/plain": [
       "<Figure size 432x288 with 1 Axes>"
      ]
     },
     "metadata": {
      "needs_background": "light"
     },
     "output_type": "display_data"
    }
   ],
   "source": [
    "scatter_plot(comp_df['pytorch_params'].values,comp_df['statsmodel_params'].values, 'pytorch params' ,'statsmodel params')#n1,n2, 'abc','bcd')"
   ]
  },
  {
   "cell_type": "markdown",
   "metadata": {},
   "source": [
    "### Calculating Standard error from pytorch model"
   ]
  },
  {
   "cell_type": "code",
   "execution_count": 20,
   "metadata": {},
   "outputs": [
    {
     "data": {
      "text/plain": [
       "(4, 19)"
      ]
     },
     "execution_count": 20,
     "metadata": {},
     "output_type": "execute_result"
    }
   ],
   "source": [
    "mini_batches= list()#contains mini_batches of gradients from 200 epochs\n",
    "mean_mini_batches= list()#contains mean of each of 200 epochs each in a mini_batches of gradients from 200 epochs\n",
    "mini_size= 200\n",
    "for batch in range(1, (len(all_grads))//mini_size):\n",
    "    mini_batches.append(all_grads[batch*mini_size:batch*mini_size+ mini_size])\n",
    "    mean_mini_batches.append(list(np.mean(mini_batches[-1], axis=0)))\n",
    "\n",
    "grad_mini_batch_arr = np.array(mean_mini_batches).T\n",
    "grad_mini_batch_arr.shape"
   ]
  },
  {
   "cell_type": "code",
   "execution_count": 21,
   "metadata": {},
   "outputs": [
    {
     "data": {
      "text/plain": [
       "array([[ 0.20816957, -0.02174   ,  0.09496359, -0.00964174],\n",
       "       [-0.02174   ,  0.007201  , -0.00989287,  0.00185185],\n",
       "       [ 0.09496359, -0.00989287,  0.04387188, -0.0043335 ],\n",
       "       [-0.00964174,  0.00185185, -0.0043335 ,  0.00078766]])"
      ]
     },
     "execution_count": 21,
     "metadata": {},
     "output_type": "execute_result"
    }
   ],
   "source": [
    "covariant_mat= np.cov(grad_mini_batch_arr)\n",
    "covariant_mat"
   ]
  },
  {
   "cell_type": "code",
   "execution_count": 22,
   "metadata": {},
   "outputs": [
    {
     "data": {
      "text/plain": [
       "array([0.45625604, 0.0848587 , 0.20945616, 0.0280652 ])"
      ]
     },
     "execution_count": 22,
     "metadata": {},
     "output_type": "execute_result"
    }
   ],
   "source": [
    "pytorch_stderr= np.sqrt(covariant_mat.diagonal())#**2\n",
    "pytorch_stderr"
   ]
  },
  {
   "cell_type": "code",
   "execution_count": 23,
   "metadata": {},
   "outputs": [
    {
     "data": {
      "text/html": [
       "<div>\n",
       "<style scoped>\n",
       "    .dataframe tbody tr th:only-of-type {\n",
       "        vertical-align: middle;\n",
       "    }\n",
       "\n",
       "    .dataframe tbody tr th {\n",
       "        vertical-align: top;\n",
       "    }\n",
       "\n",
       "    .dataframe thead th {\n",
       "        text-align: right;\n",
       "    }\n",
       "</style>\n",
       "<table border=\"1\" class=\"dataframe\">\n",
       "  <thead>\n",
       "    <tr style=\"text-align: right;\">\n",
       "      <th></th>\n",
       "      <th>pytorch_grads</th>\n",
       "      <th>pytorch_params</th>\n",
       "      <th>statsmodel_params</th>\n",
       "      <th>statsmodel_stderr</th>\n",
       "      <th>pytorch_stderr</th>\n",
       "    </tr>\n",
       "  </thead>\n",
       "  <tbody>\n",
       "    <tr>\n",
       "      <td>0</td>\n",
       "      <td>-0.123220</td>\n",
       "      <td>0.221</td>\n",
       "      <td>-0.245</td>\n",
       "      <td>0.056</td>\n",
       "      <td>0.456256</td>\n",
       "    </tr>\n",
       "    <tr>\n",
       "      <td>1</td>\n",
       "      <td>-0.064926</td>\n",
       "      <td>-0.020</td>\n",
       "      <td>0.073</td>\n",
       "      <td>0.016</td>\n",
       "      <td>0.084859</td>\n",
       "    </tr>\n",
       "    <tr>\n",
       "      <td>2</td>\n",
       "      <td>-0.152449</td>\n",
       "      <td>1.661</td>\n",
       "      <td>2.811</td>\n",
       "      <td>0.131</td>\n",
       "      <td>0.209456</td>\n",
       "    </tr>\n",
       "    <tr>\n",
       "      <td>3</td>\n",
       "      <td>0.111126</td>\n",
       "      <td>0.004</td>\n",
       "      <td>0.000</td>\n",
       "      <td>0.027</td>\n",
       "      <td>0.028065</td>\n",
       "    </tr>\n",
       "  </tbody>\n",
       "</table>\n",
       "</div>"
      ],
      "text/plain": [
       "   pytorch_grads  pytorch_params  statsmodel_params statsmodel_stderr  \\\n",
       "0      -0.123220           0.221             -0.245             0.056   \n",
       "1      -0.064926          -0.020              0.073             0.016   \n",
       "2      -0.152449           1.661              2.811             0.131   \n",
       "3       0.111126           0.004              0.000             0.027   \n",
       "\n",
       "   pytorch_stderr  \n",
       "0        0.456256  \n",
       "1        0.084859  \n",
       "2        0.209456  \n",
       "3        0.028065  "
      ]
     },
     "execution_count": 23,
     "metadata": {},
     "output_type": "execute_result"
    }
   ],
   "source": [
    "di.update({'pytorch_stderr':pytorch_stderr})\n",
    "comp_df['pytorch_stderr']= pytorch_stderr\n",
    "comp_df['pytorch_params'] = comp_df['pytorch_params'].apply(lambda x:np.round(x,3))\n",
    "comp_df['statsmodel_params'] = comp_df['statsmodel_params'].apply(lambda x:np.round(x,3))\n",
    "comp_df"
   ]
  },
  {
   "cell_type": "markdown",
   "metadata": {},
   "source": [
    "### Experiments with configurations"
   ]
  },
  {
   "cell_type": "markdown",
   "metadata": {},
   "source": [
    "#### Model with xavier normal kernel initialization"
   ]
  },
  {
   "cell_type": "code",
   "execution_count": 24,
   "metadata": {},
   "outputs": [
    {
     "data": {
      "text/plain": [
       "network(\n",
       "  (fc1): Linear(in_features=3, out_features=1, bias=True)\n",
       ")"
      ]
     },
     "execution_count": 24,
     "metadata": {},
     "output_type": "execute_result"
    }
   ],
   "source": [
    "import pandas as pd\n",
    "import numpy as np\n",
    "import torch\n",
    "import torch.nn as nn\n",
    "from torch.autograd import Variable\n",
    "import torch.nn.functional as F\n",
    "import torch.optim as optim\n",
    "import matplotlib.pyplot as plt\n",
    "\n",
    "def create_model_2():\n",
    "    class network(nn.Module):\n",
    "        def __init__(self):\n",
    "            super(network, self).__init__()\n",
    "            self.fc1 = nn.Linear(3, 1)#100)\n",
    "            torch.nn.init.xavier_normal_(self.fc1.weight)\n",
    "\n",
    "        def forward(self, X):\n",
    "            X = self.fc1(X)#F.linear(self.fc1(X))#, list(self.fc1.parameters())[0])\n",
    "            return X\n",
    "    model= network()\n",
    "    optimizer = optim.Adam(model.parameters())\n",
    "    criterion= nn.MSELoss()# CrossEntropyLoss()\n",
    "    return model, optimizer, criterion\n",
    "\n",
    "model2, optimizer2, loss2= create_model_2()\n",
    "model2"
   ]
  },
  {
   "cell_type": "markdown",
   "metadata": {},
   "source": [
    "##### Model training and comparison plots"
   ]
  },
  {
   "cell_type": "code",
   "execution_count": 25,
   "metadata": {},
   "outputs": [
    {
     "name": "stdout",
     "output_type": "stream",
     "text": [
      "epoch:  0  loss:  6.7050395011901855\n",
      "epoch:  500  loss:  2.35669207572937\n",
      "epoch:  1000  loss:  1.480225682258606\n",
      "epoch:  1500  loss:  0.5658202171325684\n",
      "epoch:  2000  loss:  0.378378689289093\n",
      "epoch:  2500  loss:  0.26678189635276794\n",
      "epoch:  3000  loss:  0.18528398871421814\n",
      "epoch:  3500  loss:  0.11777351796627045\n"
     ]
    },
    {
     "data": {
      "image/png": "[encoded data removed]",
      "text/plain": [
       "<Figure size 432x288 with 1 Axes>"
      ]
     },
     "metadata": {
      "needs_background": "light"
     },
     "output_type": "display_data"
    }
   ],
   "source": [
    "#trainx= Variable(torch.Tensor(X[:,:-1]).float(), requires_grad=True) #df.iloc[:, :-1].values).float()\n",
    "#trainy = Variable(torch.reshape(torch.Tensor(X[:,-1]).float(), (-1,1)))\n",
    "\n",
    "#i_grads= np.empty(trainx.shape)\n",
    "wts_bias_progression_2= list()\n",
    "all_grads_2= list()\n",
    "losses_2= list()\n",
    "\n",
    "d2loss_dg2= list()\n",
    "diags_2= list()\n",
    "f= lambda x: np.sqrt(np.abs(np.diag(np.linalg.inv(x)))).tolist()\n",
    "    \n",
    "for epoch in range(4000):\n",
    "    x_transformed =samp(X, count= 32)\n",
    "    trainx= Variable(torch.Tensor(x_transformed[:,:-1]).float(), requires_grad=True) #df.iloc[:, :-1].values).float()\n",
    "    trainy = Variable(torch.reshape(torch.Tensor(x_transformed[:,-1]).float(), (-1,1)))\n",
    "\n",
    "    optimizer2.zero_grad()\n",
    "    y_pred = model2(trainx)\n",
    "    #print(y_pred)\n",
    "    l = loss2(y_pred, trainy)\n",
    "    losses_2.append(l.item())\n",
    "    if epoch%500==0:\n",
    "        print('epoch: ', epoch, ' loss: ', l.item());\n",
    "    # perform a backward pass (backpropagation)\n",
    "    l.backward()\n",
    "    optimizer2.step()\n",
    "\n",
    "    wts_bias = list(model2.parameters())\n",
    "    wts_bias_vals= torch.cat((wts_bias[0], torch.reshape(wts_bias[1], (-1,1))),1)\n",
    "    wts_bias_progression_2.append(wts_bias_vals.tolist())\n",
    "    \n",
    "    wts_bias_grads = torch.cat((wts_bias[0].grad, torch.reshape(wts_bias[1].grad, (-1,1))),1)\n",
    "    #i_grads= trainx.grad\n",
    "    all_grads_2.append(wts_bias_grads.tolist())#i_grads)\n",
    "    # Update the parameters    \n",
    "\n",
    "    d1loss_dg2 = torch.autograd.grad(loss2(model2(trainx), trainy), wts_bias, create_graph=True)\n",
    "    d2loss_dg2.append(eval_hessian(d1loss_dg2, model2))\n",
    "    diags_2.append(f(d2loss_dg2[-1]))\n",
    "\n",
    "    \n",
    "all_wts_bias_2 = np.array(wts_bias_progression_2).reshape(-1,4)\n",
    "all_wts_bias_df_2= pd.DataFrame(all_wts_bias_2, columns=['weight_{}'.format(idx) for idx in range(1,4)]+ ['bias'])\n",
    "\n",
    "all_grads_2 = np.array(all_grads_2).reshape(-1,4)\n",
    "all_grads_df_2= pd.DataFrame(all_grads_2, columns=['beta_{}'.format(idx) for idx in range(1,5)])\n",
    "plot(losses_2)"
   ]
  },
  {
   "cell_type": "code",
   "execution_count": 26,
   "metadata": {},
   "outputs": [
    {
     "data": {
      "image/png": "[encoded data removed]",
      "text/plain": [
       "<Figure size 432x288 with 2 Axes>"
      ]
     },
     "metadata": {
      "needs_background": "light"
     },
     "output_type": "display_data"
    }
   ],
   "source": [
    "#Plot with trained cases. When predictions are calculated of train_data\n",
    "predictions= model2(torch.Tensor(X[:,:-1]).float())\n",
    "predictions= torch.Tensor.cpu(predictions).detach().numpy().reshape(-1,)\n",
    "observed= X[:,-1]\n",
    "\n",
    "\n",
    "hexbin_plot(predictions,observed, 'prediction' ,'observed')"
   ]
  },
  {
   "cell_type": "markdown",
   "metadata": {},
   "source": [
    "##### Pytorch model Standard Error & Parameters Comparison"
   ]
  },
  {
   "cell_type": "markdown",
   "metadata": {},
   "source": [
    "* **Calculating standard error for pytorch model**"
   ]
  },
  {
   "cell_type": "code",
   "execution_count": 27,
   "metadata": {},
   "outputs": [
    {
     "data": {
      "text/plain": [
       "(4, 19)"
      ]
     },
     "execution_count": 27,
     "metadata": {},
     "output_type": "execute_result"
    }
   ],
   "source": [
    "mini_batches_2= list()#contains mini_batches of gradients from 200 epochs\n",
    "mean_mini_batches_2= list()#contains mean of each of 200 epochs each in a mini_batches of gradients from 200 epochs\n",
    "mini_size= 200#mini_batch size\n",
    "for batch in range(1, (len(all_grads_2))//mini_size):\n",
    "    mini_batches_2.append(all_grads_2[batch*mini_size:batch*mini_size+ mini_size])\n",
    "    mean_mini_batches_2.append(list(np.mean(mini_batches_2[-1], axis=0)))\n",
    "\n",
    "grad_mini_batch_arr_2 = np.array(mean_mini_batches_2).T\n",
    "grad_mini_batch_arr_2.shape"
   ]
  },
  {
   "cell_type": "code",
   "execution_count": 28,
   "metadata": {},
   "outputs": [
    {
     "data": {
      "text/plain": [
       "array([1.61067696, 0.14686785, 0.67362784, 0.05240117])"
      ]
     },
     "execution_count": 28,
     "metadata": {},
     "output_type": "execute_result"
    }
   ],
   "source": [
    "covariant_mat_2= np.cov(grad_mini_batch_arr_2)\n",
    "pytorch_stderr_2= np.sqrt(covariant_mat_2.diagonal())\n",
    "pytorch_stderr_2"
   ]
  },
  {
   "cell_type": "code",
   "execution_count": 31,
   "metadata": {},
   "outputs": [
    {
     "data": {
      "text/html": [
       "<div>\n",
       "<style scoped>\n",
       "    .dataframe tbody tr th:only-of-type {\n",
       "        vertical-align: middle;\n",
       "    }\n",
       "\n",
       "    .dataframe tbody tr th {\n",
       "        vertical-align: top;\n",
       "    }\n",
       "\n",
       "    .dataframe thead th {\n",
       "        text-align: right;\n",
       "    }\n",
       "</style>\n",
       "<table border=\"1\" class=\"dataframe\">\n",
       "  <thead>\n",
       "    <tr style=\"text-align: right;\">\n",
       "      <th></th>\n",
       "      <th>pytorch_grads</th>\n",
       "      <th>pytorch_params</th>\n",
       "      <th>statsmodel_params</th>\n",
       "      <th>statsmodel_stderr</th>\n",
       "      <th>pytorch_stderr</th>\n",
       "    </tr>\n",
       "  </thead>\n",
       "  <tbody>\n",
       "    <tr>\n",
       "      <td>0</td>\n",
       "      <td>-0.037862</td>\n",
       "      <td>0.200</td>\n",
       "      <td>-0.245</td>\n",
       "      <td>0.056</td>\n",
       "      <td>1.610677</td>\n",
       "    </tr>\n",
       "    <tr>\n",
       "      <td>1</td>\n",
       "      <td>0.257868</td>\n",
       "      <td>-0.013</td>\n",
       "      <td>0.073</td>\n",
       "      <td>0.016</td>\n",
       "      <td>0.146868</td>\n",
       "    </tr>\n",
       "    <tr>\n",
       "      <td>2</td>\n",
       "      <td>-0.086241</td>\n",
       "      <td>1.712</td>\n",
       "      <td>2.811</td>\n",
       "      <td>0.131</td>\n",
       "      <td>0.673628</td>\n",
       "    </tr>\n",
       "    <tr>\n",
       "      <td>3</td>\n",
       "      <td>-0.045221</td>\n",
       "      <td>-0.007</td>\n",
       "      <td>0.000</td>\n",
       "      <td>0.027</td>\n",
       "      <td>0.052401</td>\n",
       "    </tr>\n",
       "  </tbody>\n",
       "</table>\n",
       "</div>"
      ],
      "text/plain": [
       "   pytorch_grads  pytorch_params  statsmodel_params statsmodel_stderr  \\\n",
       "0      -0.037862           0.200             -0.245             0.056   \n",
       "1       0.257868          -0.013              0.073             0.016   \n",
       "2      -0.086241           1.712              2.811             0.131   \n",
       "3      -0.045221          -0.007              0.000             0.027   \n",
       "\n",
       "   pytorch_stderr  \n",
       "0        1.610677  \n",
       "1        0.146868  \n",
       "2        0.673628  \n",
       "3        0.052401  "
      ]
     },
     "execution_count": 31,
     "metadata": {},
     "output_type": "execute_result"
    }
   ],
   "source": [
    "di_2 = dict(zip('pytorch_grads,pytorch_params,statsmodel_params,statsmodel_stderr'.split(','), [all_grads_2[-1,:], all_wts_bias_2[-1,:], result.params, statsm_df[\"std err\"].values]))\n",
    "di_2.update({'pytorch_stderr':pytorch_stderr_2})\n",
    "comp_df_2 = pd.DataFrame(di_2)\n",
    "comp_df_2['pytorch_params'] = comp_df_2['pytorch_params'].apply(lambda x:np.round(x,3))\n",
    "comp_df_2['statsmodel_params'] = comp_df_2['statsmodel_params'].apply(lambda x:np.round(x,3))\n",
    "comp_df_2"
   ]
  },
  {
   "cell_type": "markdown",
   "metadata": {},
   "source": [
    "#### Model with xavier_uniform kernel initialization"
   ]
  },
  {
   "cell_type": "code",
   "execution_count": 32,
   "metadata": {},
   "outputs": [
    {
     "data": {
      "text/plain": [
       "network(\n",
       "  (fc1): Linear(in_features=3, out_features=1, bias=True)\n",
       ")"
      ]
     },
     "execution_count": 32,
     "metadata": {},
     "output_type": "execute_result"
    }
   ],
   "source": [
    "def create_model_3():\n",
    "    class network(nn.Module):\n",
    "        def __init__(self):\n",
    "            super(network, self).__init__()\n",
    "            self.fc1 = nn.Linear(3, 1)#100)\n",
    "            torch.nn.init.xavier_uniform_(self.fc1.weight)\n",
    "\n",
    "        def forward(self, X):\n",
    "            X = self.fc1(X)#F.linear(self.fc1(X))#, list(self.fc1.parameters())[0])\n",
    "            return X\n",
    "    model= network()\n",
    "    optimizer = optim.Adam(model.parameters())\n",
    "    criterion= nn.MSELoss()# CrossEntropyLoss()\n",
    "    return model, optimizer, criterion\n",
    "\n",
    "model3, optimizer3, loss3= create_model_3()\n",
    "model3"
   ]
  },
  {
   "cell_type": "markdown",
   "metadata": {},
   "source": [
    "##### Model training and comparison plots"
   ]
  },
  {
   "cell_type": "code",
   "execution_count": 33,
   "metadata": {},
   "outputs": [
    {
     "name": "stdout",
     "output_type": "stream",
     "text": [
      "epoch:  0  loss:  0.46982574462890625\n",
      "epoch:  500  loss:  0.47716012597084045\n",
      "epoch:  1000  loss:  0.32589447498321533\n",
      "epoch:  1500  loss:  0.21599262952804565\n",
      "epoch:  2000  loss:  0.22780176997184753\n",
      "epoch:  2500  loss:  0.2164819836616516\n",
      "epoch:  3000  loss:  0.11269696056842804\n",
      "epoch:  3500  loss:  0.15279187262058258\n"
     ]
    },
    {
     "data": {
      "image/png": "[encoded data removed]",
      "text/plain": [
       "<Figure size 432x288 with 1 Axes>"
      ]
     },
     "metadata": {
      "needs_background": "light"
     },
     "output_type": "display_data"
    }
   ],
   "source": [
    "#trainx= Variable(torch.Tensor(X[:,:-1]).float(), requires_grad=True) #df.iloc[:, :-1].values).float()\n",
    "#trainy = Variable(torch.reshape(torch.Tensor(X[:,-1]).float(), (-1,1)))\n",
    "\n",
    "#i_grads= np.empty(trainx.shape)\n",
    "wts_bias_progression_3= list()\n",
    "all_grads_3= list()\n",
    "losses_3= list()\n",
    "\n",
    "d2loss_dg3= list()\n",
    "diags_3= list()\n",
    "f= lambda x: np.sqrt(np.abs(np.diag(np.linalg.inv(x)))).tolist()    \n",
    "\n",
    "for epoch in range(4000):\n",
    "    x_transformed =samp(X, count= 32)\n",
    "    trainx= Variable(torch.Tensor(x_transformed[:,:-1]).float(), requires_grad=True) #df.iloc[:, :-1].values).float()\n",
    "    trainy = Variable(torch.reshape(torch.Tensor(x_transformed[:,-1]).float(), (-1,1)))\n",
    "\n",
    "    optimizer3.zero_grad()\n",
    "    y_pred = model3(trainx)\n",
    "    #print(y_pred)\n",
    "    l = loss3(y_pred, trainy)\n",
    "    losses_3.append(l.item())\n",
    "    if epoch%500==0:\n",
    "        print('epoch: ', epoch, ' loss: ', l.item());\n",
    "    # perform a backward pass (backpropagation)\n",
    "    l.backward()\n",
    "    optimizer3.step()\n",
    "    \n",
    "    wts_bias = list(model3.parameters())\n",
    "    wts_bias_vals= torch.cat((wts_bias[0], torch.reshape(wts_bias[1], (-1,1))),1)\n",
    "    wts_bias_progression_3.append(wts_bias_vals.tolist())\n",
    "    \n",
    "    wts_bias_grads = torch.cat((wts_bias[0].grad, torch.reshape(wts_bias[1].grad, (-1,1))),1)\n",
    "    #i_grads= trainx.grad\n",
    "    all_grads_3.append(wts_bias_grads.tolist())#i_grads)\n",
    "    # Update the parameters\n",
    "    \n",
    "    d1loss_dg3 = torch.autograd.grad(loss3(model3(trainx), trainy), wts_bias, create_graph=True)\n",
    "    d2loss_dg3.append(eval_hessian(d1loss_dg3, model3))\n",
    "    diags_3.append(f(d2loss_dg3[-1]))\n",
    "\n",
    "    \n",
    "all_wts_bias_3 = np.array(wts_bias_progression_3).reshape(-1,4)\n",
    "all_wts_bias_df_3= pd.DataFrame(all_wts_bias_3, columns=['weight_{}'.format(idx) for idx in range(1,4)]+ ['bias'])\n",
    "\n",
    "all_grads_3 = np.array(all_grads_3).reshape(-1,4)\n",
    "all_grads_df_3= pd.DataFrame(all_grads_3, columns=['beta_{}'.format(idx) for idx in range(1,5)])\n",
    "plot(losses_3)"
   ]
  },
  {
   "cell_type": "code",
   "execution_count": 34,
   "metadata": {},
   "outputs": [
    {
     "data": {
      "image/png": "[encoded data removed]",
      "text/plain": [
       "<Figure size 432x288 with 2 Axes>"
      ]
     },
     "metadata": {
      "needs_background": "light"
     },
     "output_type": "display_data"
    }
   ],
   "source": [
    "#Plot with trained cases. When predictions are calculated of train_data\n",
    "predictions= model3(torch.Tensor(X[:,:-1]).float())\n",
    "predictions= torch.Tensor.cpu(predictions).detach().numpy().reshape(-1,)\n",
    "observed= X[:,-1]\n",
    "\n",
    "\n",
    "hexbin_plot(predictions,observed, 'prediction' ,'observed')"
   ]
  },
  {
   "cell_type": "markdown",
   "metadata": {},
   "source": [
    "##### Pytorch model Standard Error & Parameters Comparison\n",
    "* **Calculating standard error for pytorch model**"
   ]
  },
  {
   "cell_type": "code",
   "execution_count": 35,
   "metadata": {},
   "outputs": [
    {
     "data": {
      "text/plain": [
       "(4, 19)"
      ]
     },
     "execution_count": 35,
     "metadata": {},
     "output_type": "execute_result"
    }
   ],
   "source": [
    "mini_batches_3= list()#contains mini_batches of gradients from 200 epochs\n",
    "mean_mini_batches_3= list()#contains mean of each of 200 epochs each in a mini_batches of gradients from 200 epochs\n",
    "mini_size= 200#mini_batch size\n",
    "for batch in range(1, (len(all_grads_3))//mini_size):\n",
    "    mini_batches_3.append(all_grads_3[batch*mini_size:batch*mini_size+ mini_size])\n",
    "    mean_mini_batches_3.append(list(np.mean(mini_batches_3[-1], axis=0)))\n",
    "\n",
    "grad_mini_batch_arr_3 = np.array(mean_mini_batches_3).T\n",
    "grad_mini_batch_arr_3.shape"
   ]
  },
  {
   "cell_type": "code",
   "execution_count": 36,
   "metadata": {},
   "outputs": [
    {
     "data": {
      "text/plain": [
       "array([0.02195155, 0.0489262 , 0.04725731, 0.01132919])"
      ]
     },
     "execution_count": 36,
     "metadata": {},
     "output_type": "execute_result"
    }
   ],
   "source": [
    "covariant_mat_3= np.cov(grad_mini_batch_arr_3)\n",
    "pytorch_stderr_3= np.sqrt(covariant_mat_3.diagonal())\n",
    "pytorch_stderr_3"
   ]
  },
  {
   "cell_type": "code",
   "execution_count": 38,
   "metadata": {},
   "outputs": [
    {
     "data": {
      "text/html": [
       "<div>\n",
       "<style scoped>\n",
       "    .dataframe tbody tr th:only-of-type {\n",
       "        vertical-align: middle;\n",
       "    }\n",
       "\n",
       "    .dataframe tbody tr th {\n",
       "        vertical-align: top;\n",
       "    }\n",
       "\n",
       "    .dataframe thead th {\n",
       "        text-align: right;\n",
       "    }\n",
       "</style>\n",
       "<table border=\"1\" class=\"dataframe\">\n",
       "  <thead>\n",
       "    <tr style=\"text-align: right;\">\n",
       "      <th></th>\n",
       "      <th>pytorch_grads</th>\n",
       "      <th>pytorch_params</th>\n",
       "      <th>statsmodel_params</th>\n",
       "      <th>statsmodel_stderr</th>\n",
       "      <th>pytorch_stderr</th>\n",
       "    </tr>\n",
       "  </thead>\n",
       "  <tbody>\n",
       "    <tr>\n",
       "      <td>0</td>\n",
       "      <td>0.055192</td>\n",
       "      <td>-0.031</td>\n",
       "      <td>-0.245</td>\n",
       "      <td>0.056</td>\n",
       "      <td>0.021952</td>\n",
       "    </tr>\n",
       "    <tr>\n",
       "      <td>1</td>\n",
       "      <td>-0.425177</td>\n",
       "      <td>0.028</td>\n",
       "      <td>0.073</td>\n",
       "      <td>0.016</td>\n",
       "      <td>0.048926</td>\n",
       "    </tr>\n",
       "    <tr>\n",
       "      <td>2</td>\n",
       "      <td>0.034860</td>\n",
       "      <td>2.305</td>\n",
       "      <td>2.811</td>\n",
       "      <td>0.131</td>\n",
       "      <td>0.047257</td>\n",
       "    </tr>\n",
       "    <tr>\n",
       "      <td>3</td>\n",
       "      <td>0.186288</td>\n",
       "      <td>0.007</td>\n",
       "      <td>0.000</td>\n",
       "      <td>0.027</td>\n",
       "      <td>0.011329</td>\n",
       "    </tr>\n",
       "  </tbody>\n",
       "</table>\n",
       "</div>"
      ],
      "text/plain": [
       "   pytorch_grads  pytorch_params  statsmodel_params statsmodel_stderr  \\\n",
       "0       0.055192          -0.031             -0.245             0.056   \n",
       "1      -0.425177           0.028              0.073             0.016   \n",
       "2       0.034860           2.305              2.811             0.131   \n",
       "3       0.186288           0.007              0.000             0.027   \n",
       "\n",
       "   pytorch_stderr  \n",
       "0        0.021952  \n",
       "1        0.048926  \n",
       "2        0.047257  \n",
       "3        0.011329  "
      ]
     },
     "execution_count": 38,
     "metadata": {},
     "output_type": "execute_result"
    }
   ],
   "source": [
    "di_3 = dict(zip('pytorch_grads,pytorch_params,statsmodel_params,statsmodel_stderr'.split(','), [all_grads_3[-1,:], all_wts_bias_3[-1,:], result.params, statsm_df[\"std err\"].values]))\n",
    "di_3.update({'pytorch_stderr':pytorch_stderr_3})\n",
    "comp_df_3 = pd.DataFrame(di_3)\n",
    "comp_df_3['pytorch_params'] = comp_df_3['pytorch_params'].apply(lambda x:np.round(x,3))\n",
    "comp_df_3['statsmodel_params'] = comp_df_3['statsmodel_params'].apply(lambda x:np.round(x,3))\n",
    "comp_df_3"
   ]
  },
  {
   "cell_type": "markdown",
   "metadata": {},
   "source": [
    "#### Model training with different data scaling (MinMax)"
   ]
  },
  {
   "cell_type": "code",
   "execution_count": 39,
   "metadata": {},
   "outputs": [],
   "source": [
    "from sklearn.preprocessing import MinMaxScaler\n",
    "\n",
    "X, Y = data.data, data.target\n",
    "sc= MinMaxScaler()\n",
    "X_trans = sc.fit_transform(X)\n",
    "\n",
    "Y[np.where(Y==2)[0]]=1\n",
    "X_train, X_test, y_train, y_test = train_test_split(X_trans, Y, test_size= 0.3)"
   ]
  },
  {
   "cell_type": "markdown",
   "metadata": {},
   "source": [
    "##### Model training and comparison plots"
   ]
  },
  {
   "cell_type": "code",
   "execution_count": 40,
   "metadata": {},
   "outputs": [
    {
     "data": {
      "text/plain": [
       "network(\n",
       "  (fc1): Linear(in_features=3, out_features=1, bias=True)\n",
       ")"
      ]
     },
     "execution_count": 40,
     "metadata": {},
     "output_type": "execute_result"
    }
   ],
   "source": [
    "model4, optimizer4, loss4= create_model()#With default He Weights Initilizing model\n",
    "model4"
   ]
  },
  {
   "cell_type": "code",
   "execution_count": 41,
   "metadata": {},
   "outputs": [
    {
     "name": "stdout",
     "output_type": "stream",
     "text": [
      "epoch:  0  loss:  0.06816234439611435\n",
      "epoch:  500  loss:  0.009662216529250145\n",
      "epoch:  1000  loss:  0.006804624106734991\n",
      "epoch:  1500  loss:  0.003991321194916964\n",
      "epoch:  2000  loss:  0.007598560769110918\n",
      "epoch:  2500  loss:  0.008112939074635506\n",
      "epoch:  3000  loss:  0.005221005994826555\n",
      "epoch:  3500  loss:  0.0072307889349758625\n"
     ]
    },
    {
     "data": {
      "image/png": "[encoded data removed]",
      "text/plain": [
       "<Figure size 432x288 with 1 Axes>"
      ]
     },
     "metadata": {
      "needs_background": "light"
     },
     "output_type": "display_data"
    }
   ],
   "source": [
    "#trainx= Variable(torch.Tensor(X_trans[:,:-1]).float(), requires_grad=True) #df.iloc[:, :-1].values).float()\n",
    "#trainy = Variable(torch.reshape(torch.Tensor(X_trans[:,-1]).float(), (-1,1)))\n",
    "\n",
    "wts_bias_progression_4= list()\n",
    "all_grads_4= list()\n",
    "losses_4= list()\n",
    "d2loss_dg4= list()\n",
    "diags_4= list()\n",
    "f= lambda x: np.sqrt(np.abs(np.diag(np.linalg.inv(x)))).tolist()\n",
    "\n",
    "for epoch in range(4000):\n",
    "    x_transformed =samp(X_trans, count= 32)\n",
    "    trainx= Variable(torch.Tensor(x_transformed[:,:-1]).float(), requires_grad=True) #df.iloc[:, :-1].values).float()\n",
    "    trainy = Variable(torch.reshape(torch.Tensor(x_transformed[:,-1]).float(), (-1,1)))\n",
    "\n",
    "    optimizer4.zero_grad()\n",
    "    y_pred = model4(trainx)\n",
    "    #print(y_pred)\n",
    "    l = loss4(y_pred, trainy)\n",
    "    losses_4.append(l.item())\n",
    "    if epoch%500==0:\n",
    "        print('epoch: ', epoch, ' loss: ', l.item());\n",
    "    # perform a backward pass (backpropagation)\n",
    "    l.backward()\n",
    "    optimizer4.step()\n",
    "    \n",
    "    wts_bias = list(model4.parameters())\n",
    "    wts_bias_vals= torch.cat((wts_bias[0], torch.reshape(wts_bias[1], (-1,1))),1)\n",
    "    wts_bias_progression_4.append(wts_bias_vals.tolist())\n",
    "    \n",
    "    wts_bias_grads = torch.cat((wts_bias[0].grad, torch.reshape(wts_bias[1].grad, (-1,1))),1)\n",
    "    all_grads_4.append(wts_bias_grads.tolist())#i_grads)\n",
    "\n",
    "    d1loss_dg4 = torch.autograd.grad(loss4(model4(trainx), trainy), wts_bias, create_graph=True)\n",
    "    d2loss_dg4.append(eval_hessian(d1loss_dg4, model4))\n",
    "    diags_4.append(f(d2loss_dg4[-1]))\n",
    "\n",
    "all_wts_bias_4 = np.array(wts_bias_progression_4).reshape(-1,4)\n",
    "all_wts_bias_df_4= pd.DataFrame(all_wts_bias_4, columns=['weight_{}'.format(idx) for idx in range(1,4)]+ ['bias'])\n",
    "\n",
    "all_grads_4 = np.array(all_grads_4).reshape(-1,4)\n",
    "all_grads_df_4= pd.DataFrame(all_grads_4, columns=['beta_{}'.format(idx) for idx in range(1,5)])\n",
    "plot(losses_4)"
   ]
  },
  {
   "cell_type": "code",
   "execution_count": 42,
   "metadata": {},
   "outputs": [
    {
     "data": {
      "image/png": "[encoded data removed]",
      "text/plain": [
       "<Figure size 432x288 with 2 Axes>"
      ]
     },
     "metadata": {
      "needs_background": "light"
     },
     "output_type": "display_data"
    }
   ],
   "source": [
    "#Plot with trained cases. When predictions are calculated of train_data\n",
    "predictions= model4(torch.Tensor(X_trans[:,:-1]).float())\n",
    "predictions= torch.Tensor.cpu(predictions).detach().numpy().reshape(-1,)\n",
    "observed= X_trans[:,-1]\n",
    "\n",
    "\n",
    "hexbin_plot(predictions,observed, 'prediction' ,'observed')"
   ]
  },
  {
   "cell_type": "markdown",
   "metadata": {},
   "source": [
    "##### Retraining Statsmodel model with Scaled data\n",
    "\n",
    "* **Evaluating same data with linear regression from statsmodel**\n",
    "\n",
    "Statsmodel model Standard Error & Parameters Comparison"
   ]
  },
  {
   "cell_type": "code",
   "execution_count": 43,
   "metadata": {},
   "outputs": [
    {
     "name": "stdout",
     "output_type": "stream",
     "text": [
      "                            OLS Regression Results                            \n",
      "==============================================================================\n",
      "Dep. Variable:                      y   R-squared:                       0.938\n",
      "Model:                            OLS   Adj. R-squared:                  0.937\n",
      "Method:                 Least Squares   F-statistic:                     734.4\n",
      "Date:                Thu, 19 Mar 2020   Prob (F-statistic):           7.83e-88\n",
      "Time:                        20:33:09   Log-Likelihood:                 168.07\n",
      "No. Observations:                 150   AIC:                            -328.1\n",
      "Df Residuals:                     146   BIC:                            -316.1\n",
      "Df Model:                           3                                         \n",
      "Covariance Type:            nonrobust                                         \n",
      "==============================================================================\n",
      "                 coef    std err          t      P>|t|      [0.025      0.975]\n",
      "------------------------------------------------------------------------------\n",
      "x1            -0.3109      0.071     -4.363      0.000      -0.452      -0.170\n",
      "x2             0.2228      0.049      4.553      0.000       0.126       0.320\n",
      "x3             1.2884      0.060     21.399      0.000       1.169       1.407\n",
      "const         -0.1091      0.027     -4.093      0.000      -0.162      -0.056\n",
      "==============================================================================\n",
      "Omnibus:                        5.609   Durbin-Watson:                   1.573\n",
      "Prob(Omnibus):                  0.061   Jarque-Bera (JB):                6.811\n",
      "Skew:                           0.223   Prob(JB):                       0.0332\n",
      "Kurtosis:                       3.944   Cond. No.                         19.2\n",
      "==============================================================================\n",
      "\n",
      "Warnings:\n",
      "[1] Standard Errors assume that the covariance matrix of the errors is correctly specified.\n"
     ]
    }
   ],
   "source": [
    "feats, targets= X_trans[:,:-1], X_trans[:,-1]\n",
    "feats= sm.add_constant(feats, prepend=False)\n",
    "\n",
    "model_stm_2 = sm.OLS(targets, feats, hasconst=True)\n",
    "result_2= model_stm_2.fit()\n",
    "print(result_2.summary())"
   ]
  },
  {
   "cell_type": "markdown",
   "metadata": {},
   "source": [
    "* **Weights, biases and std_error from modelstats regression model**"
   ]
  },
  {
   "cell_type": "code",
   "execution_count": 44,
   "metadata": {},
   "outputs": [
    {
     "data": {
      "text/plain": [
       "array([-0.31089911,  0.22282854,  1.28837099, -0.10908804])"
      ]
     },
     "execution_count": 44,
     "metadata": {},
     "output_type": "execute_result"
    }
   ],
   "source": [
    "summary_2= result_2.summary()\n",
    "result_2.params"
   ]
  },
  {
   "cell_type": "code",
   "execution_count": 45,
   "metadata": {},
   "outputs": [
    {
     "data": {
      "text/html": [
       "<div>\n",
       "<style scoped>\n",
       "    .dataframe tbody tr th:only-of-type {\n",
       "        vertical-align: middle;\n",
       "    }\n",
       "\n",
       "    .dataframe tbody tr th {\n",
       "        vertical-align: top;\n",
       "    }\n",
       "\n",
       "    .dataframe thead th {\n",
       "        text-align: right;\n",
       "    }\n",
       "</style>\n",
       "<table border=\"1\" class=\"dataframe\">\n",
       "  <thead>\n",
       "    <tr style=\"text-align: right;\">\n",
       "      <th></th>\n",
       "      <th></th>\n",
       "      <th>coef</th>\n",
       "      <th>std err</th>\n",
       "      <th>t</th>\n",
       "      <th>P&gt;|t|</th>\n",
       "      <th>[0.025</th>\n",
       "      <th>0.975]</th>\n",
       "    </tr>\n",
       "  </thead>\n",
       "  <tbody>\n",
       "    <tr>\n",
       "      <td>0</td>\n",
       "      <td>x1</td>\n",
       "      <td>-0.3109</td>\n",
       "      <td>0.071</td>\n",
       "      <td>-4.363</td>\n",
       "      <td>0.000</td>\n",
       "      <td>-0.452</td>\n",
       "      <td>-0.170</td>\n",
       "    </tr>\n",
       "    <tr>\n",
       "      <td>1</td>\n",
       "      <td>x2</td>\n",
       "      <td>0.2228</td>\n",
       "      <td>0.049</td>\n",
       "      <td>4.553</td>\n",
       "      <td>0.000</td>\n",
       "      <td>0.126</td>\n",
       "      <td>0.320</td>\n",
       "    </tr>\n",
       "    <tr>\n",
       "      <td>2</td>\n",
       "      <td>x3</td>\n",
       "      <td>1.2884</td>\n",
       "      <td>0.060</td>\n",
       "      <td>21.399</td>\n",
       "      <td>0.000</td>\n",
       "      <td>1.169</td>\n",
       "      <td>1.407</td>\n",
       "    </tr>\n",
       "    <tr>\n",
       "      <td>3</td>\n",
       "      <td>const</td>\n",
       "      <td>-0.1091</td>\n",
       "      <td>0.027</td>\n",
       "      <td>-4.093</td>\n",
       "      <td>0.000</td>\n",
       "      <td>-0.162</td>\n",
       "      <td>-0.056</td>\n",
       "    </tr>\n",
       "  </tbody>\n",
       "</table>\n",
       "</div>"
      ],
      "text/plain": [
       "                coef    std err          t   P>|t|     [0.025     0.975]\n",
       "0     x1     -0.3109      0.071     -4.363   0.000     -0.452     -0.170\n",
       "1     x2      0.2228      0.049      4.553   0.000      0.126      0.320\n",
       "2     x3      1.2884      0.060     21.399   0.000      1.169      1.407\n",
       "3  const     -0.1091      0.027     -4.093   0.000     -0.162     -0.056"
      ]
     },
     "execution_count": 45,
     "metadata": {},
     "output_type": "execute_result"
    }
   ],
   "source": [
    "statsm_df_2 = pd.DataFrame(summary_2.tables[1].data[1:], columns=summary_2.tables[1].data[0])\n",
    "statsm_df_2"
   ]
  },
  {
   "cell_type": "markdown",
   "metadata": {},
   "source": [
    "##### Pytorch model Standard Error & Parameters Comparison\n",
    "* **Calculating standard error for pytorch model**"
   ]
  },
  {
   "cell_type": "code",
   "execution_count": 46,
   "metadata": {},
   "outputs": [
    {
     "data": {
      "text/plain": [
       "(4, 19)"
      ]
     },
     "execution_count": 46,
     "metadata": {},
     "output_type": "execute_result"
    }
   ],
   "source": [
    "mini_batches_4= list()#contains mini_batches of gradients from 200 epochs\n",
    "mean_mini_batches_4= list()#contains mean of each of 200 epochs each in a mini_batches of gradients from 200 epochs\n",
    "mini_size= 200#mini_batch size\n",
    "for batch in range(1, (len(all_grads_4))//mini_size):\n",
    "    mini_batches_4.append(all_grads_4[batch*mini_size:batch*mini_size+ mini_size])\n",
    "    mean_mini_batches_4.append(list(np.mean(mini_batches_4[-1], axis=0)))\n",
    "\n",
    "grad_mini_batch_arr_4 = np.array(mean_mini_batches_4).T\n",
    "grad_mini_batch_arr_4.shape"
   ]
  },
  {
   "cell_type": "code",
   "execution_count": 48,
   "metadata": {},
   "outputs": [
    {
     "data": {
      "text/plain": [
       "array([0.00457705, 0.00710288, 0.01063293, 0.00170027])"
      ]
     },
     "execution_count": 48,
     "metadata": {},
     "output_type": "execute_result"
    }
   ],
   "source": [
    "covariant_mat_4= np.cov(grad_mini_batch_arr_4)\n",
    "pytorch_stderr_4= np.sqrt(covariant_mat_4.diagonal())\n",
    "pytorch_stderr_4"
   ]
  },
  {
   "cell_type": "code",
   "execution_count": 49,
   "metadata": {},
   "outputs": [
    {
     "data": {
      "text/html": [
       "<div>\n",
       "<style scoped>\n",
       "    .dataframe tbody tr th:only-of-type {\n",
       "        vertical-align: middle;\n",
       "    }\n",
       "\n",
       "    .dataframe tbody tr th {\n",
       "        vertical-align: top;\n",
       "    }\n",
       "\n",
       "    .dataframe thead th {\n",
       "        text-align: right;\n",
       "    }\n",
       "</style>\n",
       "<table border=\"1\" class=\"dataframe\">\n",
       "  <thead>\n",
       "    <tr style=\"text-align: right;\">\n",
       "      <th></th>\n",
       "      <th>pytorch_grads</th>\n",
       "      <th>pytorch_params</th>\n",
       "      <th>statsmodel_params</th>\n",
       "      <th>statsmodel_stderr</th>\n",
       "      <th>pytorch_stderr</th>\n",
       "    </tr>\n",
       "  </thead>\n",
       "  <tbody>\n",
       "    <tr>\n",
       "      <td>0</td>\n",
       "      <td>0.002249</td>\n",
       "      <td>-0.132</td>\n",
       "      <td>-0.311</td>\n",
       "      <td>0.071</td>\n",
       "      <td>0.004577</td>\n",
       "    </tr>\n",
       "    <tr>\n",
       "      <td>1</td>\n",
       "      <td>0.002563</td>\n",
       "      <td>0.126</td>\n",
       "      <td>0.223</td>\n",
       "      <td>0.049</td>\n",
       "      <td>0.007103</td>\n",
       "    </tr>\n",
       "    <tr>\n",
       "      <td>2</td>\n",
       "      <td>0.003002</td>\n",
       "      <td>1.136</td>\n",
       "      <td>1.288</td>\n",
       "      <td>0.060</td>\n",
       "      <td>0.010633</td>\n",
       "    </tr>\n",
       "    <tr>\n",
       "      <td>3</td>\n",
       "      <td>0.008814</td>\n",
       "      <td>-0.074</td>\n",
       "      <td>-0.109</td>\n",
       "      <td>0.027</td>\n",
       "      <td>0.001700</td>\n",
       "    </tr>\n",
       "  </tbody>\n",
       "</table>\n",
       "</div>"
      ],
      "text/plain": [
       "   pytorch_grads  pytorch_params  statsmodel_params statsmodel_stderr  \\\n",
       "0       0.002249          -0.132             -0.311             0.071   \n",
       "1       0.002563           0.126              0.223             0.049   \n",
       "2       0.003002           1.136              1.288             0.060   \n",
       "3       0.008814          -0.074             -0.109             0.027   \n",
       "\n",
       "   pytorch_stderr  \n",
       "0        0.004577  \n",
       "1        0.007103  \n",
       "2        0.010633  \n",
       "3        0.001700  "
      ]
     },
     "execution_count": 49,
     "metadata": {},
     "output_type": "execute_result"
    }
   ],
   "source": [
    "di_4 = dict(zip('pytorch_grads,pytorch_params,statsmodel_params,statsmodel_stderr'.split(','), [all_grads_4[-1,:], all_wts_bias_4[-1,:], result_2.params, statsm_df_2[\"std err\"].values]))\n",
    "di_4.update({'pytorch_stderr':pytorch_stderr_4})\n",
    "comp_df_4 = pd.DataFrame(di_4)\n",
    "comp_df_4['pytorch_params'] = comp_df_4['pytorch_params'].apply(lambda x:np.round(x,3))\n",
    "comp_df_4['statsmodel_params'] = comp_df_4['statsmodel_params'].apply(lambda x:np.round(x,3))\n",
    "comp_df_4"
   ]
  },
  {
   "cell_type": "markdown",
   "metadata": {},
   "source": [
    "#### Model training with reference Weights from statsmodel"
   ]
  },
  {
   "cell_type": "code",
   "execution_count": 50,
   "metadata": {},
   "outputs": [],
   "source": [
    "ref_kernel = torch.reshape(torch.Tensor(result_2.params[:-1]+ np.random.normal(0,0.1, result_2.params[:-1].shape[0])).float(), (1,-1))\n",
    "ref_bias = result_2.params[-1] + 0.1#Adding noise"
   ]
  },
  {
   "cell_type": "code",
   "execution_count": 51,
   "metadata": {},
   "outputs": [
    {
     "data": {
      "text/plain": [
       "network(\n",
       "  (fc1): Linear(in_features=3, out_features=1, bias=True)\n",
       ")"
      ]
     },
     "execution_count": 51,
     "metadata": {},
     "output_type": "execute_result"
    }
   ],
   "source": [
    "def create_model_5():\n",
    "    class network(nn.Module):\n",
    "        def __init__(self):\n",
    "            super(network, self).__init__()\n",
    "            self.fc1 = nn.Linear(3, 1)#100)\n",
    "            self.fc1.weight= torch.nn.Parameter(ref_kernel)\n",
    "            #torch.nn.init.constant_(ref_kernel,0.3)\n",
    "            #self.fc1.weight.data= ref_kernel\n",
    "            self.fc1.bias.data.fill_(ref_bias)\n",
    "            #torch.nn.init.xavier_uniform_(self.fc1.weight)\n",
    "\n",
    "        def forward(self, X):\n",
    "            X = self.fc1(X)#F.linear(self.fc1(X))#, list(self.fc1.parameters())[0])\n",
    "            return X\n",
    "    model= network()\n",
    "    optimizer = optim.Adam(model.parameters())#LBFGS(model.parameters())\n",
    "    criterion= nn.MSELoss()# CrossEntropyLoss()\n",
    "    return model, optimizer, criterion\n",
    "\n",
    "model5, optimizer5, loss5= create_model_5()\n",
    "model5"
   ]
  },
  {
   "cell_type": "code",
   "execution_count": 52,
   "metadata": {
    "scrolled": true
   },
   "outputs": [
    {
     "data": {
      "text/plain": [
       "array([-0.31089911,  0.22282854,  1.28837099, -0.10908804])"
      ]
     },
     "execution_count": 52,
     "metadata": {},
     "output_type": "execute_result"
    }
   ],
   "source": [
    "result_2.params#refrenced weights, bias from statsmodel"
   ]
  },
  {
   "cell_type": "code",
   "execution_count": 53,
   "metadata": {
    "scrolled": false
   },
   "outputs": [
    {
     "data": {
      "text/plain": [
       "[Parameter containing:\n",
       " tensor([[-0.1212,  0.2014,  1.3023]], requires_grad=True),\n",
       " Parameter containing:\n",
       " tensor([-0.0091], requires_grad=True)]"
      ]
     },
     "execution_count": 53,
     "metadata": {},
     "output_type": "execute_result"
    }
   ],
   "source": [
    "list(model5.parameters())"
   ]
  },
  {
   "cell_type": "code",
   "execution_count": 54,
   "metadata": {
    "scrolled": false
   },
   "outputs": [
    {
     "name": "stdout",
     "output_type": "stream",
     "text": [
      "epoch:  0  loss:  0.04628120735287666\n",
      "epoch:  500  loss:  0.006706902291625738\n",
      "epoch:  1000  loss:  0.006457014940679073\n",
      "epoch:  1500  loss:  0.005930973216891289\n",
      "epoch:  2000  loss:  0.006694471929222345\n",
      "epoch:  2500  loss:  0.007804044522345066\n",
      "epoch:  3000  loss:  0.006971283350139856\n",
      "epoch:  3500  loss:  0.004248933866620064\n"
     ]
    },
    {
     "data": {
      "image/png": "[encoded data removed]",
      "text/plain": [
       "<Figure size 432x288 with 1 Axes>"
      ]
     },
     "metadata": {
      "needs_background": "light"
     },
     "output_type": "display_data"
    }
   ],
   "source": [
    "#trainx= Variable(torch.Tensor(X_trans[:,:-1]).float(), requires_grad=True) #df.iloc[:, :-1].values).float()\n",
    "#trainy = Variable(torch.reshape(torch.Tensor(X_trans[:,-1]).float(), (-1,1)))\n",
    "\n",
    "wts_bias_progression_5= list()\n",
    "all_grads_5= list()\n",
    "losses_5= list()\n",
    "d2loss_dg5= list()\n",
    "diags_5= list()\n",
    "f= lambda x: np.sqrt(np.abs(np.diag(np.linalg.inv(x)))).tolist()\n",
    "\n",
    "\n",
    "for epoch in range(4000):\n",
    "    x_transformed =samp(X_trans, count= 32)\n",
    "    trainx= Variable(torch.Tensor(x_transformed[:,:-1]).float(), requires_grad=True) #df.iloc[:, :-1].values).float()\n",
    "    trainy = Variable(torch.reshape(torch.Tensor(x_transformed[:,-1]).float(), (-1,1)))\n",
    "\n",
    "    optimizer5.zero_grad()\n",
    "    y_pred = model5(trainx)\n",
    "    #print(y_pred)\n",
    "    l = loss5(y_pred, trainy)\n",
    "    losses_5.append(l.item())\n",
    "    if epoch%500==0:\n",
    "        print('epoch: ', epoch, ' loss: ', l.item());\n",
    "    # perform a backward pass (backpropagation)\n",
    "    l.backward()\n",
    "    optimizer5.step()\n",
    "\n",
    "    wts_bias = list(model5.parameters())\n",
    "    wts_bias_vals= torch.cat((wts_bias[0], torch.reshape(wts_bias[1], (-1,1))),1)\n",
    "    wts_bias_progression_5.append(wts_bias_vals.tolist())\n",
    "    \n",
    "    wts_bias_grads = torch.cat((wts_bias[0].grad, torch.reshape(wts_bias[1].grad, (-1,1))),1)\n",
    "    all_grads_5.append(wts_bias_grads.tolist())#i_grads)\n",
    "        \n",
    "    d1loss_dg5 = torch.autograd.grad(loss5(model5(trainx), trainy), wts_bias, create_graph=True)\n",
    "    d2loss_dg5.append(eval_hessian(d1loss_dg5, model5))\n",
    "    diags_5.append(f(d2loss_dg5[-1]))\n",
    "\n",
    "all_wts_bias_5 = np.array(wts_bias_progression_5).reshape(-1,4)\n",
    "all_wts_bias_df_5= pd.DataFrame(all_wts_bias_5, columns=['weight_{}'.format(idx) for idx in range(1,4)]+ ['bias'])\n",
    "\n",
    "all_grads_5 = np.array(all_grads_5).reshape(-1,4)\n",
    "all_grads_df_5= pd.DataFrame(all_grads_5, columns=['beta_{}'.format(idx) for idx in range(1,5)])\n",
    "plot(losses_5)"
   ]
  },
  {
   "cell_type": "code",
   "execution_count": 55,
   "metadata": {},
   "outputs": [
    {
     "data": {
      "image/png": "[encoded data removed]",
      "text/plain": [
       "<Figure size 432x288 with 2 Axes>"
      ]
     },
     "metadata": {
      "needs_background": "light"
     },
     "output_type": "display_data"
    }
   ],
   "source": [
    "#Plot with trained cases. When predictions are calculated of train_data\n",
    "predictions= model5(torch.Tensor(X_trans[:,:-1]).float())\n",
    "predictions= torch.Tensor.cpu(predictions).detach().numpy().reshape(-1,)\n",
    "observed= X_trans[:,-1]\n",
    "\n",
    "\n",
    "hexbin_plot(predictions,observed, 'prediction' ,'observed')"
   ]
  },
  {
   "cell_type": "markdown",
   "metadata": {},
   "source": [
    "##### Pytorch model Standard Error & Parameters Comparison\n",
    "* **Calculating standard error for pytorch model**"
   ]
  },
  {
   "cell_type": "code",
   "execution_count": 56,
   "metadata": {},
   "outputs": [
    {
     "data": {
      "text/plain": [
       "(4, 19)"
      ]
     },
     "execution_count": 56,
     "metadata": {},
     "output_type": "execute_result"
    }
   ],
   "source": [
    "mini_batches_5= list()#contains mini_batches of gradients from 200 epochs\n",
    "mean_mini_batches_5= list()#contains mean of each of 200 epochs each in a mini_batches of gradients from 200 epochs\n",
    "mini_size= 200#mini_batch size\n",
    "for batch in range(1, (len(all_grads_5))//mini_size):\n",
    "    mini_batches_5.append(all_grads_5[batch*mini_size:batch*mini_size+ mini_size])\n",
    "    mean_mini_batches_5.append(list(np.mean(mini_batches_5[-1], axis=0)))\n",
    "\n",
    "grad_mini_batch_arr_5 = np.array(mean_mini_batches_5).T\n",
    "grad_mini_batch_arr_5.shape"
   ]
  },
  {
   "cell_type": "code",
   "execution_count": 57,
   "metadata": {},
   "outputs": [
    {
     "data": {
      "text/plain": [
       "array([0.00083488, 0.00091997, 0.00108462, 0.00088453])"
      ]
     },
     "execution_count": 57,
     "metadata": {},
     "output_type": "execute_result"
    }
   ],
   "source": [
    "covariant_mat_5= np.cov(grad_mini_batch_arr_5)\n",
    "pytorch_stderr_5= np.sqrt(covariant_mat_5.diagonal())#**2\n",
    "pytorch_stderr_5"
   ]
  },
  {
   "cell_type": "code",
   "execution_count": 58,
   "metadata": {},
   "outputs": [
    {
     "data": {
      "text/html": [
       "<div>\n",
       "<style scoped>\n",
       "    .dataframe tbody tr th:only-of-type {\n",
       "        vertical-align: middle;\n",
       "    }\n",
       "\n",
       "    .dataframe tbody tr th {\n",
       "        vertical-align: top;\n",
       "    }\n",
       "\n",
       "    .dataframe thead th {\n",
       "        text-align: right;\n",
       "    }\n",
       "</style>\n",
       "<table border=\"1\" class=\"dataframe\">\n",
       "  <thead>\n",
       "    <tr style=\"text-align: right;\">\n",
       "      <th></th>\n",
       "      <th>pytorch_grads</th>\n",
       "      <th>pytorch_params</th>\n",
       "      <th>statsmodel_params</th>\n",
       "      <th>statsmodel_stderr</th>\n",
       "      <th>pytorch_stderr</th>\n",
       "    </tr>\n",
       "  </thead>\n",
       "  <tbody>\n",
       "    <tr>\n",
       "      <td>0</td>\n",
       "      <td>0.005294</td>\n",
       "      <td>-0.281</td>\n",
       "      <td>-0.311</td>\n",
       "      <td>0.071</td>\n",
       "      <td>0.000835</td>\n",
       "    </tr>\n",
       "    <tr>\n",
       "      <td>1</td>\n",
       "      <td>0.004015</td>\n",
       "      <td>0.212</td>\n",
       "      <td>0.223</td>\n",
       "      <td>0.049</td>\n",
       "      <td>0.000920</td>\n",
       "    </tr>\n",
       "    <tr>\n",
       "      <td>2</td>\n",
       "      <td>-0.001860</td>\n",
       "      <td>1.270</td>\n",
       "      <td>1.288</td>\n",
       "      <td>0.060</td>\n",
       "      <td>0.001085</td>\n",
       "    </tr>\n",
       "    <tr>\n",
       "      <td>3</td>\n",
       "      <td>-0.011167</td>\n",
       "      <td>-0.105</td>\n",
       "      <td>-0.109</td>\n",
       "      <td>0.027</td>\n",
       "      <td>0.000885</td>\n",
       "    </tr>\n",
       "  </tbody>\n",
       "</table>\n",
       "</div>"
      ],
      "text/plain": [
       "   pytorch_grads  pytorch_params  statsmodel_params statsmodel_stderr  \\\n",
       "0       0.005294          -0.281             -0.311             0.071   \n",
       "1       0.004015           0.212              0.223             0.049   \n",
       "2      -0.001860           1.270              1.288             0.060   \n",
       "3      -0.011167          -0.105             -0.109             0.027   \n",
       "\n",
       "   pytorch_stderr  \n",
       "0        0.000835  \n",
       "1        0.000920  \n",
       "2        0.001085  \n",
       "3        0.000885  "
      ]
     },
     "execution_count": 58,
     "metadata": {},
     "output_type": "execute_result"
    }
   ],
   "source": [
    "di_5 = dict(zip('pytorch_grads,pytorch_params,statsmodel_params,statsmodel_stderr'.split(','), [all_grads_5[-1,:], all_wts_bias_5[-1,:], result_2.params, statsm_df_2[\"std err\"].values]))\n",
    "di_5.update({'pytorch_stderr':pytorch_stderr_5})\n",
    "comp_df_5 = pd.DataFrame(di_5)\n",
    "comp_df_5['pytorch_params'] = comp_df_5['pytorch_params'].apply(lambda x:np.round(x,3))\n",
    "comp_df_5['statsmodel_params'] = comp_df_5['statsmodel_params'].apply(lambda x:np.round(x,3))\n",
    "comp_df_5"
   ]
  },
  {
   "cell_type": "markdown",
   "metadata": {},
   "source": [
    "#### Model training with LBFGS optimizer and all previously tried settings\n"
   ]
  },
  {
   "cell_type": "markdown",
   "metadata": {},
   "source": [
    "##### LBFGS optimizer with Reference statsmodel weights & bias (Exp 4.4)"
   ]
  },
  {
   "cell_type": "code",
   "execution_count": 59,
   "metadata": {},
   "outputs": [],
   "source": [
    "ref_kernel = torch.reshape(torch.Tensor(result_2.params[:-1]+ np.random.normal(0,0.1, result_2.params[:-1].shape[0])).float(), (1,-1))\n",
    "ref_bias = result_2.params[-1] + 0.1#Adding noise"
   ]
  },
  {
   "cell_type": "code",
   "execution_count": 60,
   "metadata": {},
   "outputs": [
    {
     "data": {
      "text/plain": [
       "network(\n",
       "  (fc1): Linear(in_features=3, out_features=1, bias=True)\n",
       ")"
      ]
     },
     "execution_count": 60,
     "metadata": {},
     "output_type": "execute_result"
    }
   ],
   "source": [
    "def create_model_6():\n",
    "    class network(nn.Module):\n",
    "        def __init__(self):\n",
    "            super(network, self).__init__()\n",
    "            self.fc1 = nn.Linear(3, 1)#100)\n",
    "            self.fc1.weight= torch.nn.Parameter(ref_kernel)\n",
    "            #torch.nn.init.constant_(ref_kernel,0.3)\n",
    "            #self.fc1.weight.data= ref_kernel\n",
    "            self.fc1.bias.data.fill_(ref_bias)\n",
    "            #torch.nn.init.xavier_uniform_(self.fc1.weight)\n",
    "\n",
    "        def forward(self, X):\n",
    "            X = self.fc1(X)#F.linear(self.fc1(X))#, list(self.fc1.parameters())[0])\n",
    "            return X\n",
    "    model= network()\n",
    "    optimizer = optim.LBFGS(model.parameters())\n",
    "    criterion= nn.MSELoss()# CrossEntropyLoss()\n",
    "    return model, optimizer, criterion\n",
    "\n",
    "model6, optimizer6, loss6= create_model_6()\n",
    "model6"
   ]
  },
  {
   "cell_type": "code",
   "execution_count": 61,
   "metadata": {},
   "outputs": [
    {
     "data": {
      "text/plain": [
       "[Parameter containing:\n",
       " tensor([[-0.2720,  0.4067,  1.2206]], requires_grad=True),\n",
       " Parameter containing:\n",
       " tensor([-0.0091], requires_grad=True)]"
      ]
     },
     "execution_count": 61,
     "metadata": {},
     "output_type": "execute_result"
    }
   ],
   "source": [
    "list(model6.parameters())"
   ]
  },
  {
   "cell_type": "code",
   "execution_count": 62,
   "metadata": {
    "scrolled": false
   },
   "outputs": [
    {
     "name": "stdout",
     "output_type": "stream",
     "text": [
      "epoch:  0  loss:  0.0358392633497715\n",
      "epoch:  500  loss:  0.009032264351844788\n",
      "epoch:  1000  loss:  0.00557086942717433\n",
      "epoch:  1500  loss:  0.0115624088793993\n",
      "epoch:  2000  loss:  0.006967869121581316\n",
      "epoch:  2500  loss:  0.005488941445946693\n",
      "epoch:  3000  loss:  0.007779022213071585\n",
      "epoch:  3500  loss:  0.005351852625608444\n"
     ]
    },
    {
     "data": {
      "image/png": "[encoded data removed]",
      "text/plain": [
       "<Figure size 432x288 with 1 Axes>"
      ]
     },
     "metadata": {
      "needs_background": "light"
     },
     "output_type": "display_data"
    }
   ],
   "source": [
    "#trainx= Variable(torch.Tensor(X_trans[:,:-1]).float(), requires_grad=True) #df.iloc[:, :-1].values).float()\n",
    "#trainy = Variable(torch.reshape(torch.Tensor(X_trans[:,-1]).float(), (-1,1)))\n",
    "def report_loss(ep, loss_any, pred, obs):\n",
    "    ls = loss_any(pred, obs)\n",
    "    if ep%500==0:\n",
    "        print('epoch: ', ep, ' loss: ', ls.item())\n",
    "\n",
    "\n",
    "wts_bias_progression_6= list()\n",
    "all_grads_6= list()\n",
    "losses_6= list()\n",
    "d2loss_dg6= list()\n",
    "diags_6= list()\n",
    "f= lambda x: np.sqrt(np.abs(np.diag(np.linalg.inv(x)))).tolist()\n",
    "\n",
    "for epoch in range(4000):\n",
    "    x_transformed =samp(X_trans, count= 32)\n",
    "    trainx= Variable(torch.Tensor(x_transformed[:,:-1]).float(), requires_grad=True) #df.iloc[:, :-1].values).float()\n",
    "    trainy = Variable(torch.reshape(torch.Tensor(x_transformed[:,-1]).float(), (-1,1)))\n",
    "\n",
    "    def closure():\n",
    "        optimizer6.zero_grad()\n",
    "        y_pred = model6(trainx)\n",
    "\n",
    "        l = loss6(y_pred, trainy)\n",
    "        losses_6.append(l.item())\n",
    "        #if epoch%500==0:\n",
    "        #    print('epoch: ', epoch, ' loss: ', l.item());\n",
    "        # perform a backward pass (backpropagation)\n",
    "        l.backward()\n",
    "        return l\n",
    "    report_loss(epoch, loss6, model6(trainx), trainy)\n",
    "    optimizer6.step(closure)\n",
    "\n",
    "    wts_bias = list(model6.parameters())\n",
    "    wts_bias_vals= torch.cat((wts_bias[0], torch.reshape(wts_bias[1], (-1,1))),1)\n",
    "    wts_bias_progression_6.append(wts_bias_vals.tolist())\n",
    "\n",
    "    #print('(torch.reshape(wts_bias[1].grad, (-1,1))),1):',epoch, type(wts_bias[1].grad))\n",
    "    wts_bias_grads = torch.cat((wts_bias[0].grad, torch.reshape(wts_bias[1].grad, (-1,1))),1)\n",
    "    all_grads_6.append(wts_bias_grads.tolist())#i_grads)\n",
    "    \n",
    "    d1loss_dg6 = torch.autograd.grad(loss6(model6(trainx), trainy), wts_bias, create_graph=True)\n",
    "    d2loss_dg6.append(eval_hessian(d1loss_dg6, model6))\n",
    "    diags_6.append(f(d2loss_dg6[-1]))\n",
    "\n",
    "    \n",
    "\n",
    "all_wts_bias_6 = np.array(wts_bias_progression_6).reshape(-1,4)\n",
    "all_wts_bias_df_6= pd.DataFrame(all_wts_bias_6, columns=['weight_{}'.format(idx) for idx in range(1,4)]+ ['bias'])\n",
    "\n",
    "all_grads_6 = np.array(all_grads_6).reshape(-1,4)\n",
    "all_grads_df_6= pd.DataFrame(all_grads_6, columns=['beta_{}'.format(idx) for idx in range(1,5)])\n",
    "plot(losses_6)"
   ]
  },
  {
   "cell_type": "code",
   "execution_count": 63,
   "metadata": {},
   "outputs": [
    {
     "data": {
      "image/png": "[encoded data removed]",
      "text/plain": [
       "<Figure size 432x288 with 2 Axes>"
      ]
     },
     "metadata": {
      "needs_background": "light"
     },
     "output_type": "display_data"
    }
   ],
   "source": [
    "#Plot with trained cases. When predictions are calculated of train_data\n",
    "predictions= model6(torch.Tensor(X_trans[:,:-1]).float())\n",
    "predictions= torch.Tensor.cpu(predictions).detach().numpy().reshape(-1,)\n",
    "observed= X_trans[:,-1]\n",
    "\n",
    "hexbin_plot(predictions,observed, 'prediction' ,'observed')"
   ]
  },
  {
   "cell_type": "markdown",
   "metadata": {},
   "source": [
    "###### Pytorch model Standard Error & Parameters Comparison\n",
    "* **Calculating standard error for pytorch model**"
   ]
  },
  {
   "cell_type": "code",
   "execution_count": 64,
   "metadata": {},
   "outputs": [
    {
     "data": {
      "text/plain": [
       "(4, 19)"
      ]
     },
     "execution_count": 64,
     "metadata": {},
     "output_type": "execute_result"
    }
   ],
   "source": [
    "mini_batches_6= list()#contains mini_batches of gradients from 200 epochs\n",
    "mean_mini_batches_6= list()#contains mean of each of 200 epochs each in a mini_batches of gradients from 200 epochs\n",
    "mini_size= 200#mini_batch size\n",
    "for batch in range(1, (len(all_grads_6))//mini_size):\n",
    "    mini_batches_6.append(all_grads_6[batch*mini_size:batch*mini_size+ mini_size])\n",
    "    mean_mini_batches_6.append(list(np.mean(mini_batches_6[-1], axis=0)))\n",
    "\n",
    "grad_mini_batch_arr_6 = np.array(mean_mini_batches_6).T\n",
    "grad_mini_batch_arr_6.shape"
   ]
  },
  {
   "cell_type": "code",
   "execution_count": 65,
   "metadata": {},
   "outputs": [
    {
     "data": {
      "text/plain": [
       "array([0.00049518, 0.00045562, 0.00056496, 0.00081083])"
      ]
     },
     "execution_count": 65,
     "metadata": {},
     "output_type": "execute_result"
    }
   ],
   "source": [
    "covariant_mat_6= np.cov(grad_mini_batch_arr_6)\n",
    "pytorch_stderr_6= np.sqrt(covariant_mat_6.diagonal())#**2\n",
    "pytorch_stderr_6"
   ]
  },
  {
   "cell_type": "code",
   "execution_count": 66,
   "metadata": {},
   "outputs": [
    {
     "data": {
      "text/html": [
       "<div>\n",
       "<style scoped>\n",
       "    .dataframe tbody tr th:only-of-type {\n",
       "        vertical-align: middle;\n",
       "    }\n",
       "\n",
       "    .dataframe tbody tr th {\n",
       "        vertical-align: top;\n",
       "    }\n",
       "\n",
       "    .dataframe thead th {\n",
       "        text-align: right;\n",
       "    }\n",
       "</style>\n",
       "<table border=\"1\" class=\"dataframe\">\n",
       "  <thead>\n",
       "    <tr style=\"text-align: right;\">\n",
       "      <th></th>\n",
       "      <th>pytorch_grads</th>\n",
       "      <th>pytorch_params</th>\n",
       "      <th>statsmodel_params</th>\n",
       "      <th>statsmodel_stderr</th>\n",
       "      <th>pytorch_stderr</th>\n",
       "    </tr>\n",
       "  </thead>\n",
       "  <tbody>\n",
       "    <tr>\n",
       "      <td>0</td>\n",
       "      <td>8.310700e-07</td>\n",
       "      <td>-0.459</td>\n",
       "      <td>-0.311</td>\n",
       "      <td>0.071</td>\n",
       "      <td>0.000495</td>\n",
       "    </tr>\n",
       "    <tr>\n",
       "      <td>1</td>\n",
       "      <td>3.807924e-06</td>\n",
       "      <td>0.328</td>\n",
       "      <td>0.223</td>\n",
       "      <td>0.049</td>\n",
       "      <td>0.000456</td>\n",
       "    </tr>\n",
       "    <tr>\n",
       "      <td>2</td>\n",
       "      <td>4.189713e-07</td>\n",
       "      <td>1.410</td>\n",
       "      <td>1.288</td>\n",
       "      <td>0.060</td>\n",
       "      <td>0.000565</td>\n",
       "    </tr>\n",
       "    <tr>\n",
       "      <td>3</td>\n",
       "      <td>4.556961e-06</td>\n",
       "      <td>-0.160</td>\n",
       "      <td>-0.109</td>\n",
       "      <td>0.027</td>\n",
       "      <td>0.000811</td>\n",
       "    </tr>\n",
       "  </tbody>\n",
       "</table>\n",
       "</div>"
      ],
      "text/plain": [
       "   pytorch_grads  pytorch_params  statsmodel_params statsmodel_stderr  \\\n",
       "0   8.310700e-07          -0.459             -0.311             0.071   \n",
       "1   3.807924e-06           0.328              0.223             0.049   \n",
       "2   4.189713e-07           1.410              1.288             0.060   \n",
       "3   4.556961e-06          -0.160             -0.109             0.027   \n",
       "\n",
       "   pytorch_stderr  \n",
       "0        0.000495  \n",
       "1        0.000456  \n",
       "2        0.000565  \n",
       "3        0.000811  "
      ]
     },
     "execution_count": 66,
     "metadata": {},
     "output_type": "execute_result"
    }
   ],
   "source": [
    "di_6 = dict(zip('pytorch_grads,pytorch_params,statsmodel_params,statsmodel_stderr'.split(','), [all_grads_6[-1,:], all_wts_bias_6[-1,:], result_2.params, statsm_df_2[\"std err\"].values]))\n",
    "di_6.update({'pytorch_stderr':pytorch_stderr_6})\n",
    "comp_df_6 = pd.DataFrame(di_6)\n",
    "comp_df_6['pytorch_params'] = comp_df_6['pytorch_params'].apply(lambda x:np.round(x,3))\n",
    "comp_df_6['statsmodel_params'] = comp_df_6['statsmodel_params'].apply(lambda x:np.round(x,3))\n",
    "comp_df_6"
   ]
  },
  {
   "cell_type": "markdown",
   "metadata": {},
   "source": [
    "##### LBFGS optimizer with Xavier kernel init (Exp 4.1)"
   ]
  },
  {
   "cell_type": "code",
   "execution_count": 67,
   "metadata": {},
   "outputs": [
    {
     "data": {
      "text/plain": [
       "network(\n",
       "  (fc1): Linear(in_features=3, out_features=1, bias=True)\n",
       ")"
      ]
     },
     "execution_count": 67,
     "metadata": {},
     "output_type": "execute_result"
    }
   ],
   "source": [
    "def create_model_7():\n",
    "    class network(nn.Module):\n",
    "        def __init__(self):\n",
    "            super(network, self).__init__()\n",
    "            self.fc1 = nn.Linear(3, 1)\n",
    "            torch.nn.init.xavier_uniform_(self.fc1.weight)\n",
    "\n",
    "        def forward(self, X):\n",
    "            X = self.fc1(X)#F.linear(self.fc1(X))#, list(self.fc1.parameters())[0])\n",
    "            return X\n",
    "    model= network()\n",
    "    optimizer = optim.LBFGS(model.parameters())\n",
    "    criterion= nn.MSELoss()# CrossEntropyLoss()\n",
    "    return model, optimizer, criterion\n",
    "\n",
    "model7, optimizer7, loss7= create_model_7()\n",
    "model7"
   ]
  },
  {
   "cell_type": "code",
   "execution_count": 68,
   "metadata": {},
   "outputs": [
    {
     "name": "stdout",
     "output_type": "stream",
     "text": [
      "epoch:  0  loss:  0.2515413463115692\n",
      "epoch:  500  loss:  0.01371206808835268\n",
      "epoch:  1000  loss:  0.008589252829551697\n",
      "epoch:  1500  loss:  0.006381518207490444\n",
      "epoch:  2000  loss:  0.00470005115494132\n",
      "epoch:  2500  loss:  0.008985985070466995\n",
      "epoch:  3000  loss:  0.005079461727291346\n",
      "epoch:  3500  loss:  0.007732025347650051\n"
     ]
    },
    {
     "data": {
      "image/png": "[encoded data removed]",
      "text/plain": [
       "<Figure size 432x288 with 1 Axes>"
      ]
     },
     "metadata": {
      "needs_background": "light"
     },
     "output_type": "display_data"
    }
   ],
   "source": [
    "#trainx= Variable(torch.Tensor(X_trans[:,:-1]).float(), requires_grad=True) #df.iloc[:, :-1].values).float()\n",
    "#trainy = Variable(torch.reshape(torch.Tensor(X_trans[:,-1]).float(), (-1,1)))\n",
    "def report_loss(ep, loss_any, pred, obs):\n",
    "    ls = loss_any(pred, obs)\n",
    "    if ep%500==0:\n",
    "        print('epoch: ', ep, ' loss: ', ls.item())\n",
    "\n",
    "wts_bias_progression_7= list()\n",
    "all_grads_7= list()\n",
    "losses_7= list()\n",
    "d2loss_dg7= list()\n",
    "diags_7= list()\n",
    "f= lambda x: np.sqrt(np.abs(np.diag(np.linalg.inv(x)))).tolist()\n",
    "\n",
    "for epoch in range(4000):\n",
    "    x_transformed =samp(X_trans, count= 32)\n",
    "    trainx= Variable(torch.Tensor(x_transformed[:,:-1]).float(), requires_grad=True) #df.iloc[:, :-1].values).float()\n",
    "    trainy = Variable(torch.reshape(torch.Tensor(x_transformed[:,-1]).float(), (-1,1)))\n",
    "\n",
    "    def closure():\n",
    "        optimizer7.zero_grad()\n",
    "        y_pred = model7(trainx)\n",
    "\n",
    "        l = loss7(y_pred, trainy)\n",
    "        losses_7.append(l.item())\n",
    "        #if epoch%500==0:\n",
    "        #    print('epoch: ', epoch, ' loss: ', l.item());\n",
    "        # perform a backward pass (backpropagation)\n",
    "        l.backward()\n",
    "        return l\n",
    "    report_loss(epoch, loss7, model7(trainx), trainy)\n",
    "    optimizer7.step(closure)\n",
    "\n",
    "    wts_bias = list(model7.parameters())\n",
    "    wts_bias_vals= torch.cat((wts_bias[0], torch.reshape(wts_bias[1], (-1,1))),1)\n",
    "    wts_bias_progression_7.append(wts_bias_vals.tolist())\n",
    "\n",
    "    #print('(torch.reshape(wts_bias[1].grad, (-1,1))),1):',epoch, type(wts_bias[1].grad))\n",
    "    wts_bias_grads = torch.cat((wts_bias[0].grad, torch.reshape(wts_bias[1].grad, (-1,1))),1)\n",
    "    all_grads_7.append(wts_bias_grads.tolist())#i_grads)\n",
    "\n",
    "    d1loss_dg7 = torch.autograd.grad(loss7(model7(trainx), trainy), wts_bias, create_graph=True)\n",
    "    d2loss_dg7.append(eval_hessian(d1loss_dg7, model7))\n",
    "    diags_7.append(f(d2loss_dg7[-1]))\n",
    "    \n",
    "all_wts_bias_7 = np.array(wts_bias_progression_7).reshape(-1,4)\n",
    "all_wts_bias_df_7= pd.DataFrame(all_wts_bias_7, columns=['weight_{}'.format(idx) for idx in range(1,4)]+ ['bias'])\n",
    "\n",
    "all_grads_7 = np.array(all_grads_7).reshape(-1,4)\n",
    "all_grads_df_7= pd.DataFrame(all_grads_7, columns=['beta_{}'.format(idx) for idx in range(1,5)])\n",
    "plot(losses_7)"
   ]
  },
  {
   "cell_type": "markdown",
   "metadata": {},
   "source": [
    "###### Pytorch model Standard Error & Parameters Comparison\n",
    "* **Calculating standard error for pytorch model**"
   ]
  },
  {
   "cell_type": "code",
   "execution_count": 69,
   "metadata": {},
   "outputs": [
    {
     "data": {
      "text/plain": [
       "(4, 19)"
      ]
     },
     "execution_count": 69,
     "metadata": {},
     "output_type": "execute_result"
    }
   ],
   "source": [
    "mini_batches_7= list()#contains mini_batches of gradients from 200 epochs\n",
    "mean_mini_batches_7= list()#contains mean of each of 200 epochs each in a mini_batches of gradients from 200 epochs\n",
    "mini_size= 200#mini_batch size\n",
    "for batch in range(1, (len(all_grads_7))//mini_size):\n",
    "    mini_batches_7.append(all_grads_7[batch*mini_size:batch*mini_size+ mini_size])\n",
    "    mean_mini_batches_7.append(list(np.mean(mini_batches_7[-1], axis=0)))\n",
    "\n",
    "grad_mini_batch_arr_7 = np.array(mean_mini_batches_7).T\n",
    "grad_mini_batch_arr_7.shape"
   ]
  },
  {
   "cell_type": "code",
   "execution_count": 70,
   "metadata": {},
   "outputs": [
    {
     "data": {
      "text/plain": [
       "array([0.00049976, 0.00041569, 0.00048773, 0.0007498 ])"
      ]
     },
     "execution_count": 70,
     "metadata": {},
     "output_type": "execute_result"
    }
   ],
   "source": [
    "covariant_mat_7= np.cov(grad_mini_batch_arr_7)\n",
    "pytorch_stderr_7= np.sqrt(covariant_mat_7.diagonal())#**2\n",
    "pytorch_stderr_7"
   ]
  },
  {
   "cell_type": "code",
   "execution_count": 71,
   "metadata": {},
   "outputs": [
    {
     "data": {
      "text/html": [
       "<div>\n",
       "<style scoped>\n",
       "    .dataframe tbody tr th:only-of-type {\n",
       "        vertical-align: middle;\n",
       "    }\n",
       "\n",
       "    .dataframe tbody tr th {\n",
       "        vertical-align: top;\n",
       "    }\n",
       "\n",
       "    .dataframe thead th {\n",
       "        text-align: right;\n",
       "    }\n",
       "</style>\n",
       "<table border=\"1\" class=\"dataframe\">\n",
       "  <thead>\n",
       "    <tr style=\"text-align: right;\">\n",
       "      <th></th>\n",
       "      <th>pytorch_grads</th>\n",
       "      <th>pytorch_params</th>\n",
       "      <th>statsmodel_params</th>\n",
       "      <th>statsmodel_stderr</th>\n",
       "      <th>pytorch_stderr</th>\n",
       "    </tr>\n",
       "  </thead>\n",
       "  <tbody>\n",
       "    <tr>\n",
       "      <td>0</td>\n",
       "      <td>-0.006372</td>\n",
       "      <td>-0.427</td>\n",
       "      <td>-0.311</td>\n",
       "      <td>0.071</td>\n",
       "      <td>0.000500</td>\n",
       "    </tr>\n",
       "    <tr>\n",
       "      <td>1</td>\n",
       "      <td>-0.001193</td>\n",
       "      <td>0.274</td>\n",
       "      <td>0.223</td>\n",
       "      <td>0.049</td>\n",
       "      <td>0.000416</td>\n",
       "    </tr>\n",
       "    <tr>\n",
       "      <td>2</td>\n",
       "      <td>-0.005726</td>\n",
       "      <td>1.408</td>\n",
       "      <td>1.288</td>\n",
       "      <td>0.060</td>\n",
       "      <td>0.000488</td>\n",
       "    </tr>\n",
       "    <tr>\n",
       "      <td>3</td>\n",
       "      <td>-0.007879</td>\n",
       "      <td>-0.136</td>\n",
       "      <td>-0.109</td>\n",
       "      <td>0.027</td>\n",
       "      <td>0.000750</td>\n",
       "    </tr>\n",
       "  </tbody>\n",
       "</table>\n",
       "</div>"
      ],
      "text/plain": [
       "   pytorch_grads  pytorch_params  statsmodel_params statsmodel_stderr  \\\n",
       "0      -0.006372          -0.427             -0.311             0.071   \n",
       "1      -0.001193           0.274              0.223             0.049   \n",
       "2      -0.005726           1.408              1.288             0.060   \n",
       "3      -0.007879          -0.136             -0.109             0.027   \n",
       "\n",
       "   pytorch_stderr  \n",
       "0        0.000500  \n",
       "1        0.000416  \n",
       "2        0.000488  \n",
       "3        0.000750  "
      ]
     },
     "execution_count": 71,
     "metadata": {},
     "output_type": "execute_result"
    }
   ],
   "source": [
    "di_7 = dict(zip('pytorch_grads,pytorch_params,statsmodel_params,statsmodel_stderr'.split(','), [all_grads_7[-1,:], all_wts_bias_7[-1,:], result_2.params, statsm_df_2[\"std err\"].values]))\n",
    "di_7.update({'pytorch_stderr':pytorch_stderr_7})\n",
    "comp_df_7 = pd.DataFrame(di_7)\n",
    "comp_df_7['pytorch_params'] = comp_df_7['pytorch_params'].apply(lambda x:np.round(x,3))\n",
    "comp_df_7['statsmodel_params'] = comp_df_7['statsmodel_params'].apply(lambda x:np.round(x,3))\n",
    "comp_df_7"
   ]
  },
  {
   "cell_type": "markdown",
   "metadata": {},
   "source": [
    "_________________________"
   ]
  }
 ],
 "metadata": {
  "kernelspec": {
   "display_name": "Python 3",
   "language": "python",
   "name": "python3"
  },
  "language_info": {
   "codemirror_mode": {
    "name": "ipython",
    "version": 3
   },
   "file_extension": ".py",
   "mimetype": "text/x-python",
   "name": "python",
   "nbconvert_exporter": "python",
   "pygments_lexer": "ipython3",
   "version": "3.6.8"
  },
  "latex_envs": {
   "LaTeX_envs_menu_present": true,
   "autoclose": false,
   "autocomplete": true,
   "bibliofile": "biblio.bib",
   "cite_by": "apalike",
   "current_citInitial": 1,
   "eqLabelWithNumbers": true,
   "eqNumInitial": 1,
   "hotkeys": {
    "equation": "Ctrl-E",
    "itemize": "Ctrl-I"
   },
   "labels_anchors": false,
   "latex_user_defs": false,
   "report_style_numbering": false,
   "user_envs_cfg": false
  },
  "toc": {
   "base_numbering": 1,
   "nav_menu": {},
   "number_sections": true,
   "sideBar": true,
   "skip_h1_title": false,
   "title_cell": "Table of Contents",
   "title_sidebar": "Contents",
   "toc_cell": false,
   "toc_position": {},
   "toc_section_display": true,
   "toc_window_display": true
  }
 },
 "nbformat": 4,
 "nbformat_minor": 2
}
