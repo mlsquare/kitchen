{
 "cells": [
  {
   "cell_type": "markdown",
   "metadata": {},
   "source": [
    "* **Following pytorch model has one linear layer with `inputs`: 3 and `outputs`:1**"
   ]
  },
  {
   "cell_type": "code",
   "execution_count": 1,
   "metadata": {},
   "outputs": [],
   "source": [
    "import pandas as pd\n",
    "import numpy as np\n",
    "import torch\n",
    "import torch.nn as nn\n",
    "from torch.autograd import Variable\n",
    "import torch.nn.functional as F\n",
    "import torch.optim as optim\n",
    "import matplotlib.pyplot as plt\n",
    "\n",
    "def create_model():\n",
    "    class network(nn.Module):\n",
    "        def __init__(self):\n",
    "            super(network, self).__init__()\n",
    "            self.fc1 = nn.Linear(3, 1)#100)\n",
    "\n",
    "        def forward(self, X):\n",
    "            X = self.fc1(X)#F.linear(self.fc1(X))#, list(self.fc1.parameters())[0])\n",
    "            return X\n",
    "    model= network()\n",
    "    optimizer = optim.Adam(model.parameters())\n",
    "    criterion= nn.MSELoss()# CrossEntropyLoss()\n",
    "    return model, optimizer, criterion"
   ]
  },
  {
   "cell_type": "code",
   "execution_count": 2,
   "metadata": {},
   "outputs": [
    {
     "data": {
      "text/plain": [
       "network(\n",
       "  (fc1): Linear(in_features=3, out_features=1, bias=True)\n",
       ")"
      ]
     },
     "execution_count": 2,
     "metadata": {},
     "output_type": "execute_result"
    }
   ],
   "source": [
    "model2, optimizer2, loss2= create_model()\n",
    "model2"
   ]
  },
  {
   "cell_type": "markdown",
   "metadata": {},
   "source": [
    "* **Data preparation scheme:**\n",
    "\n",
    "        - Each record `X` cosist of first 3 values of 4 values\n",
    "          from iris dataset input features.\n",
    "        \n",
    "        - 4th value serve as taget label `y` ."
   ]
  },
  {
   "cell_type": "code",
   "execution_count": 3,
   "metadata": {},
   "outputs": [],
   "source": [
    "def scale(arr):\n",
    "    f= lambda x: (x-np.mean(x))/np.var(x)\n",
    "    for idx in range(arr.shape[1]):\n",
    "        arr[:,idx]= f(arr[:, idx])\n",
    "    #return arr\n",
    "def plot(v1):\n",
    "    plt.plot(v1)\n",
    "    #plt.plot(v2)\n",
    "    plt.title('Model training loss')\n",
    "    plt.xlabel('epoch')\n",
    "    plt.ylabel('loss')\n",
    "    #plt.legend(['train', 'validation'], loc='upper right')\n",
    "    return plt.show()"
   ]
  },
  {
   "cell_type": "markdown",
   "metadata": {},
   "source": [
    "* **Training & plots**"
   ]
  },
  {
   "cell_type": "code",
   "execution_count": 4,
   "metadata": {},
   "outputs": [
    {
     "name": "stdout",
     "output_type": "stream",
     "text": [
      "epoch:  0  loss:  2.2136988639831543\n",
      "epoch:  500  loss:  0.35722896456718445\n",
      "epoch:  1000  loss:  0.27405551075935364\n",
      "epoch:  1500  loss:  0.2487815022468567\n",
      "epoch:  2000  loss:  0.22110269963741302\n"
     ]
    },
    {
     "data": {
      "image/png": "[encoded data removed]",
      "text/plain": [
       "<Figure size 432x288 with 1 Axes>"
      ]
     },
     "metadata": {
      "needs_background": "light"
     },
     "output_type": "display_data"
    }
   ],
   "source": [
    "from sklearn.datasets import load_iris\n",
    "from sklearn.model_selection import train_test_split\n",
    "data = load_iris()\n",
    "X, Y = data.data, data.target\n",
    "\n",
    "X_train, X_test, y_train, y_test = train_test_split(X, Y, test_size= 0.3)\n",
    "scale(X)\n",
    "scale(X_test)\n",
    "\n",
    "trainx= Variable(torch.Tensor(X[:,:-1]).float(), requires_grad=True) #df.iloc[:, :-1].values).float()\n",
    "trainy = Variable(torch.reshape(torch.Tensor(X[:,-1]).float(), (-1,1)))\n",
    "\n",
    "#i_grads= np.empty(trainx.shape)\n",
    "wts_bias_progression= list()\n",
    "all_grads= list()\n",
    "losses= list()\n",
    "for epoch in range(2500):\n",
    "    optimizer2.zero_grad()\n",
    "    y_pred = model2(trainx)\n",
    "    #print(y_pred)\n",
    "    l = loss2(y_pred, trainy)\n",
    "    losses.append(l.item())\n",
    "    if epoch%500==0:\n",
    "        print('epoch: ', epoch, ' loss: ', l.item());\n",
    "    # perform a backward pass (backpropagation)\n",
    "    l.backward()\n",
    "    wts_bias = list(model2.parameters())\n",
    "    wts_bias_vals= torch.cat((wts_bias[0], torch.reshape(wts_bias[1], (-1,1))),1)\n",
    "    wts_bias_progression.append(wts_bias_vals.tolist())\n",
    "    \n",
    "    wts_bias_grads = torch.cat((wts_bias[0].grad, torch.reshape(wts_bias[1].grad, (-1,1))),1)\n",
    "    #i_grads= trainx.grad\n",
    "    all_grads.append(wts_bias_grads.tolist())#i_grads)\n",
    "    # Update the parameters\n",
    "    optimizer2.step()\n",
    "all_wts_bias = np.array(wts_bias_progression).reshape(-1,4)\n",
    "all_wts_bias_df= pd.DataFrame(all_wts_bias, columns=['weight_{}'.format(idx) for idx in range(1,4)]+ ['bias'])\n",
    "\n",
    "all_grads = np.array(all_grads).reshape(-1,4)\n",
    "all_grads_df= pd.DataFrame(all_grads, columns=['beta_{}'.format(idx) for idx in range(1,5)])\n",
    "plot(losses)"
   ]
  },
  {
   "cell_type": "markdown",
   "metadata": {},
   "source": [
    "* **Following are the weights and bias for the ONLY layer in model, after 128 epochs of training**"
   ]
  },
  {
   "cell_type": "code",
   "execution_count": 5,
   "metadata": {},
   "outputs": [
    {
     "data": {
      "text/plain": [
       "[Parameter containing:\n",
       " tensor([[ 0.3224, -0.0437,  1.3982]], requires_grad=True),\n",
       " Parameter containing:\n",
       " tensor([2.4044e-08], requires_grad=True)]"
      ]
     },
     "execution_count": 5,
     "metadata": {},
     "output_type": "execute_result"
    }
   ],
   "source": [
    "li = list(model2.parameters())\n",
    "li"
   ]
  },
  {
   "cell_type": "code",
   "execution_count": 6,
   "metadata": {},
   "outputs": [
    {
     "name": "stdout",
     "output_type": "stream",
     "text": [
      "Final weights gradients : tensor([[ 0.0451, -0.0229, -0.1013]])\n",
      "Final bias gradients: tensor([-1.3970e-09])\n"
     ]
    }
   ],
   "source": [
    "print('Final weights gradients : {}\\nFinal bias gradients: {}'.format(li[0].grad, li[1].grad))"
   ]
  },
  {
   "cell_type": "markdown",
   "metadata": {},
   "source": [
    "* **Following are gradients updated after each epochs**"
   ]
  },
  {
   "cell_type": "code",
   "execution_count": 7,
   "metadata": {
    "scrolled": false
   },
   "outputs": [
    {
     "data": {
      "text/html": [
       "<div>\n",
       "<style scoped>\n",
       "    .dataframe tbody tr th:only-of-type {\n",
       "        vertical-align: middle;\n",
       "    }\n",
       "\n",
       "    .dataframe tbody tr th {\n",
       "        vertical-align: top;\n",
       "    }\n",
       "\n",
       "    .dataframe thead th {\n",
       "        text-align: right;\n",
       "    }\n",
       "</style>\n",
       "<table border=\"1\" class=\"dataframe\">\n",
       "  <thead>\n",
       "    <tr style=\"text-align: right;\">\n",
       "      <th></th>\n",
       "      <th>beta_1</th>\n",
       "      <th>beta_2</th>\n",
       "      <th>beta_3</th>\n",
       "      <th>beta_4</th>\n",
       "    </tr>\n",
       "  </thead>\n",
       "  <tbody>\n",
       "    <tr>\n",
       "      <td>0</td>\n",
       "      <td>-1.926866</td>\n",
       "      <td>4.896433</td>\n",
       "      <td>-1.366645</td>\n",
       "      <td>1.002280e+00</td>\n",
       "    </tr>\n",
       "    <tr>\n",
       "      <td>1</td>\n",
       "      <td>-1.922073</td>\n",
       "      <td>4.884057</td>\n",
       "      <td>-1.363677</td>\n",
       "      <td>1.000280e+00</td>\n",
       "    </tr>\n",
       "    <tr>\n",
       "      <td>2</td>\n",
       "      <td>-1.917280</td>\n",
       "      <td>4.871684</td>\n",
       "      <td>-1.360710</td>\n",
       "      <td>9.982806e-01</td>\n",
       "    </tr>\n",
       "    <tr>\n",
       "      <td>3</td>\n",
       "      <td>-1.912489</td>\n",
       "      <td>4.859314</td>\n",
       "      <td>-1.357742</td>\n",
       "      <td>9.962806e-01</td>\n",
       "    </tr>\n",
       "    <tr>\n",
       "      <td>4</td>\n",
       "      <td>-1.907696</td>\n",
       "      <td>4.846944</td>\n",
       "      <td>-1.354775</td>\n",
       "      <td>9.942810e-01</td>\n",
       "    </tr>\n",
       "    <tr>\n",
       "      <td>...</td>\n",
       "      <td>...</td>\n",
       "      <td>...</td>\n",
       "      <td>...</td>\n",
       "      <td>...</td>\n",
       "    </tr>\n",
       "    <tr>\n",
       "      <td>2495</td>\n",
       "      <td>0.045148</td>\n",
       "      <td>-0.022961</td>\n",
       "      <td>-0.101453</td>\n",
       "      <td>-4.190952e-09</td>\n",
       "    </tr>\n",
       "    <tr>\n",
       "      <td>2496</td>\n",
       "      <td>0.045131</td>\n",
       "      <td>-0.022952</td>\n",
       "      <td>-0.101423</td>\n",
       "      <td>-7.916242e-09</td>\n",
       "    </tr>\n",
       "    <tr>\n",
       "      <td>2497</td>\n",
       "      <td>0.045113</td>\n",
       "      <td>-0.022942</td>\n",
       "      <td>-0.101392</td>\n",
       "      <td>-1.396984e-08</td>\n",
       "    </tr>\n",
       "    <tr>\n",
       "      <td>2498</td>\n",
       "      <td>0.045095</td>\n",
       "      <td>-0.022933</td>\n",
       "      <td>-0.101362</td>\n",
       "      <td>-2.188608e-08</td>\n",
       "    </tr>\n",
       "    <tr>\n",
       "      <td>2499</td>\n",
       "      <td>0.045077</td>\n",
       "      <td>-0.022924</td>\n",
       "      <td>-0.101332</td>\n",
       "      <td>-1.396984e-09</td>\n",
       "    </tr>\n",
       "  </tbody>\n",
       "</table>\n",
       "<p>2500 rows × 4 columns</p>\n",
       "</div>"
      ],
      "text/plain": [
       "        beta_1    beta_2    beta_3        beta_4\n",
       "0    -1.926866  4.896433 -1.366645  1.002280e+00\n",
       "1    -1.922073  4.884057 -1.363677  1.000280e+00\n",
       "2    -1.917280  4.871684 -1.360710  9.982806e-01\n",
       "3    -1.912489  4.859314 -1.357742  9.962806e-01\n",
       "4    -1.907696  4.846944 -1.354775  9.942810e-01\n",
       "...        ...       ...       ...           ...\n",
       "2495  0.045148 -0.022961 -0.101453 -4.190952e-09\n",
       "2496  0.045131 -0.022952 -0.101423 -7.916242e-09\n",
       "2497  0.045113 -0.022942 -0.101392 -1.396984e-08\n",
       "2498  0.045095 -0.022933 -0.101362 -2.188608e-08\n",
       "2499  0.045077 -0.022924 -0.101332 -1.396984e-09\n",
       "\n",
       "[2500 rows x 4 columns]"
      ]
     },
     "execution_count": 7,
     "metadata": {},
     "output_type": "execute_result"
    }
   ],
   "source": [
    "all_grads_df"
   ]
  },
  {
   "cell_type": "markdown",
   "metadata": {},
   "source": [
    "* **Following computes the values at gradients w.r.t all inputs `X`**"
   ]
  },
  {
   "cell_type": "code",
   "execution_count": 8,
   "metadata": {},
   "outputs": [
    {
     "data": {
      "text/plain": [
       "torch.Size([150, 3])"
      ]
     },
     "execution_count": 8,
     "metadata": {},
     "output_type": "execute_result"
    }
   ],
   "source": [
    "optimizer2.zero_grad()\n",
    "y_pred = model2(trainx)\n",
    "l = loss2(y_pred, trainy)\n",
    "l.backward()\n",
    "i_grads= trainx.grad\n",
    "#all_grads.append(i_grads)\n",
    "#grad w.r.t input dataset Could be computed for every epoch\n",
    "\n",
    "i_grads.shape"
   ]
  },
  {
   "cell_type": "code",
   "execution_count": 9,
   "metadata": {},
   "outputs": [
    {
     "data": {
      "text/html": [
       "<div>\n",
       "<style scoped>\n",
       "    .dataframe tbody tr th:only-of-type {\n",
       "        vertical-align: middle;\n",
       "    }\n",
       "\n",
       "    .dataframe tbody tr th {\n",
       "        vertical-align: top;\n",
       "    }\n",
       "\n",
       "    .dataframe thead th {\n",
       "        text-align: right;\n",
       "    }\n",
       "</style>\n",
       "<table border=\"1\" class=\"dataframe\">\n",
       "  <thead>\n",
       "    <tr style=\"text-align: right;\">\n",
       "      <th></th>\n",
       "      <th>beta_1</th>\n",
       "      <th>beta_2</th>\n",
       "      <th>beta_3</th>\n",
       "      <th>beta_4</th>\n",
       "    </tr>\n",
       "  </thead>\n",
       "  <tbody>\n",
       "    <tr>\n",
       "      <td>count</td>\n",
       "      <td>2500.000000</td>\n",
       "      <td>2500.000000</td>\n",
       "      <td>2500.000000</td>\n",
       "      <td>2.500000e+03</td>\n",
       "    </tr>\n",
       "    <tr>\n",
       "      <td>mean</td>\n",
       "      <td>-0.173180</td>\n",
       "      <td>0.518029</td>\n",
       "      <td>-0.272087</td>\n",
       "      <td>1.413400e-01</td>\n",
       "    </tr>\n",
       "    <tr>\n",
       "      <td>std</td>\n",
       "      <td>0.457527</td>\n",
       "      <td>1.118907</td>\n",
       "      <td>0.288525</td>\n",
       "      <td>2.475832e-01</td>\n",
       "    </tr>\n",
       "    <tr>\n",
       "      <td>min</td>\n",
       "      <td>-1.926866</td>\n",
       "      <td>-0.032954</td>\n",
       "      <td>-1.366645</td>\n",
       "      <td>-3.213063e-08</td>\n",
       "    </tr>\n",
       "    <tr>\n",
       "      <td>25%</td>\n",
       "      <td>-0.126813</td>\n",
       "      <td>-0.029535</td>\n",
       "      <td>-0.257419</td>\n",
       "      <td>2.733967e-05</td>\n",
       "    </tr>\n",
       "    <tr>\n",
       "      <td>50%</td>\n",
       "      <td>0.049262</td>\n",
       "      <td>-0.024432</td>\n",
       "      <td>-0.135102</td>\n",
       "      <td>5.846956e-03</td>\n",
       "    </tr>\n",
       "    <tr>\n",
       "      <td>75%</td>\n",
       "      <td>0.058001</td>\n",
       "      <td>0.360187</td>\n",
       "      <td>-0.119032</td>\n",
       "      <td>1.640907e-01</td>\n",
       "    </tr>\n",
       "    <tr>\n",
       "      <td>max</td>\n",
       "      <td>0.062475</td>\n",
       "      <td>4.896433</td>\n",
       "      <td>-0.101332</td>\n",
       "      <td>1.002280e+00</td>\n",
       "    </tr>\n",
       "  </tbody>\n",
       "</table>\n",
       "</div>"
      ],
      "text/plain": [
       "            beta_1       beta_2       beta_3        beta_4\n",
       "count  2500.000000  2500.000000  2500.000000  2.500000e+03\n",
       "mean     -0.173180     0.518029    -0.272087  1.413400e-01\n",
       "std       0.457527     1.118907     0.288525  2.475832e-01\n",
       "min      -1.926866    -0.032954    -1.366645 -3.213063e-08\n",
       "25%      -0.126813    -0.029535    -0.257419  2.733967e-05\n",
       "50%       0.049262    -0.024432    -0.135102  5.846956e-03\n",
       "75%       0.058001     0.360187    -0.119032  1.640907e-01\n",
       "max       0.062475     4.896433    -0.101332  1.002280e+00"
      ]
     },
     "execution_count": 9,
     "metadata": {},
     "output_type": "execute_result"
    }
   ],
   "source": [
    "all_grads_df.describe()"
   ]
  },
  {
   "cell_type": "markdown",
   "metadata": {},
   "source": [
    "* **Mean values for weight(Beta_1-3) and bias(beta_4) gradients**"
   ]
  },
  {
   "cell_type": "code",
   "execution_count": 10,
   "metadata": {},
   "outputs": [
    {
     "data": {
      "text/plain": [
       "beta_1   -0.173180\n",
       "beta_2    0.518029\n",
       "beta_3   -0.272087\n",
       "beta_4    0.141340\n",
       "Name: mean, dtype: float64"
      ]
     },
     "execution_count": 10,
     "metadata": {},
     "output_type": "execute_result"
    }
   ],
   "source": [
    "all_grads_df.describe().iloc[1]"
   ]
  },
  {
   "cell_type": "markdown",
   "metadata": {},
   "source": [
    "* **Evaluating same data with linear regression from statsmodel**"
   ]
  },
  {
   "cell_type": "code",
   "execution_count": 11,
   "metadata": {},
   "outputs": [],
   "source": [
    "import statsmodels.api as sm\n",
    "feats, targets= X[:,:-1], X[:,-1]\n",
    "feats= sm.add_constant(feats, prepend=False)"
   ]
  },
  {
   "cell_type": "code",
   "execution_count": 12,
   "metadata": {},
   "outputs": [
    {
     "name": "stdout",
     "output_type": "stream",
     "text": [
      "                            OLS Regression Results                            \n",
      "==============================================================================\n",
      "Dep. Variable:                      y   R-squared:                       0.938\n",
      "Model:                            OLS   Adj. R-squared:                  0.937\n",
      "Method:                 Least Squares   F-statistic:                     734.4\n",
      "Date:                Fri, 13 Mar 2020   Prob (F-statistic):           7.83e-88\n",
      "Time:                        13:11:37   Log-Likelihood:                -45.701\n",
      "No. Observations:                 150   AIC:                             99.40\n",
      "Df Residuals:                     146   BIC:                             111.4\n",
      "Df Model:                           3                                         \n",
      "Covariance Type:            nonrobust                                         \n",
      "==============================================================================\n",
      "                 coef    std err          t      P>|t|      [0.025      0.975]\n",
      "------------------------------------------------------------------------------\n",
      "x1            -0.2446      0.056     -4.363      0.000      -0.355      -0.134\n",
      "x2             0.0729      0.016      4.553      0.000       0.041       0.104\n",
      "x3             2.8110      0.131     21.399      0.000       2.551       3.071\n",
      "const       9.368e-17      0.027   3.45e-15      1.000      -0.054       0.054\n",
      "==============================================================================\n",
      "Omnibus:                        5.609   Durbin-Watson:                   1.573\n",
      "Prob(Omnibus):                  0.061   Jarque-Bera (JB):                6.811\n",
      "Skew:                           0.223   Prob(JB):                       0.0332\n",
      "Kurtosis:                       3.944   Cond. No.                         12.1\n",
      "==============================================================================\n",
      "\n",
      "Warnings:\n",
      "[1] Standard Errors assume that the covariance matrix of the errors is correctly specified.\n"
     ]
    }
   ],
   "source": [
    "model = sm.OLS(targets, feats, hasconst=True)\n",
    "result= model.fit()\n",
    "print(result.summary())"
   ]
  },
  {
   "cell_type": "markdown",
   "metadata": {},
   "source": [
    "* **Weights and biases from modelstats regression model**"
   ]
  },
  {
   "cell_type": "code",
   "execution_count": 13,
   "metadata": {
    "scrolled": true
   },
   "outputs": [
    {
     "data": {
      "text/plain": [
       "array([-2.44611824e-01,  7.28612405e-02,  2.81096557e+00,  9.36750677e-17])"
      ]
     },
     "execution_count": 13,
     "metadata": {},
     "output_type": "execute_result"
    }
   ],
   "source": [
    "result.params"
   ]
  },
  {
   "cell_type": "markdown",
   "metadata": {},
   "source": [
    "* **pytorch_params vs. statsmodel_params**"
   ]
  },
  {
   "cell_type": "code",
   "execution_count": 14,
   "metadata": {},
   "outputs": [
    {
     "data": {
      "text/plain": [
       "{'pytorch_grads': array([ 4.50774767e-02, -2.29236912e-02, -1.01331778e-01, -1.39698386e-09]),\n",
       " 'pytorch_params': array([ 3.22605878e-01, -4.36984897e-02,  1.39773619e+00,  2.40397853e-08]),\n",
       " 'statsmodel_params': array([-2.44611824e-01,  7.28612405e-02,  2.81096557e+00,  9.36750677e-17])}"
      ]
     },
     "execution_count": 14,
     "metadata": {},
     "output_type": "execute_result"
    }
   ],
   "source": [
    "di = dict(zip('pytorch_grads,pytorch_params,statsmodel_params'.split(','), [all_grads[-1,:], all_wts_bias[-1,:], result.params]))#all_grads\n",
    "di"
   ]
  },
  {
   "cell_type": "code",
   "execution_count": 15,
   "metadata": {},
   "outputs": [
    {
     "data": {
      "text/html": [
       "<div>\n",
       "<style scoped>\n",
       "    .dataframe tbody tr th:only-of-type {\n",
       "        vertical-align: middle;\n",
       "    }\n",
       "\n",
       "    .dataframe tbody tr th {\n",
       "        vertical-align: top;\n",
       "    }\n",
       "\n",
       "    .dataframe thead th {\n",
       "        text-align: right;\n",
       "    }\n",
       "</style>\n",
       "<table border=\"1\" class=\"dataframe\">\n",
       "  <thead>\n",
       "    <tr style=\"text-align: right;\">\n",
       "      <th></th>\n",
       "      <th>pytorch_grads</th>\n",
       "      <th>pytorch_params</th>\n",
       "      <th>statsmodel_params</th>\n",
       "    </tr>\n",
       "  </thead>\n",
       "  <tbody>\n",
       "    <tr>\n",
       "      <td>0</td>\n",
       "      <td>4.507748e-02</td>\n",
       "      <td>3.226059e-01</td>\n",
       "      <td>-2.446118e-01</td>\n",
       "    </tr>\n",
       "    <tr>\n",
       "      <td>1</td>\n",
       "      <td>-2.292369e-02</td>\n",
       "      <td>-4.369849e-02</td>\n",
       "      <td>7.286124e-02</td>\n",
       "    </tr>\n",
       "    <tr>\n",
       "      <td>2</td>\n",
       "      <td>-1.013318e-01</td>\n",
       "      <td>1.397736e+00</td>\n",
       "      <td>2.810966e+00</td>\n",
       "    </tr>\n",
       "    <tr>\n",
       "      <td>3</td>\n",
       "      <td>-1.396984e-09</td>\n",
       "      <td>2.403979e-08</td>\n",
       "      <td>9.367507e-17</td>\n",
       "    </tr>\n",
       "  </tbody>\n",
       "</table>\n",
       "</div>"
      ],
      "text/plain": [
       "   pytorch_grads  pytorch_params  statsmodel_params\n",
       "0   4.507748e-02    3.226059e-01      -2.446118e-01\n",
       "1  -2.292369e-02   -4.369849e-02       7.286124e-02\n",
       "2  -1.013318e-01    1.397736e+00       2.810966e+00\n",
       "3  -1.396984e-09    2.403979e-08       9.367507e-17"
      ]
     },
     "execution_count": 15,
     "metadata": {},
     "output_type": "execute_result"
    }
   ],
   "source": [
    "comp_df = pd.DataFrame(di)\n",
    "comp_df"
   ]
  },
  {
   "cell_type": "markdown",
   "metadata": {},
   "source": [
    "* **Plots**"
   ]
  },
  {
   "cell_type": "code",
   "execution_count": 16,
   "metadata": {},
   "outputs": [],
   "source": [
    "def scatter_plot(x, y, x_label, y_label):\n",
    "    fig = plt.figure()\n",
    "    ax = fig.add_subplot(1, 1, 1)\n",
    "    min_x = min(list(x)+list(y)) - 0.5\n",
    "    max_x = max(list(x)+list(y)) + 0.5\n",
    "    ax.plot([min_x, max_x], [min_x, max_x])\n",
    "    \n",
    "    ax.set_xlim([min_x, max_x])\n",
    "    ax.set_ylim([min_x, max_x])\n",
    "    \n",
    "    ax.set_title('{} vs. {} correlation scatterplot'.format(x_label, y_label))\n",
    "    ax.scatter(x, y, c=\"red\")\n",
    "    plt.ylabel(y_label)\n",
    "    plt.xlabel(x_label)\n",
    "    plt.show()\n",
    "    \n",
    "def hexbin_plot(x, y, x_label, y_label):\n",
    "    fig = plt.figure()\n",
    "    ax = fig.add_subplot(1, 1, 1)\n",
    "    min_x = min(list(x)+list(y)) - 0.1\n",
    "    max_x = max(list(x)+list(y)) + 0.1\n",
    "    ax.plot([min_x, max_x], [min_x, max_x])\n",
    "    \n",
    "    ax.set_xlim([min_x, max_x])\n",
    "    ax.set_ylim([min_x, max_x])\n",
    "    \n",
    "    ax.set_title('{} vs. {} correlation scatterplot'.format(x_label, y_label))\n",
    "    hbin= ax.hexbin(x, y, gridsize=25, mincnt=2)\n",
    "    cb = fig.colorbar(hbin, ax=ax)\n",
    "    cb.set_label('occurence_density')\n",
    "    plt.ylabel(y_label)\n",
    "    plt.xlabel(x_label)\n",
    "    plt.show()"
   ]
  },
  {
   "cell_type": "code",
   "execution_count": 17,
   "metadata": {
    "scrolled": true
   },
   "outputs": [],
   "source": [
    "##Re-Scaling\n",
    "#from sklearn.linear_model import LinearRegression\n",
    "#clf= LinearRegression()\n",
    "#clf.fit(comp_df['pytorch_params'].values.reshape(-1,1), comp_df['statsmodel_params'].values.reshape(-1,1))\n",
    "#n1= clf.predict(comp_df['pytorch_params'].values.reshape(-1,1))\n",
    "#n2= clf.predict(comp_df['statsmodel_params'].values.reshape(-1,1))"
   ]
  },
  {
   "cell_type": "code",
   "execution_count": 18,
   "metadata": {},
   "outputs": [
    {
     "data": {
      "image/png": "[encoded data removed]",
      "text/plain": [
       "<Figure size 432x288 with 2 Axes>"
      ]
     },
     "metadata": {
      "needs_background": "light"
     },
     "output_type": "display_data"
    }
   ],
   "source": [
    "#Plot with trained cases. When predictions are calculated of train_data\n",
    "predictions= model2(torch.Tensor(X[:,:-1]).float())\n",
    "predictions= torch.Tensor.cpu(predictions).detach().numpy().reshape(-1,)\n",
    "observed= X[:,-1]\n",
    "\n",
    "\n",
    "hexbin_plot(predictions,observed, 'prediction' ,'observed')"
   ]
  },
  {
   "cell_type": "code",
   "execution_count": 19,
   "metadata": {},
   "outputs": [
    {
     "data": {
      "image/png": "[encoded data removed]",
      "text/plain": [
       "<Figure size 432x288 with 1 Axes>"
      ]
     },
     "metadata": {
      "needs_background": "light"
     },
     "output_type": "display_data"
    }
   ],
   "source": [
    "scatter_plot(comp_df['pytorch_params'].values,comp_df['statsmodel_params'].values, 'pytorch params' ,'statsmodel params')#n1,n2, 'abc','bcd')"
   ]
  },
  {
   "cell_type": "code",
   "execution_count": 20,
   "metadata": {},
   "outputs": [
    {
     "data": {
      "image/png": "[encoded data removed]",
      "text/plain": [
       "<Figure size 432x288 with 2 Axes>"
      ]
     },
     "metadata": {
      "needs_background": "light"
     },
     "output_type": "display_data"
    }
   ],
   "source": [
    "#Plot with unforseen cases. When predictions are calculated of test_data\n",
    "predictions_2= model2(torch.Tensor(X_test[:,:-1]).float())\n",
    "predictions_2= torch.Tensor.cpu(predictions_2).detach().numpy().reshape(-1,)\n",
    "observed_2= X_test[:,-1]\n",
    "\n",
    "\n",
    "hexbin_plot(predictions_2,observed_2, 'prediction' ,'observed')"
   ]
  },
  {
   "cell_type": "markdown",
   "metadata": {},
   "source": [
    "______________________"
   ]
  },
  {
   "cell_type": "code",
   "execution_count": null,
   "metadata": {},
   "outputs": [],
   "source": [
    "#def model():\n",
    "#    class network(nn.Module):\n",
    "#        def __init__(self):\n",
    "#            super(network, self).__init__()\n",
    "#            self.fc1 = nn.Linear(4, 100)\n",
    "#            self.fc2 = nn.Linear(100, 100)\n",
    "#            self.fc3 = nn.Linear(100, 3)\n",
    "#            self.softmax = nn.Softmax(dim=1)\n",
    "#\n",
    "#        def forward(self, X):\n",
    "#            X = F.relu(self.fc1(X))\n",
    "#           X = self.fc2(X)\n",
    "#            X = self.fc3(X)\n",
    "#            X = self.softmax(X)\n",
    "#            return X\n",
    "#    model= network()\n",
    "#    optimizer = optim.Adam(model.parameters())\n",
    "#    criterion= nn.CrossEntropyLoss()\n",
    "#    return model, optimizer, criterion"
   ]
  }
 ],
 "metadata": {
  "kernelspec": {
   "display_name": "Python 3",
   "language": "python",
   "name": "python3"
  },
  "language_info": {
   "codemirror_mode": {
    "name": "ipython",
    "version": 3
   },
   "file_extension": ".py",
   "mimetype": "text/x-python",
   "name": "python",
   "nbconvert_exporter": "python",
   "pygments_lexer": "ipython3",
   "version": "3.6.8"
  },
  "latex_envs": {
   "LaTeX_envs_menu_present": true,
   "autoclose": false,
   "autocomplete": true,
   "bibliofile": "biblio.bib",
   "cite_by": "apalike",
   "current_citInitial": 1,
   "eqLabelWithNumbers": true,
   "eqNumInitial": 1,
   "hotkeys": {
    "equation": "Ctrl-E",
    "itemize": "Ctrl-I"
   },
   "labels_anchors": false,
   "latex_user_defs": false,
   "report_style_numbering": false,
   "user_envs_cfg": false
  },
  "toc": {
   "base_numbering": 1,
   "nav_menu": {},
   "number_sections": true,
   "sideBar": true,
   "skip_h1_title": false,
   "title_cell": "Table of Contents",
   "title_sidebar": "Contents",
   "toc_cell": false,
   "toc_position": {},
   "toc_section_display": true,
   "toc_window_display": false
  }
 },
 "nbformat": 4,
 "nbformat_minor": 2
}
