{
 "cells": [
  {
   "cell_type": "code",
   "execution_count": 5,
   "metadata": {},
   "outputs": [
    {
     "name": "stdout",
     "output_type": "stream",
     "text": [
      "Collecting pyro-ppl==1.3.0\n",
      "  Downloading pyro_ppl-1.3.0-py3-none-any.whl (495 kB)\n",
      "\u001b[K     |████████████████████████████████| 495 kB 658 kB/s eta 0:00:01\n",
      "\u001b[?25hRequirement already satisfied: numpy>=1.7 in /home/kev/Desktop/pyvirtual2/lib/python3.6/site-packages/numpy-1.17.3-py3.6-linux-x86_64.egg (from pyro-ppl==1.3.0) (1.17.3)\n",
      "Requirement already satisfied: opt-einsum>=2.3.2 in /home/kev/Desktop/pyvirtual2/lib/python3.6/site-packages (from pyro-ppl==1.3.0) (3.1.0)\n",
      "Requirement already satisfied: tqdm>=4.36 in /home/kev/Desktop/pyvirtual2/lib/python3.6/site-packages (from pyro-ppl==1.3.0) (4.41.1)\n",
      "Requirement already satisfied: pyro-api>=0.1.1 in /home/kev/Desktop/pyvirtual2/lib/python3.6/site-packages (from pyro-ppl==1.3.0) (0.1.1)\n",
      "Requirement already satisfied: torch>=1.4.0 in /home/kev/Desktop/pyvirtual2/lib/python3.6/site-packages (from pyro-ppl==1.3.0) (1.4.0+cpu)\n",
      "Installing collected packages: pyro-ppl\n",
      "  Attempting uninstall: pyro-ppl\n",
      "    Found existing installation: pyro-ppl 1.3.1\n",
      "    Uninstalling pyro-ppl-1.3.1:\n",
      "      Successfully uninstalled pyro-ppl-1.3.1\n",
      "Successfully installed pyro-ppl-1.3.0\n"
     ]
    }
   ],
   "source": [
    "!pip install pyro-ppl==1.3.0"
   ]
  },
  {
   "cell_type": "markdown",
   "metadata": {},
   "source": [
    "### Contrasting Pyro HMC Vs. statsmodel results\n",
    "**For a regression model trained on country topographical rugged index and GDP data.**\n",
    "\n",
    "#### A. Pyro model training & HMC sampling"
   ]
  },
  {
   "cell_type": "code",
   "execution_count": 1,
   "metadata": {},
   "outputs": [],
   "source": [
    "import os\n",
    "\n",
    "import torch\n",
    "import matplotlib.pyplot as plt\n",
    "import numpy as np\n",
    "import pandas as pd\n",
    "from torch.distributions import constraints\n",
    "\n",
    "import pyro\n",
    "import pyro.distributions as dist\n",
    "import pyro.optim as optim\n",
    "\n",
    "DATA_URL = \"https://d2hg8soec8ck9v.cloudfront.net/datasets/rugged_data.csv\"\n",
    "rugged_data = pd.read_csv(DATA_URL, encoding=\"ISO-8859-1\")"
   ]
  },
  {
   "cell_type": "markdown",
   "metadata": {},
   "source": [
    "* **Define pyro model and guide:**\n",
    "    * Priors are deined in model function for intercept `b`, feature 1 `b_a`, feature 2 `b_r`, feature 3 `b_ar`\n",
    "    * mean is the expresion `f(feat1, feat2, feat3, b)`"
   ]
  },
  {
   "cell_type": "code",
   "execution_count": 2,
   "metadata": {},
   "outputs": [],
   "source": [
    "def model(is_cont_africa, ruggedness, log_gdp):\n",
    "    b = pyro.sample(\"bias\", dist.Normal(0., 10.))\n",
    "    b_a = pyro.sample(\"feat_1\", dist.Normal(0., 1.))\n",
    "    b_r = pyro.sample(\"feat_2\", dist.Normal(0., 1.))\n",
    "    b_ar = pyro.sample(\"feat_3\", dist.Normal(0., 1.))\n",
    "    sigma = pyro.sample(\"sigma\", dist.Uniform(0., 10.))\n",
    "    mean = b + b_a * is_cont_africa + b_r * ruggedness + b_ar * is_cont_africa * ruggedness\n",
    "    with pyro.plate(\"data\", len(ruggedness)):\n",
    "        pyro.sample(\"obs\", dist.Normal(mean, sigma), obs=log_gdp)"
   ]
  },
  {
   "cell_type": "code",
   "execution_count": null,
   "metadata": {},
   "outputs": [],
   "source": [
    "def guide(is_cont_africa, ruggedness, log_gdp):\n",
    "    b_loc = pyro.param('bias_loc', torch.tensor(0.))\n",
    "    b_scale = pyro.param('bias_scale', torch.tensor(1.),\n",
    "                         constraint=constraints.positive)\n",
    "    sigma_loc = pyro.param('sigma_loc', torch.tensor(1.),\n",
    "                             constraint=constraints.positive)\n",
    "    weights_loc = pyro.param('weights_loc', torch.randn(3))\n",
    "    weights_scale = pyro.param('weights_scale', torch.ones(3),\n",
    "                               constraint=constraints.positive)\n",
    "    b = pyro.sample(\"bias\", dist.Normal(b_loc, b_scale))\n",
    "    b_a = pyro.sample(\"feat_1\", dist.Normal(weights_loc[0], weights_scale[0]))\n",
    "    b_r = pyro.sample(\"feat_2\", dist.Normal(weights_loc[1], weights_scale[1]))\n",
    "    b_ar = pyro.sample(\"feat_3\", dist.Normal(weights_loc[2], weights_scale[2]))\n",
    "    sigma = pyro.sample(\"sigma\", dist.Normal(sigma_loc, torch.tensor(0.05)))\n",
    "    mean = a + b_a * is_cont_africa + b_r * ruggedness + b_ar * is_cont_africa * ruggedness"
   ]
  },
  {
   "cell_type": "markdown",
   "metadata": {},
   "source": [
    "* **Loading data**"
   ]
  },
  {
   "cell_type": "code",
   "execution_count": 3,
   "metadata": {},
   "outputs": [],
   "source": [
    "# Prepare training data\n",
    "df = rugged_data[[\"cont_africa\", \"rugged\", \"rgdppc_2000\"]]\n",
    "df = df[np.isfinite(df.rgdppc_2000)]\n",
    "df[\"rgdppc_2000\"] = np.log(df[\"rgdppc_2000\"])\n",
    "train = torch.tensor(df.values, dtype=torch.float)\n",
    "\n",
    "is_cont_africa, ruggedness, log_gdp = train[:, 0], train[:, 1], train[:, 2]"
   ]
  },
  {
   "cell_type": "markdown",
   "metadata": {},
   "source": [
    "* **HMC Sampling**"
   ]
  },
  {
   "cell_type": "code",
   "execution_count": 4,
   "metadata": {},
   "outputs": [
    {
     "name": "stderr",
     "output_type": "stream",
     "text": [
      "Sample: 100%|██████████| 1200/1200 [00:32, 36.52it/s, step size=3.66e-01, acc. prob=0.945]\n"
     ]
    }
   ],
   "source": [
    "from pyro.infer import MCMC, NUTS\n",
    "\n",
    "nuts_kernel = NUTS(model)\n",
    "\n",
    "mcmc = MCMC(nuts_kernel, num_samples=1000, warmup_steps=200)\n",
    "mcmc.run(is_cont_africa, ruggedness, log_gdp)\n",
    "\n",
    "hmc_samples = {k: v.detach().cpu().numpy() for k, v in mcmc.get_samples().items()}\n"
   ]
  },
  {
   "cell_type": "markdown",
   "metadata": {},
   "source": [
    "* **Summary of hmc samples**"
   ]
  },
  {
   "cell_type": "code",
   "execution_count": 5,
   "metadata": {},
   "outputs": [
    {
     "data": {
      "text/html": [
       "<div>\n",
       "<style scoped>\n",
       "    .dataframe tbody tr th:only-of-type {\n",
       "        vertical-align: middle;\n",
       "    }\n",
       "\n",
       "    .dataframe tbody tr th {\n",
       "        vertical-align: top;\n",
       "    }\n",
       "\n",
       "    .dataframe thead th {\n",
       "        text-align: right;\n",
       "    }\n",
       "</style>\n",
       "<table border=\"1\" class=\"dataframe\">\n",
       "  <thead>\n",
       "    <tr style=\"text-align: right;\">\n",
       "      <th></th>\n",
       "      <th>mean</th>\n",
       "      <th>std</th>\n",
       "      <th>5%</th>\n",
       "      <th>25%</th>\n",
       "      <th>50%</th>\n",
       "      <th>75%</th>\n",
       "      <th>95%</th>\n",
       "    </tr>\n",
       "  </thead>\n",
       "  <tbody>\n",
       "    <tr>\n",
       "      <td>bias</td>\n",
       "      <td>9.183471</td>\n",
       "      <td>0.134134</td>\n",
       "      <td>8.955453</td>\n",
       "      <td>9.091243</td>\n",
       "      <td>9.186186</td>\n",
       "      <td>9.268926</td>\n",
       "      <td>9.415138</td>\n",
       "    </tr>\n",
       "    <tr>\n",
       "      <td>feat_1</td>\n",
       "      <td>-1.846470</td>\n",
       "      <td>0.220783</td>\n",
       "      <td>-2.209519</td>\n",
       "      <td>-1.986917</td>\n",
       "      <td>-1.844962</td>\n",
       "      <td>-1.690313</td>\n",
       "      <td>-1.492916</td>\n",
       "    </tr>\n",
       "    <tr>\n",
       "      <td>feat_2</td>\n",
       "      <td>-0.185189</td>\n",
       "      <td>0.074806</td>\n",
       "      <td>-0.316412</td>\n",
       "      <td>-0.234034</td>\n",
       "      <td>-0.181285</td>\n",
       "      <td>-0.133148</td>\n",
       "      <td>-0.063197</td>\n",
       "    </tr>\n",
       "    <tr>\n",
       "      <td>feat_3</td>\n",
       "      <td>0.351885</td>\n",
       "      <td>0.127043</td>\n",
       "      <td>0.143173</td>\n",
       "      <td>0.266875</td>\n",
       "      <td>0.354971</td>\n",
       "      <td>0.439539</td>\n",
       "      <td>0.552472</td>\n",
       "    </tr>\n",
       "    <tr>\n",
       "      <td>sigma</td>\n",
       "      <td>0.948347</td>\n",
       "      <td>0.049657</td>\n",
       "      <td>0.873508</td>\n",
       "      <td>0.913886</td>\n",
       "      <td>0.946328</td>\n",
       "      <td>0.979219</td>\n",
       "      <td>1.031998</td>\n",
       "    </tr>\n",
       "  </tbody>\n",
       "</table>\n",
       "</div>"
      ],
      "text/plain": [
       "            mean       std        5%       25%       50%       75%       95%\n",
       "bias    9.183471  0.134134  8.955453  9.091243  9.186186  9.268926  9.415138\n",
       "feat_1 -1.846470  0.220783 -2.209519 -1.986917 -1.844962 -1.690313 -1.492916\n",
       "feat_2 -0.185189  0.074806 -0.316412 -0.234034 -0.181285 -0.133148 -0.063197\n",
       "feat_3  0.351885  0.127043  0.143173  0.266875  0.354971  0.439539  0.552472\n",
       "sigma   0.948347  0.049657  0.873508  0.913886  0.946328  0.979219  1.031998"
      ]
     },
     "execution_count": 5,
     "metadata": {},
     "output_type": "execute_result"
    }
   ],
   "source": [
    "# Utility function to print latent sites' quantile information.\n",
    "def summary(samples):\n",
    "    site_stats = {}\n",
    "    for site_name, values in samples.items():\n",
    "        marginal_site = pd.DataFrame(values)\n",
    "        describe = marginal_site.describe(percentiles=[.05, 0.25, 0.5, 0.75, 0.95]).transpose()\n",
    "        site_stats[site_name] = describe[[\"mean\", \"std\", \"5%\", \"25%\", \"50%\", \"75%\", \"95%\"]]\n",
    "    return site_stats\n",
    "\n",
    "hmc_df= pd.DataFrame()\n",
    "for key in summary(hmc_samples).keys():\n",
    "    temp = summary(hmc_samples)[key]\n",
    "    temp.index= [key]\n",
    "    hmc_df= pd.concat([hmc_df, temp])\n",
    "\n",
    "hmc_df"
   ]
  },
  {
   "cell_type": "markdown",
   "metadata": {},
   "source": [
    "#### B. Statsmodel training"
   ]
  },
  {
   "cell_type": "markdown",
   "metadata": {},
   "source": [
    "**Defining feature_3 for statsmodel**\n",
    "* For statsmodel training, there are 3 features (`cont_africa`,`rugged`,`cont_africa_x_rugged`), 1 bias and 1 target label `rgdppc_2000`(GDP_per_capita)"
   ]
  },
  {
   "cell_type": "code",
   "execution_count": 6,
   "metadata": {
    "scrolled": true
   },
   "outputs": [
    {
     "data": {
      "text/html": [
       "<div>\n",
       "<style scoped>\n",
       "    .dataframe tbody tr th:only-of-type {\n",
       "        vertical-align: middle;\n",
       "    }\n",
       "\n",
       "    .dataframe tbody tr th {\n",
       "        vertical-align: top;\n",
       "    }\n",
       "\n",
       "    .dataframe thead th {\n",
       "        text-align: right;\n",
       "    }\n",
       "</style>\n",
       "<table border=\"1\" class=\"dataframe\">\n",
       "  <thead>\n",
       "    <tr style=\"text-align: right;\">\n",
       "      <th></th>\n",
       "      <th>cont_africa</th>\n",
       "      <th>rugged</th>\n",
       "      <th>rgdppc_2000</th>\n",
       "      <th>cont_africa_x_rugged</th>\n",
       "    </tr>\n",
       "  </thead>\n",
       "  <tbody>\n",
       "    <tr>\n",
       "      <td>2</td>\n",
       "      <td>1</td>\n",
       "      <td>0.858</td>\n",
       "      <td>7.492609</td>\n",
       "      <td>0.858</td>\n",
       "    </tr>\n",
       "    <tr>\n",
       "      <td>4</td>\n",
       "      <td>0</td>\n",
       "      <td>3.427</td>\n",
       "      <td>8.216929</td>\n",
       "      <td>0.000</td>\n",
       "    </tr>\n",
       "    <tr>\n",
       "      <td>7</td>\n",
       "      <td>0</td>\n",
       "      <td>0.769</td>\n",
       "      <td>9.933263</td>\n",
       "      <td>0.000</td>\n",
       "    </tr>\n",
       "  </tbody>\n",
       "</table>\n",
       "</div>"
      ],
      "text/plain": [
       "   cont_africa  rugged  rgdppc_2000  cont_africa_x_rugged\n",
       "2            1   0.858     7.492609                 0.858\n",
       "4            0   3.427     8.216929                 0.000\n",
       "7            0   0.769     9.933263                 0.000"
      ]
     },
     "execution_count": 6,
     "metadata": {},
     "output_type": "execute_result"
    }
   ],
   "source": [
    "df[\"cont_africa_x_rugged\"] = df[\"cont_africa\"] * df[\"rugged\"]\n",
    "df.head(3)"
   ]
  },
  {
   "cell_type": "code",
   "execution_count": 7,
   "metadata": {},
   "outputs": [],
   "source": [
    "import statsmodels.api as sm\n",
    "feats, targets= df[['cont_africa', 'rugged', 'cont_africa_x_rugged']].values, df['rgdppc_2000'].values\n",
    "feats= sm.add_constant(feats, prepend=False)"
   ]
  },
  {
   "cell_type": "code",
   "execution_count": 8,
   "metadata": {},
   "outputs": [
    {
     "name": "stdout",
     "output_type": "stream",
     "text": [
      "                            OLS Regression Results                            \n",
      "==============================================================================\n",
      "Dep. Variable:                      y   R-squared:                       0.357\n",
      "Model:                            OLS   Adj. R-squared:                  0.345\n",
      "Method:                 Least Squares   F-statistic:                     30.71\n",
      "Date:                Mon, 20 Apr 2020   Prob (F-statistic):           7.60e-16\n",
      "Time:                        17:24:13   Log-Likelihood:                -229.37\n",
      "No. Observations:                 170   AIC:                             466.7\n",
      "Df Residuals:                     166   BIC:                             479.3\n",
      "Df Model:                           3                                         \n",
      "Covariance Type:            nonrobust                                         \n",
      "==============================================================================\n",
      "                 coef    std err          t      P>|t|      [0.025      0.975]\n",
      "------------------------------------------------------------------------------\n",
      "x1            -1.9480      0.227     -8.572      0.000      -2.397      -1.499\n",
      "x2            -0.2029      0.077     -2.621      0.010      -0.356      -0.050\n",
      "x3             0.3934      0.132      2.989      0.003       0.134       0.653\n",
      "const          9.2232      0.140     66.044      0.000       8.948       9.499\n",
      "==============================================================================\n",
      "Omnibus:                       10.107   Durbin-Watson:                   1.978\n",
      "Prob(Omnibus):                  0.006   Jarque-Bera (JB):                5.025\n",
      "Skew:                           0.192   Prob(JB):                       0.0810\n",
      "Kurtosis:                       2.251   Cond. No.                         7.54\n",
      "==============================================================================\n",
      "\n",
      "Warnings:\n",
      "[1] Standard Errors assume that the covariance matrix of the errors is correctly specified.\n"
     ]
    }
   ],
   "source": [
    "model_stm = sm.OLS(targets, feats, hasconst=True)\n",
    "result= model_stm.fit(disp=0)\n",
    "print(result.summary())"
   ]
  },
  {
   "cell_type": "markdown",
   "metadata": {},
   "source": [
    "* **Summary of statsmodel result**"
   ]
  },
  {
   "cell_type": "code",
   "execution_count": 9,
   "metadata": {},
   "outputs": [
    {
     "data": {
      "text/html": [
       "<div>\n",
       "<style scoped>\n",
       "    .dataframe tbody tr th:only-of-type {\n",
       "        vertical-align: middle;\n",
       "    }\n",
       "\n",
       "    .dataframe tbody tr th {\n",
       "        vertical-align: top;\n",
       "    }\n",
       "\n",
       "    .dataframe thead th {\n",
       "        text-align: right;\n",
       "    }\n",
       "</style>\n",
       "<table border=\"1\" class=\"dataframe\">\n",
       "  <thead>\n",
       "    <tr style=\"text-align: right;\">\n",
       "      <th></th>\n",
       "      <th></th>\n",
       "      <th>coef</th>\n",
       "      <th>std err</th>\n",
       "      <th>t</th>\n",
       "      <th>P&gt;|t|</th>\n",
       "      <th>[0.025</th>\n",
       "      <th>0.975]</th>\n",
       "    </tr>\n",
       "  </thead>\n",
       "  <tbody>\n",
       "    <tr>\n",
       "      <td>0</td>\n",
       "      <td>x1</td>\n",
       "      <td>-1.9480</td>\n",
       "      <td>0.227</td>\n",
       "      <td>-8.572</td>\n",
       "      <td>0.000</td>\n",
       "      <td>-2.397</td>\n",
       "      <td>-1.499</td>\n",
       "    </tr>\n",
       "    <tr>\n",
       "      <td>1</td>\n",
       "      <td>x2</td>\n",
       "      <td>-0.2029</td>\n",
       "      <td>0.077</td>\n",
       "      <td>-2.621</td>\n",
       "      <td>0.010</td>\n",
       "      <td>-0.356</td>\n",
       "      <td>-0.050</td>\n",
       "    </tr>\n",
       "    <tr>\n",
       "      <td>2</td>\n",
       "      <td>x3</td>\n",
       "      <td>0.3934</td>\n",
       "      <td>0.132</td>\n",
       "      <td>2.989</td>\n",
       "      <td>0.003</td>\n",
       "      <td>0.134</td>\n",
       "      <td>0.653</td>\n",
       "    </tr>\n",
       "    <tr>\n",
       "      <td>3</td>\n",
       "      <td>const</td>\n",
       "      <td>9.2232</td>\n",
       "      <td>0.140</td>\n",
       "      <td>66.044</td>\n",
       "      <td>0.000</td>\n",
       "      <td>8.948</td>\n",
       "      <td>9.499</td>\n",
       "    </tr>\n",
       "  </tbody>\n",
       "</table>\n",
       "</div>"
      ],
      "text/plain": [
       "                coef    std err          t   P>|t|     [0.025     0.975]\n",
       "0     x1     -1.9480      0.227     -8.572   0.000     -2.397     -1.499\n",
       "1     x2     -0.2029      0.077     -2.621   0.010     -0.356     -0.050\n",
       "2     x3      0.3934      0.132      2.989   0.003      0.134      0.653\n",
       "3  const      9.2232      0.140     66.044   0.000      8.948      9.499"
      ]
     },
     "execution_count": 9,
     "metadata": {},
     "output_type": "execute_result"
    }
   ],
   "source": [
    "stats_summary= result.summary()\n",
    "statsm_df = pd.DataFrame(stats_summary.tables[1].data[1:], columns=stats_summary.tables[1].data[0])\n",
    "statsm_df"
   ]
  },
  {
   "cell_type": "markdown",
   "metadata": {},
   "source": [
    "#### Contrasting resulst from HMC sampling and Statsmodel training"
   ]
  },
  {
   "cell_type": "code",
   "execution_count": 11,
   "metadata": {},
   "outputs": [
    {
     "name": "stdout",
     "output_type": "stream",
     "text": [
      "For feature bias:\n",
      ". . .val from HMC obtained samples: {} 9.183470726013184\n",
      ". . .val from statsmodel training: {}     9.2232 \n",
      "\n",
      "For feature feat_1:\n",
      ". . .val from HMC obtained samples: {} -1.8464702367782593\n",
      ". . .val from statsmodel training: {}    -1.9480 \n",
      "\n",
      "For feature feat_2:\n",
      ". . .val from HMC obtained samples: {} -0.1851891428232193\n",
      ". . .val from statsmodel training: {}    -0.2029 \n",
      "\n",
      "For feature feat_3:\n",
      ". . .val from HMC obtained samples: {} 0.35188522934913635\n",
      ". . .val from statsmodel training: {}     0.3934 \n",
      "\n"
     ]
    }
   ],
   "source": [
    "hmc_statsmodel_keys= {'bias':3, 'feat_1':0,'feat_2':1,'feat_3':2}#{0:X1,1:X2,2:X3, 3:const}\n",
    "\n",
    "stats_hmc_di= dict()\n",
    "for key, val in hmc_statsmodel_keys.items():\n",
    "    print(\"For feature {}:\".format(key))#site\n",
    "    print('. . .val from HMC obtained samples: {}',hmc_df['mean'][key])\n",
    "    print('. . .val from statsmodel training: {}',statsm_df['coef'][val], \"\\n\")\n",
    "    stats_hmc_di['param_val_{}'.format(key)]= [hmc_df['mean'][key], statsm_df['coef'][val]]\n",
    "    stats_hmc_di['std_error_{}'.format(key)]= [hmc_df['std'][key], statsm_df['std err'][val]]"
   ]
  },
  {
   "cell_type": "code",
   "execution_count": 12,
   "metadata": {},
   "outputs": [
    {
     "data": {
      "text/html": [
       "<div>\n",
       "<style scoped>\n",
       "    .dataframe tbody tr th:only-of-type {\n",
       "        vertical-align: middle;\n",
       "    }\n",
       "\n",
       "    .dataframe tbody tr th {\n",
       "        vertical-align: top;\n",
       "    }\n",
       "\n",
       "    .dataframe thead th {\n",
       "        text-align: right;\n",
       "    }\n",
       "</style>\n",
       "<table border=\"1\" class=\"dataframe\">\n",
       "  <thead>\n",
       "    <tr style=\"text-align: right;\">\n",
       "      <th></th>\n",
       "      <th>param_val_bias</th>\n",
       "      <th>std_error_bias</th>\n",
       "      <th>param_val_feat_1</th>\n",
       "      <th>std_error_feat_1</th>\n",
       "      <th>param_val_feat_2</th>\n",
       "      <th>std_error_feat_2</th>\n",
       "      <th>param_val_feat_3</th>\n",
       "      <th>std_error_feat_3</th>\n",
       "    </tr>\n",
       "  </thead>\n",
       "  <tbody>\n",
       "    <tr>\n",
       "      <td>hmc_samples</td>\n",
       "      <td>9.18347</td>\n",
       "      <td>0.134134</td>\n",
       "      <td>-1.84647</td>\n",
       "      <td>0.220783</td>\n",
       "      <td>-0.185189</td>\n",
       "      <td>0.0748065</td>\n",
       "      <td>0.351885</td>\n",
       "      <td>0.127043</td>\n",
       "    </tr>\n",
       "    <tr>\n",
       "      <td>statsmodel_results</td>\n",
       "      <td>9.2232</td>\n",
       "      <td>0.140</td>\n",
       "      <td>-1.9480</td>\n",
       "      <td>0.227</td>\n",
       "      <td>-0.2029</td>\n",
       "      <td>0.077</td>\n",
       "      <td>0.3934</td>\n",
       "      <td>0.132</td>\n",
       "    </tr>\n",
       "  </tbody>\n",
       "</table>\n",
       "</div>"
      ],
      "text/plain": [
       "                   param_val_bias std_error_bias param_val_feat_1  \\\n",
       "hmc_samples               9.18347       0.134134         -1.84647   \n",
       "statsmodel_results         9.2232          0.140          -1.9480   \n",
       "\n",
       "                   std_error_feat_1 param_val_feat_2 std_error_feat_2  \\\n",
       "hmc_samples                0.220783        -0.185189        0.0748065   \n",
       "statsmodel_results            0.227          -0.2029            0.077   \n",
       "\n",
       "                   param_val_feat_3 std_error_feat_3  \n",
       "hmc_samples                0.351885         0.127043  \n",
       "statsmodel_results           0.3934            0.132  "
      ]
     },
     "execution_count": 12,
     "metadata": {},
     "output_type": "execute_result"
    }
   ],
   "source": [
    "pd.DataFrame(stats_hmc_di, index= ['hmc_samples','statsmodel_results'])"
   ]
  },
  {
   "cell_type": "markdown",
   "metadata": {},
   "source": [
    "#### HMC sampling on explicit pytorch model"
   ]
  },
  {
   "cell_type": "code",
   "execution_count": 31,
   "metadata": {},
   "outputs": [],
   "source": [
    "from pyro.nn import PyroSample\n",
    "from torch import nn\n",
    "from pyro.nn import PyroModule\n",
    "\n",
    "class regression_model(PyroModule):\n",
    "    def __init__(self, in_features, out_features):\n",
    "        super().__init__()\n",
    "        self.linear = PyroModule[nn.Linear](in_features, out_features)\n",
    "        self.linear.weight = PyroSample(dist.Normal(0., 1.).expand([out_features, in_features]).to_event(2))\n",
    "        self.linear.bias = PyroSample(dist.Normal(0., 10.).expand([out_features]).to_event(1))\n",
    "\n",
    "    def forward(self, x, y=None):\n",
    "        sigma = pyro.sample(\"sigma\", dist.Uniform(0., 10.))\n",
    "        mean = self.linear(x).squeeze(-1)\n",
    "        with pyro.plate(\"data\", x.shape[0]):\n",
    "            obs = pyro.sample(\"obs\", dist.Normal(mean, sigma), obs=y)\n",
    "        return mean\n",
    "\n",
    "model2 = regression_model(3, 1)"
   ]
  },
  {
   "cell_type": "code",
   "execution_count": 35,
   "metadata": {},
   "outputs": [],
   "source": [
    "data = torch.tensor(df[[\"cont_africa\", \"rugged\", \"cont_africa_x_rugged\", \"rgdppc_2000\"]].values,\n",
    "                        dtype=torch.float)\n",
    "x_data, y_data = data[:, :-1], data[:, -1]"
   ]
  },
  {
   "cell_type": "code",
   "execution_count": 36,
   "metadata": {
    "scrolled": true
   },
   "outputs": [
    {
     "name": "stderr",
     "output_type": "stream",
     "text": [
      "Sample: 100%|██████████| 1200/1200 [00:23, 50.12it/s, step size=4.40e-01, acc. prob=0.914]\n"
     ]
    }
   ],
   "source": [
    "nuts_kernel = NUTS(model2)\n",
    "\n",
    "mcmc = MCMC(nuts_kernel, num_samples=1000, warmup_steps=200)\n",
    "mcmc.run(x_data, y_data)#is_cont_africa, ruggedness, log_gdp)\n",
    "hmc_samples2 = {k: v.detach().cpu().numpy() for k, v in mcmc.get_samples().items()}"
   ]
  },
  {
   "cell_type": "code",
   "execution_count": 77,
   "metadata": {},
   "outputs": [
    {
     "data": {
      "text/html": [
       "<div>\n",
       "<style scoped>\n",
       "    .dataframe tbody tr th:only-of-type {\n",
       "        vertical-align: middle;\n",
       "    }\n",
       "\n",
       "    .dataframe tbody tr th {\n",
       "        vertical-align: top;\n",
       "    }\n",
       "\n",
       "    .dataframe thead th {\n",
       "        text-align: right;\n",
       "    }\n",
       "</style>\n",
       "<table border=\"1\" class=\"dataframe\">\n",
       "  <thead>\n",
       "    <tr style=\"text-align: right;\">\n",
       "      <th></th>\n",
       "      <th>mean</th>\n",
       "      <th>std</th>\n",
       "      <th>5%</th>\n",
       "      <th>25%</th>\n",
       "      <th>50%</th>\n",
       "      <th>75%</th>\n",
       "      <th>95%</th>\n",
       "    </tr>\n",
       "  </thead>\n",
       "  <tbody>\n",
       "    <tr>\n",
       "      <td>feat_1</td>\n",
       "      <td>-1.838981</td>\n",
       "      <td>0.223160</td>\n",
       "      <td>-2.207797</td>\n",
       "      <td>-1.997128</td>\n",
       "      <td>-1.839201</td>\n",
       "      <td>-1.685130</td>\n",
       "      <td>-1.478482</td>\n",
       "    </tr>\n",
       "    <tr>\n",
       "      <td>feat_2</td>\n",
       "      <td>-0.180838</td>\n",
       "      <td>0.078172</td>\n",
       "      <td>-0.304442</td>\n",
       "      <td>-0.234397</td>\n",
       "      <td>-0.184867</td>\n",
       "      <td>-0.125720</td>\n",
       "      <td>-0.056102</td>\n",
       "    </tr>\n",
       "    <tr>\n",
       "      <td>feat_3</td>\n",
       "      <td>0.343805</td>\n",
       "      <td>0.133534</td>\n",
       "      <td>0.115104</td>\n",
       "      <td>0.252733</td>\n",
       "      <td>0.347964</td>\n",
       "      <td>0.435917</td>\n",
       "      <td>0.559253</td>\n",
       "    </tr>\n",
       "    <tr>\n",
       "      <td>bias</td>\n",
       "      <td>9.178177</td>\n",
       "      <td>0.140712</td>\n",
       "      <td>8.943239</td>\n",
       "      <td>9.081530</td>\n",
       "      <td>9.178934</td>\n",
       "      <td>9.274403</td>\n",
       "      <td>9.404644</td>\n",
       "    </tr>\n",
       "  </tbody>\n",
       "</table>\n",
       "</div>"
      ],
      "text/plain": [
       "            mean       std        5%       25%       50%       75%       95%\n",
       "feat_1 -1.838981  0.223160 -2.207797 -1.997128 -1.839201 -1.685130 -1.478482\n",
       "feat_2 -0.180838  0.078172 -0.304442 -0.234397 -0.184867 -0.125720 -0.056102\n",
       "feat_3  0.343805  0.133534  0.115104  0.252733  0.347964  0.435917  0.559253\n",
       "bias    9.178177  0.140712  8.943239  9.081530  9.178934  9.274403  9.404644"
      ]
     },
     "execution_count": 77,
     "metadata": {},
     "output_type": "execute_result"
    }
   ],
   "source": [
    "hmc_samples_di = {'feat_1':hmc_samples2['linear.weight'].reshape(-1,3)[:,0],'feat_2':hmc_samples2['linear.weight'].reshape(-1,3)[:,1], 'feat_3':hmc_samples2['linear.weight'].reshape(-1,3)[:,2], 'bias':hmc_samples2['linear.bias'].reshape(-1)}#hmc_samples2['linear.weight'].reshape(-1,3)\n",
    "hmc_df2= pd.DataFrame()\n",
    "for key in summary(hmc_samples_di).keys():\n",
    "    temp = summary(hmc_samples_di)[key]\n",
    "    temp.index= [key]\n",
    "    hmc_df2= pd.concat([hmc_df2, temp])\n",
    "\n",
    "hmc_df2"
   ]
  },
  {
   "cell_type": "code",
   "execution_count": 78,
   "metadata": {},
   "outputs": [
    {
     "name": "stdout",
     "output_type": "stream",
     "text": [
      "For feature bias:\n",
      ". . .val from HMC obtained samples: {} 9.178176879882812\n",
      ". . .val from statsmodel training: {}     9.2232 \n",
      "\n",
      "For feature feat_1:\n",
      ". . .val from HMC obtained samples: {} -1.8389813899993896\n",
      ". . .val from statsmodel training: {}    -1.9480 \n",
      "\n",
      "For feature feat_2:\n",
      ". . .val from HMC obtained samples: {} -0.18083825707435608\n",
      ". . .val from statsmodel training: {}    -0.2029 \n",
      "\n",
      "For feature feat_3:\n",
      ". . .val from HMC obtained samples: {} 0.34380537271499634\n",
      ". . .val from statsmodel training: {}     0.3934 \n",
      "\n"
     ]
    }
   ],
   "source": [
    "hmc_statsmodel_keys= {'bias':3, 'feat_1':0,'feat_2':1,'feat_3':2}#{0:X1,1:X2,2:X3, 3:const}\n",
    "\n",
    "stats_hmc_di_2= dict()\n",
    "for key, val in hmc_statsmodel_keys.items():\n",
    "    print(\"For feature {}:\".format(key))#site\n",
    "    print('. . .val from HMC obtained samples: {}',hmc_df2['mean'][key])\n",
    "    print('. . .val from statsmodel training: {}',statsm_df['coef'][val], \"\\n\")\n",
    "    stats_hmc_di_2['param_val_{}'.format(key)]= [hmc_df2['mean'][key], statsm_df['coef'][val]]\n",
    "    stats_hmc_di_2['std_error_{}'.format(key)]= [hmc_df2['std'][key], statsm_df['std err'][val]]"
   ]
  },
  {
   "cell_type": "code",
   "execution_count": 79,
   "metadata": {},
   "outputs": [
    {
     "data": {
      "text/html": [
       "<div>\n",
       "<style scoped>\n",
       "    .dataframe tbody tr th:only-of-type {\n",
       "        vertical-align: middle;\n",
       "    }\n",
       "\n",
       "    .dataframe tbody tr th {\n",
       "        vertical-align: top;\n",
       "    }\n",
       "\n",
       "    .dataframe thead th {\n",
       "        text-align: right;\n",
       "    }\n",
       "</style>\n",
       "<table border=\"1\" class=\"dataframe\">\n",
       "  <thead>\n",
       "    <tr style=\"text-align: right;\">\n",
       "      <th></th>\n",
       "      <th>param_val_bias</th>\n",
       "      <th>std_error_bias</th>\n",
       "      <th>param_val_feat_1</th>\n",
       "      <th>std_error_feat_1</th>\n",
       "      <th>param_val_feat_2</th>\n",
       "      <th>std_error_feat_2</th>\n",
       "      <th>param_val_feat_3</th>\n",
       "      <th>std_error_feat_3</th>\n",
       "    </tr>\n",
       "  </thead>\n",
       "  <tbody>\n",
       "    <tr>\n",
       "      <td>hmc_samples</td>\n",
       "      <td>9.17818</td>\n",
       "      <td>0.140712</td>\n",
       "      <td>-1.83898</td>\n",
       "      <td>0.22316</td>\n",
       "      <td>-0.180838</td>\n",
       "      <td>0.0781725</td>\n",
       "      <td>0.343805</td>\n",
       "      <td>0.133534</td>\n",
       "    </tr>\n",
       "    <tr>\n",
       "      <td>statsmodel_results</td>\n",
       "      <td>9.2232</td>\n",
       "      <td>0.140</td>\n",
       "      <td>-1.9480</td>\n",
       "      <td>0.227</td>\n",
       "      <td>-0.2029</td>\n",
       "      <td>0.077</td>\n",
       "      <td>0.3934</td>\n",
       "      <td>0.132</td>\n",
       "    </tr>\n",
       "  </tbody>\n",
       "</table>\n",
       "</div>"
      ],
      "text/plain": [
       "                   param_val_bias std_error_bias param_val_feat_1  \\\n",
       "hmc_samples               9.17818       0.140712         -1.83898   \n",
       "statsmodel_results         9.2232          0.140          -1.9480   \n",
       "\n",
       "                   std_error_feat_1 param_val_feat_2 std_error_feat_2  \\\n",
       "hmc_samples                 0.22316        -0.180838        0.0781725   \n",
       "statsmodel_results            0.227          -0.2029            0.077   \n",
       "\n",
       "                   param_val_feat_3 std_error_feat_3  \n",
       "hmc_samples                0.343805         0.133534  \n",
       "statsmodel_results           0.3934            0.132  "
      ]
     },
     "execution_count": 79,
     "metadata": {},
     "output_type": "execute_result"
    }
   ],
   "source": [
    "pd.DataFrame(stats_hmc_di_2, index= ['hmc_samples','statsmodel_results'])"
   ]
  },
  {
   "cell_type": "code",
   "execution_count": null,
   "metadata": {},
   "outputs": [],
   "source": []
  }
 ],
 "metadata": {
  "kernelspec": {
   "display_name": "Python 3",
   "language": "python",
   "name": "python3"
  },
  "language_info": {
   "codemirror_mode": {
    "name": "ipython",
    "version": 3
   },
   "file_extension": ".py",
   "mimetype": "text/x-python",
   "name": "python",
   "nbconvert_exporter": "python",
   "pygments_lexer": "ipython3",
   "version": "3.6.8"
  },
  "latex_envs": {
   "LaTeX_envs_menu_present": true,
   "autoclose": false,
   "autocomplete": true,
   "bibliofile": "biblio.bib",
   "cite_by": "apalike",
   "current_citInitial": 1,
   "eqLabelWithNumbers": true,
   "eqNumInitial": 1,
   "hotkeys": {
    "equation": "Ctrl-E",
    "itemize": "Ctrl-I"
   },
   "labels_anchors": false,
   "latex_user_defs": false,
   "report_style_numbering": false,
   "user_envs_cfg": false
  },
  "toc": {
   "base_numbering": 1,
   "nav_menu": {},
   "number_sections": true,
   "sideBar": true,
   "skip_h1_title": false,
   "title_cell": "Table of Contents",
   "title_sidebar": "Contents",
   "toc_cell": false,
   "toc_position": {},
   "toc_section_display": true,
   "toc_window_display": true
  }
 },
 "nbformat": 4,
 "nbformat_minor": 2
}
